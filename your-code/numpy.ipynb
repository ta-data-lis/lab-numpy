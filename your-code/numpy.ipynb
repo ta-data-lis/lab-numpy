{
  "nbformat": 4,
  "nbformat_minor": 0,
  "metadata": {
    "colab": {
      "name": "numpy.ipynb",
      "provenance": [],
      "collapsed_sections": []
    },
    "kernelspec": {
      "name": "python3",
      "display_name": "Python 3"
    }
  },
  "cells": [
    {
      "cell_type": "markdown",
      "metadata": {
        "id": "M5FPyGxrtsXP"
      },
      "source": [
        "#Numpy \n",
        "\n",
        "Numpy mean -- Numerical Python \n",
        "It's a Library that brings the computinal power from other languages like C and Fortran to Python.\n",
        "This library is used for working with arrays and matrices.\n",
        "\n",
        "In python we already have a data struture that serve the purpose of arrays, but they are slow to process. \n"
      ]
    },
    {
      "cell_type": "markdown",
      "metadata": {
        "id": "fGgzzVIwwPP5"
      },
      "source": [
        "#Array \n",
        "\n",
        "An arrangmenet of objects, pictures and numbers in rows and columns.\n",
        "\n",
        "NumPy arrays can also be two-dimensional, three-dimensional, or up to n-dimensional.\n",
        "\n",
        "# Matrix \n",
        "\n",
        "Is a rectangular array of numbers, symbols, or expressions, arranged in rows and columns (a.k.a table).\n",
        "It's a specialised 2-dimensional array."
      ]
    },
    {
      "cell_type": "code",
      "metadata": {
        "id": "ZN5aiQXB3EtS"
      },
      "source": [
        "import numpy as np"
      ],
      "execution_count": null,
      "outputs": []
    },
    {
      "cell_type": "code",
      "metadata": {
        "id": "mnjfr-Onlutb",
        "colab": {
          "base_uri": "https://localhost:8080/"
        },
        "outputId": "e3a110f8-9a6c-4178-ec05-90b8e135bdba"
      },
      "source": [
        "mylist = [1,2,3,4,5]\n",
        "\n",
        "mylist*2\n",
        "# :o why do you do this to me?"
      ],
      "execution_count": null,
      "outputs": [
        {
          "output_type": "execute_result",
          "data": {
            "text/plain": [
              "[1, 2, 3, 4, 5, 1, 2, 3, 4, 5]"
            ]
          },
          "metadata": {},
          "execution_count": 2
        }
      ]
    },
    {
      "cell_type": "code",
      "metadata": {
        "colab": {
          "base_uri": "https://localhost:8080/"
        },
        "id": "TKbRHtQAn9G6",
        "outputId": "7deb10f5-059b-43a2-ae64-513047a3c102"
      },
      "source": [
        "mylist = [1,2,3,4,5]\n",
        "for i, item in enumerate(mylist):\n",
        "    mylist[i] = mylist[i]*2\n",
        "\n",
        "mylist"
      ],
      "execution_count": null,
      "outputs": [
        {
          "output_type": "execute_result",
          "data": {
            "text/plain": [
              "[2, 4, 6, 8, 10]"
            ]
          },
          "metadata": {},
          "execution_count": 3
        }
      ]
    },
    {
      "cell_type": "code",
      "metadata": {
        "id": "Nb7sGLJuny6U",
        "colab": {
          "base_uri": "https://localhost:8080/"
        },
        "outputId": "dc313d12-ce0f-49d2-8b51-2193ff5c0e24"
      },
      "source": [
        "# numpy to the rescue!!!! \n",
        "\n",
        "np.array(mylist)*2 # this is called a 1-dimensional array (a.k.a vector)"
      ],
      "execution_count": null,
      "outputs": [
        {
          "output_type": "execute_result",
          "data": {
            "text/plain": [
              "array([ 4,  8, 12, 16, 20])"
            ]
          },
          "metadata": {},
          "execution_count": 4
        }
      ]
    },
    {
      "cell_type": "code",
      "metadata": {
        "colab": {
          "base_uri": "https://localhost:8080/"
        },
        "id": "5drNZR34lKR6",
        "outputId": "fac3767e-35e5-4f6f-8110-f3b239c48a1b"
      },
      "source": [
        "np.array(mylist)+2 "
      ],
      "execution_count": null,
      "outputs": [
        {
          "output_type": "execute_result",
          "data": {
            "text/plain": [
              "array([3, 4, 5, 6, 7])"
            ]
          },
          "metadata": {
            "tags": []
          },
          "execution_count": 125
        }
      ]
    },
    {
      "cell_type": "code",
      "metadata": {
        "id": "r3wDEniHvU2n"
      },
      "source": [
        "# Numpy provides an array object that is up to 50x faster than traditional Python Lists\n",
        "\n",
        "#N.T.S --> Faster because they are stored at one continuous place in memory unlike lists\n",
        "\n",
        "#N.T.S --> The array object in Numpy is called ndarray --> a lot of functions: toolkits"
      ],
      "execution_count": null,
      "outputs": []
    },
    {
      "cell_type": "code",
      "metadata": {
        "id": "_naeyxYzrf5U",
        "colab": {
          "base_uri": "https://localhost:8080/"
        },
        "outputId": "59c30d40-8bce-4660-a89f-e88bb390e28a"
      },
      "source": [
        "# create an array with zeros with the type you like \n",
        "a = np.zeros(shape = (3,2), dtype = int) \n",
        "\n",
        "a\n",
        "\n",
        "# or create an array with zeros with the same shape as a given array \n",
        "#np.zeros_like(a)\n",
        "\n"
      ],
      "execution_count": null,
      "outputs": [
        {
          "output_type": "execute_result",
          "data": {
            "text/plain": [
              "array([[0, 0],\n",
              "       [0, 0],\n",
              "       [0, 0]])"
            ]
          },
          "metadata": {},
          "execution_count": 7
        }
      ]
    },
    {
      "cell_type": "code",
      "metadata": {
        "id": "m3fRbKRNtW9W",
        "colab": {
          "base_uri": "https://localhost:8080/"
        },
        "outputId": "f96eae61-61c8-4cbb-fa54-120bcf82c40f"
      },
      "source": [
        "# check the shape of the array \n",
        "a.shape"
      ],
      "execution_count": null,
      "outputs": [
        {
          "output_type": "execute_result",
          "data": {
            "text/plain": [
              "(3, 2)"
            ]
          },
          "metadata": {},
          "execution_count": 8
        }
      ]
    },
    {
      "cell_type": "code",
      "metadata": {
        "id": "JVY8PL7G3Joa",
        "colab": {
          "base_uri": "https://localhost:8080/"
        },
        "outputId": "e3ba435b-395e-4214-fb6d-834fd6e4f575"
      },
      "source": [
        "#numpy is very useful to create and process numeric arrays\n",
        "\n",
        "nparray = np.array([1,2,3,4,5])\n",
        "\n",
        "# when dealing with arrays we many times want to know their format (we might receive them from another part of the code)\n",
        "nparray.shape # in this case since its 1D array the sape gives you the number of elements\n",
        "\n",
        "\n",
        "d2_array = np.ones((3,3),dtype = int) ## creates an array with ones \n",
        "\n",
        "# for a 2D array the shape would be (n,m) - n is the number of rows and m the number of columns \n",
        "d2_array.shape"
      ],
      "execution_count": null,
      "outputs": [
        {
          "output_type": "execute_result",
          "data": {
            "text/plain": [
              "(3, 3)"
            ]
          },
          "metadata": {},
          "execution_count": 13
        }
      ]
    },
    {
      "cell_type": "code",
      "metadata": {
        "id": "oODKshhut6Pb",
        "colab": {
          "base_uri": "https://localhost:8080/"
        },
        "outputId": "d9086491-e9ee-409a-9ac1-1513c63d4ccb"
      },
      "source": [
        "np.random.random(size = (2,5)) # random floats from 0.0 to 1.0 with a certain shape/size\n",
        "\n",
        "np.arange( start = 6, stop = 100) # evenly spaced ndarray  "
      ],
      "execution_count": null,
      "outputs": [
        {
          "output_type": "execute_result",
          "data": {
            "text/plain": [
              "array([ 6,  7,  8,  9, 10, 11, 12, 13, 14, 15, 16, 17, 18, 19, 20, 21, 22,\n",
              "       23, 24, 25, 26, 27, 28, 29, 30, 31, 32, 33, 34, 35, 36, 37, 38, 39,\n",
              "       40, 41, 42, 43, 44, 45, 46, 47, 48, 49, 50, 51, 52, 53, 54, 55, 56,\n",
              "       57, 58, 59, 60, 61, 62, 63, 64, 65, 66, 67, 68, 69, 70, 71, 72, 73,\n",
              "       74, 75, 76, 77, 78, 79, 80, 81, 82, 83, 84, 85, 86, 87, 88, 89, 90,\n",
              "       91, 92, 93, 94, 95, 96, 97, 98, 99])"
            ]
          },
          "metadata": {},
          "execution_count": 16
        }
      ]
    },
    {
      "cell_type": "code",
      "metadata": {
        "id": "fj-UNOB2jbR0",
        "colab": {
          "base_uri": "https://localhost:8080/"
        },
        "outputId": "3515b9ff-7533-4bdb-caae-6b082dc8bdb0"
      },
      "source": [
        "#equivalent to range function but in a numpy context\n",
        "np.arange(8)\n",
        "\n",
        "#you can also chose the data type\n",
        "np.arange(8, dtype= float)\n",
        "\n"
      ],
      "execution_count": null,
      "outputs": [
        {
          "output_type": "execute_result",
          "data": {
            "text/plain": [
              "array([0., 1., 2., 3., 4., 5., 6., 7.])"
            ]
          },
          "metadata": {},
          "execution_count": 17
        }
      ]
    },
    {
      "cell_type": "code",
      "metadata": {
        "id": "eFPagB0CkkYU",
        "colab": {
          "base_uri": "https://localhost:8080/"
        },
        "outputId": "f2d1685b-cd27-46f8-f38b-f99e86bf8f9b"
      },
      "source": [
        "# linspace is also very common to be used\n",
        "a = np.linspace(start = 5.0, stop = 5000,num =10 )\n",
        "a\n"
      ],
      "execution_count": null,
      "outputs": [
        {
          "output_type": "execute_result",
          "data": {
            "text/plain": [
              "array([   5.,  560., 1115., 1670., 2225., 2780., 3335., 3890., 4445.,\n",
              "       5000.])"
            ]
          },
          "metadata": {},
          "execution_count": 19
        }
      ]
    },
    {
      "cell_type": "code",
      "metadata": {
        "id": "wKZ5VxkboXsW",
        "colab": {
          "base_uri": "https://localhost:8080/"
        },
        "outputId": "28df9d0e-5d72-4ce2-f505-04b094e3cf04"
      },
      "source": [
        "\n",
        "np.random.random(size = (2,3,4))"
      ],
      "execution_count": null,
      "outputs": [
        {
          "output_type": "execute_result",
          "data": {
            "text/plain": [
              "array([[[0.2189664 , 0.78224965, 0.65253714, 0.8821892 ],\n",
              "        [0.19757439, 0.98200676, 0.52480656, 0.63427767],\n",
              "        [0.40919716, 0.41158576, 0.28960374, 0.7967518 ]],\n",
              "\n",
              "       [[0.05750372, 0.13749222, 0.67832469, 0.8189827 ],\n",
              "        [0.80722847, 0.30962953, 0.1835715 , 0.99524469],\n",
              "        [0.16961847, 0.20821096, 0.01859953, 0.42847014]]])"
            ]
          },
          "metadata": {},
          "execution_count": 20
        }
      ]
    },
    {
      "cell_type": "code",
      "metadata": {
        "id": "TdbKeZx-Ck4e"
      },
      "source": [
        "# arrays can also have multiple types in it like lists\n",
        "x = np.array([[1],2,[3,3.5],4,5], dtype = object)\n",
        "x"
      ],
      "execution_count": null,
      "outputs": []
    },
    {
      "cell_type": "code",
      "metadata": {
        "id": "84UDOhFfmkt1",
        "colab": {
          "base_uri": "https://localhost:8080/"
        },
        "outputId": "ee744328-c8eb-49a9-e1d1-a37c2df4c6cc"
      },
      "source": [
        "\n",
        "#we have seen how to create numpy arrays. How can we index them?\n",
        "\n",
        "# --> 1Dimension array\n",
        "a = np.array([0,2])\n",
        "\n",
        "print(a[1])\n",
        "\n",
        "# --> 2Dimension array\n",
        "\n",
        "x = np.array([[11, 22], [33, 44], [55, 66]])\n",
        "\n",
        "#this works -> to slice a numpy array you have to give it another array object\n",
        "x[0][1] # x[0,1]\n"
      ],
      "execution_count": null,
      "outputs": [
        {
          "output_type": "stream",
          "name": "stdout",
          "text": [
            "2\n"
          ]
        },
        {
          "output_type": "execute_result",
          "data": {
            "text/plain": [
              "22"
            ]
          },
          "metadata": {},
          "execution_count": 33
        }
      ]
    },
    {
      "cell_type": "code",
      "metadata": {
        "id": "acBZJEO7oDSY",
        "colab": {
          "base_uri": "https://localhost:8080/"
        },
        "outputId": "cb7c8758-63e3-466b-98ad-5dd54ce0ca39"
      },
      "source": [
        "#slicing and index arrays\n",
        "import numpy as np\n",
        "x = np.arange(20)*2\n",
        "print(x)\n",
        "\n",
        "print(x[2:6])\n",
        "\n",
        "print(x[np.array([2,5,6])]) ## the indexes you want\n",
        "\n",
        "# you can also index on a consition\n",
        "\n",
        "condition = x < 5\n",
        "\n",
        "#print(condition) ## boolean mask\n",
        "x[condition]\n",
        "\n",
        "#relate to importance of pandas and filtering"
      ],
      "execution_count": null,
      "outputs": [
        {
          "output_type": "stream",
          "name": "stdout",
          "text": [
            "[ 0  2  4  6  8 10 12 14 16 18 20 22 24 26 28 30 32 34 36 38]\n",
            "[ 4  6  8 10]\n",
            "[ 4 10 12]\n",
            "[ True  True  True False False False False False False False False False\n",
            " False False False False False False False False]\n"
          ]
        },
        {
          "output_type": "execute_result",
          "data": {
            "text/plain": [
              "array([0, 2, 4])"
            ]
          },
          "metadata": {},
          "execution_count": 42
        }
      ]
    },
    {
      "cell_type": "code",
      "metadata": {
        "id": "PzBePsE5lM96",
        "colab": {
          "base_uri": "https://localhost:8080/"
        },
        "outputId": "9fa5024f-fcb0-41e7-c2bf-a86fb90da2ef"
      },
      "source": [
        "# transposing -> useful for generate manipulation\n",
        "\n",
        "array = np.random.random((2,5))\n",
        "array"
      ],
      "execution_count": null,
      "outputs": [
        {
          "output_type": "execute_result",
          "data": {
            "text/plain": [
              "array([[0.09515132, 0.24262666, 0.04634506, 0.73566319, 0.08228239],\n",
              "       [0.41595084, 0.88724541, 0.1985826 , 0.1812518 , 0.61770969]])"
            ]
          },
          "metadata": {},
          "execution_count": 34
        }
      ]
    },
    {
      "cell_type": "code",
      "metadata": {
        "id": "Tqq94vdllWs7",
        "colab": {
          "base_uri": "https://localhost:8080/"
        },
        "outputId": "dd86dc15-8bde-4155-b9ce-51078d7fee42"
      },
      "source": [
        "array.transpose()"
      ],
      "execution_count": null,
      "outputs": [
        {
          "output_type": "execute_result",
          "data": {
            "text/plain": [
              "array([[0.09515132, 0.41595084],\n",
              "       [0.24262666, 0.88724541],\n",
              "       [0.04634506, 0.1985826 ],\n",
              "       [0.73566319, 0.1812518 ],\n",
              "       [0.08228239, 0.61770969]])"
            ]
          },
          "metadata": {},
          "execution_count": 35
        }
      ]
    },
    {
      "cell_type": "code",
      "metadata": {
        "colab": {
          "base_uri": "https://localhost:8080/"
        },
        "id": "k8Dr089C4Aff",
        "outputId": "da92b8c3-ddc9-45de-cf68-14f34078bf34"
      },
      "source": [
        "# view on 3d arrays\n",
        "a_3d_array = np.array([\n",
        "                       [[1, 2 , 3], [4, 5, 6]], \n",
        "                       [[7, 8, 9], [10, 11, 12]]\n",
        "                       \n",
        "                       ])\n",
        "print(a_3d_array)\n",
        "\n",
        "# reshape method to the shape you want \n",
        "print(a_3d_array.shape)\n",
        "\n",
        "a_3d_array.reshape(4,3) # the number of elements must be the same 2x2x3 == 4x3\n"
      ],
      "execution_count": null,
      "outputs": [
        {
          "output_type": "stream",
          "name": "stdout",
          "text": [
            "[[[ 1  2  3]\n",
            "  [ 4  5  6]]\n",
            "\n",
            " [[ 7  8  9]\n",
            "  [10 11 12]]]\n",
            "(2, 2, 3)\n"
          ]
        },
        {
          "output_type": "execute_result",
          "data": {
            "text/plain": [
              "array([[ 1,  2,  3],\n",
              "       [ 4,  5,  6],\n",
              "       [ 7,  8,  9],\n",
              "       [10, 11, 12]])"
            ]
          },
          "metadata": {},
          "execution_count": 46
        }
      ]
    },
    {
      "cell_type": "code",
      "metadata": {
        "colab": {
          "base_uri": "https://localhost:8080/"
        },
        "id": "9aMbBikhi4rQ",
        "outputId": "98b8aced-1e99-4dcc-b9d6-a1e3debd9b23"
      },
      "source": [
        "# Challenge: create two arrays:\n",
        "\n",
        "# array1 with 2 rows and 6 columns with only ones\n",
        "# array2 with 3 rows and 4 columns with only twos\n",
        "\n",
        "\n",
        "array1 = np.ones(shape=(2,6))\n",
        "array1 \n",
        "\n",
        "array2 = np.zeros(shape=(3,4)) + 2\n",
        "array2\n",
        "\n",
        "# Can you sum the two arrays?\n",
        "# Note: You can't sum arrays with diffetent shapes (check the error)\n",
        "\n",
        "# try: reshape them \n",
        "\n",
        "array2 = array2.reshape(2,6)\n",
        "\n",
        "array1 + array2"
      ],
      "execution_count": null,
      "outputs": [
        {
          "output_type": "execute_result",
          "data": {
            "text/plain": [
              "array([[3., 3., 3., 3., 3., 3.],\n",
              "       [3., 3., 3., 3., 3., 3.]])"
            ]
          },
          "metadata": {},
          "execution_count": 47
        }
      ]
    },
    {
      "cell_type": "code",
      "metadata": {
        "id": "ZiVmFg-eqlI1",
        "colab": {
          "base_uri": "https://localhost:8080/"
        },
        "outputId": "b94f9fab-15c4-477e-8992-2a8e12d9c884"
      },
      "source": [
        "# you can perform several mathematical operations on numpy arrays\n",
        "\n",
        "array = np.random.random( size=(1000,100)) \n",
        "\n",
        "print(array)\n"
      ],
      "execution_count": null,
      "outputs": [
        {
          "output_type": "stream",
          "name": "stdout",
          "text": [
            "[[0.56981911 0.18179573 0.58253608 ... 0.3741549  0.20229679 0.30511834]\n",
            " [0.06825926 0.27736389 0.757743   ... 0.4989395  0.93541867 0.44599527]\n",
            " [0.96037037 0.76971304 0.96497341 ... 0.71791504 0.64226771 0.36944984]\n",
            " ...\n",
            " [0.49970152 0.74438246 0.07770334 ... 0.00543891 0.40022693 0.71569719]\n",
            " [0.9921243  0.42367185 0.38993735 ... 0.76994329 0.66821033 0.27653431]\n",
            " [0.86721327 0.32043169 0.28408495 ... 0.71308236 0.21258154 0.69874627]]\n"
          ]
        }
      ]
    },
    {
      "cell_type": "code",
      "metadata": {
        "colab": {
          "base_uri": "https://localhost:8080/"
        },
        "id": "6HxjNiBWHpY9",
        "outputId": "e9668441-a9d1-4987-e8e6-5c24e8c10059"
      },
      "source": [
        "# check the max value in the array\n",
        "print(array.max())\n",
        "# get the mean of the full array \n",
        "print(array.mean())\n",
        "\n"
      ],
      "execution_count": null,
      "outputs": [
        {
          "output_type": "stream",
          "name": "stdout",
          "text": [
            "0.9999876586321832\n",
            "0.4994595459974218\n"
          ]
        }
      ]
    },
    {
      "cell_type": "code",
      "metadata": {
        "id": "RMMbq3yWx607",
        "colab": {
          "base_uri": "https://localhost:8080/"
        },
        "outputId": "b4216ee0-3171-412b-8c46-43f2b20d5f15"
      },
      "source": [
        "#what if I want to get the mean of each inner slice? -> use the axis keyword argument\n",
        "x = np.array([[1,2,3],[4,5,6],[6,7,8],[1,1,1]])\n",
        "x.mean()\n",
        "x.mean(axis = 0) #  running vertically downwards across rows (axis 0) # calculate the mean by rows (row elements are added, divided by the number of times)\n",
        "x.mean(axis = 1) #  running horizontally across columns (axis 1) #  calculate the mean by columns (column elements are added, divided by the number of times )\n",
        "\n",
        "#NOTE: for example, then dimension n is collapsed and deleted, with each value in the new matrix equal to the sum of the corresponding collapsed values"
      ],
      "execution_count": null,
      "outputs": [
        {
          "output_type": "execute_result",
          "data": {
            "text/plain": [
              "array([2., 5., 7., 1.])"
            ]
          },
          "metadata": {},
          "execution_count": 85
        }
      ]
    },
    {
      "cell_type": "code",
      "metadata": {
        "id": "t5PGcayAshoe",
        "colab": {
          "base_uri": "https://localhost:8080/"
        },
        "outputId": "d1301976-783d-4df0-c000-ea135111b8ab"
      },
      "source": [
        "# other cool methods for numpy arrays \n",
        "print(x)\n",
        "print('\\n')\n",
        "print(x.shape)\n",
        "print('\\n')\n",
        "print(np.power(x,4)) # raises each element of the array to the power you liked \n",
        "print('\\n')\n",
        "print(np.sum(x, axis = 1))\n",
        "print('\\n')\n",
        "np.multiply(x,x) # multiply on array with another "
      ],
      "execution_count": null,
      "outputs": [
        {
          "output_type": "stream",
          "name": "stdout",
          "text": [
            "[[1 2 3]\n",
            " [4 5 6]\n",
            " [6 7 8]\n",
            " [1 1 1]]\n",
            "\n",
            "\n",
            "(4, 3)\n",
            "\n",
            "\n",
            "[[   1   16   81]\n",
            " [ 256  625 1296]\n",
            " [1296 2401 4096]\n",
            " [   1    1    1]]\n",
            "\n",
            "\n",
            "[ 6 15 21  3]\n",
            "\n",
            "\n"
          ]
        },
        {
          "output_type": "execute_result",
          "data": {
            "text/plain": [
              "array([[ 1,  4,  9],\n",
              "       [16, 25, 36],\n",
              "       [36, 49, 64],\n",
              "       [ 1,  1,  1]])"
            ]
          },
          "metadata": {},
          "execution_count": 89
        }
      ]
    },
    {
      "cell_type": "markdown",
      "metadata": {
        "id": "28QFeVOtICMA"
      },
      "source": [
        "# Performance "
      ]
    },
    {
      "cell_type": "code",
      "metadata": {
        "id": "LEweU1dRyftq",
        "colab": {
          "base_uri": "https://localhost:8080/"
        },
        "outputId": "3d25e6a6-cbe9-43c5-93a0-063866393681"
      },
      "source": [
        "# performance from here downards\n",
        "array.mean(axis = 1)\n",
        "\n",
        "import time\n",
        "t1 = time.time()\n",
        "new_array = array**2\n",
        "t2 = time.time()\n",
        "\n",
        "print(t2-t1)\n",
        "\n",
        "t1 = time.time()\n",
        "new_array = np.square(array)\n",
        "t2 = time.time()\n",
        "\n",
        "print(t2-t1)\n",
        "\n"
      ],
      "execution_count": null,
      "outputs": [
        {
          "output_type": "stream",
          "name": "stdout",
          "text": [
            "0.0001251697540283203\n",
            "0.0001468658447265625\n"
          ]
        }
      ]
    },
    {
      "cell_type": "code",
      "metadata": {
        "id": "VT6QXEyDk_u5",
        "colab": {
          "base_uri": "https://localhost:8080/"
        },
        "outputId": "864a0e2c-76f3-462f-8e9d-82d5ee1e45f7"
      },
      "source": [
        "#you can perform mathematical operations on the created arrays\n",
        "import time\n",
        "t1 = time.time()\n",
        "np.power(x,3)\n",
        "t2 = time.time()\n",
        "print(t2-t1)\n",
        "t1 = time.time()\n",
        "x**3\n",
        "t2 = time.time()\n",
        "print(t2-t1)\n"
      ],
      "execution_count": null,
      "outputs": [
        {
          "output_type": "stream",
          "name": "stdout",
          "text": [
            "0.0001201629638671875\n",
            "0.00011205673217773438\n"
          ]
        }
      ]
    },
    {
      "cell_type": "code",
      "metadata": {
        "id": "bB7VC_jGRupm",
        "colab": {
          "base_uri": "https://localhost:8080/"
        },
        "outputId": "f4b16cf4-03b0-4fdd-95d8-0405eada8913"
      },
      "source": [
        "# lets test performance\n",
        "import time\n",
        "\n",
        "mynumbers = [i for i in range(0,100000)]\n",
        "\n",
        "t1 = time.time()\n",
        "mylist = []\n",
        "for i in mynumbers:\n",
        "  mylist.append(i**2)\n",
        "t2 = time.time()\n",
        "print(\"with append \", t2-t1)\n",
        "\n",
        "mynumbers = [i for i in range(0,100000)]\n",
        "t1 = time.time()\n",
        "[i**2 for i in mynumbers]\n",
        "t2 = time.time()\n",
        "print(\"with list comprehension \", t2-t1)\n",
        "\n",
        "mynumbers = np.array(mynumbers)\n",
        "t1 = time.time()\n",
        "np.square(mynumbers)\n",
        "t2 = time.time()\n",
        "\n",
        "print(\"with numpy functions \", t2-t1)\n",
        "\n",
        "#who is more efficient"
      ],
      "execution_count": null,
      "outputs": [
        {
          "output_type": "stream",
          "name": "stdout",
          "text": [
            "with append  0.041004180908203125\n",
            "with list comprehension  0.028128385543823242\n",
            "with numpy functions  0.00026798248291015625\n"
          ]
        }
      ]
    },
    {
      "cell_type": "code",
      "metadata": {
        "id": "zdW6F2iOpO3-",
        "colab": {
          "base_uri": "https://localhost:8080/"
        },
        "outputId": "44df4cd7-4cc4-4f2d-b1ac-3f0f81a84f14"
      },
      "source": [
        "import numpy as np\n",
        "def myfunc(a, b):\n",
        "  \"Return a-b if a>b, otherwise return a+b\"\n",
        "  if a > b:\n",
        "    return a - b\n",
        "  else:\n",
        "    return a + b\n",
        "\n",
        "numpyfunc = np.vectorize(myfunc) # takes a pyfunction you can design and apply the logic to an array element by element\n",
        "print(numpyfunc)\n",
        "numpyfunc([[1, 2, 3, 4],[3, 4, 5, 6]], 2)"
      ],
      "execution_count": null,
      "outputs": [
        {
          "output_type": "stream",
          "name": "stdout",
          "text": [
            "<numpy.vectorize object at 0x7fa694880c90>\n"
          ]
        },
        {
          "output_type": "execute_result",
          "data": {
            "text/plain": [
              "array([[3, 4, 1, 2],\n",
              "       [1, 2, 3, 4]])"
            ]
          },
          "metadata": {},
          "execution_count": 3
        }
      ]
    },
    {
      "cell_type": "code",
      "metadata": {
        "id": "YD406pmE6Cu9",
        "colab": {
          "base_uri": "https://localhost:8080/"
        },
        "outputId": "9e940b9e-6f5d-4a4f-d090-6b99db23d290"
      },
      "source": [
        "import numpy as np\n",
        "\n",
        "array = np.random.random((5,10))\n",
        "array"
      ],
      "execution_count": null,
      "outputs": [
        {
          "output_type": "execute_result",
          "data": {
            "text/plain": [
              "array([[0.06742512, 0.90994349, 0.05580007, 0.94939372, 0.13253851,\n",
              "        0.47167494, 0.73270684, 0.96180373, 0.75248829, 0.58027573],\n",
              "       [0.36707052, 0.16226348, 0.28529733, 0.223283  , 0.81463814,\n",
              "        0.57191166, 0.37072709, 0.64708612, 0.92680018, 0.70084872],\n",
              "       [0.78354232, 0.29926402, 0.58218595, 0.02121981, 0.06250774,\n",
              "        0.14976513, 0.37518997, 0.80093182, 0.61559428, 0.80843562],\n",
              "       [0.78184465, 0.1649198 , 0.47671237, 0.25433636, 0.5527487 ,\n",
              "        0.59648818, 0.82652195, 0.74581998, 0.24972635, 0.54520782],\n",
              "       [0.04718512, 0.25737361, 0.80981356, 0.55156381, 0.85159128,\n",
              "        0.58295847, 0.80067638, 0.29538921, 0.79392873, 0.08215849]])"
            ]
          },
          "metadata": {},
          "execution_count": 82
        }
      ]
    },
    {
      "cell_type": "code",
      "metadata": {
        "id": "t-sgs2vb4DpZ",
        "colab": {
          "base_uri": "https://localhost:8080/"
        },
        "outputId": "541f8530-1e21-44ab-c35f-70e6270a03cd"
      },
      "source": [
        "#numpy vectorize\n",
        "# WARNING: very advanced topic -> high performance computing\n",
        "def newfunc(x):\n",
        "  #here write complex domain specific logic\n",
        "  return x**2+2*x-5\n",
        "\n",
        "npfunc = np.vectorize(newfunc)\n",
        "\n",
        "print(npfunc)\n",
        "new_array = npfunc(array)\n",
        "new_array"
      ],
      "execution_count": null,
      "outputs": [
        {
          "output_type": "stream",
          "name": "stdout",
          "text": [
            "<numpy.vectorize object at 0x7f97a372d710>\n"
          ]
        },
        {
          "output_type": "execute_result",
          "data": {
            "text/plain": [
              "array([[-2.94928478, -3.43512226, -2.20762274, -3.89555923, -3.65425158,\n",
              "        -3.12520824, -2.45541051, -3.31735824, -2.2938584 , -3.13041433],\n",
              "       [-3.6070883 , -4.96382119, -2.00614465, -3.12468652, -3.46723443,\n",
              "        -4.76391769, -4.0945315 , -2.33966927, -4.72806661, -3.12187142],\n",
              "       [-4.78771793, -3.25893506, -2.0760113 , -4.51571797, -3.19508688,\n",
              "        -4.2233826 , -4.74103065, -2.51047528, -2.01255925, -3.54348939],\n",
              "       [-4.07150774, -4.82044348, -4.37425755, -3.96569273, -3.60652817,\n",
              "        -4.94806141, -4.89560425, -3.59839416, -4.93056859, -4.23793966],\n",
              "       [-2.65664147, -3.61450511, -4.84109417, -3.15269886, -3.53508105,\n",
              "        -3.81148317, -3.11346953, -3.1208351 , -3.12734862, -2.87200573]])"
            ]
          },
          "metadata": {},
          "execution_count": 81
        }
      ]
    },
    {
      "cell_type": "code",
      "metadata": {
        "colab": {
          "base_uri": "https://localhost:8080/"
        },
        "id": "RuoMIuxsBRev",
        "outputId": "1ec84705-a123-40e4-beba-fc7b14b6dbd2"
      },
      "source": [
        "# let's check with one element from our array: \n",
        "\n",
        "0.03485456 **2 + 2*0.03485456 - 5"
      ],
      "execution_count": null,
      "outputs": [
        {
          "output_type": "execute_result",
          "data": {
            "text/plain": [
              "-4.929076039647207"
            ]
          },
          "metadata": {
            "tags": []
          },
          "execution_count": 75
        }
      ]
    }
  ]
}