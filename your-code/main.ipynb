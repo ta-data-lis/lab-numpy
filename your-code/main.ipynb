{
 "cells": [
  {
   "cell_type": "markdown",
   "metadata": {},
   "source": [
    "# Intrduction to NumPy\n",
    "\n",
    "\n",
    "#### 1. Import NumPy under the name np."
   ]
  },
  {
   "cell_type": "code",
   "execution_count": 4,
   "metadata": {},
   "outputs": [],
   "source": [
    "import numpy as np"
   ]
  },
  {
   "cell_type": "markdown",
   "metadata": {},
   "source": [
    "#### 2. Print your NumPy version."
   ]
  },
  {
   "cell_type": "code",
   "execution_count": 5,
   "metadata": {},
   "outputs": [
    {
     "name": "stdout",
     "output_type": "stream",
     "text": [
      "1.23.5\n"
     ]
    }
   ],
   "source": [
    "print(np.__version__)"
   ]
  },
  {
   "cell_type": "markdown",
   "metadata": {},
   "source": [
    "#### 3. Generate a 2x3x5 3-dimensional array with random values. Assign the array to variable *a*.\n",
    "**Challenge**: there are at least three easy ways that use numpy to generate random arrays. How many ways can you find?"
   ]
  },
  {
   "cell_type": "code",
   "execution_count": 51,
   "metadata": {},
   "outputs": [],
   "source": [
    "# syntax: random.randint(low, high=None, size=None, dtype=int); if high is None (the default), then results are from [0, low)\n",
    "# integers, from \"discrete uniform\" distribution, [low, high)\n",
    "\n",
    "a = np.random.randint(100, size = (2, 3, 5))"
   ]
  },
  {
   "cell_type": "code",
   "execution_count": 52,
   "metadata": {},
   "outputs": [],
   "source": [
    "# syntax: random.rand(d0, d1, ..., dn)\n",
    "# floats, from uniform distribution, [0, 1)\n",
    "\n",
    "a = np.random.rand(2, 3, 5)"
   ]
  },
  {
   "cell_type": "code",
   "execution_count": 53,
   "metadata": {
    "scrolled": true
   },
   "outputs": [],
   "source": [
    "# syntax: random.randn(d0, d1, ..., dn)\n",
    "# floats, from \"standard normal\" distribution\n",
    "\n",
    "a = np.random.randn(2, 3, 5)"
   ]
  },
  {
   "cell_type": "code",
   "execution_count": 54,
   "metadata": {},
   "outputs": [],
   "source": [
    "# syntax: random.random_sample(size=None)\n",
    "# floats, \"continuous uniform\" distribtuion, [0.0, 1.0)\n",
    "\n",
    "a = np.random.random_sample(size = (2, 3, 5))"
   ]
  },
  {
   "cell_type": "code",
   "execution_count": 55,
   "metadata": {},
   "outputs": [],
   "source": [
    "# syntax: random.random(size=None)\n",
    "# floats, [0.0, 1.0)\n",
    "\n",
    "a = np.random.random(size = (2, 3, 5))"
   ]
  },
  {
   "cell_type": "markdown",
   "metadata": {},
   "source": [
    "#### 4. Print *a*.\n"
   ]
  },
  {
   "cell_type": "code",
   "execution_count": 56,
   "metadata": {},
   "outputs": [
    {
     "name": "stdout",
     "output_type": "stream",
     "text": [
      "[[[0.41685763 0.86218193 0.40424214 0.65916744 0.38822751]\n",
      "  [0.40456356 0.6913081  0.72844646 0.045383   0.50828095]\n",
      "  [0.376908   0.09780231 0.83434537 0.75355341 0.95188708]]\n",
      "\n",
      " [[0.46131671 0.32621905 0.89250888 0.74166322 0.90079063]\n",
      "  [0.78921746 0.42424457 0.9193221  0.60638787 0.24101044]\n",
      "  [0.41183555 0.55754807 0.38693262 0.37329723 0.90172869]]]\n"
     ]
    }
   ],
   "source": [
    "print(a)"
   ]
  },
  {
   "cell_type": "markdown",
   "metadata": {},
   "source": [
    "#### 5. Create a 5x2x3 3-dimensional array with all values equaling 1. Assign the array to variable *b*."
   ]
  },
  {
   "cell_type": "code",
   "execution_count": 57,
   "metadata": {},
   "outputs": [],
   "source": [
    "# syntax: ones(shape, dtype=None, order=\"C\", *, like=None)\n",
    "\n",
    "b = np.ones(shape = (5, 2, 3), dtype = int)"
   ]
  },
  {
   "cell_type": "markdown",
   "metadata": {},
   "source": [
    "#### 6. Print *b*.\n"
   ]
  },
  {
   "cell_type": "code",
   "execution_count": 58,
   "metadata": {},
   "outputs": [
    {
     "name": "stdout",
     "output_type": "stream",
     "text": [
      "[[[1 1 1]\n",
      "  [1 1 1]]\n",
      "\n",
      " [[1 1 1]\n",
      "  [1 1 1]]\n",
      "\n",
      " [[1 1 1]\n",
      "  [1 1 1]]\n",
      "\n",
      " [[1 1 1]\n",
      "  [1 1 1]]\n",
      "\n",
      " [[1 1 1]\n",
      "  [1 1 1]]]\n"
     ]
    }
   ],
   "source": [
    "print(b)"
   ]
  },
  {
   "cell_type": "markdown",
   "metadata": {},
   "source": [
    "#### 7. Do *a* and *b* have the same size? How do you prove that in Python code?"
   ]
  },
  {
   "cell_type": "code",
   "execution_count": 60,
   "metadata": {},
   "outputs": [
    {
     "data": {
      "text/plain": [
       "True"
      ]
     },
     "execution_count": 60,
     "metadata": {},
     "output_type": "execute_result"
    }
   ],
   "source": [
    "a.size == b.size\n",
    "\n",
    "# yes, a and b have the same size"
   ]
  },
  {
   "cell_type": "markdown",
   "metadata": {},
   "source": [
    "#### 8. Are you able to add *a* and *b*? Why or why not?\n"
   ]
  },
  {
   "cell_type": "code",
   "execution_count": 61,
   "metadata": {},
   "outputs": [
    {
     "ename": "ValueError",
     "evalue": "operands could not be broadcast together with shapes (2,3,5) (5,2,3) ",
     "output_type": "error",
     "traceback": [
      "\u001b[1;31m---------------------------------------------------------------------------\u001b[0m",
      "\u001b[1;31mValueError\u001b[0m                                Traceback (most recent call last)",
      "Cell \u001b[1;32mIn[61], line 1\u001b[0m\n\u001b[1;32m----> 1\u001b[0m \u001b[43ma\u001b[49m\u001b[43m \u001b[49m\u001b[38;5;241;43m+\u001b[39;49m\u001b[43m \u001b[49m\u001b[43mb\u001b[49m\n",
      "\u001b[1;31mValueError\u001b[0m: operands could not be broadcast together with shapes (2,3,5) (5,2,3) "
     ]
    }
   ],
   "source": [
    "a + b\n",
    "\n",
    "# no you cannot add a and b because they have a different shape"
   ]
  },
  {
   "cell_type": "markdown",
   "metadata": {},
   "source": [
    "#### 9. Transpose *b* so that it has the same structure of *a* (i.e. become a 2x3x5 array). Assign the transposed array to variable *c*."
   ]
  },
  {
   "cell_type": "code",
   "execution_count": 85,
   "metadata": {},
   "outputs": [],
   "source": [
    "# syntax: transpose(a, axes=None)\n",
    "# axes: tuple or list of ints, optional\n",
    "# if specified, it must be a tuple or list which contains a permutation of [0,1,…,N-1] where N is the number of axes of a\n",
    "# The i’th axis of the returned array will correspond to the axis numbered axes[i] of the input\n",
    "\n",
    "c = np.transpose(b, axes=[1, 2, 0]) # i could also do c = b.reshape(a.shape)"
   ]
  },
  {
   "cell_type": "markdown",
   "metadata": {},
   "source": [
    "#### 10. Try to add *a* and *c*. Now it should work. Assign the sum to variable *d*. But why does it work now?"
   ]
  },
  {
   "cell_type": "code",
   "execution_count": 73,
   "metadata": {},
   "outputs": [],
   "source": [
    "d = a + c\n",
    "\n",
    "# it works because a and c have the same shape"
   ]
  },
  {
   "cell_type": "markdown",
   "metadata": {},
   "source": [
    "#### 11. Print *a* and *d*. Notice the difference and relation of the two array in terms of the values? Explain."
   ]
  },
  {
   "cell_type": "code",
   "execution_count": 77,
   "metadata": {},
   "outputs": [
    {
     "name": "stdout",
     "output_type": "stream",
     "text": [
      "[[[0.41685763 0.86218193 0.40424214 0.65916744 0.38822751]\n",
      "  [0.40456356 0.6913081  0.72844646 0.045383   0.50828095]\n",
      "  [0.376908   0.09780231 0.83434537 0.75355341 0.95188708]]\n",
      "\n",
      " [[0.46131671 0.32621905 0.89250888 0.74166322 0.90079063]\n",
      "  [0.78921746 0.42424457 0.9193221  0.60638787 0.24101044]\n",
      "  [0.41183555 0.55754807 0.38693262 0.37329723 0.90172869]]] \n",
      " \n",
      "\n",
      "[[[1.41685763 1.86218193 1.40424214 1.65916744 1.38822751]\n",
      "  [1.40456356 1.6913081  1.72844646 1.045383   1.50828095]\n",
      "  [1.376908   1.09780231 1.83434537 1.75355341 1.95188708]]\n",
      "\n",
      " [[1.46131671 1.32621905 1.89250888 1.74166322 1.90079063]\n",
      "  [1.78921746 1.42424457 1.9193221  1.60638787 1.24101044]\n",
      "  [1.41183555 1.55754807 1.38693262 1.37329723 1.90172869]]]\n"
     ]
    }
   ],
   "source": [
    "print(a, \"\\n \\n\")\n",
    "\n",
    "print(d)\n",
    "\n",
    "# the values of d differ by 1 as compared to the values of a (as d is the product of addition of c -only ones- to a)"
   ]
  },
  {
   "cell_type": "markdown",
   "metadata": {},
   "source": [
    "#### 12. Multiply *a* and *c*. Assign the result to *e*."
   ]
  },
  {
   "cell_type": "code",
   "execution_count": 78,
   "metadata": {},
   "outputs": [],
   "source": [
    "e = a * c"
   ]
  },
  {
   "cell_type": "markdown",
   "metadata": {},
   "source": [
    "#### 13. Does *e* equal to *a*? Why or why not?\n"
   ]
  },
  {
   "cell_type": "code",
   "execution_count": 80,
   "metadata": {},
   "outputs": [
    {
     "data": {
      "text/plain": [
       "array([[[ True,  True,  True,  True,  True],\n",
       "        [ True,  True,  True,  True,  True],\n",
       "        [ True,  True,  True,  True,  True]],\n",
       "\n",
       "       [[ True,  True,  True,  True,  True],\n",
       "        [ True,  True,  True,  True,  True],\n",
       "        [ True,  True,  True,  True,  True]]])"
      ]
     },
     "execution_count": 80,
     "metadata": {},
     "output_type": "execute_result"
    }
   ],
   "source": [
    "e == a\n",
    "\n",
    "# it does because c contains only ones"
   ]
  },
  {
   "cell_type": "markdown",
   "metadata": {},
   "source": [
    "#### 14. Identify the max, min, and mean values in *d*. Assign those values to variables *d_max*, *d_min* and *d_mean*."
   ]
  },
  {
   "cell_type": "code",
   "execution_count": 81,
   "metadata": {},
   "outputs": [],
   "source": [
    "d_max = d.max()\n",
    "\n",
    "d_min = d.min()\n",
    "\n",
    "d_mean = d.mean()"
   ]
  },
  {
   "cell_type": "markdown",
   "metadata": {},
   "source": [
    "#### 15. Now we want to label the values in *d*. First create an empty array *f* with the same shape (i.e. 2x3x5) as *d* using `np.empty`.\n"
   ]
  },
  {
   "cell_type": "code",
   "execution_count": 84,
   "metadata": {},
   "outputs": [
    {
     "data": {
      "text/plain": [
       "(2, 3, 5)"
      ]
     },
     "execution_count": 84,
     "metadata": {},
     "output_type": "execute_result"
    }
   ],
   "source": [
    "# syntax empty(shape, dtype=float, order='C', *, like=None)\n",
    "# return a new array of given shape and type, without initializing entries\n",
    "\n",
    "f = np.empty((d.shape))"
   ]
  },
  {
   "cell_type": "markdown",
   "metadata": {},
   "source": [
    "#### 16. Populate the values in *f*. \n",
    "\n",
    "For each value in *d*, if it's larger than *d_min* but smaller than *d_mean*, assign 25 to the corresponding value in *f*. If a value in *d* is larger than *d_mean* but smaller than *d_max*, assign 75 to the corresponding value in *f*. If a value equals to *d_mean*, assign 50 to the corresponding value in *f*. Assign 0 to the corresponding value(s) in *f* for *d_min* in *d*. Assign 100 to the corresponding value(s) in *f* for *d_max* in *d*. In the end, f should have only the following values: 0, 25, 50, 75, and 100.\n",
    "\n",
    "**Note**: you don't have to use Numpy in this question."
   ]
  },
  {
   "cell_type": "code",
   "execution_count": 86,
   "metadata": {},
   "outputs": [],
   "source": [
    "f[(d > d_min) & (d < d_mean)] = 25\n",
    "\n",
    "f[(d > d_mean) & (d < d_max)] = 75\n",
    "\n",
    "f[d == d_mean] = 50\n",
    "\n",
    "f[d == d_min] = 0\n",
    "\n",
    "f[d == d_max] = 100"
   ]
  },
  {
   "cell_type": "markdown",
   "metadata": {},
   "source": [
    "#### 17. Print *d* and *f*. Do you have your expected *f*?\n",
    "For instance, if your *d* is:\n",
    "```python\n",
    "[[[1.85836099, 1.67064465, 1.62576044, 1.40243961, 1.88454931],\n",
    "[1.75354326, 1.69403643, 1.36729252, 1.61415071, 1.12104981],\n",
    "[1.72201435, 1.1862918 , 1.87078449, 1.7726778 , 1.88180042]],\n",
    "[[1.44747908, 1.31673383, 1.02000951, 1.52218947, 1.97066381],\n",
    "[1.79129243, 1.74983003, 1.96028037, 1.85166831, 1.65450881],\n",
    "[1.18068344, 1.9587381 , 1.00656599, 1.93402165, 1.73514584]]]\n",
    "```\n",
    "Your *f* should be:\n",
    "```python\n",
    "[[[ 75.,  75.,  75.,  25.,  75.],\n",
    "[ 75.,  75.,  25.,  25.,  25.],\n",
    "[ 75.,  25.,  75.,  75.,  75.]],\n",
    "[[ 25.,  25.,  25.,  25., 100.],\n",
    "[ 75.,  75.,  75.,  75.,  75.],\n",
    "[ 25.,  75.,   0.,  75.,  75.]]]\n",
    "```"
   ]
  },
  {
   "cell_type": "code",
   "execution_count": 88,
   "metadata": {},
   "outputs": [
    {
     "name": "stdout",
     "output_type": "stream",
     "text": [
      "[[[1.41685763 1.86218193 1.40424214 1.65916744 1.38822751]\n",
      "  [1.40456356 1.6913081  1.72844646 1.045383   1.50828095]\n",
      "  [1.376908   1.09780231 1.83434537 1.75355341 1.95188708]]\n",
      "\n",
      " [[1.46131671 1.32621905 1.89250888 1.74166322 1.90079063]\n",
      "  [1.78921746 1.42424457 1.9193221  1.60638787 1.24101044]\n",
      "  [1.41183555 1.55754807 1.38693262 1.37329723 1.90172869]]] \n",
      " \n",
      "\n",
      "[[[ 25.  75.  25.  75.  25.]\n",
      "  [ 25.  75.  75.   0.  25.]\n",
      "  [ 25.  25.  75.  75. 100.]]\n",
      "\n",
      " [[ 25.  25.  75.  75.  75.]\n",
      "  [ 75.  25.  75.  75.  25.]\n",
      "  [ 25.  25.  25.  25.  75.]]]\n"
     ]
    }
   ],
   "source": [
    "print(d, \"\\n \\n\")\n",
    "\n",
    "print(f)\n",
    "\n",
    "# yes"
   ]
  },
  {
   "cell_type": "markdown",
   "metadata": {},
   "source": [
    "#### 18. Bonus question: instead of using numbers (i.e. 0, 25, 50, 75, and 100), use string values  (\"A\", \"B\", \"C\", \"D\", and \"E\") to label the array elements. For the example above, the expected result is:\n",
    "\n",
    "```python\n",
    "[[[ 'D',  'D',  'D',  'B',  'D'],\n",
    "[ 'D',  'D',  'B',  'B',  'B'],\n",
    "[ 'D',  'B',  'D',  'D',  'D']],\n",
    "[[ 'B',  'B',  'B',  'B',  'E'],\n",
    "[ 'D',  'D',  'D',  'D',  'D'],\n",
    "[ 'B',  'D',   'A',  'D', 'D']]]\n",
    "```\n",
    "**Note**: you don't have to use Numpy in this question."
   ]
  },
  {
   "cell_type": "code",
   "execution_count": 90,
   "metadata": {},
   "outputs": [
    {
     "name": "stdout",
     "output_type": "stream",
     "text": [
      "[[['B' 'D' 'B' 'D' 'B']\n",
      "  ['B' 'D' 'D' 'A' 'B']\n",
      "  ['B' 'B' 'D' 'D' 'E']]\n",
      "\n",
      " [['B' 'B' 'D' 'D' 'D']\n",
      "  ['D' 'B' 'D' 'D' 'B']\n",
      "  ['B' 'B' 'B' 'B' 'D']]]\n"
     ]
    }
   ],
   "source": [
    "f = f.astype(str)\n",
    "\n",
    "f[(d > d_min) & (d < d_mean)] = \"B\"\n",
    "f[(d > d_mean) & (d < d_max)] = \"D\"\n",
    "f[d == d_mean] = \"C\"\n",
    "f[d == d_min] = \"A\"\n",
    "f[d == d_max] = \"E\"\n",
    "\n",
    "print(f)"
   ]
  },
  {
   "cell_type": "code",
   "execution_count": null,
   "metadata": {},
   "outputs": [],
   "source": []
  }
 ],
 "metadata": {
  "kernelspec": {
   "display_name": "Python 3 (ipykernel)",
   "language": "python",
   "name": "python3"
  },
  "language_info": {
   "codemirror_mode": {
    "name": "ipython",
    "version": 3
   },
   "file_extension": ".py",
   "mimetype": "text/x-python",
   "name": "python",
   "nbconvert_exporter": "python",
   "pygments_lexer": "ipython3",
   "version": "3.10.10"
  }
 },
 "nbformat": 4,
 "nbformat_minor": 2
}
