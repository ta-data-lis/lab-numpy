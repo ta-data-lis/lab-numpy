{
 "cells": [
  {
   "cell_type": "markdown",
   "metadata": {},
   "source": [
    "# Intrduction to NumPy\n",
    "\n",
    "\n",
    "#### 1. Import NumPy under the name np."
   ]
  },
  {
   "cell_type": "code",
   "execution_count": 1,
   "metadata": {},
   "outputs": [],
   "source": [
    "# your code here\n",
    "\n",
    "import numpy as np"
   ]
  },
  {
   "cell_type": "markdown",
   "metadata": {},
   "source": [
    "#### 2. Print your NumPy version."
   ]
  },
  {
   "cell_type": "code",
   "execution_count": 2,
   "metadata": {},
   "outputs": [
    {
     "name": "stdout",
     "output_type": "stream",
     "text": [
      "1.20.1\n"
     ]
    }
   ],
   "source": [
    "# your code here\n",
    "print(np.__version__)"
   ]
  },
  {
   "cell_type": "markdown",
   "metadata": {},
   "source": [
    "#### 3. Generate a 2x3x5 3-dimensional array with random values. Assign the array to variable *a*.\n",
    "**Challenge**: there are at least three easy ways that use numpy to generate random arrays. How many ways can you find?"
   ]
  },
  {
   "cell_type": "code",
   "execution_count": 3,
   "metadata": {},
   "outputs": [],
   "source": [
    "# Method 1\n",
    "a = np.random.random(size=(2,3,5))"
   ]
  },
  {
   "cell_type": "code",
   "execution_count": 4,
   "metadata": {},
   "outputs": [
    {
     "name": "stderr",
     "output_type": "stream",
     "text": [
      "<ipython-input-4-93ddc1526f07>:2: DeprecationWarning: This function is deprecated. Please call randint(0, 20 + 1) instead\n",
      "  np.random.random_integers(0, 20, (2,3,5))\n"
     ]
    },
    {
     "data": {
      "text/plain": [
       "array([[[16, 14,  2,  4,  4],\n",
       "        [ 5, 12, 17,  1, 20],\n",
       "        [16,  4, 19, 14,  4]],\n",
       "\n",
       "       [[17,  6, 13,  5, 13],\n",
       "        [ 8,  2,  8, 12,  8],\n",
       "        [11, 12,  3, 20, 14]]])"
      ]
     },
     "execution_count": 4,
     "metadata": {},
     "output_type": "execute_result"
    }
   ],
   "source": [
    "# Method 2 \n",
    "np.random.random_integers(0, 20, (2,3,5))"
   ]
  },
  {
   "cell_type": "code",
   "execution_count": 5,
   "metadata": {},
   "outputs": [
    {
     "data": {
      "text/plain": [
       "array([[[0.13432177, 0.76588957, 0.48466102, 0.01789833, 0.90576724],\n",
       "        [0.39192815, 0.71078846, 0.78264297, 0.46935689, 0.40537122],\n",
       "        [0.82855949, 0.6642706 , 0.07865087, 0.10347379, 0.99752495]],\n",
       "\n",
       "       [[0.83555739, 0.98466537, 0.06319877, 0.95939469, 0.30632901],\n",
       "        [0.65248713, 0.55388408, 0.38177447, 0.76236665, 0.45062675],\n",
       "        [0.60856963, 0.11138877, 0.02520509, 0.02734281, 0.66473516]]])"
      ]
     },
     "execution_count": 5,
     "metadata": {},
     "output_type": "execute_result"
    }
   ],
   "source": [
    "# Method 3\n",
    "np.random.rand(2,3,5)"
   ]
  },
  {
   "cell_type": "markdown",
   "metadata": {},
   "source": [
    "#### 4. Print *a*.\n"
   ]
  },
  {
   "cell_type": "code",
   "execution_count": 6,
   "metadata": {},
   "outputs": [
    {
     "name": "stdout",
     "output_type": "stream",
     "text": [
      "[[[0.08933287 0.60042777 0.46732745 0.52886658 0.03356218]\n",
      "  [0.73940622 0.67877962 0.04791963 0.29835314 0.89289411]\n",
      "  [0.87537316 0.16027273 0.51825332 0.64468602 0.8265532 ]]\n",
      "\n",
      " [[0.67110632 0.04938019 0.77222296 0.13339961 0.336906  ]\n",
      "  [0.127061   0.43769527 0.10302781 0.87597879 0.79749405]\n",
      "  [0.49178921 0.58774017 0.46157724 0.32312703 0.65173156]]]\n"
     ]
    }
   ],
   "source": [
    "# your code here\n",
    "print(a)"
   ]
  },
  {
   "cell_type": "markdown",
   "metadata": {},
   "source": [
    "#### 5. Create a 5x2x3 3-dimensional array with all values equaling 1. Assign the array to variable *b*."
   ]
  },
  {
   "cell_type": "code",
   "execution_count": 7,
   "metadata": {},
   "outputs": [],
   "source": [
    "# your code here\n",
    "\n",
    "b= np.ones(shape = (5,3,2), dtype = int)   #ATTENTION FOR B TRANSPOSED TO BE POSSIBLE TO SUM TO A, THE MATRIX MUST HAVE A SHAPE OF (5,3,2) INSTEAD OF (5,2,3)"
   ]
  },
  {
   "cell_type": "markdown",
   "metadata": {},
   "source": [
    "#### 6. Print *b*.\n"
   ]
  },
  {
   "cell_type": "code",
   "execution_count": 8,
   "metadata": {},
   "outputs": [
    {
     "name": "stdout",
     "output_type": "stream",
     "text": [
      "[[[1 1]\n",
      "  [1 1]\n",
      "  [1 1]]\n",
      "\n",
      " [[1 1]\n",
      "  [1 1]\n",
      "  [1 1]]\n",
      "\n",
      " [[1 1]\n",
      "  [1 1]\n",
      "  [1 1]]\n",
      "\n",
      " [[1 1]\n",
      "  [1 1]\n",
      "  [1 1]]\n",
      "\n",
      " [[1 1]\n",
      "  [1 1]\n",
      "  [1 1]]]\n"
     ]
    }
   ],
   "source": [
    "print(b)\n",
    "# your code here"
   ]
  },
  {
   "cell_type": "markdown",
   "metadata": {},
   "source": [
    "#### 7. Do *a* and *b* have the same size? How do you prove that in Python code?"
   ]
  },
  {
   "cell_type": "code",
   "execution_count": 9,
   "metadata": {},
   "outputs": [
    {
     "data": {
      "text/plain": [
       "False"
      ]
     },
     "execution_count": 9,
     "metadata": {},
     "output_type": "execute_result"
    }
   ],
   "source": [
    "# your code here\n",
    "\n",
    "a.shape == b.shape"
   ]
  },
  {
   "cell_type": "markdown",
   "metadata": {},
   "source": [
    "#### 8. Are you able to add *a* and *b*? Why or why not?\n"
   ]
  },
  {
   "cell_type": "code",
   "execution_count": 10,
   "metadata": {},
   "outputs": [
    {
     "ename": "ValueError",
     "evalue": "operands could not be broadcast together with shapes (2,3,5) (5,3,2) ",
     "output_type": "error",
     "traceback": [
      "\u001b[1;31m---------------------------------------------------------------------------\u001b[0m",
      "\u001b[1;31mValueError\u001b[0m                                Traceback (most recent call last)",
      "\u001b[1;32m<ipython-input-10-4127c4d570c0>\u001b[0m in \u001b[0;36m<module>\u001b[1;34m\u001b[0m\n\u001b[0;32m      1\u001b[0m \u001b[1;31m# your answer here\u001b[0m\u001b[1;33m\u001b[0m\u001b[1;33m\u001b[0m\u001b[1;33m\u001b[0m\u001b[0m\n\u001b[0;32m      2\u001b[0m \u001b[1;33m\u001b[0m\u001b[0m\n\u001b[1;32m----> 3\u001b[1;33m \u001b[0ma\u001b[0m \u001b[1;33m+\u001b[0m \u001b[0mb\u001b[0m\u001b[1;33m\u001b[0m\u001b[1;33m\u001b[0m\u001b[0m\n\u001b[0m\u001b[0;32m      4\u001b[0m \u001b[1;33m\u001b[0m\u001b[0m\n\u001b[0;32m      5\u001b[0m \u001b[1;31m#No, because even though each of them are arrays (matrixes) since they don't have the same size, we can't add each position to the other\u001b[0m\u001b[1;33m\u001b[0m\u001b[1;33m\u001b[0m\u001b[1;33m\u001b[0m\u001b[0m\n",
      "\u001b[1;31mValueError\u001b[0m: operands could not be broadcast together with shapes (2,3,5) (5,3,2) "
     ]
    }
   ],
   "source": [
    "# your answer here\n",
    "\n",
    "a + b\n",
    "\n",
    "#No, because even though each of them are arrays (matrixes) since they don't have the same size, we can't add each position to the other"
   ]
  },
  {
   "cell_type": "markdown",
   "metadata": {},
   "source": [
    "#### 9. Transpose *b* so that it has the same structure of *a* (i.e. become a 2x3x5 array). Assign the transposed array to variable *c*."
   ]
  },
  {
   "cell_type": "code",
   "execution_count": 11,
   "metadata": {},
   "outputs": [
    {
     "name": "stdout",
     "output_type": "stream",
     "text": [
      "[[[1 1 1 1 1]\n",
      "  [1 1 1 1 1]\n",
      "  [1 1 1 1 1]]\n",
      "\n",
      " [[1 1 1 1 1]\n",
      "  [1 1 1 1 1]\n",
      "  [1 1 1 1 1]]]\n"
     ]
    }
   ],
   "source": [
    "# your code here\n",
    "\n",
    "c= b.transpose()\n",
    "print(c)"
   ]
  },
  {
   "cell_type": "markdown",
   "metadata": {},
   "source": [
    "#### 10. Try to add *a* and *c*. Now it should work. Assign the sum to variable *d*. But why does it work now?"
   ]
  },
  {
   "cell_type": "code",
   "execution_count": 27,
   "metadata": {},
   "outputs": [
    {
     "data": {
      "text/plain": [
       "array([[[1.08933287, 1.60042777, 1.46732745, 1.52886658, 1.03356218],\n",
       "        [1.73940622, 1.67877962, 1.04791963, 1.29835314, 1.89289411],\n",
       "        [1.87537316, 1.16027273, 1.51825332, 1.64468602, 1.8265532 ]],\n",
       "\n",
       "       [[1.67110632, 1.04938019, 1.77222296, 1.13339961, 1.336906  ],\n",
       "        [1.127061  , 1.43769527, 1.10302781, 1.87597879, 1.79749405],\n",
       "        [1.49178921, 1.58774017, 1.46157724, 1.32312703, 1.65173156]]])"
      ]
     },
     "execution_count": 27,
     "metadata": {},
     "output_type": "execute_result"
    }
   ],
   "source": [
    "# your code/answer here\n",
    "\n",
    "d= a + c\n",
    "d"
   ]
  },
  {
   "cell_type": "markdown",
   "metadata": {},
   "source": [
    "#### 11. Print *a* and *d*. Notice the difference and relation of the two array in terms of the values? Explain."
   ]
  },
  {
   "cell_type": "code",
   "execution_count": 28,
   "metadata": {},
   "outputs": [
    {
     "name": "stdout",
     "output_type": "stream",
     "text": [
      "[[[0.08933287 0.60042777 0.46732745 0.52886658 0.03356218]\n",
      "  [0.73940622 0.67877962 0.04791963 0.29835314 0.89289411]\n",
      "  [0.87537316 0.16027273 0.51825332 0.64468602 0.8265532 ]]\n",
      "\n",
      " [[0.67110632 0.04938019 0.77222296 0.13339961 0.336906  ]\n",
      "  [0.127061   0.43769527 0.10302781 0.87597879 0.79749405]\n",
      "  [0.49178921 0.58774017 0.46157724 0.32312703 0.65173156]]]\n",
      "[[[1.08933287 1.60042777 1.46732745 1.52886658 1.03356218]\n",
      "  [1.73940622 1.67877962 1.04791963 1.29835314 1.89289411]\n",
      "  [1.87537316 1.16027273 1.51825332 1.64468602 1.8265532 ]]\n",
      "\n",
      " [[1.67110632 1.04938019 1.77222296 1.13339961 1.336906  ]\n",
      "  [1.127061   1.43769527 1.10302781 1.87597879 1.79749405]\n",
      "  [1.49178921 1.58774017 1.46157724 1.32312703 1.65173156]]]\n"
     ]
    }
   ],
   "source": [
    "print(a)\n",
    "print(d)# your code/answer here  #The difference is the adition of the matrix of ones (b)"
   ]
  },
  {
   "cell_type": "markdown",
   "metadata": {},
   "source": [
    "#### 12. Multiply *a* and *c*. Assign the result to *e*."
   ]
  },
  {
   "cell_type": "code",
   "execution_count": 29,
   "metadata": {},
   "outputs": [],
   "source": [
    "# your code here\n",
    "\n",
    "e = a * c"
   ]
  },
  {
   "cell_type": "markdown",
   "metadata": {},
   "source": [
    "#### 13. Does *e* equal to *a*? Why or why not?\n"
   ]
  },
  {
   "cell_type": "code",
   "execution_count": 30,
   "metadata": {},
   "outputs": [
    {
     "data": {
      "text/plain": [
       "array([[[ True,  True,  True,  True,  True],\n",
       "        [ True,  True,  True,  True,  True],\n",
       "        [ True,  True,  True,  True,  True]],\n",
       "\n",
       "       [[ True,  True,  True,  True,  True],\n",
       "        [ True,  True,  True,  True,  True],\n",
       "        [ True,  True,  True,  True,  True]]])"
      ]
     },
     "execution_count": 30,
     "metadata": {},
     "output_type": "execute_result"
    }
   ],
   "source": [
    "# your code/answer here\n",
    "\n",
    "e == a   #Yes, because everything multiplied by 1 is the number itself, so when we multiply a * c we are multiplyng the values in a*1 = a"
   ]
  },
  {
   "cell_type": "markdown",
   "metadata": {},
   "source": [
    "#### 14. Identify the max, min, and mean values in *d*. Assign those values to variables *d_max*, *d_min* and *d_mean*."
   ]
  },
  {
   "cell_type": "code",
   "execution_count": 31,
   "metadata": {},
   "outputs": [],
   "source": [
    "# your code here\n",
    "\n",
    "max_d= d.max()\n",
    "min_d= d.min()\n",
    "mean_d = d.mean()"
   ]
  },
  {
   "cell_type": "markdown",
   "metadata": {},
   "source": [
    "#### 15. Now we want to label the values in *d*. First create an empty array *f* with the same shape (i.e. 2x3x5) as *d* using `np.empty`.\n"
   ]
  },
  {
   "cell_type": "code",
   "execution_count": 33,
   "metadata": {},
   "outputs": [
    {
     "data": {
      "text/plain": [
       "array([[[   3801155,    5570652,    6619251,    7536754,    6488156],\n",
       "        [   7274610,    7536739,    3014748,    7340137,    7602297],\n",
       "        [   7274600,    6029422,    7471216,    6684783,    7077993]],\n",
       "\n",
       "       [[   6226021,    6619236,    6357094,    7078005,    6029428],\n",
       "        [   6881384,    7602291,    7471215,    3014777,    7405683],\n",
       "        [   6881388,    6619252,    7798829,    7077985, 1769144320]]])"
      ]
     },
     "execution_count": 33,
     "metadata": {},
     "output_type": "execute_result"
    }
   ],
   "source": [
    "# your code here\n",
    "\n",
    "f = np.empty(shape=[2,3,5], dtype=int)\n",
    "f\n"
   ]
  },
  {
   "cell_type": "markdown",
   "metadata": {},
   "source": [
    "#### 16. Populate the values in *f*. \n",
    "\n",
    "For each value in *d*, if it's larger than *d_min* but smaller than *d_mean*, assign 25 to the corresponding value in *f*. If a value in *d* is larger than *d_mean* but smaller than *d_max*, assign 75 to the corresponding value in *f*. If a value equals to *d_mean*, assign 50 to the corresponding value in *f*. Assign 0 to the corresponding value(s) in *f* for *d_min* in *d*. Assign 100 to the corresponding value(s) in *f* for *d_max* in *d*. In the end, f should have only the following values: 0, 25, 50, 75, and 100.\n",
    "\n",
    "**Note**: you don't have to use Numpy in this question."
   ]
  },
  {
   "cell_type": "code",
   "execution_count": 39,
   "metadata": {},
   "outputs": [
    {
     "name": "stdout",
     "output_type": "stream",
     "text": [
      "[[[ 0. 25.  0. 25.  0.]\n",
      "  [25. 25.  0.  0. 25.]\n",
      "  [25.  0. 25. 25. 25.]]\n",
      "\n",
      " [[25.  0. 25.  0.  0.]\n",
      "  [ 0.  0.  0. 25. 25.]\n",
      "  [25. 25.  0.  0. 25.]]]\n",
      "[[[   3801155    5570652    6619251    7536754    6488156]\n",
      "  [   7274610    7536739    3014748    7340137    7602297]\n",
      "  [   7274600    6029422    7471216    6684783    7077993]]\n",
      "\n",
      " [[   6226021    6619236    6357094    7078005    6029428]\n",
      "  [   6881384    7602291    7471215    3014777    7405683]\n",
      "  [   6881388    6619252    7798829    7077985 1769144320]]]\n"
     ]
    }
   ],
   "source": [
    "# your code here\n",
    "\n",
    "for value in d:\n",
    "    for sub_value in value:\n",
    "        for i in range(len(sub_value)):\n",
    "            if  mean_d < sub_value[i] > min_d :\n",
    "                sub_value[i] = 25\n",
    "            elif  max_d < sub_value[i] > mean_d:\n",
    "                sub_value[i] = 75\n",
    "            elif sub_value[i] == mean_d:\n",
    "                sub_value[i] = 50\n",
    "            elif sub_value[i] == max_d:\n",
    "                sub_value[i] = 100\n",
    "            else:\n",
    "                sub_value[i] = 0\n",
    "\n",
    "                \n",
    "                \n",
    "print(d)      \n",
    "print(f)\n",
    "\n",
    "#I CHANGED D INSTEAD OF F, QUESTION PROFESSOR"
   ]
  },
  {
   "cell_type": "markdown",
   "metadata": {},
   "source": [
    "#### 17. Print *d* and *f*. Do you have your expected *f*?\n",
    "For instance, if your *d* is:\n",
    "```python\n",
    "[[[1.85836099, 1.67064465, 1.62576044, 1.40243961, 1.88454931],\n",
    "[1.75354326, 1.69403643, 1.36729252, 1.61415071, 1.12104981],\n",
    "[1.72201435, 1.1862918 , 1.87078449, 1.7726778 , 1.88180042]],\n",
    "[[1.44747908, 1.31673383, 1.02000951, 1.52218947, 1.97066381],\n",
    "[1.79129243, 1.74983003, 1.96028037, 1.85166831, 1.65450881],\n",
    "[1.18068344, 1.9587381 , 1.00656599, 1.93402165, 1.73514584]]]\n",
    "```\n",
    "Your *f* should be:\n",
    "```python\n",
    "[[[ 75.,  75.,  75.,  25.,  75.],\n",
    "[ 75.,  75.,  25.,  25.,  25.],\n",
    "[ 75.,  25.,  75.,  75.,  75.]],\n",
    "[[ 25.,  25.,  25.,  25., 100.],\n",
    "[ 75.,  75.,  75.,  75.,  75.],\n",
    "[ 25.,  75.,   0.,  75.,  75.]]]\n",
    "```"
   ]
  },
  {
   "cell_type": "code",
   "execution_count": 40,
   "metadata": {},
   "outputs": [
    {
     "name": "stdout",
     "output_type": "stream",
     "text": [
      "[[[ 0. 25.  0. 25.  0.]\n",
      "  [25. 25.  0.  0. 25.]\n",
      "  [25.  0. 25. 25. 25.]]\n",
      "\n",
      " [[25.  0. 25.  0.  0.]\n",
      "  [ 0.  0.  0. 25. 25.]\n",
      "  [25. 25.  0.  0. 25.]]]\n",
      "[[[   3801155    5570652    6619251    7536754    6488156]\n",
      "  [   7274610    7536739    3014748    7340137    7602297]\n",
      "  [   7274600    6029422    7471216    6684783    7077993]]\n",
      "\n",
      " [[   6226021    6619236    6357094    7078005    6029428]\n",
      "  [   6881384    7602291    7471215    3014777    7405683]\n",
      "  [   6881388    6619252    7798829    7077985 1769144320]]]\n"
     ]
    }
   ],
   "source": [
    "# your code here\n",
    "print(d)\n",
    "print(f)"
   ]
  },
  {
   "cell_type": "markdown",
   "metadata": {},
   "source": [
    "#### 18. Bonus question: instead of using numbers (i.e. 0, 25, 50, 75, and 100), use string values  (\"A\", \"B\", \"C\", \"D\", and \"E\") to label the array elements. For the example above, the expected result is:\n",
    "\n",
    "```python\n",
    "[[[ 'D',  'D',  'D',  'B',  'D'],\n",
    "[ 'D',  'D',  'B',  'B',  'B'],\n",
    "[ 'D',  'B',  'D',  'D',  'D']],\n",
    "[[ 'B',  'B',  'B',  'B',  'E'],\n",
    "[ 'D',  'D',  'D',  'D',  'D'],\n",
    "[ 'B',  'D',   'A',  'D', 'D']]]\n",
    "```\n",
    "**Note**: you don't have to use Numpy in this question."
   ]
  },
  {
   "cell_type": "code",
   "execution_count": 42,
   "metadata": {},
   "outputs": [
    {
     "ename": "ValueError",
     "evalue": "could not convert string to float: 'A'",
     "output_type": "error",
     "traceback": [
      "\u001b[1;31m---------------------------------------------------------------------------\u001b[0m",
      "\u001b[1;31mValueError\u001b[0m                                Traceback (most recent call last)",
      "\u001b[1;32m<ipython-input-42-e0d184471296>\u001b[0m in \u001b[0;36m<module>\u001b[1;34m\u001b[0m\n\u001b[0;32m     13\u001b[0m                 \u001b[0msub_value\u001b[0m\u001b[1;33m[\u001b[0m\u001b[0mi\u001b[0m\u001b[1;33m]\u001b[0m \u001b[1;33m=\u001b[0m \u001b[1;34m\"E\"\u001b[0m\u001b[1;33m\u001b[0m\u001b[1;33m\u001b[0m\u001b[0m\n\u001b[0;32m     14\u001b[0m             \u001b[1;32melse\u001b[0m\u001b[1;33m:\u001b[0m\u001b[1;33m\u001b[0m\u001b[1;33m\u001b[0m\u001b[0m\n\u001b[1;32m---> 15\u001b[1;33m                 \u001b[0msub_value\u001b[0m\u001b[1;33m[\u001b[0m\u001b[0mi\u001b[0m\u001b[1;33m]\u001b[0m \u001b[1;33m=\u001b[0m \u001b[1;34m\"A\"\u001b[0m\u001b[1;33m\u001b[0m\u001b[1;33m\u001b[0m\u001b[0m\n\u001b[0m\u001b[0;32m     16\u001b[0m \u001b[0mprint\u001b[0m\u001b[1;33m(\u001b[0m\u001b[0md\u001b[0m\u001b[1;33m)\u001b[0m\u001b[1;33m\u001b[0m\u001b[1;33m\u001b[0m\u001b[0m\n",
      "\u001b[1;31mValueError\u001b[0m: could not convert string to float: 'A'"
     ]
    }
   ],
   "source": [
    "# your code here\n",
    "\n",
    "for value in d:\n",
    "    for sub_value in value:\n",
    "        for i in range(len(sub_value)):\n",
    "            if  mean_d < sub_value[i] > min_d :\n",
    "                sub_value[i] = \"B\"\n",
    "            elif  max_d < sub_value[i] > mean_d:\n",
    "                sub_value[i] = \"D\"\n",
    "            elif sub_value[i] == mean_d:\n",
    "                sub_value[i] = \"C\"\n",
    "            elif sub_value[i] == max_d:\n",
    "                sub_value[i] = \"E\"\n",
    "            else:\n",
    "                sub_value[i] = \"A\"\n",
    "print(d)  \n",
    "\n",
    "#DID NOT WORK"
   ]
  },
  {
   "cell_type": "code",
   "execution_count": null,
   "metadata": {},
   "outputs": [],
   "source": []
  }
 ],
 "metadata": {
  "kernelspec": {
   "display_name": "Python 3",
   "language": "python",
   "name": "python3"
  },
  "language_info": {
   "codemirror_mode": {
    "name": "ipython",
    "version": 3
   },
   "file_extension": ".py",
   "mimetype": "text/x-python",
   "name": "python",
   "nbconvert_exporter": "python",
   "pygments_lexer": "ipython3",
   "version": "3.8.8"
  }
 },
 "nbformat": 4,
 "nbformat_minor": 2
}
