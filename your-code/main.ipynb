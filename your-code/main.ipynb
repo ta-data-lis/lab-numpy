{
 "cells": [
  {
   "cell_type": "markdown",
   "metadata": {},
   "source": [
    "# Intrduction to NumPy\n",
    "\n",
    "\n",
    "#### 1. Import NumPy under the name np."
   ]
  },
  {
   "cell_type": "code",
   "execution_count": 1,
   "metadata": {},
   "outputs": [],
   "source": [
    "# your code here\n",
    "import numpy as np"
   ]
  },
  {
   "cell_type": "markdown",
   "metadata": {},
   "source": [
    "#### 2. Print your NumPy version."
   ]
  },
  {
   "cell_type": "code",
   "execution_count": 9,
   "metadata": {},
   "outputs": [
    {
     "data": {
      "text/plain": [
       "'1.22.4'"
      ]
     },
     "execution_count": 9,
     "metadata": {},
     "output_type": "execute_result"
    }
   ],
   "source": [
    "# your code here\n",
    "np.version.version"
   ]
  },
  {
   "cell_type": "markdown",
   "metadata": {},
   "source": [
    "#### 3. Generate a 2x3x5 3-dimensional array with random values. Assign the array to variable *a*.\n",
    "**Challenge**: there are at least three easy ways that use numpy to generate random arrays. How many ways can you find?"
   ]
  },
  {
   "cell_type": "code",
   "execution_count": 10,
   "metadata": {},
   "outputs": [
    {
     "data": {
      "text/plain": [
       "array([[[0.30546003, 0.46384412, 0.83270345, 0.69213389, 0.38876013],\n",
       "        [0.06195147, 0.88031656, 0.08029222, 0.36258189, 0.36293697],\n",
       "        [0.82219173, 0.17129016, 0.95856203, 0.03390799, 0.90231891]],\n",
       "\n",
       "       [[0.56361682, 0.90253369, 0.5077081 , 0.54199739, 0.05597779],\n",
       "        [0.5179424 , 0.69357406, 0.93197839, 0.23524414, 0.79100753],\n",
       "        [0.74631278, 0.49206049, 0.92923429, 0.04264971, 0.86406822]]])"
      ]
     },
     "execution_count": 10,
     "metadata": {},
     "output_type": "execute_result"
    }
   ],
   "source": [
    "# Method 1\n",
    "np.random.random(size=(2,3,5))"
   ]
  },
  {
   "cell_type": "code",
   "execution_count": 11,
   "metadata": {},
   "outputs": [
    {
     "data": {
      "text/plain": [
       "array([[[0.60425503, 0.64093568, 0.22669506, 0.58538041, 0.38360673],\n",
       "        [0.350134  , 0.75356547, 0.09461799, 0.88727506, 0.1320603 ],\n",
       "        [0.8819501 , 0.35996059, 0.93196071, 0.89870973, 0.08736944]],\n",
       "\n",
       "       [[0.80954506, 0.91677933, 0.63897544, 0.68557086, 0.31567133],\n",
       "        [0.88009426, 0.1697853 , 0.94724612, 0.10296949, 0.88976513],\n",
       "        [0.23567542, 0.23207225, 0.12597802, 0.86719431, 0.96728934]]])"
      ]
     },
     "execution_count": 11,
     "metadata": {},
     "output_type": "execute_result"
    }
   ],
   "source": [
    "# Method 2\n",
    "np.random.rand(2,3,5)"
   ]
  },
  {
   "cell_type": "code",
   "execution_count": 33,
   "metadata": {},
   "outputs": [],
   "source": [
    "# Method 3\n",
    "a=np.random.randn(2,3,5)\n"
   ]
  },
  {
   "cell_type": "markdown",
   "metadata": {},
   "source": [
    "#### 4. Print *a*.\n"
   ]
  },
  {
   "cell_type": "code",
   "execution_count": 34,
   "metadata": {},
   "outputs": [
    {
     "data": {
      "text/plain": [
       "array([[[ 2.91123003e-01, -8.44365181e-01, -2.15986017e+00,\n",
       "          6.34276680e-01, -1.13489513e+00],\n",
       "        [-1.59476947e-01, -4.46874871e-01, -6.32014928e-01,\n",
       "         -5.13280354e-01,  5.29905184e-02],\n",
       "        [-9.20045980e-01, -1.16011430e+00,  1.15395269e+00,\n",
       "         -1.07813322e+00, -1.75335072e-03]],\n",
       "\n",
       "       [[-3.58471604e-01,  9.58904776e-01,  1.16669013e+00,\n",
       "          1.55444545e+00,  6.14250600e-02],\n",
       "        [-1.11604957e+00, -1.71638292e-01, -6.10425844e-01,\n",
       "          1.51708902e+00, -1.54123335e-01],\n",
       "        [ 4.84731851e-01, -1.81269784e+00, -6.58083827e-01,\n",
       "         -1.29912587e+00,  1.24383015e+00]]])"
      ]
     },
     "execution_count": 34,
     "metadata": {},
     "output_type": "execute_result"
    }
   ],
   "source": [
    "# your code here\n",
    "a"
   ]
  },
  {
   "cell_type": "markdown",
   "metadata": {},
   "source": [
    "#### 5. Create a 5x2x3 3-dimensional array with all values equaling 1. Assign the array to variable *b*."
   ]
  },
  {
   "cell_type": "code",
   "execution_count": 32,
   "metadata": {},
   "outputs": [],
   "source": [
    "# your code here\n",
    "b = np.ones(shape=(5,2,3))"
   ]
  },
  {
   "cell_type": "markdown",
   "metadata": {},
   "source": [
    "#### 6. Print *b*.\n"
   ]
  },
  {
   "cell_type": "code",
   "execution_count": 30,
   "metadata": {},
   "outputs": [
    {
     "data": {
      "text/plain": [
       "array([[[1., 1., 1.],\n",
       "        [1., 1., 1.],\n",
       "        [1., 1., 1.],\n",
       "        [1., 1., 1.],\n",
       "        [1., 1., 1.]],\n",
       "\n",
       "       [[1., 1., 1.],\n",
       "        [1., 1., 1.],\n",
       "        [1., 1., 1.],\n",
       "        [1., 1., 1.],\n",
       "        [1., 1., 1.]]])"
      ]
     },
     "execution_count": 30,
     "metadata": {},
     "output_type": "execute_result"
    }
   ],
   "source": [
    "# your code here\n",
    "b"
   ]
  },
  {
   "cell_type": "markdown",
   "metadata": {},
   "source": [
    "#### 7. Do *a* and *b* have the same size? How do you prove that in Python code?"
   ]
  },
  {
   "cell_type": "code",
   "execution_count": 19,
   "metadata": {},
   "outputs": [
    {
     "data": {
      "text/plain": [
       "False"
      ]
     },
     "execution_count": 19,
     "metadata": {},
     "output_type": "execute_result"
    }
   ],
   "source": [
    "# your code here\n",
    "a.shape==b.shape"
   ]
  },
  {
   "cell_type": "markdown",
   "metadata": {},
   "source": [
    "#### 8. Are you able to add *a* and *b*? Why or why not?\n"
   ]
  },
  {
   "cell_type": "code",
   "execution_count": 21,
   "metadata": {},
   "outputs": [],
   "source": [
    "# your answer here\n",
    "#they have differently sized arrays, dispite having the same number of elements"
   ]
  },
  {
   "cell_type": "markdown",
   "metadata": {},
   "source": [
    "#### 9. Transpose *b* so that it has the same structure of *a* (i.e. become a 2x3x5 array). Assign the transposed array to variable *c*."
   ]
  },
  {
   "cell_type": "code",
   "execution_count": 36,
   "metadata": {},
   "outputs": [
    {
     "data": {
      "text/plain": [
       "array([[[1., 1., 1., 1., 1.],\n",
       "        [1., 1., 1., 1., 1.],\n",
       "        [1., 1., 1., 1., 1.]],\n",
       "\n",
       "       [[1., 1., 1., 1., 1.],\n",
       "        [1., 1., 1., 1., 1.],\n",
       "        [1., 1., 1., 1., 1.]]])"
      ]
     },
     "execution_count": 36,
     "metadata": {},
     "output_type": "execute_result"
    }
   ],
   "source": [
    "# your code here\n",
    "c=b.transpose().reshape(2,3,5)\n",
    "c"
   ]
  },
  {
   "cell_type": "markdown",
   "metadata": {},
   "source": [
    "#### 10. Try to add *a* and *c*. Now it should work. Assign the sum to variable *d*. But why does it work now?"
   ]
  },
  {
   "cell_type": "code",
   "execution_count": 37,
   "metadata": {},
   "outputs": [],
   "source": [
    "# your code/answer here\n",
    "d=a+c"
   ]
  },
  {
   "cell_type": "markdown",
   "metadata": {},
   "source": [
    "#### 11. Print *a* and *d*. Notice the difference and relation of the two array in terms of the values? Explain."
   ]
  },
  {
   "cell_type": "code",
   "execution_count": 39,
   "metadata": {},
   "outputs": [
    {
     "data": {
      "text/plain": [
       "array([[[ 2.91123003e-01, -8.44365181e-01, -2.15986017e+00,\n",
       "          6.34276680e-01, -1.13489513e+00],\n",
       "        [-1.59476947e-01, -4.46874871e-01, -6.32014928e-01,\n",
       "         -5.13280354e-01,  5.29905184e-02],\n",
       "        [-9.20045980e-01, -1.16011430e+00,  1.15395269e+00,\n",
       "         -1.07813322e+00, -1.75335072e-03]],\n",
       "\n",
       "       [[-3.58471604e-01,  9.58904776e-01,  1.16669013e+00,\n",
       "          1.55444545e+00,  6.14250600e-02],\n",
       "        [-1.11604957e+00, -1.71638292e-01, -6.10425844e-01,\n",
       "          1.51708902e+00, -1.54123335e-01],\n",
       "        [ 4.84731851e-01, -1.81269784e+00, -6.58083827e-01,\n",
       "         -1.29912587e+00,  1.24383015e+00]]])"
      ]
     },
     "metadata": {},
     "output_type": "display_data"
    },
    {
     "data": {
      "text/plain": [
       "array([[[ 1.291123  ,  0.15563482, -1.15986017,  1.63427668,\n",
       "         -0.13489513],\n",
       "        [ 0.84052305,  0.55312513,  0.36798507,  0.48671965,\n",
       "          1.05299052],\n",
       "        [ 0.07995402, -0.1601143 ,  2.15395269, -0.07813322,\n",
       "          0.99824665]],\n",
       "\n",
       "       [[ 0.6415284 ,  1.95890478,  2.16669013,  2.55444545,\n",
       "          1.06142506],\n",
       "        [-0.11604957,  0.82836171,  0.38957416,  2.51708902,\n",
       "          0.84587667],\n",
       "        [ 1.48473185, -0.81269784,  0.34191617, -0.29912587,\n",
       "          2.24383015]]])"
      ]
     },
     "metadata": {},
     "output_type": "display_data"
    }
   ],
   "source": [
    "# your code/answer here\n",
    "display(a)\n",
    "display(d)\n",
    "#the values from a are from a randomly generated standard normal distribution, so values are comprised between ]-1, 1["
   ]
  },
  {
   "cell_type": "markdown",
   "metadata": {},
   "source": [
    "#### 12. Multiply *a* and *c*. Assign the result to *e*."
   ]
  },
  {
   "cell_type": "code",
   "execution_count": 40,
   "metadata": {},
   "outputs": [],
   "source": [
    "# your code here\n",
    "e = a*c"
   ]
  },
  {
   "cell_type": "markdown",
   "metadata": {},
   "source": [
    "#### 13. Does *e* equal to *a*? Why or why not?\n"
   ]
  },
  {
   "cell_type": "code",
   "execution_count": 41,
   "metadata": {},
   "outputs": [
    {
     "data": {
      "text/plain": [
       "array([[[ True,  True,  True,  True,  True],\n",
       "        [ True,  True,  True,  True,  True],\n",
       "        [ True,  True,  True,  True,  True]],\n",
       "\n",
       "       [[ True,  True,  True,  True,  True],\n",
       "        [ True,  True,  True,  True,  True],\n",
       "        [ True,  True,  True,  True,  True]]])"
      ]
     },
     "execution_count": 41,
     "metadata": {},
     "output_type": "execute_result"
    }
   ],
   "source": [
    "# your code/answer here\n",
    "a==e\n",
    "#all values from c are 1s so multiplication does nothing"
   ]
  },
  {
   "cell_type": "markdown",
   "metadata": {},
   "source": [
    "#### 14. Identify the max, min, and mean values in *d*. Assign those values to variables *d_max*, *d_min* and *d_mean*."
   ]
  },
  {
   "cell_type": "code",
   "execution_count": 42,
   "metadata": {},
   "outputs": [
    {
     "name": "stdout",
     "output_type": "stream",
     "text": [
      "2.554445451511496\n",
      "-1.1598601698879474\n",
      "0.7962676240095049\n"
     ]
    }
   ],
   "source": [
    "# your code here\n",
    "d_max= d.max()\n",
    "d_min= d.min()\n",
    "d_mean=d.mean()\n",
    "print(d_max)\n",
    "print(d_min)\n",
    "print(d_mean)"
   ]
  },
  {
   "cell_type": "markdown",
   "metadata": {},
   "source": [
    "#### 15. Now we want to label the values in *d*. First create an empty array *f* with the same shape (i.e. 2x3x5) as *d* using `np.empty`.\n"
   ]
  },
  {
   "cell_type": "code",
   "execution_count": 46,
   "metadata": {},
   "outputs": [
    {
     "data": {
      "text/plain": [
       "array([[[0, 0, 0, 0, 0],\n",
       "        [0, 0, 0, 0, 0],\n",
       "        [0, 0, 0, 0, 0]],\n",
       "\n",
       "       [[0, 0, 0, 0, 0],\n",
       "        [0, 0, 0, 0, 0],\n",
       "        [0, 0, 0, 0, 0]]])"
      ]
     },
     "execution_count": 46,
     "metadata": {},
     "output_type": "execute_result"
    }
   ],
   "source": [
    "# your code here\n",
    "f= np.empty([2,3,5], dtype=int)\n",
    "f"
   ]
  },
  {
   "cell_type": "markdown",
   "metadata": {},
   "source": [
    "#### 16. Populate the values in *f*. \n",
    "\n",
    "For each value in *d*, if it's larger than *d_min* but smaller than *d_mean*, assign 25 to the corresponding value in *f*. If a value in *d* is larger than *d_mean* but smaller than *d_max*, assign 75 to the corresponding value in *f*. If a value equals to *d_mean*, assign 50 to the corresponding value in *f*. Assign 0 to the corresponding value(s) in *f* for *d_min* in *d*. Assign 100 to the corresponding value(s) in *f* for *d_max* in *d*. In the end, f should have only the following values: 0, 25, 50, 75, and 100.\n",
    "\n",
    "**Note**: you don't have to use Numpy in this question."
   ]
  },
  {
   "cell_type": "code",
   "execution_count": 48,
   "metadata": {},
   "outputs": [
    {
     "data": {
      "text/plain": [
       "array([[[ 75,  25,   0,  75,  25],\n",
       "        [ 75,  25,  25,  25,  75],\n",
       "        [ 25,  25,  75,  25,  75]],\n",
       "\n",
       "       [[ 25,  75,  75, 100,  75],\n",
       "        [ 25,  75,  25,  75,  75],\n",
       "        [ 75,  25,  25,  25,  75]]])"
      ]
     },
     "execution_count": 48,
     "metadata": {},
     "output_type": "execute_result"
    }
   ],
   "source": [
    "# your code here\n",
    "f[(d>d.min()) & (d<d.mean())]= 25\n",
    "f[(d>d.mean()) & (d<d.max())]= 75\n",
    "f[(d==d.mean())]= 50\n",
    "f[(d==d.min())]= 0\n",
    "f[(d==d.max())]= 100\n",
    "\n",
    "f"
   ]
  },
  {
   "cell_type": "markdown",
   "metadata": {},
   "source": [
    "#### 17. Print *d* and *f*. Do you have your expected *f*?\n",
    "For instance, if your *d* is:\n",
    "```python\n",
    "[[[1.85836099, 1.67064465, 1.62576044, 1.40243961, 1.88454931],\n",
    "[1.75354326, 1.69403643, 1.36729252, 1.61415071, 1.12104981],\n",
    "[1.72201435, 1.1862918 , 1.87078449, 1.7726778 , 1.88180042]],\n",
    "[[1.44747908, 1.31673383, 1.02000951, 1.52218947, 1.97066381],\n",
    "[1.79129243, 1.74983003, 1.96028037, 1.85166831, 1.65450881],\n",
    "[1.18068344, 1.9587381 , 1.00656599, 1.93402165, 1.73514584]]]\n",
    "```\n",
    "Your *f* should be:\n",
    "```python\n",
    "[[[ 75.,  75.,  75.,  25.,  75.],\n",
    "[ 75.,  75.,  25.,  25.,  25.],\n",
    "[ 75.,  25.,  75.,  75.,  75.]],\n",
    "[[ 25.,  25.,  25.,  25., 100.],\n",
    "[ 75.,  75.,  75.,  75.,  75.],\n",
    "[ 25.,  75.,   0.,  75.,  75.]]]\n",
    "```"
   ]
  },
  {
   "cell_type": "code",
   "execution_count": 49,
   "metadata": {},
   "outputs": [
    {
     "name": "stdout",
     "output_type": "stream",
     "text": [
      "[[[ 1.291123    0.15563482 -1.15986017  1.63427668 -0.13489513]\n",
      "  [ 0.84052305  0.55312513  0.36798507  0.48671965  1.05299052]\n",
      "  [ 0.07995402 -0.1601143   2.15395269 -0.07813322  0.99824665]]\n",
      "\n",
      " [[ 0.6415284   1.95890478  2.16669013  2.55444545  1.06142506]\n",
      "  [-0.11604957  0.82836171  0.38957416  2.51708902  0.84587667]\n",
      "  [ 1.48473185 -0.81269784  0.34191617 -0.29912587  2.24383015]]]\n",
      "[[[ 75  25   0  75  25]\n",
      "  [ 75  25  25  25  75]\n",
      "  [ 25  25  75  25  75]]\n",
      "\n",
      " [[ 25  75  75 100  75]\n",
      "  [ 25  75  25  75  75]\n",
      "  [ 75  25  25  25  75]]]\n"
     ]
    }
   ],
   "source": [
    "# your code here\n",
    "print(d)\n",
    "print(f)"
   ]
  },
  {
   "cell_type": "markdown",
   "metadata": {},
   "source": [
    "#### 18. Bonus question: instead of using numbers (i.e. 0, 25, 50, 75, and 100), use string values  (\"A\", \"B\", \"C\", \"D\", and \"E\") to label the array elements. For the example above, the expected result is:\n",
    "\n",
    "```python\n",
    "[[[ 'D',  'D',  'D',  'B',  'D'],\n",
    "[ 'D',  'D',  'B',  'B',  'B'],\n",
    "[ 'D',  'B',  'D',  'D',  'D']],\n",
    "[[ 'B',  'B',  'B',  'B',  'E'],\n",
    "[ 'D',  'D',  'D',  'D',  'D'],\n",
    "[ 'B',  'D',   'A',  'D', 'D']]]\n",
    "```\n",
    "**Note**: you don't have to use Numpy in this question."
   ]
  },
  {
   "cell_type": "code",
   "execution_count": 51,
   "metadata": {},
   "outputs": [
    {
     "data": {
      "text/plain": [
       "array([[['D', 'B', 'A', 'D', 'B'],\n",
       "        ['D', 'B', 'B', 'B', 'D'],\n",
       "        ['B', 'B', 'D', 'B', 'D']],\n",
       "\n",
       "       [['B', 'D', 'D', 'E', 'D'],\n",
       "        ['B', 'D', 'B', 'D', 'D'],\n",
       "        ['D', 'B', 'B', 'B', 'D']]], dtype='<U1')"
      ]
     },
     "execution_count": 51,
     "metadata": {},
     "output_type": "execute_result"
    }
   ],
   "source": [
    "# your code here\n",
    "g= np.empty([2,3,5], dtype=str)\n",
    "g[(d>d.min()) & (d<d.mean())]= \"B\"\n",
    "g[(d>d.mean()) & (d<d.max())]= \"D\"\n",
    "g[(d==d.mean())]= \"C\"\n",
    "g[(d==d.min())]= \"A\"\n",
    "g[(d==d.max())]= \"E\"\n",
    "g"
   ]
  }
 ],
 "metadata": {
  "kernelspec": {
   "display_name": "Python 3.9.12 ('base')",
   "language": "python",
   "name": "python3"
  },
  "language_info": {
   "codemirror_mode": {
    "name": "ipython",
    "version": 3
   },
   "file_extension": ".py",
   "mimetype": "text/x-python",
   "name": "python",
   "nbconvert_exporter": "python",
   "pygments_lexer": "ipython3",
   "version": "3.9.12"
  },
  "vscode": {
   "interpreter": {
    "hash": "ca24d5afb66fcbb462fa71d0077b8bccae5a3d821a688de69b673156ae0e4c2b"
   }
  }
 },
 "nbformat": 4,
 "nbformat_minor": 2
}
