{
 "cells": [
  {
   "cell_type": "markdown",
   "metadata": {},
   "source": [
    "# Intrduction to NumPy\n",
    "\n",
    "\n",
    "#### 1. Import NumPy under the name np."
   ]
  },
  {
   "cell_type": "code",
   "execution_count": 93,
   "metadata": {},
   "outputs": [],
   "source": [
    "# your code here\n",
    "import numpy as np"
   ]
  },
  {
   "cell_type": "markdown",
   "metadata": {},
   "source": [
    "#### 2. Print your NumPy version."
   ]
  },
  {
   "cell_type": "code",
   "execution_count": 94,
   "metadata": {},
   "outputs": [
    {
     "name": "stdout",
     "output_type": "stream",
     "text": [
      "1.18.5\n"
     ]
    }
   ],
   "source": [
    "# your code here\n",
    "print(np.__version__)"
   ]
  },
  {
   "cell_type": "markdown",
   "metadata": {},
   "source": [
    "#### 3. Generate a 2x3x5 3-dimensional array with random values. Assign the array to variable *a*.\n",
    "**Challenge**: there are at least three easy ways that use numpy to generate random arrays. How many ways can you find?"
   ]
  },
  {
   "cell_type": "code",
   "execution_count": 95,
   "metadata": {},
   "outputs": [
    {
     "name": "stdout",
     "output_type": "stream",
     "text": [
      "[[[0.09954731 0.50464153 0.92209444 0.99733445 0.76630192]\n",
      "  [0.20360294 0.46259768 0.56746744 0.99985076 0.41571937]\n",
      "  [0.5340406  0.64881041 0.8913457  0.29623008 0.26627407]]\n",
      "\n",
      " [[0.73335881 0.27648327 0.57251958 0.74617908 0.65687257]\n",
      "  [0.92943888 0.4176199  0.65225711 0.34323913 0.43187819]\n",
      "  [0.15191185 0.59528714 0.32687549 0.45181202 0.88233529]]]\n",
      "(2, 3, 5)\n"
     ]
    }
   ],
   "source": [
    "# Method 1\n",
    "a = np.random.random((2,3,5))\n",
    "print(a)\n",
    "print(np.shape(a))"
   ]
  },
  {
   "cell_type": "code",
   "execution_count": 96,
   "metadata": {},
   "outputs": [],
   "source": [
    "# Method 2\n"
   ]
  },
  {
   "cell_type": "code",
   "execution_count": 97,
   "metadata": {},
   "outputs": [],
   "source": [
    "# Method 3"
   ]
  },
  {
   "cell_type": "markdown",
   "metadata": {},
   "source": [
    "#### 4. Print *a*.\n"
   ]
  },
  {
   "cell_type": "code",
   "execution_count": 98,
   "metadata": {},
   "outputs": [
    {
     "name": "stdout",
     "output_type": "stream",
     "text": [
      "[[[0.09954731 0.50464153 0.92209444 0.99733445 0.76630192]\n",
      "  [0.20360294 0.46259768 0.56746744 0.99985076 0.41571937]\n",
      "  [0.5340406  0.64881041 0.8913457  0.29623008 0.26627407]]\n",
      "\n",
      " [[0.73335881 0.27648327 0.57251958 0.74617908 0.65687257]\n",
      "  [0.92943888 0.4176199  0.65225711 0.34323913 0.43187819]\n",
      "  [0.15191185 0.59528714 0.32687549 0.45181202 0.88233529]]]\n"
     ]
    }
   ],
   "source": [
    "# your code here\n",
    "print(a)"
   ]
  },
  {
   "cell_type": "markdown",
   "metadata": {},
   "source": [
    "#### 5. Create a 5x2x3 3-dimensional array with all values equaling 1. Assign the array to variable *b*."
   ]
  },
  {
   "cell_type": "code",
   "execution_count": 99,
   "metadata": {},
   "outputs": [],
   "source": [
    "# your code here\n",
    "\n",
    "b=np.ones(((5,2,3)))\n"
   ]
  },
  {
   "cell_type": "markdown",
   "metadata": {},
   "source": [
    "#### 6. Print *b*.\n"
   ]
  },
  {
   "cell_type": "code",
   "execution_count": 100,
   "metadata": {},
   "outputs": [
    {
     "name": "stdout",
     "output_type": "stream",
     "text": [
      "[[[1. 1. 1.]\n",
      "  [1. 1. 1.]]\n",
      "\n",
      " [[1. 1. 1.]\n",
      "  [1. 1. 1.]]\n",
      "\n",
      " [[1. 1. 1.]\n",
      "  [1. 1. 1.]]\n",
      "\n",
      " [[1. 1. 1.]\n",
      "  [1. 1. 1.]]\n",
      "\n",
      " [[1. 1. 1.]\n",
      "  [1. 1. 1.]]]\n"
     ]
    }
   ],
   "source": [
    "# your code here\n",
    "print(b)"
   ]
  },
  {
   "cell_type": "markdown",
   "metadata": {},
   "source": [
    "#### 7. Do *a* and *b* have the same size? How do you prove that in Python code?"
   ]
  },
  {
   "cell_type": "code",
   "execution_count": 101,
   "metadata": {},
   "outputs": [
    {
     "name": "stdout",
     "output_type": "stream",
     "text": [
      "Same size\n"
     ]
    }
   ],
   "source": [
    "# your code here\n",
    "\n",
    "sizea=np.size(a)\n",
    "sizeb=np.size(b)\n",
    "\n",
    "if sizea==sizeb:\n",
    "    print(\"Same size\")\n",
    "else:\n",
    "    print(\"Different size\")"
   ]
  },
  {
   "cell_type": "markdown",
   "metadata": {},
   "source": [
    "#### 8. Are you able to add *a* and *b*? Why or why not?\n"
   ]
  },
  {
   "cell_type": "code",
   "execution_count": 102,
   "metadata": {},
   "outputs": [
    {
     "ename": "ValueError",
     "evalue": "operands could not be broadcast together with shapes (2,3,5) (5,2,3) ",
     "output_type": "error",
     "traceback": [
      "\u001b[1;31m---------------------------------------------------------------------------\u001b[0m",
      "\u001b[1;31mValueError\u001b[0m                                Traceback (most recent call last)",
      "\u001b[1;32m<ipython-input-102-b6b9b1182637>\u001b[0m in \u001b[0;36m<module>\u001b[1;34m\u001b[0m\n\u001b[0;32m      1\u001b[0m \u001b[1;31m# your answer here\u001b[0m\u001b[1;33m\u001b[0m\u001b[1;33m\u001b[0m\u001b[1;33m\u001b[0m\u001b[0m\n\u001b[0;32m      2\u001b[0m \u001b[1;33m\u001b[0m\u001b[0m\n\u001b[1;32m----> 3\u001b[1;33m \u001b[0md\u001b[0m\u001b[1;33m=\u001b[0m\u001b[0ma\u001b[0m\u001b[1;33m+\u001b[0m\u001b[0mb\u001b[0m\u001b[1;33m\u001b[0m\u001b[1;33m\u001b[0m\u001b[0m\n\u001b[0m\u001b[0;32m      4\u001b[0m \u001b[0mprint\u001b[0m\u001b[1;33m(\u001b[0m\u001b[0md\u001b[0m\u001b[1;33m)\u001b[0m\u001b[1;33m\u001b[0m\u001b[1;33m\u001b[0m\u001b[0m\n\u001b[0;32m      5\u001b[0m \u001b[1;33m\u001b[0m\u001b[0m\n",
      "\u001b[1;31mValueError\u001b[0m: operands could not be broadcast together with shapes (2,3,5) (5,2,3) "
     ]
    }
   ],
   "source": [
    "# your answer here\n",
    "\n",
    "d=a+b\n",
    "print(d)\n",
    "\n",
    "print(\"As they are different shapes, the addition between them is impossible\")"
   ]
  },
  {
   "cell_type": "markdown",
   "metadata": {},
   "source": [
    "#### 9. Transpose *b* so that it has the same structure of *a* (i.e. become a 2x3x5 array). Assign the transposed array to variable *c*."
   ]
  },
  {
   "cell_type": "code",
   "execution_count": 103,
   "metadata": {},
   "outputs": [
    {
     "name": "stdout",
     "output_type": "stream",
     "text": [
      "[[[1. 1. 1. 1. 1.]\n",
      "  [1. 1. 1. 1. 1.]\n",
      "  [1. 1. 1. 1. 1.]]\n",
      "\n",
      " [[1. 1. 1. 1. 1.]\n",
      "  [1. 1. 1. 1. 1.]\n",
      "  [1. 1. 1. 1. 1.]]]\n",
      "(2, 3, 5)\n"
     ]
    }
   ],
   "source": [
    "# your code here\n",
    "c=np.transpose(b, (1, 2, 0))\n",
    "print(c)\n",
    "print(np.shape(c))"
   ]
  },
  {
   "cell_type": "markdown",
   "metadata": {},
   "source": [
    "#### 10. Try to add *a* and *c*. Now it should work. Assign the sum to variable *d*. But why does it work now?"
   ]
  },
  {
   "cell_type": "code",
   "execution_count": 104,
   "metadata": {},
   "outputs": [
    {
     "name": "stdout",
     "output_type": "stream",
     "text": [
      "[[[1.09954731 1.50464153 1.92209444 1.99733445 1.76630192]\n",
      "  [1.20360294 1.46259768 1.56746744 1.99985076 1.41571937]\n",
      "  [1.5340406  1.64881041 1.8913457  1.29623008 1.26627407]]\n",
      "\n",
      " [[1.73335881 1.27648327 1.57251958 1.74617908 1.65687257]\n",
      "  [1.92943888 1.4176199  1.65225711 1.34323913 1.43187819]\n",
      "  [1.15191185 1.59528714 1.32687549 1.45181202 1.88233529]]]\n",
      "It works because there are the same shape\n"
     ]
    }
   ],
   "source": [
    "# your code/answer here\n",
    "d=a+c\n",
    "print(d)\n",
    "print(\"It works because there are the same shape\")"
   ]
  },
  {
   "cell_type": "markdown",
   "metadata": {},
   "source": [
    "#### 11. Print *a* and *d*. Notice the difference and relation of the two array in terms of the values? Explain."
   ]
  },
  {
   "cell_type": "code",
   "execution_count": 105,
   "metadata": {},
   "outputs": [
    {
     "name": "stdout",
     "output_type": "stream",
     "text": [
      "[[[0.09954731 0.50464153 0.92209444 0.99733445 0.76630192]\n",
      "  [0.20360294 0.46259768 0.56746744 0.99985076 0.41571937]\n",
      "  [0.5340406  0.64881041 0.8913457  0.29623008 0.26627407]]\n",
      "\n",
      " [[0.73335881 0.27648327 0.57251958 0.74617908 0.65687257]\n",
      "  [0.92943888 0.4176199  0.65225711 0.34323913 0.43187819]\n",
      "  [0.15191185 0.59528714 0.32687549 0.45181202 0.88233529]]]\n",
      "[[[1.09954731 1.50464153 1.92209444 1.99733445 1.76630192]\n",
      "  [1.20360294 1.46259768 1.56746744 1.99985076 1.41571937]\n",
      "  [1.5340406  1.64881041 1.8913457  1.29623008 1.26627407]]\n",
      "\n",
      " [[1.73335881 1.27648327 1.57251958 1.74617908 1.65687257]\n",
      "  [1.92943888 1.4176199  1.65225711 1.34323913 1.43187819]\n",
      "  [1.15191185 1.59528714 1.32687549 1.45181202 1.88233529]]]\n",
      "c is a matrix of ones, so the matrix d is the matrix a adding 1 to every single element of the matrix\n"
     ]
    }
   ],
   "source": [
    "# your code/answer here\n",
    "print(a)\n",
    "print(d)\n",
    "\n",
    "print(\"c is a matrix of ones, so the matrix d is the matrix a adding 1 to every single element of the matrix\")\n"
   ]
  },
  {
   "cell_type": "markdown",
   "metadata": {},
   "source": [
    "#### 12. Multiply *a* and *c*. Assign the result to *e*."
   ]
  },
  {
   "cell_type": "code",
   "execution_count": 106,
   "metadata": {},
   "outputs": [
    {
     "name": "stdout",
     "output_type": "stream",
     "text": [
      "[[[0.09954731 0.50464153 0.92209444 0.99733445 0.76630192]\n",
      "  [0.20360294 0.46259768 0.56746744 0.99985076 0.41571937]\n",
      "  [0.5340406  0.64881041 0.8913457  0.29623008 0.26627407]]\n",
      "\n",
      " [[0.73335881 0.27648327 0.57251958 0.74617908 0.65687257]\n",
      "  [0.92943888 0.4176199  0.65225711 0.34323913 0.43187819]\n",
      "  [0.15191185 0.59528714 0.32687549 0.45181202 0.88233529]]]\n"
     ]
    }
   ],
   "source": [
    "# your code here\n",
    "e=a*c\n",
    "print(e)"
   ]
  },
  {
   "cell_type": "markdown",
   "metadata": {},
   "source": [
    "#### 13. Does *e* equal to *a*? Why or why not?\n"
   ]
  },
  {
   "cell_type": "code",
   "execution_count": 107,
   "metadata": {},
   "outputs": [
    {
     "name": "stdout",
     "output_type": "stream",
     "text": [
      "Yes, multiplicating any number by one we get the same number\n"
     ]
    }
   ],
   "source": [
    "# your code/answer here\n",
    "print(\"Yes, multiplicating any number by one we get the same number\")"
   ]
  },
  {
   "cell_type": "markdown",
   "metadata": {},
   "source": [
    "#### 14. Identify the max, min, and mean values in *d*. Assign those values to variables *d_max*, *d_min* and *d_mean*."
   ]
  },
  {
   "cell_type": "code",
   "execution_count": 108,
   "metadata": {},
   "outputs": [
    {
     "name": "stdout",
     "output_type": "stream",
     "text": [
      "1.9998507637262803 1.0995473122431976 1.5581309006474884\n"
     ]
    }
   ],
   "source": [
    "# your code here\n",
    "d_max=np.max(d)\n",
    "d_min=np.min(d)\n",
    "d_mean=np.mean(d)\n",
    "\n",
    "print(d_max, d_min, d_mean)"
   ]
  },
  {
   "cell_type": "markdown",
   "metadata": {},
   "source": [
    "#### 15. Now we want to label the values in *d*. First create an empty array *f* with the same shape (i.e. 2x3x5) as *d* using `np.empty`.\n"
   ]
  },
  {
   "cell_type": "code",
   "execution_count": 109,
   "metadata": {},
   "outputs": [
    {
     "name": "stdout",
     "output_type": "stream",
     "text": [
      "[[[0.09954731 0.50464153 0.92209444 0.99733445 0.76630192]\n",
      "  [0.20360294 0.46259768 0.56746744 0.99985076 0.41571937]\n",
      "  [0.5340406  0.64881041 0.8913457  0.29623008 0.26627407]]\n",
      "\n",
      " [[0.73335881 0.27648327 0.57251958 0.74617908 0.65687257]\n",
      "  [0.92943888 0.4176199  0.65225711 0.34323913 0.43187819]\n",
      "  [0.15191185 0.59528714 0.32687549 0.45181202 0.88233529]]]\n"
     ]
    }
   ],
   "source": [
    "# your code here\n",
    "f=np.empty((2,3,5))\n",
    "print(f)"
   ]
  },
  {
   "cell_type": "markdown",
   "metadata": {},
   "source": [
    "#### 16. Populate the values in *f*. \n",
    "\n",
    "For each value in *d*, if it's larger than *d_min* but smaller than *d_mean*, assign 25 to the corresponding value in *f*. If a value in *d* is larger than *d_mean* but smaller than *d_max*, assign 75 to the corresponding value in *f*. If a value equals to *d_mean*, assign 50 to the corresponding value in *f*. Assign 0 to the corresponding value(s) in *f* for *d_min* in *d*. Assign 100 to the corresponding value(s) in *f* for *d_max* in *d*. In the end, f should have only the following values: 0, 25, 50, 75, and 100.\n",
    "\n",
    "**Note**: you don't have to use Numpy in this question."
   ]
  },
  {
   "cell_type": "code",
   "execution_count": 110,
   "metadata": {
    "scrolled": true
   },
   "outputs": [
    {
     "name": "stdout",
     "output_type": "stream",
     "text": [
      "[[[1.09954731 1.50464153 1.92209444 1.99733445 1.76630192]\n",
      "  [1.20360294 1.46259768 1.56746744 1.99985076 1.41571937]\n",
      "  [1.5340406  1.64881041 1.8913457  1.29623008 1.26627407]]\n",
      "\n",
      " [[1.73335881 1.27648327 1.57251958 1.74617908 1.65687257]\n",
      "  [1.92943888 1.4176199  1.65225711 1.34323913 1.43187819]\n",
      "  [1.15191185 1.59528714 1.32687549 1.45181202 1.88233529]]]\n",
      "[[[  0  25  75  75  75]\n",
      "  [ 25  25  75 100  25]\n",
      "  [ 25  75  75  25  25]]\n",
      "\n",
      " [[ 75  25  75  75  75]\n",
      "  [ 75  25  75  25  25]\n",
      "  [ 25  75  25  25  75]]]\n"
     ]
    }
   ],
   "source": [
    "# your code here\n",
    "print(d)\n",
    "\n",
    "listaf=[]\n",
    "\n",
    "for bmat in d:\n",
    "    for matrix in bmat:\n",
    "        for value in matrix:\n",
    "            if value == d_min:\n",
    "                listaf.append(0)\n",
    "            elif value == d_mean:\n",
    "                listaf.append(50)\n",
    "            elif value== d_max:\n",
    "                listaf.append(100)\n",
    "            elif (value > d_min) and (value < d_mean):\n",
    "                listaf.append(25)\n",
    "            else:\n",
    "                listaf.append(75)\n",
    "                \n",
    "f  = np.array(listaf).reshape(2,3,5)\n",
    "\n",
    "print(f)"
   ]
  },
  {
   "cell_type": "markdown",
   "metadata": {},
   "source": [
    "#### 17. Print *d* and *f*. Do you have your expected *f*?\n",
    "For instance, if your *d* is:\n",
    "```python\n",
    "[[[1.85836099, 1.67064465, 1.62576044, 1.40243961, 1.88454931],\n",
    "[1.75354326, 1.69403643, 1.36729252, 1.61415071, 1.12104981],\n",
    "[1.72201435, 1.1862918 , 1.87078449, 1.7726778 , 1.88180042]],\n",
    "[[1.44747908, 1.31673383, 1.02000951, 1.52218947, 1.97066381],\n",
    "[1.79129243, 1.74983003, 1.96028037, 1.85166831, 1.65450881],\n",
    "[1.18068344, 1.9587381 , 1.00656599, 1.93402165, 1.73514584]]]\n",
    "```\n",
    "Your *f* should be:\n",
    "```python\n",
    "[[[ 75.,  75.,  75.,  25.,  75.],\n",
    "[ 75.,  75.,  25.,  25.,  25.],\n",
    "[ 75.,  25.,  75.,  75.,  75.]],\n",
    "[[ 25.,  25.,  25.,  25., 100.],\n",
    "[ 75.,  75.,  75.,  75.,  75.],\n",
    "[ 25.,  75.,   0.,  75.,  75.]]]\n",
    "```"
   ]
  },
  {
   "cell_type": "code",
   "execution_count": 64,
   "metadata": {},
   "outputs": [],
   "source": [
    "# your code here\n",
    "\n"
   ]
  },
  {
   "cell_type": "markdown",
   "metadata": {},
   "source": [
    "#### 18. Bonus question: instead of using numbers (i.e. 0, 25, 50, 75, and 100), use string values  (\"A\", \"B\", \"C\", \"D\", and \"E\") to label the array elements. For the example above, the expected result is:\n",
    "\n",
    "```python\n",
    "[[[ 'D',  'D',  'D',  'B',  'D'],\n",
    "[ 'D',  'D',  'B',  'B',  'B'],\n",
    "[ 'D',  'B',  'D',  'D',  'D']],\n",
    "[[ 'B',  'B',  'B',  'B',  'E'],\n",
    "[ 'D',  'D',  'D',  'D',  'D'],\n",
    "[ 'B',  'D',   'A',  'D', 'D']]]\n",
    "```\n",
    "**Note**: you don't have to use Numpy in this question."
   ]
  },
  {
   "cell_type": "code",
   "execution_count": 65,
   "metadata": {},
   "outputs": [],
   "source": [
    "# your code here"
   ]
  },
  {
   "cell_type": "code",
   "execution_count": null,
   "metadata": {},
   "outputs": [],
   "source": []
  }
 ],
 "metadata": {
  "kernelspec": {
   "display_name": "Python 3",
   "language": "python",
   "name": "python3"
  },
  "language_info": {
   "codemirror_mode": {
    "name": "ipython",
    "version": 3
   },
   "file_extension": ".py",
   "mimetype": "text/x-python",
   "name": "python",
   "nbconvert_exporter": "python",
   "pygments_lexer": "ipython3",
   "version": "3.8.3"
  }
 },
 "nbformat": 4,
 "nbformat_minor": 2
}
