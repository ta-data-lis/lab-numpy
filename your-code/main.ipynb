{
 "cells": [
  {
   "cell_type": "markdown",
   "metadata": {},
   "source": [
    "# Intrduction to NumPy\n",
    "\n",
    "\n",
    "#### 1. Import NumPy under the name np."
   ]
  },
  {
   "cell_type": "code",
   "execution_count": 52,
   "metadata": {},
   "outputs": [],
   "source": [
    "# your code here\n",
    "import numpy as np"
   ]
  },
  {
   "cell_type": "markdown",
   "metadata": {},
   "source": [
    "#### 2. Print your NumPy version."
   ]
  },
  {
   "cell_type": "code",
   "execution_count": 53,
   "metadata": {},
   "outputs": [
    {
     "data": {
      "text/plain": [
       "'1.16.5'"
      ]
     },
     "execution_count": 53,
     "metadata": {},
     "output_type": "execute_result"
    }
   ],
   "source": [
    "# your code here\n",
    "np.version.version"
   ]
  },
  {
   "cell_type": "markdown",
   "metadata": {},
   "source": [
    "#### 3. Generate a 2x3x5 3-dimensional array with random values. Assign the array to variable *a*.\n",
    "**Challenge**: there are at least three easy ways that use numpy to generate random arrays. How many ways can you find?"
   ]
  },
  {
   "cell_type": "code",
   "execution_count": 86,
   "metadata": {},
   "outputs": [],
   "source": [
    "# Method 1\n",
    "a = np.random.random ((2,3,5))*6 -3"
   ]
  },
  {
   "cell_type": "code",
   "execution_count": 55,
   "metadata": {},
   "outputs": [
    {
     "name": "stdout",
     "output_type": "stream",
     "text": [
      "[[[ 6  1  8  7  0]\n",
      "  [ 1  6 10  9  9]\n",
      "  [ 2 10  2  2  7]]\n",
      "\n",
      " [[ 4  6  4  4  9]\n",
      "  [ 4  9  2  1 10]\n",
      "  [ 2 10  6  8  5]]]\n"
     ]
    }
   ],
   "source": [
    "# Method 2\n",
    "import random\n",
    "lst = np.array([random.randint(0,10) for _ in range(2*3*5)])\n",
    "a = lst.reshape(2,3,5)\n",
    "print(a)"
   ]
  },
  {
   "cell_type": "code",
   "execution_count": 56,
   "metadata": {},
   "outputs": [],
   "source": [
    "# Method 3"
   ]
  },
  {
   "cell_type": "markdown",
   "metadata": {},
   "source": [
    "#### 4. Print *a*.\n"
   ]
  },
  {
   "cell_type": "code",
   "execution_count": 57,
   "metadata": {},
   "outputs": [
    {
     "name": "stdout",
     "output_type": "stream",
     "text": [
      "[[[ 6  1  8  7  0]\n",
      "  [ 1  6 10  9  9]\n",
      "  [ 2 10  2  2  7]]\n",
      "\n",
      " [[ 4  6  4  4  9]\n",
      "  [ 4  9  2  1 10]\n",
      "  [ 2 10  6  8  5]]]\n"
     ]
    }
   ],
   "source": [
    "# your code here\n",
    "print(a)"
   ]
  },
  {
   "cell_type": "markdown",
   "metadata": {},
   "source": [
    "#### 5. Create a 5x2x3 3-dimensional array with all values equaling 1. Assign the array to variable *b*."
   ]
  },
  {
   "cell_type": "code",
   "execution_count": 58,
   "metadata": {},
   "outputs": [],
   "source": [
    "# your code here\n",
    "b=np.ones((5,2,3), dtype = int)"
   ]
  },
  {
   "cell_type": "markdown",
   "metadata": {},
   "source": [
    "#### 6. Print *b*.\n"
   ]
  },
  {
   "cell_type": "code",
   "execution_count": 59,
   "metadata": {},
   "outputs": [
    {
     "name": "stdout",
     "output_type": "stream",
     "text": [
      "[[[1 1 1]\n",
      "  [1 1 1]]\n",
      "\n",
      " [[1 1 1]\n",
      "  [1 1 1]]\n",
      "\n",
      " [[1 1 1]\n",
      "  [1 1 1]]\n",
      "\n",
      " [[1 1 1]\n",
      "  [1 1 1]]\n",
      "\n",
      " [[1 1 1]\n",
      "  [1 1 1]]]\n"
     ]
    }
   ],
   "source": [
    "# your code here\n",
    "print(b)"
   ]
  },
  {
   "cell_type": "markdown",
   "metadata": {},
   "source": [
    "#### 7. Do *a* and *b* have the same size? How do you prove that in Python code?"
   ]
  },
  {
   "cell_type": "code",
   "execution_count": 72,
   "metadata": {},
   "outputs": [
    {
     "name": "stdout",
     "output_type": "stream",
     "text": [
      "True\n",
      "True\n",
      "False\n"
     ]
    }
   ],
   "source": [
    "# your code here\n",
    "print(np.size(a)==np.size(b))\n",
    "  \n",
    "    \n",
    "print( np.ndim(a)==np.ndim(b))\n",
    "\n",
    "print (a.shape==b.shape)\n"
   ]
  },
  {
   "cell_type": "markdown",
   "metadata": {},
   "source": [
    "#### 8. Are you able to add *a* and *b*? Why or why not?\n"
   ]
  },
  {
   "cell_type": "code",
   "execution_count": 61,
   "metadata": {},
   "outputs": [],
   "source": [
    "# your answer here\n",
    "#vstack_arr = np.vstack ([a,b])\n",
    "#hstack_arr = np.hstack ([a,b])\n",
    "\n",
    "#a +b \n",
    "\n",
    "# no, because they dont have the same shape (see above)"
   ]
  },
  {
   "cell_type": "markdown",
   "metadata": {},
   "source": [
    "#### 9. Transpose *b* so that it has the same structure of *a* (i.e. become a 2x3x5 array). Assign the transposed array to variable *c*."
   ]
  },
  {
   "cell_type": "code",
   "execution_count": 64,
   "metadata": {},
   "outputs": [
    {
     "data": {
      "text/plain": [
       "(2, 3, 5)"
      ]
     },
     "execution_count": 64,
     "metadata": {},
     "output_type": "execute_result"
    }
   ],
   "source": [
    "# your code here\n",
    "c=b.transpose(1,2,0)\n",
    "c.shape"
   ]
  },
  {
   "cell_type": "markdown",
   "metadata": {},
   "source": [
    "#### 10. Try to add *a* and *c*. Now it should work. Assign the sum to variable *d*. But why does it work now?"
   ]
  },
  {
   "cell_type": "code",
   "execution_count": 66,
   "metadata": {},
   "outputs": [],
   "source": [
    "# your code/answer here\n",
    "d = a+c"
   ]
  },
  {
   "cell_type": "markdown",
   "metadata": {},
   "source": [
    "#### 11. Print *a* and *d*. Notice the difference and relation of the two array in terms of the values? Explain."
   ]
  },
  {
   "cell_type": "code",
   "execution_count": 67,
   "metadata": {},
   "outputs": [
    {
     "name": "stdout",
     "output_type": "stream",
     "text": [
      "[[[ 6  1  8  7  0]\n",
      "  [ 1  6 10  9  9]\n",
      "  [ 2 10  2  2  7]]\n",
      "\n",
      " [[ 4  6  4  4  9]\n",
      "  [ 4  9  2  1 10]\n",
      "  [ 2 10  6  8  5]]]\n",
      "[[[ 7  2  9  8  1]\n",
      "  [ 2  7 11 10 10]\n",
      "  [ 3 11  3  3  8]]\n",
      "\n",
      " [[ 5  7  5  5 10]\n",
      "  [ 5 10  3  2 11]\n",
      "  [ 3 11  7  9  6]]]\n"
     ]
    }
   ],
   "source": [
    "# your code/answer here\n",
    "print (a)\n",
    "print (d)"
   ]
  },
  {
   "cell_type": "markdown",
   "metadata": {},
   "source": [
    "#### 12. Multiply *a* and *c*. Assign the result to *e*."
   ]
  },
  {
   "cell_type": "code",
   "execution_count": 68,
   "metadata": {},
   "outputs": [],
   "source": [
    "# your code here\n",
    "e =a * c"
   ]
  },
  {
   "cell_type": "markdown",
   "metadata": {},
   "source": [
    "#### 13. Does *e* equal to *a*? Why or why not?\n"
   ]
  },
  {
   "cell_type": "code",
   "execution_count": 69,
   "metadata": {},
   "outputs": [
    {
     "name": "stdout",
     "output_type": "stream",
     "text": [
      "[[[ 6  1  8  7  0]\n",
      "  [ 1  6 10  9  9]\n",
      "  [ 2 10  2  2  7]]\n",
      "\n",
      " [[ 4  6  4  4  9]\n",
      "  [ 4  9  2  1 10]\n",
      "  [ 2 10  6  8  5]]]\n",
      "[[[ 6  1  8  7  0]\n",
      "  [ 1  6 10  9  9]\n",
      "  [ 2 10  2  2  7]]\n",
      "\n",
      " [[ 4  6  4  4  9]\n",
      "  [ 4  9  2  1 10]\n",
      "  [ 2 10  6  8  5]]]\n"
     ]
    }
   ],
   "source": [
    "# your code/answer here\n",
    "print (a)\n",
    "print (e)\n",
    "\n",
    "# yes because we did a = a * bT, and since b (and also b transposed ist only a 1 by 1 matrix, the matrix stays the same)"
   ]
  },
  {
   "cell_type": "markdown",
   "metadata": {},
   "source": [
    "#### 14. Identify the max, min, and mean values in *d*. Assign those values to variables *d_max*, *d_min* and *d_mean*."
   ]
  },
  {
   "cell_type": "code",
   "execution_count": 77,
   "metadata": {},
   "outputs": [
    {
     "name": "stdout",
     "output_type": "stream",
     "text": [
      "1\n"
     ]
    }
   ],
   "source": [
    "# your code here\n",
    "d_min=np.min(d) \n",
    "d_max=np.max(d) \n",
    "d_mean=np.mean(d) \n",
    "print(d_min)"
   ]
  },
  {
   "cell_type": "markdown",
   "metadata": {},
   "source": [
    "#### 15. Now we want to label the values in *d*. First create an empty array *f* with the same shape (i.e. 2x3x5) as *d* using `np.empty`.\n"
   ]
  },
  {
   "cell_type": "code",
   "execution_count": 107,
   "metadata": {},
   "outputs": [
    {
     "name": "stdout",
     "output_type": "stream",
     "text": [
      "[[[0 0 0 0 0]\n",
      "  [0 0 0 0 0]\n",
      "  [0 0 0 0 0]]\n",
      "\n",
      " [[0 0 0 0 0]\n",
      "  [0 0 0 0 0]\n",
      "  [0 0 0 0 0]]]\n"
     ]
    }
   ],
   "source": [
    "# your code here\n",
    "f = np.empty([2,3,5], dtype = int)*0\n",
    "print (f)"
   ]
  },
  {
   "cell_type": "markdown",
   "metadata": {},
   "source": [
    "#### 16. Populate the values in *f*. \n",
    "\n",
    "For each value in *d*, if it's larger than *d_min* but smaller than *d_mean*, assign 25 to the corresponding value in *f*. If a value in *d* is larger than *d_mean* but smaller than *d_max*, assign 75 to the corresponding value in *f*. If a value equals to *d_mean*, assign 50 to the corresponding value in *f*. Assign 0 to the corresponding value(s) in *f* for *d_min* in *d*. Assign 100 to the corresponding value(s) in *f* for *d_max* in *d*. In the end, f should have only the following values: 0, 25, 50, 75, and 100.\n",
    "\n",
    "**Note**: you don't have to use Numpy in this question."
   ]
  },
  {
   "cell_type": "code",
   "execution_count": 112,
   "metadata": {},
   "outputs": [
    {
     "name": "stdout",
     "output_type": "stream",
     "text": [
      "[[[ 75  25  75  75   0]\n",
      "  [ 25  75 100  75  75]\n",
      "  [ 25 100  25  25  75]]\n",
      "\n",
      " [[ 25  75  25  25  75]\n",
      "  [ 25  75  25  25 100]\n",
      "  [ 25 100  75  75  25]]]\n"
     ]
    }
   ],
   "source": [
    "# your code here\n",
    "print(f)\n",
    "for x in range(2):\n",
    "    for y in range(3):\n",
    "        for z in range(5):\n",
    "            if d[x,y,z]>d_min and d[x,y,z]<d_mean:\n",
    "                f[x,y,z] = 25\n",
    "            elif d[x,y,z]<d_max and d[x,y,z]>d_mean:\n",
    "                f[x,y,z] = 75\n",
    "            elif d[x,y,z]==d_mean:\n",
    "                f[x,y,z] = 50\n",
    "            elif d[x,y,z]==d_max:\n",
    "                f[x,y,z] = 100\n"
   ]
  },
  {
   "cell_type": "markdown",
   "metadata": {},
   "source": [
    "#### 17. Print *d* and *f*. Do you have your expected *f*?\n",
    "For instance, if your *d* is:\n",
    "```python\n",
    "[[[1.85836099, 1.67064465, 1.62576044, 1.40243961, 1.88454931],\n",
    "[1.75354326, 1.69403643, 1.36729252, 1.61415071, 1.12104981],\n",
    "[1.72201435, 1.1862918 , 1.87078449, 1.7726778 , 1.88180042]],\n",
    "[[1.44747908, 1.31673383, 1.02000951, 1.52218947, 1.97066381],\n",
    "[1.79129243, 1.74983003, 1.96028037, 1.85166831, 1.65450881],\n",
    "[1.18068344, 1.9587381 , 1.00656599, 1.93402165, 1.73514584]]]\n",
    "```\n",
    "Your *f* should be:\n",
    "```python\n",
    "[[[ 75.,  75.,  75.,  25.,  75.],\n",
    "[ 75.,  75.,  25.,  25.,  25.],\n",
    "[ 75.,  25.,  75.,  75.,  75.]],\n",
    "[[ 25.,  25.,  25.,  25., 100.],\n",
    "[ 75.,  75.,  75.,  75.,  75.],\n",
    "[ 25.,  75.,   0.,  75.,  75.]]]\n",
    "```"
   ]
  },
  {
   "cell_type": "code",
   "execution_count": 113,
   "metadata": {},
   "outputs": [
    {
     "name": "stdout",
     "output_type": "stream",
     "text": [
      "[[[ 75  25  75  75   0]\n",
      "  [ 25  75 100  75  75]\n",
      "  [ 25 100  25  25  75]]\n",
      "\n",
      " [[ 25  75  25  25  75]\n",
      "  [ 25  75  25  25 100]\n",
      "  [ 25 100  75  75  25]]]\n"
     ]
    }
   ],
   "source": [
    "# your code here\n",
    "print (f)"
   ]
  },
  {
   "cell_type": "markdown",
   "metadata": {},
   "source": [
    "#### 18. Bonus question: instead of using numbers (i.e. 0, 25, 50, 75, and 100), use string values  (\"A\", \"B\", \"C\", \"D\", and \"E\") to label the array elements. For the example above, the expected result is:\n",
    "\n",
    "```python\n",
    "[[[ 'D',  'D',  'D',  'B',  'D'],\n",
    "[ 'D',  'D',  'B',  'B',  'B'],\n",
    "[ 'D',  'B',  'D',  'D',  'D']],\n",
    "[[ 'B',  'B',  'B',  'B',  'E'],\n",
    "[ 'D',  'D',  'D',  'D',  'D'],\n",
    "[ 'B',  'D',   'A',  'D', 'D']]]\n",
    "```\n",
    "**Note**: you don't have to use Numpy in this question."
   ]
  },
  {
   "cell_type": "code",
   "execution_count": 121,
   "metadata": {},
   "outputs": [
    {
     "name": "stdout",
     "output_type": "stream",
     "text": [
      "[[['' '' '' '' '']\n",
      "  ['' '' '' '' '']\n",
      "  ['' '' '' '' '']]\n",
      "\n",
      " [['' '' '' '' '']\n",
      "  ['' '' '' '' '']\n",
      "  ['' '' '' '' '']]]\n"
     ]
    }
   ],
   "source": [
    "# your code here\n",
    "\n",
    "x = np.array([''  for x in range(2*3*5)])\n",
    "f = x.reshape(2,3,5)\n",
    "\n",
    "print (f)\n"
   ]
  },
  {
   "cell_type": "code",
   "execution_count": 123,
   "metadata": {},
   "outputs": [
    {
     "name": "stdout",
     "output_type": "stream",
     "text": [
      "[[['D' 'B' 'D' 'D' 'A']\n",
      "  ['B' 'D' 'E' 'D' 'D']\n",
      "  ['B' 'E' 'B' 'B' 'D']]\n",
      "\n",
      " [['B' 'D' 'B' 'B' 'D']\n",
      "  ['B' 'D' 'B' 'B' 'E']\n",
      "  ['B' 'E' 'D' 'D' 'B']]]\n",
      "[[['D' 'B' 'D' 'D' 'A']\n",
      "  ['B' 'D' 'E' 'D' 'D']\n",
      "  ['B' 'E' 'B' 'B' 'D']]\n",
      "\n",
      " [['B' 'D' 'B' 'B' 'D']\n",
      "  ['B' 'D' 'B' 'B' 'E']\n",
      "  ['B' 'E' 'D' 'D' 'B']]]\n"
     ]
    }
   ],
   "source": [
    "\n",
    "for x in range(2):\n",
    "    for y in range(3):\n",
    "        for z in range(5):\n",
    "            if d[x,y,z]>d_min and d[x,y,z]<d_mean:\n",
    "                f[x,y,z] = 'B'\n",
    "            elif d[x,y,z]<d_max and d[x,y,z]>d_mean:\n",
    "                f[x,y,z] = 'D'\n",
    "            elif d[x,y,z]==d_mean:\n",
    "                f[x,y,z] = 'C'\n",
    "            elif d[x,y,z]==d_max:\n",
    "                f[x,y,z] = 'E'\n",
    "            elif d[x,y,z]==d_min:\n",
    "                f[x,y,z] = 'A'\n",
    "print (f)"
   ]
  },
  {
   "cell_type": "code",
   "execution_count": null,
   "metadata": {},
   "outputs": [],
   "source": []
  }
 ],
 "metadata": {
  "kernelspec": {
   "display_name": "Python 3",
   "language": "python",
   "name": "python3"
  },
  "language_info": {
   "codemirror_mode": {
    "name": "ipython",
    "version": 3
   },
   "file_extension": ".py",
   "mimetype": "text/x-python",
   "name": "python",
   "nbconvert_exporter": "python",
   "pygments_lexer": "ipython3",
   "version": "3.7.4"
  }
 },
 "nbformat": 4,
 "nbformat_minor": 2
}
