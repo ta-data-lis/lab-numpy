{
 "cells": [
  {
   "cell_type": "markdown",
   "metadata": {},
   "source": [
    "# Intrduction to NumPy\n",
    "\n",
    "\n",
    "#### 1. Import NumPy under the name np."
   ]
  },
  {
   "cell_type": "code",
   "execution_count": 52,
   "metadata": {},
   "outputs": [],
   "source": [
    "# your code here\n",
    "import numpy as np"
   ]
  },
  {
   "cell_type": "markdown",
   "metadata": {},
   "source": [
    "#### 2. Print your NumPy version."
   ]
  },
  {
   "cell_type": "code",
   "execution_count": 53,
   "metadata": {},
   "outputs": [
    {
     "data": {
      "text/plain": [
       "'1.21.5'"
      ]
     },
     "execution_count": 53,
     "metadata": {},
     "output_type": "execute_result"
    }
   ],
   "source": [
    "# your code here\n",
    "np.version.version"
   ]
  },
  {
   "cell_type": "markdown",
   "metadata": {},
   "source": [
    "#### 3. Generate a 2x3x5 3-dimensional array with random values. Assign the array to variable *a*.\n",
    "**Challenge**: there are at least three easy ways that use numpy to generate random arrays. How many ways can you find?"
   ]
  },
  {
   "cell_type": "code",
   "execution_count": 54,
   "metadata": {},
   "outputs": [],
   "source": [
    "# Method 1\n",
    "a = np.random.random((2,3,5))"
   ]
  },
  {
   "cell_type": "code",
   "execution_count": 55,
   "metadata": {},
   "outputs": [],
   "source": [
    "# Method 2\n",
    "a = np.random.rand(2,3,5)"
   ]
  },
  {
   "cell_type": "code",
   "execution_count": 56,
   "metadata": {},
   "outputs": [],
   "source": [
    "# Method 3\n",
    "# I don't know! Other ways like np.ones() or np.arange() would also create arrays, whose content I could mathematically change into random numbers afterwards, but why do two steps instead of one?"
   ]
  },
  {
   "cell_type": "markdown",
   "metadata": {},
   "source": [
    "#### 4. Print *a*.\n"
   ]
  },
  {
   "cell_type": "code",
   "execution_count": 57,
   "metadata": {},
   "outputs": [
    {
     "name": "stdout",
     "output_type": "stream",
     "text": [
      "[[[0.66407689 0.94249516 0.04647149 0.86750956 0.26386561]\n",
      "  [0.09618169 0.34545946 0.88745855 0.61773872 0.24663683]\n",
      "  [0.07340457 0.74372877 0.87338146 0.14233951 0.18860584]]\n",
      "\n",
      " [[0.02119918 0.87088232 0.56582874 0.89502201 0.06453057]\n",
      "  [0.23817208 0.38428596 0.90832534 0.72790736 0.22907889]\n",
      "  [0.47310153 0.38067001 0.12087035 0.723798   0.1167673 ]]]\n"
     ]
    }
   ],
   "source": [
    "# your code here\n",
    "print(a)"
   ]
  },
  {
   "cell_type": "markdown",
   "metadata": {},
   "source": [
    "#### 5. Create a 5x2x3 3-dimensional array with all values equaling 1. Assign the array to variable *b*."
   ]
  },
  {
   "cell_type": "code",
   "execution_count": 58,
   "metadata": {},
   "outputs": [],
   "source": [
    "# your code here\n",
    "b = np.ones((5,2,3), dtype = int)"
   ]
  },
  {
   "cell_type": "markdown",
   "metadata": {},
   "source": [
    "#### 6. Print *b*.\n"
   ]
  },
  {
   "cell_type": "code",
   "execution_count": 59,
   "metadata": {},
   "outputs": [
    {
     "name": "stdout",
     "output_type": "stream",
     "text": [
      "[[[1 1 1]\n",
      "  [1 1 1]]\n",
      "\n",
      " [[1 1 1]\n",
      "  [1 1 1]]\n",
      "\n",
      " [[1 1 1]\n",
      "  [1 1 1]]\n",
      "\n",
      " [[1 1 1]\n",
      "  [1 1 1]]\n",
      "\n",
      " [[1 1 1]\n",
      "  [1 1 1]]]\n"
     ]
    }
   ],
   "source": [
    "# your code here\n",
    "print(b)"
   ]
  },
  {
   "cell_type": "markdown",
   "metadata": {},
   "source": [
    "#### 7. Do *a* and *b* have the same size? How do you prove that in Python code?"
   ]
  },
  {
   "cell_type": "code",
   "execution_count": 60,
   "metadata": {},
   "outputs": [
    {
     "data": {
      "text/plain": [
       "True"
      ]
     },
     "execution_count": 60,
     "metadata": {},
     "output_type": "execute_result"
    }
   ],
   "source": [
    "# your code here\n",
    "#YES:\n",
    "a.size == b.size"
   ]
  },
  {
   "cell_type": "markdown",
   "metadata": {},
   "source": [
    "#### 8. Are you able to add *a* and *b*? Why or why not?\n"
   ]
  },
  {
   "cell_type": "code",
   "execution_count": 61,
   "metadata": {},
   "outputs": [],
   "source": [
    "# your answer here\n",
    "#No, a+b gives an error as the arrays do have different shapes. One of them has to be reshaped to be able to do the Addition."
   ]
  },
  {
   "cell_type": "markdown",
   "metadata": {},
   "source": [
    "#### 9. Transpose *b* so that it has the same structure of *a* (i.e. become a 2x3x5 array). Assign the transposed array to variable *c*."
   ]
  },
  {
   "cell_type": "code",
   "execution_count": 62,
   "metadata": {},
   "outputs": [],
   "source": [
    "# your code here\n",
    "c = b.reshape(a.shape)"
   ]
  },
  {
   "cell_type": "markdown",
   "metadata": {},
   "source": [
    "#### 10. Try to add *a* and *c*. Now it should work. Assign the sum to variable *d*. But why does it work now?"
   ]
  },
  {
   "cell_type": "code",
   "execution_count": 63,
   "metadata": {},
   "outputs": [
    {
     "data": {
      "text/plain": [
       "array([[[1.66407689, 1.94249516, 1.04647149, 1.86750956, 1.26386561],\n",
       "        [1.09618169, 1.34545946, 1.88745855, 1.61773872, 1.24663683],\n",
       "        [1.07340457, 1.74372877, 1.87338146, 1.14233951, 1.18860584]],\n",
       "\n",
       "       [[1.02119918, 1.87088232, 1.56582874, 1.89502201, 1.06453057],\n",
       "        [1.23817208, 1.38428596, 1.90832534, 1.72790736, 1.22907889],\n",
       "        [1.47310153, 1.38067001, 1.12087035, 1.723798  , 1.1167673 ]]])"
      ]
     },
     "execution_count": 63,
     "metadata": {},
     "output_type": "execute_result"
    }
   ],
   "source": [
    "# your code/answer here\n",
    "d = a+c\n",
    "d\n",
    "#Because now both arrays have the same shape, there is always a matching position for each number in a and c, so it is clear which numbers are to be added."
   ]
  },
  {
   "cell_type": "markdown",
   "metadata": {},
   "source": [
    "#### 11. Print *a* and *d*. Notice the difference and relation of the two array in terms of the values? Explain."
   ]
  },
  {
   "cell_type": "code",
   "execution_count": 64,
   "metadata": {},
   "outputs": [
    {
     "name": "stdout",
     "output_type": "stream",
     "text": [
      "[[[0.66407689 0.94249516 0.04647149 0.86750956 0.26386561]\n",
      "  [0.09618169 0.34545946 0.88745855 0.61773872 0.24663683]\n",
      "  [0.07340457 0.74372877 0.87338146 0.14233951 0.18860584]]\n",
      "\n",
      " [[0.02119918 0.87088232 0.56582874 0.89502201 0.06453057]\n",
      "  [0.23817208 0.38428596 0.90832534 0.72790736 0.22907889]\n",
      "  [0.47310153 0.38067001 0.12087035 0.723798   0.1167673 ]]]\n",
      "[[[1.66407689 1.94249516 1.04647149 1.86750956 1.26386561]\n",
      "  [1.09618169 1.34545946 1.88745855 1.61773872 1.24663683]\n",
      "  [1.07340457 1.74372877 1.87338146 1.14233951 1.18860584]]\n",
      "\n",
      " [[1.02119918 1.87088232 1.56582874 1.89502201 1.06453057]\n",
      "  [1.23817208 1.38428596 1.90832534 1.72790736 1.22907889]\n",
      "  [1.47310153 1.38067001 1.12087035 1.723798   1.1167673 ]]]\n"
     ]
    }
   ],
   "source": [
    "# your code/answer here\n",
    "print(a)\n",
    "print(d)\n",
    "#Well the array c held only ones. \n",
    "#So the addition of a+c resulted in the random numbers of a but now between 1 and 2, instead of between 0 and 1.\n",
    "#E.g., the number in d[0,0,0] is 1 + a[0,0,0], and so on."
   ]
  },
  {
   "cell_type": "markdown",
   "metadata": {},
   "source": [
    "#### 12. Multiply *a* and *c*. Assign the result to *e*."
   ]
  },
  {
   "cell_type": "code",
   "execution_count": 65,
   "metadata": {},
   "outputs": [],
   "source": [
    "# your code here\n",
    "e = a*c"
   ]
  },
  {
   "cell_type": "markdown",
   "metadata": {},
   "source": [
    "#### 13. Does *e* equal to *a*? Why or why not?\n"
   ]
  },
  {
   "cell_type": "code",
   "execution_count": 66,
   "metadata": {},
   "outputs": [
    {
     "data": {
      "text/plain": [
       "array([[[ True,  True,  True,  True,  True],\n",
       "        [ True,  True,  True,  True,  True],\n",
       "        [ True,  True,  True,  True,  True]],\n",
       "\n",
       "       [[ True,  True,  True,  True,  True],\n",
       "        [ True,  True,  True,  True,  True],\n",
       "        [ True,  True,  True,  True,  True]]])"
      ]
     },
     "execution_count": 66,
     "metadata": {},
     "output_type": "execute_result"
    }
   ],
   "source": [
    "# your code/answer here\n",
    "a == e\n",
    "# Yes it does: Because c is only holding ones, the multiplication does not change anything but gives an unchanged array a."
   ]
  },
  {
   "cell_type": "markdown",
   "metadata": {},
   "source": [
    "#### 14. Identify the max, min, and mean values in *d*. Assign those values to variables *d_max*, *d_min* and *d_mean*."
   ]
  },
  {
   "cell_type": "code",
   "execution_count": 67,
   "metadata": {},
   "outputs": [
    {
     "name": "stdout",
     "output_type": "stream",
     "text": [
      "1.942495162607959 1.0211991791111972 1.457326457864582\n"
     ]
    }
   ],
   "source": [
    "# your code here\n",
    "d_max = d.max()\n",
    "d_min = d.min()\n",
    "d_mean = d.mean()\n",
    "print(d_max, d_min, d_mean)"
   ]
  },
  {
   "cell_type": "markdown",
   "metadata": {},
   "source": [
    "#### 15. Now we want to label the values in *d*. First create an empty array *f* with the same shape (i.e. 2x3x5) as *d* using `np.empty`.\n"
   ]
  },
  {
   "cell_type": "code",
   "execution_count": 69,
   "metadata": {},
   "outputs": [
    {
     "data": {
      "text/plain": [
       "array([[[0.67734447, 0.75473707, 0.16609059, 0.23830211, 0.38899046],\n",
       "        [0.30343346, 0.73817359, 0.34107315, 0.98368489, 0.24016596],\n",
       "        [0.47168358, 0.30652894, 0.90716382, 0.51189928, 0.74868751]],\n",
       "\n",
       "       [[0.68733529, 0.89680261, 0.26754308, 0.96525471, 0.99437861],\n",
       "        [0.09705258, 0.87397358, 0.9356049 , 0.23363103, 0.20994961],\n",
       "        [0.25608787, 0.03307156, 0.40749082, 0.52715848, 0.6815295 ]]])"
      ]
     },
     "execution_count": 69,
     "metadata": {},
     "output_type": "execute_result"
    }
   ],
   "source": [
    "# your code here\n",
    "f = np.empty(d.shape)\n",
    "f"
   ]
  },
  {
   "cell_type": "markdown",
   "metadata": {},
   "source": [
    "#### 16. Populate the values in *f*. \n",
    "\n",
    "For each value in *d*, if it's larger than *d_min* but smaller than *d_mean*, assign 25 to the corresponding value in *f*. If a value in *d* is larger than *d_mean* but smaller than *d_max*, assign 75 to the corresponding value in *f*. If a value equals to *d_mean*, assign 50 to the corresponding value in *f*. Assign 0 to the corresponding value(s) in *f* for *d_min* in *d*. Assign 100 to the corresponding value(s) in *f* for *d_max* in *d*. In the end, f should have only the following values: 0, 25, 50, 75, and 100.\n",
    "\n",
    "**Note**: you don't have to use Numpy in this question."
   ]
  },
  {
   "cell_type": "code",
   "execution_count": 81,
   "metadata": {},
   "outputs": [
    {
     "name": "stdout",
     "output_type": "stream",
     "text": [
      "[[[1.66407689 1.94249516 1.04647149 1.86750956 1.26386561]\n",
      "  [1.09618169 1.34545946 1.88745855 1.61773872 1.24663683]\n",
      "  [1.07340457 1.74372877 1.87338146 1.14233951 1.18860584]]\n",
      "\n",
      " [[1.02119918 1.87088232 1.56582874 1.89502201 1.06453057]\n",
      "  [1.23817208 1.38428596 1.90832534 1.72790736 1.22907889]\n",
      "  [1.47310153 1.38067001 1.12087035 1.723798   1.1167673 ]]]\n"
     ]
    },
    {
     "data": {
      "text/plain": [
       "array([[[ 75., 100.,  25.,  75.,  25.],\n",
       "        [ 25.,  25.,  75.,  75.,  25.],\n",
       "        [ 25.,  75.,  75.,  25.,  25.]],\n",
       "\n",
       "       [[  0.,  75.,  75.,  75.,  25.],\n",
       "        [ 25.,  25.,  75.,  75.,  25.],\n",
       "        [ 75.,  25.,  25.,  75.,  25.]]])"
      ]
     },
     "execution_count": 81,
     "metadata": {},
     "output_type": "execute_result"
    }
   ],
   "source": [
    "# your code here\n",
    "condition_0 = (d == d_min)\n",
    "condition_25 = (d > d_min) & (d < d_mean)\n",
    "condition_50 = (d == d_mean)\n",
    "condition_75 = (d > d_mean) & (d < d_max)\n",
    "condition_100 = (d == d_max)\n",
    "f[condition_0] = 0\n",
    "f[condition_25] = 25\n",
    "f[condition_50] = 50\n",
    "f[condition_75] = 75\n",
    "f[condition_100] = 100\n",
    "print(d)\n",
    "f"
   ]
  },
  {
   "cell_type": "markdown",
   "metadata": {},
   "source": [
    "#### 17. Print *d* and *f*. Do you have your expected *f*?\n",
    "For instance, if your *d* is:\n",
    "```python\n",
    "[[[1.85836099, 1.67064465, 1.62576044, 1.40243961, 1.88454931],\n",
    "[1.75354326, 1.69403643, 1.36729252, 1.61415071, 1.12104981],\n",
    "[1.72201435, 1.1862918 , 1.87078449, 1.7726778 , 1.88180042]],\n",
    "[[1.44747908, 1.31673383, 1.02000951, 1.52218947, 1.97066381],\n",
    "[1.79129243, 1.74983003, 1.96028037, 1.85166831, 1.65450881],\n",
    "[1.18068344, 1.9587381 , 1.00656599, 1.93402165, 1.73514584]]]\n",
    "```\n",
    "Your *f* should be:\n",
    "```python\n",
    "[[[ 75.,  75.,  75.,  25.,  75.],\n",
    "[ 75.,  75.,  25.,  25.,  25.],\n",
    "[ 75.,  25.,  75.,  75.,  75.]],\n",
    "[[ 25.,  25.,  25.,  25., 100.],\n",
    "[ 75.,  75.,  75.,  75.,  75.],\n",
    "[ 25.,  75.,   0.,  75.,  75.]]]\n",
    "```"
   ]
  },
  {
   "cell_type": "code",
   "execution_count": 82,
   "metadata": {},
   "outputs": [
    {
     "name": "stdout",
     "output_type": "stream",
     "text": [
      "[[[1.66407689 1.94249516 1.04647149 1.86750956 1.26386561]\n",
      "  [1.09618169 1.34545946 1.88745855 1.61773872 1.24663683]\n",
      "  [1.07340457 1.74372877 1.87338146 1.14233951 1.18860584]]\n",
      "\n",
      " [[1.02119918 1.87088232 1.56582874 1.89502201 1.06453057]\n",
      "  [1.23817208 1.38428596 1.90832534 1.72790736 1.22907889]\n",
      "  [1.47310153 1.38067001 1.12087035 1.723798   1.1167673 ]]]\n",
      "[[[ 75. 100.  25.  75.  25.]\n",
      "  [ 25.  25.  75.  75.  25.]\n",
      "  [ 25.  75.  75.  25.  25.]]\n",
      "\n",
      " [[  0.  75.  75.  75.  25.]\n",
      "  [ 25.  25.  75.  75.  25.]\n",
      "  [ 75.  25.  25.  75.  25.]]]\n"
     ]
    }
   ],
   "source": [
    "# your code here\n",
    "print(d)\n",
    "print(f)\n",
    "#Yes. :-)"
   ]
  },
  {
   "cell_type": "markdown",
   "metadata": {},
   "source": [
    "#### 18. Bonus question: instead of using numbers (i.e. 0, 25, 50, 75, and 100), use string values  (\"A\", \"B\", \"C\", \"D\", and \"E\") to label the array elements. For the example above, the expected result is:\n",
    "\n",
    "```python\n",
    "[[[ 'D',  'D',  'D',  'B',  'D'],\n",
    "[ 'D',  'D',  'B',  'B',  'B'],\n",
    "[ 'D',  'B',  'D',  'D',  'D']],\n",
    "[[ 'B',  'B',  'B',  'B',  'E'],\n",
    "[ 'D',  'D',  'D',  'D',  'D'],\n",
    "[ 'B',  'D',   'A',  'D', 'D']]]\n",
    "```\n",
    "**Note**: you don't have to use Numpy in this question."
   ]
  },
  {
   "cell_type": "code",
   "execution_count": 84,
   "metadata": {},
   "outputs": [
    {
     "name": "stdout",
     "output_type": "stream",
     "text": [
      "[[['D' 'E' 'B' 'D' 'B']\n",
      "  ['B' 'B' 'D' 'D' 'B']\n",
      "  ['B' 'D' 'D' 'B' 'B']]\n",
      "\n",
      " [['A' 'D' 'D' 'D' 'B']\n",
      "  ['B' 'B' 'D' 'D' 'B']\n",
      "  ['D' 'B' 'B' 'D' 'B']]]\n"
     ]
    }
   ],
   "source": [
    "# your code here\n",
    "f = f.astype(str)\n",
    "\n",
    "f[condition_0] = \"A\"\n",
    "f[condition_25] = \"B\"\n",
    "f[condition_50] = \"C\"\n",
    "f[condition_75] = \"D\"\n",
    "f[condition_100] = \"E\"\n",
    "print(f)"
   ]
  }
 ],
 "metadata": {
  "kernelspec": {
   "display_name": "Python 3 (ipykernel)",
   "language": "python",
   "name": "python3"
  },
  "language_info": {
   "codemirror_mode": {
    "name": "ipython",
    "version": 3
   },
   "file_extension": ".py",
   "mimetype": "text/x-python",
   "name": "python",
   "nbconvert_exporter": "python",
   "pygments_lexer": "ipython3",
   "version": "3.9.13"
  }
 },
 "nbformat": 4,
 "nbformat_minor": 2
}
