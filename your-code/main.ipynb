{
 "cells": [
  {
   "cell_type": "markdown",
   "metadata": {},
   "source": [
    "# Introduction to NumPy\n",
    "\n",
    "\n",
    "#### 1. Import NumPy under the name np."
   ]
  },
  {
   "cell_type": "code",
   "execution_count": 23,
   "metadata": {},
   "outputs": [],
   "source": [
    "# your code here\n",
    "import numpy as np\n"
   ]
  },
  {
   "cell_type": "markdown",
   "metadata": {},
   "source": [
    "#### 2. Print your NumPy version."
   ]
  },
  {
   "cell_type": "code",
   "execution_count": 24,
   "metadata": {},
   "outputs": [
    {
     "name": "stdout",
     "output_type": "stream",
     "text": [
      "1.14.3\n"
     ]
    }
   ],
   "source": [
    "# your code here\n",
    "print(np.__version__)"
   ]
  },
  {
   "cell_type": "markdown",
   "metadata": {},
   "source": [
    "#### 3. Generate a 2x3x5 3-dimensional array with random values. Assign the array to variable *a*.\n",
    "**Challenge**: there are at least three easy ways that use numpy to generate random arrays. How many ways can you find?"
   ]
  },
  {
   "cell_type": "code",
   "execution_count": 25,
   "metadata": {},
   "outputs": [
    {
     "name": "stdout",
     "output_type": "stream",
     "text": [
      "[[[0.2208446  0.46533011 0.80741447 0.18288401 0.30741823]\n",
      "  [0.27226968 0.0370179  0.3546728  0.22891914 0.52815848]\n",
      "  [0.11661863 0.57990266 0.80660717 0.26351389 0.97326259]]\n",
      "\n",
      " [[0.89557936 0.27652744 0.41597685 0.20465389 0.2273746 ]\n",
      "  [0.40359934 0.299753   0.52613905 0.04176143 0.78878013]\n",
      "  [0.99919186 0.0788843  0.28748104 0.08022647 0.36425266]]]\n"
     ]
    }
   ],
   "source": [
    "# Method 1\n",
    "a = np.random.random((2,3,5))\n",
    "print(a)\n"
   ]
  },
  {
   "cell_type": "code",
   "execution_count": 26,
   "metadata": {},
   "outputs": [
    {
     "name": "stdout",
     "output_type": "stream",
     "text": [
      "[[[0. 0. 0. 0. 0.]\n",
      "  [0. 0. 0. 0. 0.]\n",
      "  [0. 0. 0. 0. 0.]]\n",
      "\n",
      " [[0. 0. 0. 0. 0.]\n",
      "  [0. 0. 0. 0. 0.]\n",
      "  [0. 0. 0. 0. 0.]]]\n"
     ]
    }
   ],
   "source": [
    "# Method 2\n",
    "b=np.zeros((2,3,5))\n",
    "print(b)"
   ]
  },
  {
   "cell_type": "code",
   "execution_count": 27,
   "metadata": {},
   "outputs": [
    {
     "name": "stdout",
     "output_type": "stream",
     "text": [
      "[[[2 2 2 2 2]\n",
      "  [2 2 2 2 2]\n",
      "  [2 2 2 2 2]]\n",
      "\n",
      " [[2 2 2 2 2]\n",
      "  [2 2 2 2 2]\n",
      "  [2 2 2 2 2]]]\n"
     ]
    }
   ],
   "source": [
    "# Method 3\n",
    "c= np.full((2,3,5), 2)\n",
    "print(c)"
   ]
  },
  {
   "cell_type": "markdown",
   "metadata": {},
   "source": [
    "#### 4. Print *a*.\n"
   ]
  },
  {
   "cell_type": "code",
   "execution_count": 28,
   "metadata": {},
   "outputs": [
    {
     "name": "stdout",
     "output_type": "stream",
     "text": [
      "[[[0.2208446  0.46533011 0.80741447 0.18288401 0.30741823]\n",
      "  [0.27226968 0.0370179  0.3546728  0.22891914 0.52815848]\n",
      "  [0.11661863 0.57990266 0.80660717 0.26351389 0.97326259]]\n",
      "\n",
      " [[0.89557936 0.27652744 0.41597685 0.20465389 0.2273746 ]\n",
      "  [0.40359934 0.299753   0.52613905 0.04176143 0.78878013]\n",
      "  [0.99919186 0.0788843  0.28748104 0.08022647 0.36425266]]]\n"
     ]
    }
   ],
   "source": [
    "# your code here\n",
    "print(a)"
   ]
  },
  {
   "cell_type": "markdown",
   "metadata": {},
   "source": [
    "#### 5. Create a 5x2x3 3-dimensional array with all values equaling 1. Assign the array to variable *b*."
   ]
  },
  {
   "cell_type": "code",
   "execution_count": 29,
   "metadata": {},
   "outputs": [],
   "source": [
    "# your code here\n",
    "b = np.ones((5,2,3))\n"
   ]
  },
  {
   "cell_type": "markdown",
   "metadata": {},
   "source": [
    "#### 6. Print *b*.\n"
   ]
  },
  {
   "cell_type": "code",
   "execution_count": 30,
   "metadata": {},
   "outputs": [
    {
     "name": "stdout",
     "output_type": "stream",
     "text": [
      "[[[1. 1. 1.]\n",
      "  [1. 1. 1.]]\n",
      "\n",
      " [[1. 1. 1.]\n",
      "  [1. 1. 1.]]\n",
      "\n",
      " [[1. 1. 1.]\n",
      "  [1. 1. 1.]]\n",
      "\n",
      " [[1. 1. 1.]\n",
      "  [1. 1. 1.]]\n",
      "\n",
      " [[1. 1. 1.]\n",
      "  [1. 1. 1.]]]\n"
     ]
    }
   ],
   "source": [
    "# your code here\n",
    "print(b)\n",
    "\n"
   ]
  },
  {
   "cell_type": "markdown",
   "metadata": {},
   "source": [
    "#### 7. Do *a* and *b* have the same size? How do you prove that in Python code?"
   ]
  },
  {
   "cell_type": "code",
   "execution_count": 31,
   "metadata": {},
   "outputs": [
    {
     "name": "stdout",
     "output_type": "stream",
     "text": [
      "False\n",
      "True\n"
     ]
    }
   ],
   "source": [
    "# your code here\n",
    "print(a.shape == b.shape)\n",
    "print(a.size == b. size)"
   ]
  },
  {
   "cell_type": "markdown",
   "metadata": {},
   "source": [
    "#### 8. Are you able to add *a* and *b*? Why or why not?\n"
   ]
  },
  {
   "cell_type": "code",
   "execution_count": 32,
   "metadata": {},
   "outputs": [
    {
     "ename": "ValueError",
     "evalue": "operands could not be broadcast together with shapes (2,3,5) (5,2,3) ",
     "output_type": "error",
     "traceback": [
      "\u001b[1;31m---------------------------------------------------------------------------\u001b[0m",
      "\u001b[1;31mValueError\u001b[0m                                Traceback (most recent call last)",
      "\u001b[1;32m<ipython-input-32-46e9a41db7e9>\u001b[0m in \u001b[0;36m<module>\u001b[1;34m()\u001b[0m\n\u001b[0;32m      1\u001b[0m \u001b[1;31m# your answer here\u001b[0m\u001b[1;33m\u001b[0m\u001b[1;33m\u001b[0m\u001b[0m\n\u001b[1;32m----> 2\u001b[1;33m \u001b[0mprint\u001b[0m\u001b[1;33m(\u001b[0m\u001b[0mnp\u001b[0m\u001b[1;33m.\u001b[0m\u001b[0madd\u001b[0m\u001b[1;33m(\u001b[0m\u001b[0ma\u001b[0m\u001b[1;33m,\u001b[0m\u001b[0mb\u001b[0m\u001b[1;33m)\u001b[0m\u001b[1;33m)\u001b[0m\u001b[1;33m\u001b[0m\u001b[0m\n\u001b[0m\u001b[0;32m      3\u001b[0m \u001b[1;31m#Error: operands could not be broadcast together with shapes (2,3,5) (5,2,3)\u001b[0m\u001b[1;33m\u001b[0m\u001b[1;33m\u001b[0m\u001b[0m\n\u001b[0;32m      4\u001b[0m \u001b[1;31m#They don't have same shape dimension (but they have the same size)\u001b[0m\u001b[1;33m\u001b[0m\u001b[1;33m\u001b[0m\u001b[0m\n",
      "\u001b[1;31mValueError\u001b[0m: operands could not be broadcast together with shapes (2,3,5) (5,2,3) "
     ]
    }
   ],
   "source": [
    "# your answer here\n",
    "print(np.add(a,b))\n",
    "#Error: operands could not be broadcast together with shapes (2,3,5) (5,2,3) \n",
    "#They don't have same shape dimension (but they have the same size)"
   ]
  },
  {
   "cell_type": "markdown",
   "metadata": {},
   "source": [
    "#### 9. Transpose *b* so that it has the same structure of *a* (i.e. become a 2x3x5 array). Assign the transposed array to variable *c*."
   ]
  },
  {
   "cell_type": "code",
   "execution_count": 33,
   "metadata": {
    "scrolled": true
   },
   "outputs": [
    {
     "name": "stdout",
     "output_type": "stream",
     "text": [
      "a (2, 3, 5)\n",
      "b (5, 2, 3)\n",
      "c (2, 3, 5)\n",
      "[[[1. 1. 1. 1. 1.]\n",
      "  [1. 1. 1. 1. 1.]\n",
      "  [1. 1. 1. 1. 1.]]\n",
      "\n",
      " [[1. 1. 1. 1. 1.]\n",
      "  [1. 1. 1. 1. 1.]\n",
      "  [1. 1. 1. 1. 1.]]]\n"
     ]
    }
   ],
   "source": [
    "# your code here\n",
    "\n",
    "c= np.transpose(b, (1,2,0))\n",
    "\n",
    "\n",
    "print(\"a\",a.shape)\n",
    "print(\"b\",b.shape) # 2,3,5 to be equal a\n",
    "print(\"c\",c.shape)\n",
    "\n",
    "print(c)"
   ]
  },
  {
   "cell_type": "markdown",
   "metadata": {},
   "source": [
    "#### 10. Try to add *a* and *c*. Now it should work. Assign the sum to variable *d*. But why does it work now?"
   ]
  },
  {
   "cell_type": "code",
   "execution_count": 34,
   "metadata": {},
   "outputs": [
    {
     "name": "stdout",
     "output_type": "stream",
     "text": [
      "[[[1.2208446  1.46533011 1.80741447 1.18288401 1.30741823]\n",
      "  [1.27226968 1.0370179  1.3546728  1.22891914 1.52815848]\n",
      "  [1.11661863 1.57990266 1.80660717 1.26351389 1.97326259]]\n",
      "\n",
      " [[1.89557936 1.27652744 1.41597685 1.20465389 1.2273746 ]\n",
      "  [1.40359934 1.299753   1.52613905 1.04176143 1.78878013]\n",
      "  [1.99919186 1.0788843  1.28748104 1.08022647 1.36425266]]]\n"
     ]
    }
   ],
   "source": [
    "# your code/answer here\n",
    "d = a+c\n",
    "print(d)\n",
    "#have same shape, have the same size."
   ]
  },
  {
   "cell_type": "markdown",
   "metadata": {},
   "source": [
    "#### 11. Print *a* and *d*. Notice the difference and relation of the two array in terms of the values? Explain."
   ]
  },
  {
   "cell_type": "code",
   "execution_count": 35,
   "metadata": {},
   "outputs": [
    {
     "name": "stdout",
     "output_type": "stream",
     "text": [
      "a\n",
      "[[[0.2208446  0.46533011 0.80741447 0.18288401 0.30741823]\n",
      "  [0.27226968 0.0370179  0.3546728  0.22891914 0.52815848]\n",
      "  [0.11661863 0.57990266 0.80660717 0.26351389 0.97326259]]\n",
      "\n",
      " [[0.89557936 0.27652744 0.41597685 0.20465389 0.2273746 ]\n",
      "  [0.40359934 0.299753   0.52613905 0.04176143 0.78878013]\n",
      "  [0.99919186 0.0788843  0.28748104 0.08022647 0.36425266]]]\n",
      "d\n",
      "[[[1.2208446  1.46533011 1.80741447 1.18288401 1.30741823]\n",
      "  [1.27226968 1.0370179  1.3546728  1.22891914 1.52815848]\n",
      "  [1.11661863 1.57990266 1.80660717 1.26351389 1.97326259]]\n",
      "\n",
      " [[1.89557936 1.27652744 1.41597685 1.20465389 1.2273746 ]\n",
      "  [1.40359934 1.299753   1.52613905 1.04176143 1.78878013]\n",
      "  [1.99919186 1.0788843  1.28748104 1.08022647 1.36425266]]]\n"
     ]
    }
   ],
   "source": [
    "# your code/answer here\n",
    "print(\"a\")\n",
    "print(a)\n",
    "print(\"d\")\n",
    "print(d)\n",
    "\n",
    "#a brings random values bettwen 0 -1 and "
   ]
  },
  {
   "cell_type": "markdown",
   "metadata": {},
   "source": [
    "#### 12. Multiply *a* and *c*. Assign the result to *e*."
   ]
  },
  {
   "cell_type": "code",
   "execution_count": 36,
   "metadata": {},
   "outputs": [
    {
     "name": "stdout",
     "output_type": "stream",
     "text": [
      "[[[0.26961693 0.68186222 1.4593326  0.21633057 0.4019242 ]\n",
      "  [0.34640045 0.03838822 0.4804656  0.28132311 0.80710986]\n",
      "  [0.13021853 0.91618975 1.4572223  0.33295346 1.92050267]]\n",
      "\n",
      " [[1.69764176 0.35299487 0.58901358 0.2465371  0.2790738 ]\n",
      "  [0.56649178 0.38960486 0.80296136 0.04350545 1.41095421]\n",
      "  [1.99757624 0.08510704 0.37012639 0.08666275 0.49693265]]]\n"
     ]
    }
   ],
   "source": [
    "# your code heree \n",
    "e = a*d\n",
    "print(e)"
   ]
  },
  {
   "cell_type": "markdown",
   "metadata": {},
   "source": [
    "#### 13. Does *e* equal to *a*? Why or why not?\n"
   ]
  },
  {
   "cell_type": "code",
   "execution_count": 38,
   "metadata": {},
   "outputs": [
    {
     "data": {
      "text/plain": [
       "False"
      ]
     },
     "execution_count": 38,
     "metadata": {},
     "output_type": "execute_result"
    }
   ],
   "source": [
    "# your code/answer here\n",
    "np.array_equal(a,e) #test if same shape, same elements values\n",
    "\n",
    "#A and E have the same size, but as the values are diferentes, they are not the same."
   ]
  },
  {
   "cell_type": "markdown",
   "metadata": {},
   "source": [
    "#### 14. Identify the max, min, and mean values in *d*. Assign those values to variables *d_max*, *d_min* and *d_mean*."
   ]
  },
  {
   "cell_type": "code",
   "execution_count": 39,
   "metadata": {},
   "outputs": [
    {
     "name": "stdout",
     "output_type": "stream",
     "text": [
      "1.9991918613074178\n",
      "1.0370178955967826\n",
      "1.4011671922871476\n"
     ]
    }
   ],
   "source": [
    "# your code here\n",
    "d_max = np.max(d)\n",
    "d_min =np.min(d)\n",
    "d_mean = np.mean(d)\n",
    "\n",
    "print(d_max)\n",
    "print(d_min)\n",
    "print(d_mean)\n",
    "\n"
   ]
  },
  {
   "cell_type": "markdown",
   "metadata": {},
   "source": [
    "#### 15. Now we want to label the values in *d*. First create an empty array *f* with the same shape (i.e. 2x3x5) as *d* using `np.empty`.\n"
   ]
  },
  {
   "cell_type": "code",
   "execution_count": 45,
   "metadata": {},
   "outputs": [],
   "source": [
    "# your code here\n",
    "\n",
    "#the one below did not work\n",
    "\n",
    "f = np.empty([2,3,5])\n",
    "\n",
    "\n"
   ]
  },
  {
   "cell_type": "markdown",
   "metadata": {},
   "source": [
    "#### 16. Populate the values in *f*. \n",
    "\n",
    "For each value in *d*, if it's larger than *d_min* but smaller than *d_mean*, assign 25 to the corresponding value in *f*. If a value in *d* is larger than *d_mean* but smaller than *d_max*, assign 75 to the corresponding value in *f*. If a value equals to *d_mean*, assign 50 to the corresponding value in *f*. Assign 0 to the corresponding value(s) in *f* for *d_min* in *d*. Assign 100 to the corresponding value(s) in *f* for *d_max* in *d*. In the end, f should have only the following values: 0, 25, 50, 75, and 100.\n",
    "\n",
    "**Note**: you don't have to use Numpy in this question."
   ]
  },
  {
   "cell_type": "code",
   "execution_count": 52,
   "metadata": {},
   "outputs": [
    {
     "name": "stdout",
     "output_type": "stream",
     "text": [
      "[[[ 25.  75.  75.  25.  25.]\n",
      "  [ 25.   0.  25.  25.  75.]\n",
      "  [ 25.  75.  75.  25.  75.]]\n",
      "\n",
      " [[ 75.  25.  75.  25.  25.]\n",
      "  [ 75.  25.  75.  25.  75.]\n",
      "  [100.  25.  25.  25.  25.]]]\n"
     ]
    }
   ],
   "source": [
    "# your code here\n",
    "\n",
    "#i in d if d_min < i < d_mean, i =25\n",
    "#i in d if d_mean < i < d_max, i =75\n",
    "#i in d if i == d_mean, i = 50\n",
    "#d_min = 0\n",
    "#d_max = 100\n",
    "        \n",
    "for x in range(d.shape[0]): #dimension. without the zero, shape would be 2,3,5. \n",
    "    #Asking for the index 0, it gives me 2. The other \"for loops\" get me the final value.\n",
    "    for y in range(d.shape[1]): #row\n",
    "        for z in range(d.shape[2]): #column\n",
    "            if d[x,y,z] > d_min and d[x,y,z] < d_mean:\n",
    "                f[x,y,z] = 25\n",
    "            elif d[x,y,z] > d_mean and d[x,y,z] < d_max:\n",
    "                f[x,y,z] = 75\n",
    "            elif d[x,y,z] == d_mean:\n",
    "                f[x,y,z] = 50\n",
    "            elif d[x,y,z] == d_max:\n",
    "                f[x,y,z] = 100\n",
    "            else:\n",
    "                f[x,y,z] = 0\n",
    "print(f)\n"
   ]
  },
  {
   "cell_type": "markdown",
   "metadata": {},
   "source": [
    "#### 17. Print *d* and *f*. Do you have your expected *f*?\n",
    "For instance, if your *d* is:\n",
    "```python\n",
    "[[[1.85836099, 1.67064465, 1.62576044, 1.40243961, 1.88454931],\n",
    "[1.75354326, 1.69403643, 1.36729252, 1.61415071, 1.12104981],\n",
    "[1.72201435, 1.1862918 , 1.87078449, 1.7726778 , 1.88180042]],\n",
    "[[1.44747908, 1.31673383, 1.02000951, 1.52218947, 1.97066381],\n",
    "[1.79129243, 1.74983003, 1.96028037, 1.85166831, 1.65450881],\n",
    "[1.18068344, 1.9587381 , 1.00656599, 1.93402165, 1.73514584]]]\n",
    "```\n",
    "Your *f* should be:\n",
    "```python\n",
    "[[[ 75.,  75.,  75.,  25.,  75.],\n",
    "[ 75.,  75.,  25.,  25.,  25.],\n",
    "[ 75.,  25.,  75.,  75.,  75.]],\n",
    "[[ 25.,  25.,  25.,  25., 100.],\n",
    "[ 75.,  75.,  75.,  75.,  75.],\n",
    "[ 25.,  75.,   0.,  75.,  75.]]]\n",
    "```"
   ]
  },
  {
   "cell_type": "code",
   "execution_count": 57,
   "metadata": {},
   "outputs": [
    {
     "name": "stdout",
     "output_type": "stream",
     "text": [
      "[[[75. 75. 75. 75. 75.]\n",
      "  [75. 75. 25. 75. 25.]\n",
      "  [75. 25. 75. 75. 75.]]\n",
      "\n",
      " [[75. 25.  0. 75. 75.]\n",
      "  [75. 75. 75. 75. 75.]\n",
      "  [25. 75.  0. 75. 75.]]]\n"
     ]
    }
   ],
   "source": [
    "# your code here\n",
    "\n",
    "d= np.array([[[1.85836099, 1.67064465, 1.62576044, 1.40243961, 1.88454931],\n",
    "[1.75354326, 1.69403643, 1.36729252, 1.61415071, 1.12104981],\n",
    "[1.72201435, 1.1862918 , 1.87078449, 1.7726778 , 1.88180042]],\n",
    "[[1.44747908, 1.31673383, 1.02000951, 1.52218947, 1.97066381],\n",
    "[1.79129243, 1.74983003, 1.96028037, 1.85166831, 1.65450881],\n",
    "[1.18068344, 1.9587381 , 1.00656599, 1.93402165, 1.73514584]]])\n",
    "\n",
    "for x in range(d.shape[0]): \n",
    "    for y in range(d.shape[1]): #row\n",
    "        for z in range(d.shape[2]): #column\n",
    "            if d[x,y,z] > d_min and d[x,y,z] < d_mean:\n",
    "                f[x,y,z] = 25\n",
    "            elif d[x,y,z] > d_mean and d[x,y,z] < d_max:\n",
    "                f[x,y,z] = 75\n",
    "            elif d[x,y,z] == d_mean:\n",
    "                f[x,y,z] = 50\n",
    "            elif d[x,y,z] == d_max:\n",
    "                f[x,y,z] = 100\n",
    "            else:\n",
    "                f[x,y,z] = 0\n",
    "print(f)\n",
    "\n",
    "# please, i need help to understand what i am doing wrong to print values differents "
   ]
  },
  {
   "cell_type": "markdown",
   "metadata": {},
   "source": [
    "#### 18. Bonus question: instead of using numbers (i.e. 0, 25, 50, 75, and 100), use string values  (\"A\", \"B\", \"C\", \"D\", and \"E\") to label the array elements. For the example above, the expected result is:\n",
    "\n",
    "```python\n",
    "[[[ 'D',  'D',  'D',  'B',  'D'],\n",
    "[ 'D',  'D',  'B',  'B',  'B'],\n",
    "[ 'D',  'B',  'D',  'D',  'D']],\n",
    "[[ 'B',  'B',  'B',  'B',  'E'],\n",
    "[ 'D',  'D',  'D',  'D',  'D'],\n",
    "[ 'B',  'D',   'A',  'D', 'D']]]\n",
    "```\n",
    "**Note**: you don't have to use Numpy in this question."
   ]
  },
  {
   "cell_type": "code",
   "execution_count": null,
   "metadata": {},
   "outputs": [],
   "source": []
  },
  {
   "cell_type": "code",
   "execution_count": null,
   "metadata": {},
   "outputs": [],
   "source": []
  }
 ],
 "metadata": {
  "kernelspec": {
   "display_name": "Python 3",
   "language": "python",
   "name": "python3"
  },
  "language_info": {
   "codemirror_mode": {
    "name": "ipython",
    "version": 3
   },
   "file_extension": ".py",
   "mimetype": "text/x-python",
   "name": "python",
   "nbconvert_exporter": "python",
   "pygments_lexer": "ipython3",
   "version": "3.6.5"
  }
 },
 "nbformat": 4,
 "nbformat_minor": 2
}
