{
 "cells": [
  {
   "cell_type": "markdown",
   "metadata": {},
   "source": [
    "# Intrduction to NumPy\n",
    "\n",
    "\n",
    "#### 1. Import NumPy under the name np."
   ]
  },
  {
   "cell_type": "code",
   "execution_count": 1,
   "metadata": {},
   "outputs": [],
   "source": [
    "# your code here\n",
    "import numpy as np"
   ]
  },
  {
   "cell_type": "markdown",
   "metadata": {},
   "source": [
    "#### 2. Print your NumPy version."
   ]
  },
  {
   "cell_type": "code",
   "execution_count": 2,
   "metadata": {},
   "outputs": [
    {
     "name": "stdout",
     "output_type": "stream",
     "text": [
      "1.18.1\n"
     ]
    }
   ],
   "source": [
    "# your code here\n",
    "print(np.__version__)"
   ]
  },
  {
   "cell_type": "markdown",
   "metadata": {},
   "source": [
    "#### 3. Generate a 2x3x5 3-dimensional array with random values. Assign the array to variable *a*.\n",
    "**Challenge**: there are at least three easy ways that use numpy to generate random arrays. How many ways can you find?"
   ]
  },
  {
   "cell_type": "code",
   "execution_count": 4,
   "metadata": {},
   "outputs": [],
   "source": [
    "# Method 1\n",
    "a = np.random.random((2,3,5))"
   ]
  },
  {
   "cell_type": "code",
   "execution_count": null,
   "metadata": {},
   "outputs": [],
   "source": [
    "# Method 2"
   ]
  },
  {
   "cell_type": "code",
   "execution_count": null,
   "metadata": {},
   "outputs": [],
   "source": [
    "# Method 3"
   ]
  },
  {
   "cell_type": "markdown",
   "metadata": {},
   "source": [
    "#### 4. Print *a*.\n"
   ]
  },
  {
   "cell_type": "code",
   "execution_count": 5,
   "metadata": {},
   "outputs": [
    {
     "name": "stdout",
     "output_type": "stream",
     "text": [
      "[[[0.51352425 0.66664039 0.37370412 0.42097207 0.52269613]\n",
      "  [0.1496285  0.44617649 0.44310162 0.0470057  0.82518896]\n",
      "  [0.53810163 0.4664587  0.17378264 0.2955953  0.21085878]]\n",
      "\n",
      " [[0.84795203 0.20388237 0.48053876 0.32506959 0.60681729]\n",
      "  [0.35855394 0.84385994 0.86147215 0.8935099  0.04352429]\n",
      "  [0.54216495 0.45427035 0.90408783 0.93033859 0.65054138]]]\n"
     ]
    }
   ],
   "source": [
    "# your code here\n",
    "print(a)"
   ]
  },
  {
   "cell_type": "markdown",
   "metadata": {},
   "source": [
    "#### 5. Create a 5x2x3 3-dimensional array with all values equaling 1. Assign the array to variable *b*."
   ]
  },
  {
   "cell_type": "code",
   "execution_count": 9,
   "metadata": {},
   "outputs": [],
   "source": [
    "# your code here\n",
    "b = np.ones((5,2,3))"
   ]
  },
  {
   "cell_type": "markdown",
   "metadata": {},
   "source": [
    "#### 6. Print *b*.\n"
   ]
  },
  {
   "cell_type": "code",
   "execution_count": 10,
   "metadata": {},
   "outputs": [
    {
     "name": "stdout",
     "output_type": "stream",
     "text": [
      "[[[1. 1. 1.]\n",
      "  [1. 1. 1.]]\n",
      "\n",
      " [[1. 1. 1.]\n",
      "  [1. 1. 1.]]\n",
      "\n",
      " [[1. 1. 1.]\n",
      "  [1. 1. 1.]]\n",
      "\n",
      " [[1. 1. 1.]\n",
      "  [1. 1. 1.]]\n",
      "\n",
      " [[1. 1. 1.]\n",
      "  [1. 1. 1.]]]\n"
     ]
    }
   ],
   "source": [
    "# your code here\n",
    "print(b)"
   ]
  },
  {
   "cell_type": "markdown",
   "metadata": {},
   "source": [
    "#### 7. Do *a* and *b* have the same size? How do you prove that in Python code?"
   ]
  },
  {
   "cell_type": "code",
   "execution_count": 13,
   "metadata": {},
   "outputs": [
    {
     "name": "stdout",
     "output_type": "stream",
     "text": [
      "True\n"
     ]
    }
   ],
   "source": [
    "# your code here\n",
    "print(a.size == b.size)"
   ]
  },
  {
   "cell_type": "markdown",
   "metadata": {},
   "source": [
    "#### 8. Are you able to add *a* and *b*? Why or why not?\n"
   ]
  },
  {
   "cell_type": "code",
   "execution_count": 15,
   "metadata": {},
   "outputs": [],
   "source": [
    "# your answer here\n",
    "\n",
    "#It's not possible since they do not have the same structure"
   ]
  },
  {
   "cell_type": "markdown",
   "metadata": {},
   "source": [
    "#### 9. Transpose *b* so that it has the same structure of *a* (i.e. become a 2x3x5 array). Assign the transposed array to variable *c*."
   ]
  },
  {
   "cell_type": "code",
   "execution_count": 20,
   "metadata": {},
   "outputs": [],
   "source": [
    "# your code here\n",
    "c = np.transpose(b, (1,2,0))"
   ]
  },
  {
   "cell_type": "markdown",
   "metadata": {},
   "source": [
    "#### 10. Try to add *a* and *c*. Now it should work. Assign the sum to variable *d*. But why does it work now?"
   ]
  },
  {
   "cell_type": "code",
   "execution_count": 21,
   "metadata": {},
   "outputs": [],
   "source": [
    "# your code/answer here\n",
    "d = np.add(a,c)\n",
    "\n",
    "#It works because both arrays now have the same structure"
   ]
  },
  {
   "cell_type": "markdown",
   "metadata": {},
   "source": [
    "#### 11. Print *a* and *d*. Notice the difference and relation of the two array in terms of the values? Explain."
   ]
  },
  {
   "cell_type": "code",
   "execution_count": 23,
   "metadata": {},
   "outputs": [
    {
     "name": "stdout",
     "output_type": "stream",
     "text": [
      "[[[0.51352425 0.66664039 0.37370412 0.42097207 0.52269613]\n",
      "  [0.1496285  0.44617649 0.44310162 0.0470057  0.82518896]\n",
      "  [0.53810163 0.4664587  0.17378264 0.2955953  0.21085878]]\n",
      "\n",
      " [[0.84795203 0.20388237 0.48053876 0.32506959 0.60681729]\n",
      "  [0.35855394 0.84385994 0.86147215 0.8935099  0.04352429]\n",
      "  [0.54216495 0.45427035 0.90408783 0.93033859 0.65054138]]]\n",
      "[[[1.51352425 1.66664039 1.37370412 1.42097207 1.52269613]\n",
      "  [1.1496285  1.44617649 1.44310162 1.0470057  1.82518896]\n",
      "  [1.53810163 1.4664587  1.17378264 1.2955953  1.21085878]]\n",
      "\n",
      " [[1.84795203 1.20388237 1.48053876 1.32506959 1.60681729]\n",
      "  [1.35855394 1.84385994 1.86147215 1.8935099  1.04352429]\n",
      "  [1.54216495 1.45427035 1.90408783 1.93033859 1.65054138]]]\n"
     ]
    }
   ],
   "source": [
    "# your code/answer here\n",
    "print(a)\n",
    "print(d)\n",
    "\n",
    "#Basically, array d is array a + 1"
   ]
  },
  {
   "cell_type": "markdown",
   "metadata": {},
   "source": [
    "#### 12. Multiply *a* and *c*. Assign the result to *e*."
   ]
  },
  {
   "cell_type": "code",
   "execution_count": 27,
   "metadata": {},
   "outputs": [],
   "source": [
    "# your code here\n",
    "e = np.multiply(a,c)\n"
   ]
  },
  {
   "cell_type": "markdown",
   "metadata": {},
   "source": [
    "#### 13. Does *e* equal to *a*? Why or why not?\n"
   ]
  },
  {
   "cell_type": "code",
   "execution_count": 26,
   "metadata": {},
   "outputs": [
    {
     "name": "stdout",
     "output_type": "stream",
     "text": [
      "[[[0.51352425 0.66664039 0.37370412 0.42097207 0.52269613]\n",
      "  [0.1496285  0.44617649 0.44310162 0.0470057  0.82518896]\n",
      "  [0.53810163 0.4664587  0.17378264 0.2955953  0.21085878]]\n",
      "\n",
      " [[0.84795203 0.20388237 0.48053876 0.32506959 0.60681729]\n",
      "  [0.35855394 0.84385994 0.86147215 0.8935099  0.04352429]\n",
      "  [0.54216495 0.45427035 0.90408783 0.93033859 0.65054138]]]\n"
     ]
    }
   ],
   "source": [
    "# your code/answer here\n",
    "\n",
    "\"\"\"Yes, e equals to a. This happens because e is just the multiplication of a by 1, which won't change its values\"\"\""
   ]
  },
  {
   "cell_type": "markdown",
   "metadata": {},
   "source": [
    "#### 14. Identify the max, min, and mean values in *d*. Assign those values to variables *d_max*, *d_min* and *d_mean*."
   ]
  },
  {
   "cell_type": "code",
   "execution_count": 49,
   "metadata": {},
   "outputs": [
    {
     "name": "stdout",
     "output_type": "stream",
     "text": [
      "1.930338590486429\n"
     ]
    }
   ],
   "source": [
    "# your code here\n",
    "d_max = np.max(d)\n",
    "d_min = np.min(d)\n",
    "d_mean = np.mean(d)"
   ]
  },
  {
   "cell_type": "markdown",
   "metadata": {},
   "source": [
    "#### 15. Now we want to label the values in *d*. First create an empty array *f* with the same shape (i.e. 2x3x5) as *d* using `np.empty`.\n"
   ]
  },
  {
   "cell_type": "code",
   "execution_count": 30,
   "metadata": {},
   "outputs": [],
   "source": [
    "# your code here\n",
    "f = np.empty((2,3,5))"
   ]
  },
  {
   "cell_type": "markdown",
   "metadata": {},
   "source": [
    "#### 16. Populate the values in *f*. \n",
    "\n",
    "For each value in *d*, if it's larger than *d_min* but smaller than *d_mean*, assign 25 to the corresponding value in *f*. If a value in *d* is larger than *d_mean* but smaller than *d_max*, assign 75 to the corresponding value in *f*. If a value equals to *d_mean*, assign 50 to the corresponding value in *f*. Assign 0 to the corresponding value(s) in *f* for *d_min* in *d*. Assign 100 to the corresponding value(s) in *f* for *d_max* in *d*. In the end, f should have only the following values: 0, 25, 50, 75, and 100.\n",
    "\n",
    "**Note**: you don't have to use Numpy in this question."
   ]
  },
  {
   "cell_type": "code",
   "execution_count": 47,
   "metadata": {},
   "outputs": [
    {
     "name": "stdout",
     "output_type": "stream",
     "text": [
      "[[[1.51352425 1.66664039 1.37370412 1.42097207 1.52269613]\n",
      "  [1.1496285  1.44617649 1.44310162 1.0470057  1.82518896]\n",
      "  [1.53810163 1.4664587  1.17378264 1.2955953  1.21085878]]\n",
      "\n",
      " [[1.84795203 1.20388237 1.48053876 1.32506959 1.60681729]\n",
      "  [1.35855394 1.84385994 1.86147215 1.8935099  1.04352429]\n",
      "  [1.54216495 1.45427035 1.90408783 1.93033859 1.65054138]]]\n",
      "[[[ 75  75  25  25  75]\n",
      "  [ 25  25  25  25  75]\n",
      "  [ 75  25  25  25  25]]\n",
      "\n",
      " [[ 75  25  25  25  75]\n",
      "  [ 25  75  75  75   0]\n",
      "  [ 75  25  75 100  75]]]\n"
     ]
    }
   ],
   "source": [
    "# your code here\n",
    "\n",
    "new_d = d.flatten()\n",
    "f = []\n",
    "\n",
    "for x in new_d:\n",
    "    if x > d_min and x < d_mean:\n",
    "        f.append(25)\n",
    "    elif x > d_mean and x < d_max:\n",
    "        f.append(75)\n",
    "    elif x == d_mean:\n",
    "        f.append(50)\n",
    "    elif x == d_min:\n",
    "        f.append(0)\n",
    "    else:\n",
    "        f.append(100)\n",
    "\n",
    "f_array = np.reshape(f, (2,3,5))\n",
    "f = f_array\n",
    "\n",
    "print(d)\n",
    "print(f) "
   ]
  },
  {
   "cell_type": "markdown",
   "metadata": {},
   "source": [
    "#### 17. Print *d* and *f*. Do you have your expected *f*?\n",
    "For instance, if your *d* is:\n",
    "```python\n",
    "[[[1.85836099, 1.67064465, 1.62576044, 1.40243961, 1.88454931],\n",
    "[1.75354326, 1.69403643, 1.36729252, 1.61415071, 1.12104981],\n",
    "[1.72201435, 1.1862918 , 1.87078449, 1.7726778 , 1.88180042]],\n",
    "[[1.44747908, 1.31673383, 1.02000951, 1.52218947, 1.97066381],\n",
    "[1.79129243, 1.74983003, 1.96028037, 1.85166831, 1.65450881],\n",
    "[1.18068344, 1.9587381 , 1.00656599, 1.93402165, 1.73514584]]]\n",
    "```\n",
    "Your *f* should be:\n",
    "```python\n",
    "[[[ 75.,  75.,  75.,  25.,  75.],\n",
    "[ 75.,  75.,  25.,  25.,  25.],\n",
    "[ 75.,  25.,  75.,  75.,  75.]],\n",
    "[[ 25.,  25.,  25.,  25., 100.],\n",
    "[ 75.,  75.,  75.,  75.,  75.],\n",
    "[ 25.,  75.,   0.,  75.,  75.]]]\n",
    "```"
   ]
  },
  {
   "cell_type": "code",
   "execution_count": null,
   "metadata": {},
   "outputs": [],
   "source": [
    "# your code here"
   ]
  },
  {
   "cell_type": "markdown",
   "metadata": {},
   "source": [
    "#### 18. Bonus question: instead of using numbers (i.e. 0, 25, 50, 75, and 100), use string values  (\"A\", \"B\", \"C\", \"D\", and \"E\") to label the array elements. For the example above, the expected result is:\n",
    "\n",
    "```python\n",
    "[[[ 'D',  'D',  'D',  'B',  'D'],\n",
    "[ 'D',  'D',  'B',  'B',  'B'],\n",
    "[ 'D',  'B',  'D',  'D',  'D']],\n",
    "[[ 'B',  'B',  'B',  'B',  'E'],\n",
    "[ 'D',  'D',  'D',  'D',  'D'],\n",
    "[ 'B',  'D',   'A',  'D', 'D']]]\n",
    "```\n",
    "**Note**: you don't have to use Numpy in this question."
   ]
  },
  {
   "cell_type": "code",
   "execution_count": 52,
   "metadata": {},
   "outputs": [
    {
     "name": "stdout",
     "output_type": "stream",
     "text": [
      "[[[1.51352425 1.66664039 1.37370412 1.42097207 1.52269613]\n",
      "  [1.1496285  1.44617649 1.44310162 1.0470057  1.82518896]\n",
      "  [1.53810163 1.4664587  1.17378264 1.2955953  1.21085878]]\n",
      "\n",
      " [[1.84795203 1.20388237 1.48053876 1.32506959 1.60681729]\n",
      "  [1.35855394 1.84385994 1.86147215 1.8935099  1.04352429]\n",
      "  [1.54216495 1.45427035 1.90408783 1.93033859 1.65054138]]]\n",
      "[[['B' 'B' 'A' 'A' 'B']\n",
      "  ['A' 'A' 'A' 'A' 'B']\n",
      "  ['B' 'A' 'A' 'A' 'A']]\n",
      "\n",
      " [['B' 'A' 'A' 'A' 'B']\n",
      "  ['A' 'B' 'B' 'B' 'D']\n",
      "  ['B' 'A' 'B' 'E' 'B']]]\n"
     ]
    }
   ],
   "source": [
    "# your code here\n",
    "g = []\n",
    "\n",
    "for x in new_d:\n",
    "    if x > d_min and x < d_mean:\n",
    "        g.append(\"A\")\n",
    "    elif x > d_mean and x < d_max:\n",
    "        g.append(\"B\")\n",
    "    elif x == d_mean:\n",
    "        g.append(\"C\")\n",
    "    elif x == d_min:\n",
    "        g.append(\"D\")\n",
    "    else:\n",
    "        g.append(\"E\")\n",
    "\n",
    "g_array = np.reshape(g, (2,3,5))\n",
    "\n",
    "print(d)\n",
    "print(g_array) "
   ]
  }
 ],
 "metadata": {
  "kernelspec": {
   "display_name": "Python 3",
   "language": "python",
   "name": "python3"
  },
  "language_info": {
   "codemirror_mode": {
    "name": "ipython",
    "version": 3
   },
   "file_extension": ".py",
   "mimetype": "text/x-python",
   "name": "python",
   "nbconvert_exporter": "python",
   "pygments_lexer": "ipython3",
   "version": "3.7.4"
  }
 },
 "nbformat": 4,
 "nbformat_minor": 4
}
