{
 "cells": [
  {
   "cell_type": "markdown",
   "metadata": {},
   "source": [
    "# Intrduction to NumPy\n",
    "\n",
    "\n",
    "#### 1. Import NumPy under the name np."
   ]
  },
  {
   "cell_type": "code",
   "execution_count": 1,
   "metadata": {},
   "outputs": [],
   "source": [
    "import numpy as np\n"
   ]
  },
  {
   "cell_type": "markdown",
   "metadata": {},
   "source": [
    "#### 2. Print your NumPy version."
   ]
  },
  {
   "cell_type": "code",
   "execution_count": 5,
   "metadata": {},
   "outputs": [
    {
     "name": "stdout",
     "output_type": "stream",
     "text": [
      "1.23.3\n"
     ]
    }
   ],
   "source": [
    "print(np.__version__)"
   ]
  },
  {
   "cell_type": "markdown",
   "metadata": {},
   "source": [
    "#### 3. Generate a 2x3x5 3-dimensional array with random values. Assign the array to variable *a*.\n",
    "**Challenge**: there are at least three easy ways that use numpy to generate random arrays. How many ways can you find?"
   ]
  },
  {
   "cell_type": "code",
   "execution_count": 6,
   "metadata": {},
   "outputs": [
    {
     "name": "stdout",
     "output_type": "stream",
     "text": [
      "[[[0.35478779 0.68012313 0.01186611 0.24592223 0.13942535]\n",
      "  [0.62735522 0.23690968 0.57232244 0.22583718 0.66678275]\n",
      "  [0.42847574 0.11517624 0.84417579 0.71587455 0.56203263]]\n",
      "\n",
      " [[0.07823134 0.71637799 0.27060928 0.46807413 0.42495236]\n",
      "  [0.23208552 0.38191812 0.19775277 0.66375882 0.94148797]\n",
      "  [0.18755324 0.02221066 0.35036304 0.12112755 0.64214376]]]\n"
     ]
    }
   ],
   "source": [
    "a = np.random.rand(2,3,5)\n",
    "\n",
    "print(a)"
   ]
  },
  {
   "cell_type": "code",
   "execution_count": 8,
   "metadata": {},
   "outputs": [
    {
     "name": "stdout",
     "output_type": "stream",
     "text": [
      "[[[0.32330878 0.47366845 0.95019502 0.69988669 0.20470374]\n",
      "  [0.46763005 0.80798573 0.0942514  0.83267225 0.39933   ]\n",
      "  [0.48981383 0.21587732 0.65703642 0.2230791  0.73045912]]\n",
      "\n",
      " [[0.1987434  0.12479529 0.30504474 0.29160984 0.52523072]\n",
      "  [0.32503454 0.04806165 0.37872718 0.43788032 0.13345645]\n",
      "  [0.81430268 0.38438816 0.72771697 0.53126271 0.83945921]]]\n"
     ]
    }
   ],
   "source": [
    "a = np.random.random(size=(2,3,5))\n",
    "\n",
    "print(a)"
   ]
  },
  {
   "cell_type": "code",
   "execution_count": 5,
   "metadata": {},
   "outputs": [
    {
     "name": "stdout",
     "output_type": "stream",
     "text": [
      "[[[0 4 1 4 3]\n",
      "  [4 4 6 4 0]\n",
      "  [6 4 2 2 0]]\n",
      "\n",
      " [[5 5 3 0 4]\n",
      "  [4 5 5 3 1]\n",
      "  [2 6 4 4 0]]]\n"
     ]
    }
   ],
   "source": [
    "a = np.random.randint(7, size=(2,3,5))\n",
    "print(a)"
   ]
  },
  {
   "cell_type": "markdown",
   "metadata": {},
   "source": [
    "#### 4. Print *a*.\n"
   ]
  },
  {
   "cell_type": "code",
   "execution_count": 47,
   "metadata": {},
   "outputs": [
    {
     "name": "stdout",
     "output_type": "stream",
     "text": [
      "[[[0 4 1 4 3]\n",
      "  [4 4 6 4 0]\n",
      "  [6 4 2 2 0]]\n",
      "\n",
      " [[5 5 3 0 4]\n",
      "  [4 5 5 3 1]\n",
      "  [2 6 4 4 0]]]\n"
     ]
    }
   ],
   "source": [
    "print(a)"
   ]
  },
  {
   "cell_type": "markdown",
   "metadata": {},
   "source": [
    "#### 5. Create a 5x2x3 3-dimensional array with all values equaling 1. Assign the array to variable *b*."
   ]
  },
  {
   "cell_type": "code",
   "execution_count": 48,
   "metadata": {},
   "outputs": [],
   "source": [
    "b = np.ones(shape=(5,2,3))"
   ]
  },
  {
   "cell_type": "markdown",
   "metadata": {},
   "source": [
    "#### 6. Print *b*.\n"
   ]
  },
  {
   "cell_type": "code",
   "execution_count": 49,
   "metadata": {},
   "outputs": [
    {
     "name": "stdout",
     "output_type": "stream",
     "text": [
      "[[[1. 1. 1.]\n",
      "  [1. 1. 1.]]\n",
      "\n",
      " [[1. 1. 1.]\n",
      "  [1. 1. 1.]]\n",
      "\n",
      " [[1. 1. 1.]\n",
      "  [1. 1. 1.]]\n",
      "\n",
      " [[1. 1. 1.]\n",
      "  [1. 1. 1.]]\n",
      "\n",
      " [[1. 1. 1.]\n",
      "  [1. 1. 1.]]]\n"
     ]
    }
   ],
   "source": [
    "print(b)"
   ]
  },
  {
   "cell_type": "markdown",
   "metadata": {},
   "source": [
    "#### 7. Do *a* and *b* have the same size? How do you prove that in Python code?"
   ]
  },
  {
   "cell_type": "code",
   "execution_count": 50,
   "metadata": {},
   "outputs": [
    {
     "data": {
      "text/plain": [
       "False"
      ]
     },
     "execution_count": 50,
     "metadata": {},
     "output_type": "execute_result"
    }
   ],
   "source": [
    "a.shape == b.shape\n",
    "# No."
   ]
  },
  {
   "cell_type": "markdown",
   "metadata": {},
   "source": [
    "#### 8. Are you able to add *a* and *b*? Why or why not?\n"
   ]
  },
  {
   "cell_type": "code",
   "execution_count": 51,
   "metadata": {},
   "outputs": [
    {
     "ename": "ValueError",
     "evalue": "operands could not be broadcast together with shapes (2,3,5) (5,2,3) ",
     "output_type": "error",
     "traceback": [
      "\u001b[0;31m---------------------------------------------------------------------------\u001b[0m",
      "\u001b[0;31mValueError\u001b[0m                                Traceback (most recent call last)",
      "\u001b[1;32m/Users/Vivian/Desktop/Ironhack/DataAnalytics/Week1/Labs/lab-numpy/your-code/main.ipynb Cell 18\u001b[0m in \u001b[0;36m<cell line: 1>\u001b[0;34m()\u001b[0m\n\u001b[0;32m----> <a href='vscode-notebook-cell:/Users/Vivian/Desktop/Ironhack/DataAnalytics/Week1/Labs/lab-numpy/your-code/main.ipynb#X23sZmlsZQ%3D%3D?line=0'>1</a>\u001b[0m a \u001b[39m+\u001b[39;49m b\n",
      "\u001b[0;31mValueError\u001b[0m: operands could not be broadcast together with shapes (2,3,5) (5,2,3) "
     ]
    }
   ],
   "source": [
    "a + b\n",
    "\n",
    "#ValueError: operands could not be broadcast together with shapes (2,3,5) (5,2,3) \n",
    "#They don't have the same shape."
   ]
  },
  {
   "cell_type": "markdown",
   "metadata": {},
   "source": [
    "#### 9. Transpose *b* so that it has the same structure of *a* (i.e. become a 2x3x5 array). Assign the transposed array to variable *c*."
   ]
  },
  {
   "cell_type": "code",
   "execution_count": 52,
   "metadata": {},
   "outputs": [
    {
     "name": "stdout",
     "output_type": "stream",
     "text": [
      "[[[1. 1. 1. 1. 1.]\n",
      "  [1. 1. 1. 1. 1.]\n",
      "  [1. 1. 1. 1. 1.]]\n",
      "\n",
      " [[1. 1. 1. 1. 1.]\n",
      "  [1. 1. 1. 1. 1.]\n",
      "  [1. 1. 1. 1. 1.]]]\n"
     ]
    }
   ],
   "source": [
    "c = np.transpose(b).reshape(2,3,5)\n",
    "print(c)"
   ]
  },
  {
   "cell_type": "markdown",
   "metadata": {},
   "source": [
    "#### 10. Try to add *a* and *c*. Now it should work. Assign the sum to variable *d*. But why does it work now?"
   ]
  },
  {
   "cell_type": "code",
   "execution_count": 53,
   "metadata": {},
   "outputs": [
    {
     "data": {
      "text/plain": [
       "array([[[1., 5., 2., 5., 4.],\n",
       "        [5., 5., 7., 5., 1.],\n",
       "        [7., 5., 3., 3., 1.]],\n",
       "\n",
       "       [[6., 6., 4., 1., 5.],\n",
       "        [5., 6., 6., 4., 2.],\n",
       "        [3., 7., 5., 5., 1.]]])"
      ]
     },
     "execution_count": 53,
     "metadata": {},
     "output_type": "execute_result"
    }
   ],
   "source": [
    "d = a + c\n",
    "d\n",
    "\n",
    "##They now have the same shape."
   ]
  },
  {
   "cell_type": "markdown",
   "metadata": {},
   "source": [
    "#### 11. Print *a* and *d*. Notice the difference and relation of the two array in terms of the values? Explain."
   ]
  },
  {
   "cell_type": "code",
   "execution_count": 54,
   "metadata": {},
   "outputs": [
    {
     "name": "stdout",
     "output_type": "stream",
     "text": [
      "[[[0 4 1 4 3]\n",
      "  [4 4 6 4 0]\n",
      "  [6 4 2 2 0]]\n",
      "\n",
      " [[5 5 3 0 4]\n",
      "  [4 5 5 3 1]\n",
      "  [2 6 4 4 0]]]\n",
      "---\n",
      "[[[1. 5. 2. 5. 4.]\n",
      "  [5. 5. 7. 5. 1.]\n",
      "  [7. 5. 3. 3. 1.]]\n",
      "\n",
      " [[6. 6. 4. 1. 5.]\n",
      "  [5. 6. 6. 4. 2.]\n",
      "  [3. 7. 5. 5. 1.]]]\n"
     ]
    }
   ],
   "source": [
    "print(a)\n",
    "print('---')\n",
    "print(d)\n",
    "\n",
    "## Values in d are equal to a+1 (a+c)\n"
   ]
  },
  {
   "cell_type": "markdown",
   "metadata": {},
   "source": [
    "#### 12. Multiply *a* and *c*. Assign the result to *e*."
   ]
  },
  {
   "cell_type": "code",
   "execution_count": 55,
   "metadata": {},
   "outputs": [
    {
     "data": {
      "text/plain": [
       "array([[[0., 4., 1., 4., 3.],\n",
       "        [4., 4., 6., 4., 0.],\n",
       "        [6., 4., 2., 2., 0.]],\n",
       "\n",
       "       [[5., 5., 3., 0., 4.],\n",
       "        [4., 5., 5., 3., 1.],\n",
       "        [2., 6., 4., 4., 0.]]])"
      ]
     },
     "execution_count": 55,
     "metadata": {},
     "output_type": "execute_result"
    }
   ],
   "source": [
    "e = a * c\n",
    "e"
   ]
  },
  {
   "cell_type": "markdown",
   "metadata": {},
   "source": [
    "#### 13. Does *e* equal to *a*? Why or why not?\n"
   ]
  },
  {
   "cell_type": "code",
   "execution_count": 56,
   "metadata": {},
   "outputs": [
    {
     "data": {
      "text/plain": [
       "array([[[ True,  True,  True,  True,  True],\n",
       "        [ True,  True,  True,  True,  True],\n",
       "        [ True,  True,  True,  True,  True]],\n",
       "\n",
       "       [[ True,  True,  True,  True,  True],\n",
       "        [ True,  True,  True,  True,  True],\n",
       "        [ True,  True,  True,  True,  True]]])"
      ]
     },
     "execution_count": 56,
     "metadata": {},
     "output_type": "execute_result"
    }
   ],
   "source": [
    "e == a\n",
    "\n",
    "#Yes, because values in c are equal to 1"
   ]
  },
  {
   "cell_type": "markdown",
   "metadata": {},
   "source": [
    "#### 14. Identify the max, min, and mean values in *d*. Assign those values to variables *d_max*, *d_min* and *d_mean*."
   ]
  },
  {
   "cell_type": "code",
   "execution_count": 26,
   "metadata": {},
   "outputs": [
    {
     "name": "stdout",
     "output_type": "stream",
     "text": [
      "7.0\n",
      "1.0\n",
      "4.166666666666667\n"
     ]
    }
   ],
   "source": [
    "d_max = d.max()\n",
    "d_min = d.min()\n",
    "d_mean = d.mean()\n",
    "\n",
    "print(d_max)\n",
    "print(d_min)\n",
    "print(d_mean)"
   ]
  },
  {
   "cell_type": "markdown",
   "metadata": {},
   "source": [
    "#### 15. Now we want to label the values in *d*. First create an empty array *f* with the same shape (i.e. 2x3x5) as *d* using `np.empty`.\n"
   ]
  },
  {
   "cell_type": "code",
   "execution_count": 57,
   "metadata": {},
   "outputs": [
    {
     "data": {
      "text/plain": [
       "array([[[1., 5., 2., 5., 4.],\n",
       "        [5., 5., 7., 5., 1.],\n",
       "        [7., 5., 3., 3., 1.]],\n",
       "\n",
       "       [[6., 6., 4., 1., 5.],\n",
       "        [5., 6., 6., 4., 2.],\n",
       "        [3., 7., 5., 5., 1.]]])"
      ]
     },
     "execution_count": 57,
     "metadata": {},
     "output_type": "execute_result"
    }
   ],
   "source": [
    "d"
   ]
  },
  {
   "cell_type": "code",
   "execution_count": 58,
   "metadata": {},
   "outputs": [
    {
     "name": "stdout",
     "output_type": "stream",
     "text": [
      "[[[1. 5. 2. 5. 4.]\n",
      "  [5. 5. 7. 5. 1.]\n",
      "  [7. 5. 3. 3. 1.]]\n",
      "\n",
      " [[6. 6. 4. 1. 5.]\n",
      "  [5. 6. 6. 4. 2.]\n",
      "  [3. 7. 5. 5. 1.]]]\n"
     ]
    }
   ],
   "source": [
    "f = np.empty(shape=(2,3,5), like=d)\n",
    "\n",
    "print(f)"
   ]
  },
  {
   "cell_type": "markdown",
   "metadata": {},
   "source": [
    "#### 16. Populate the values in *f*. \n",
    "\n",
    "For each value in *d*, if it's larger than *d_min* but smaller than *d_mean*, assign 25 to the corresponding value in *f*.\n",
    "\n",
    "If a value in *d* is larger than *d_mean* but smaller than *d_max*, assign 75 to the corresponding value in *f*. \n",
    "\n",
    "If a value equals to *d_mean*, assign 50 to the corresponding value in *f*.\n",
    "\n",
    "Assign 0 to the corresponding value(s) in *f* for *d_min* in *d*.\n",
    "\n",
    "Assign 100 to the corresponding value(s) in *f* for *d_max* in *d*. \n",
    "\n",
    "In the end, f should have only the following values: 0, 25, 50, 75, and 100.\n",
    "\n",
    "**Note**: you don't have to use Numpy in this question."
   ]
  },
  {
   "cell_type": "code",
   "execution_count": 59,
   "metadata": {},
   "outputs": [],
   "source": [
    "#but \n",
    "\n",
    "f[(d > d.min()) & (d < d.mean())] = 25\n",
    "\n",
    "f[(d > d.mean()) & (d < d.max())] = 75\n",
    "\n",
    "f[(d == d.mean())] = 50\n",
    "\n",
    "f[(d == d.min())] = 0\n",
    "\n",
    "f[(d == d.max())] = 100\n",
    "\n"
   ]
  },
  {
   "cell_type": "markdown",
   "metadata": {},
   "source": [
    "#### 17. Print *d* and *f*. Do you have your expected *f*?\n",
    "For instance, if your *d* is:\n",
    "```python\n",
    "[[[1.85836099, 1.67064465, 1.62576044, 1.40243961, 1.88454931],\n",
    "[1.75354326, 1.69403643, 1.36729252, 1.61415071, 1.12104981],\n",
    "[1.72201435, 1.1862918 , 1.87078449, 1.7726778 , 1.88180042]],\n",
    "[[1.44747908, 1.31673383, 1.02000951, 1.52218947, 1.97066381],\n",
    "[1.79129243, 1.74983003, 1.96028037, 1.85166831, 1.65450881],\n",
    "[1.18068344, 1.9587381 , 1.00656599, 1.93402165, 1.73514584]]]\n",
    "```\n",
    "Your *f* should be:\n",
    "```python\n",
    "[[[ 75.,  75.,  75.,  25.,  75.],\n",
    "[ 75.,  75.,  25.,  25.,  25.],\n",
    "[ 75.,  25.,  75.,  75.,  75.]],\n",
    "[[ 25.,  25.,  25.,  25., 100.],\n",
    "[ 75.,  75.,  75.,  75.,  75.],\n",
    "[ 25.,  75.,   0.,  75.,  75.]]]\n",
    "```"
   ]
  },
  {
   "cell_type": "code",
   "execution_count": 60,
   "metadata": {},
   "outputs": [
    {
     "name": "stdout",
     "output_type": "stream",
     "text": [
      "[[[1. 5. 2. 5. 4.]\n",
      "  [5. 5. 7. 5. 1.]\n",
      "  [7. 5. 3. 3. 1.]]\n",
      "\n",
      " [[6. 6. 4. 1. 5.]\n",
      "  [5. 6. 6. 4. 2.]\n",
      "  [3. 7. 5. 5. 1.]]]\n",
      "[[[  0.  75.  25.  75.  25.]\n",
      "  [ 75.  75. 100.  75.   0.]\n",
      "  [100.  75.  25.  25.   0.]]\n",
      "\n",
      " [[ 75.  75.  25.   0.  75.]\n",
      "  [ 75.  75.  75.  25.  25.]\n",
      "  [ 25. 100.  75.  75.   0.]]]\n"
     ]
    }
   ],
   "source": [
    "print(d)\n",
    "\n",
    "print(f)"
   ]
  },
  {
   "cell_type": "markdown",
   "metadata": {},
   "source": [
    "#### 18. Bonus question: instead of using numbers (i.e. 0, 25, 50, 75, and 100), use string values  (\"A\", \"B\", \"C\", \"D\", and \"E\") to label the array elements. For the example above, the expected result is:\n",
    "\n",
    "```python\n",
    "[[[ 'D',  'D',  'D',  'B',  'D'],\n",
    "[ 'D',  'D',  'B',  'B',  'B'],\n",
    "[ 'D',  'B',  'D',  'D',  'D']],\n",
    "[[ 'B',  'B',  'B',  'B',  'E'],\n",
    "[ 'D',  'D',  'D',  'D',  'D'],\n",
    "[ 'B',  'D',   'A',  'D', 'D']]]\n",
    "```\n",
    "**Note**: you don't have to use Numpy in this question."
   ]
  },
  {
   "cell_type": "code",
   "execution_count": null,
   "metadata": {},
   "outputs": [],
   "source": [
    "# your code here"
   ]
  }
 ],
 "metadata": {
  "kernelspec": {
   "display_name": "Python 3.9.13 ('ironhack')",
   "language": "python",
   "name": "python3"
  },
  "language_info": {
   "codemirror_mode": {
    "name": "ipython",
    "version": 3
   },
   "file_extension": ".py",
   "mimetype": "text/x-python",
   "name": "python",
   "nbconvert_exporter": "python",
   "pygments_lexer": "ipython3",
   "version": "3.9.13"
  },
  "vscode": {
   "interpreter": {
    "hash": "c5443476776cb7258969cc21467ab4d201260bb99f152c45b3096be400fd794d"
   }
  }
 },
 "nbformat": 4,
 "nbformat_minor": 2
}
