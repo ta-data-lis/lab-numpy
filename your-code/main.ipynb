{
 "cells": [
  {
   "cell_type": "markdown",
   "metadata": {},
   "source": [
    "# Intrduction to NumPy\n",
    "\n",
    "\n",
    "#### 1. Import NumPy under the name np."
   ]
  },
  {
   "cell_type": "code",
   "execution_count": 1,
   "metadata": {},
   "outputs": [],
   "source": [
    "# your code here\n",
    "import numpy as np"
   ]
  },
  {
   "cell_type": "markdown",
   "metadata": {},
   "source": [
    "#### 2. Print your NumPy version."
   ]
  },
  {
   "cell_type": "code",
   "execution_count": 2,
   "metadata": {},
   "outputs": [
    {
     "name": "stdout",
     "output_type": "stream",
     "text": [
      "1.21.5\n"
     ]
    }
   ],
   "source": [
    "# your code here\n",
    "print(np.__version__)"
   ]
  },
  {
   "cell_type": "markdown",
   "metadata": {},
   "source": [
    "#### 3. Generate a 2x3x5 3-dimensional array with random values. Assign the array to variable *a*.\n",
    "**Challenge**: there are at least three easy ways that use numpy to generate random arrays. How many ways can you find?"
   ]
  },
  {
   "cell_type": "code",
   "execution_count": 3,
   "metadata": {},
   "outputs": [
    {
     "data": {
      "text/plain": [
       "array([[[0.15696991, 0.62565735, 0.98788551, 0.38398747, 0.57149632],\n",
       "        [0.6772698 , 0.43907222, 0.45743632, 0.20829584, 0.22336059],\n",
       "        [0.82852863, 0.2629899 , 0.77307479, 0.66854656, 0.19466355]],\n",
       "\n",
       "       [[0.52891689, 0.12725656, 0.15677488, 0.8542248 , 0.39108584],\n",
       "        [0.98002878, 0.00366966, 0.74338414, 0.32168089, 0.39036856],\n",
       "        [0.14949692, 0.01593364, 0.37153532, 0.78638022, 0.26487117]]])"
      ]
     },
     "execution_count": 3,
     "metadata": {},
     "output_type": "execute_result"
    }
   ],
   "source": [
    "# Method 1\n",
    "a=np.random.random(size=(2,3,5))\n",
    "a"
   ]
  },
  {
   "cell_type": "code",
   "execution_count": 4,
   "metadata": {},
   "outputs": [
    {
     "data": {
      "text/plain": [
       "array([[[0.33795126, 0.9584807 , 0.80696026, 0.42875806, 0.40659598],\n",
       "        [0.5625337 , 0.60207634, 0.10809737, 0.07108886, 0.7858583 ],\n",
       "        [0.90092768, 0.79140608, 0.619479  , 0.45033619, 0.38332968]],\n",
       "\n",
       "       [[0.6633066 , 0.43275199, 0.24603228, 0.30307683, 0.97276216],\n",
       "        [0.08570198, 0.21090535, 0.20829156, 0.32309112, 0.10387773],\n",
       "        [0.7314834 , 0.0018555 , 0.80220992, 0.68161013, 0.21868146]]])"
      ]
     },
     "execution_count": 4,
     "metadata": {},
     "output_type": "execute_result"
    }
   ],
   "source": [
    "# Method 2\n",
    "a=np.random.sample((2,3,5))\n",
    "a"
   ]
  },
  {
   "cell_type": "code",
   "execution_count": 5,
   "metadata": {},
   "outputs": [
    {
     "data": {
      "text/plain": [
       "array([[[0.56317069, 0.7967897 , 0.7822923 , 0.98929286, 0.46659671],\n",
       "        [0.51553912, 0.04689961, 0.00565442, 0.97353292, 0.02886666],\n",
       "        [0.75410196, 0.12099879, 0.47409389, 0.99859742, 0.47955492]],\n",
       "\n",
       "       [[0.82553193, 0.55234016, 0.30800271, 0.7996393 , 0.26353607],\n",
       "        [0.90856176, 0.16669377, 0.83708388, 0.56550642, 0.59067109],\n",
       "        [0.24948347, 0.7343331 , 0.9685156 , 0.97377229, 0.67013971]]])"
      ]
     },
     "execution_count": 5,
     "metadata": {},
     "output_type": "execute_result"
    }
   ],
   "source": [
    "# Method 3\n",
    "a = np.random.rand(2,3,5)\n",
    "a"
   ]
  },
  {
   "cell_type": "markdown",
   "metadata": {},
   "source": [
    "#### 4. Print *a*.\n"
   ]
  },
  {
   "cell_type": "code",
   "execution_count": 6,
   "metadata": {},
   "outputs": [
    {
     "name": "stdout",
     "output_type": "stream",
     "text": [
      "[[[0.56317069 0.7967897  0.7822923  0.98929286 0.46659671]\n",
      "  [0.51553912 0.04689961 0.00565442 0.97353292 0.02886666]\n",
      "  [0.75410196 0.12099879 0.47409389 0.99859742 0.47955492]]\n",
      "\n",
      " [[0.82553193 0.55234016 0.30800271 0.7996393  0.26353607]\n",
      "  [0.90856176 0.16669377 0.83708388 0.56550642 0.59067109]\n",
      "  [0.24948347 0.7343331  0.9685156  0.97377229 0.67013971]]]\n"
     ]
    }
   ],
   "source": [
    "# your code here\n",
    "print(a)"
   ]
  },
  {
   "cell_type": "markdown",
   "metadata": {},
   "source": [
    "#### 5. Create a 5x2x3 3-dimensional array with all values equaling 1. Assign the array to variable *b*."
   ]
  },
  {
   "cell_type": "code",
   "execution_count": 7,
   "metadata": {},
   "outputs": [],
   "source": [
    "# your code here\n",
    "b=np.ones(shape=(5,2,3), dtype=int )"
   ]
  },
  {
   "cell_type": "markdown",
   "metadata": {},
   "source": [
    "#### 6. Print *b*.\n"
   ]
  },
  {
   "cell_type": "code",
   "execution_count": 8,
   "metadata": {},
   "outputs": [
    {
     "name": "stdout",
     "output_type": "stream",
     "text": [
      "[[[1 1 1]\n",
      "  [1 1 1]]\n",
      "\n",
      " [[1 1 1]\n",
      "  [1 1 1]]\n",
      "\n",
      " [[1 1 1]\n",
      "  [1 1 1]]\n",
      "\n",
      " [[1 1 1]\n",
      "  [1 1 1]]\n",
      "\n",
      " [[1 1 1]\n",
      "  [1 1 1]]]\n"
     ]
    }
   ],
   "source": [
    "# your code here\n",
    "print(b)"
   ]
  },
  {
   "cell_type": "markdown",
   "metadata": {},
   "source": [
    "#### 7. Do *a* and *b* have the same size? How do you prove that in Python code?"
   ]
  },
  {
   "cell_type": "code",
   "execution_count": 9,
   "metadata": {},
   "outputs": [
    {
     "data": {
      "text/plain": [
       "True"
      ]
     },
     "execution_count": 9,
     "metadata": {},
     "output_type": "execute_result"
    }
   ],
   "source": [
    "# your code here\n",
    "a.size==b.size"
   ]
  },
  {
   "cell_type": "markdown",
   "metadata": {},
   "source": [
    "#### 8. Are you able to add *a* and *b*? Why or why not?\n"
   ]
  },
  {
   "cell_type": "code",
   "execution_count": 10,
   "metadata": {},
   "outputs": [
    {
     "data": {
      "text/plain": [
       "False"
      ]
     },
     "execution_count": 10,
     "metadata": {},
     "output_type": "execute_result"
    }
   ],
   "source": [
    "# your answer here\n",
    "'''No different shape'''\n",
    "a.shape==b.shape"
   ]
  },
  {
   "cell_type": "markdown",
   "metadata": {},
   "source": [
    "#### 9. Transpose *b* so that it has the same structure of *a* (i.e. become a 2x3x5 array). Assign the transposed array to variable *c*."
   ]
  },
  {
   "cell_type": "code",
   "execution_count": 11,
   "metadata": {},
   "outputs": [
    {
     "data": {
      "text/plain": [
       "True"
      ]
     },
     "execution_count": 11,
     "metadata": {},
     "output_type": "execute_result"
    }
   ],
   "source": [
    "# your code here\n",
    "c=np.reshape(b,(2,3,5))\n",
    "a.shape==c.shape"
   ]
  },
  {
   "cell_type": "markdown",
   "metadata": {},
   "source": [
    "#### 10. Try to add *a* and *c*. Now it should work. Assign the sum to variable *d*. But why does it work now?"
   ]
  },
  {
   "cell_type": "code",
   "execution_count": 12,
   "metadata": {},
   "outputs": [
    {
     "data": {
      "text/plain": [
       "array([[[1.56317069, 1.7967897 , 1.7822923 , 1.98929286, 1.46659671],\n",
       "        [1.51553912, 1.04689961, 1.00565442, 1.97353292, 1.02886666],\n",
       "        [1.75410196, 1.12099879, 1.47409389, 1.99859742, 1.47955492]],\n",
       "\n",
       "       [[1.82553193, 1.55234016, 1.30800271, 1.7996393 , 1.26353607],\n",
       "        [1.90856176, 1.16669377, 1.83708388, 1.56550642, 1.59067109],\n",
       "        [1.24948347, 1.7343331 , 1.9685156 , 1.97377229, 1.67013971]]])"
      ]
     },
     "execution_count": 12,
     "metadata": {},
     "output_type": "execute_result"
    }
   ],
   "source": [
    "# your code/answer here\n",
    "''' 2 arrays with the same shape, we can apply the sum '''\n",
    "d=a+c\n",
    "d"
   ]
  },
  {
   "cell_type": "markdown",
   "metadata": {},
   "source": [
    "#### 11. Print *a* and *d*. Notice the difference and relation of the two array in terms of the values? Explain."
   ]
  },
  {
   "cell_type": "code",
   "execution_count": 13,
   "metadata": {},
   "outputs": [
    {
     "name": "stdout",
     "output_type": "stream",
     "text": [
      "[[[0.56317069 0.7967897  0.7822923  0.98929286 0.46659671]\n",
      "  [0.51553912 0.04689961 0.00565442 0.97353292 0.02886666]\n",
      "  [0.75410196 0.12099879 0.47409389 0.99859742 0.47955492]]\n",
      "\n",
      " [[0.82553193 0.55234016 0.30800271 0.7996393  0.26353607]\n",
      "  [0.90856176 0.16669377 0.83708388 0.56550642 0.59067109]\n",
      "  [0.24948347 0.7343331  0.9685156  0.97377229 0.67013971]]]\n",
      "[[[1.56317069 1.7967897  1.7822923  1.98929286 1.46659671]\n",
      "  [1.51553912 1.04689961 1.00565442 1.97353292 1.02886666]\n",
      "  [1.75410196 1.12099879 1.47409389 1.99859742 1.47955492]]\n",
      "\n",
      " [[1.82553193 1.55234016 1.30800271 1.7996393  1.26353607]\n",
      "  [1.90856176 1.16669377 1.83708388 1.56550642 1.59067109]\n",
      "  [1.24948347 1.7343331  1.9685156  1.97377229 1.67013971]]]\n"
     ]
    },
    {
     "data": {
      "text/plain": [
       "\" we add on d we add +1 on a' values \""
      ]
     },
     "execution_count": 13,
     "metadata": {},
     "output_type": "execute_result"
    }
   ],
   "source": [
    "# your code/answer here\n",
    "print(a)\n",
    "print(d)\n",
    "\n",
    "\"\"\" we add on d we add +1 on a' values \"\"\""
   ]
  },
  {
   "cell_type": "markdown",
   "metadata": {},
   "source": [
    "#### 12. Multiply *a* and *c*. Assign the result to *e*."
   ]
  },
  {
   "cell_type": "code",
   "execution_count": 14,
   "metadata": {},
   "outputs": [
    {
     "data": {
      "text/plain": [
       "array([[[0.56317069, 0.7967897 , 0.7822923 , 0.98929286, 0.46659671],\n",
       "        [0.51553912, 0.04689961, 0.00565442, 0.97353292, 0.02886666],\n",
       "        [0.75410196, 0.12099879, 0.47409389, 0.99859742, 0.47955492]],\n",
       "\n",
       "       [[0.82553193, 0.55234016, 0.30800271, 0.7996393 , 0.26353607],\n",
       "        [0.90856176, 0.16669377, 0.83708388, 0.56550642, 0.59067109],\n",
       "        [0.24948347, 0.7343331 , 0.9685156 , 0.97377229, 0.67013971]]])"
      ]
     },
     "execution_count": 14,
     "metadata": {},
     "output_type": "execute_result"
    }
   ],
   "source": [
    "# your code here\n",
    "e=a*c\n",
    "e"
   ]
  },
  {
   "cell_type": "markdown",
   "metadata": {},
   "source": [
    "#### 13. Does *e* equal to *a*? Why or why not?\n"
   ]
  },
  {
   "cell_type": "code",
   "execution_count": 15,
   "metadata": {},
   "outputs": [
    {
     "data": {
      "text/plain": [
       "array([[[ True,  True,  True,  True,  True],\n",
       "        [ True,  True,  True,  True,  True],\n",
       "        [ True,  True,  True,  True,  True]],\n",
       "\n",
       "       [[ True,  True,  True,  True,  True],\n",
       "        [ True,  True,  True,  True,  True],\n",
       "        [ True,  True,  True,  True,  True]]])"
      ]
     },
     "execution_count": 15,
     "metadata": {},
     "output_type": "execute_result"
    }
   ],
   "source": [
    "# your code/answer here\n",
    "''' e=a*c because c is the ones array e=a*1=a'''\n",
    "e==a"
   ]
  },
  {
   "cell_type": "markdown",
   "metadata": {},
   "source": [
    "#### 14. Identify the max, min, and mean values in *d*. Assign those values to variables *d_max*, *d_min* and *d_mean*."
   ]
  },
  {
   "cell_type": "code",
   "execution_count": 16,
   "metadata": {},
   "outputs": [
    {
     "name": "stdout",
     "output_type": "stream",
     "text": [
      "Max of array d: 1.9985974185575826\n",
      "Min of array d: 1.005654420263388\n",
      "Mean of array d: 1.5803264410787028\n"
     ]
    }
   ],
   "source": [
    "# your code here\n",
    "d_max=np.max(d)\n",
    "print(\"Max of array d:\",d_max)\n",
    "d_min=np.min(d)\n",
    "print(\"Min of array d:\",d_min)\n",
    "d_mean=np.mean(d)\n",
    "print(\"Mean of array d:\",d_mean)"
   ]
  },
  {
   "cell_type": "markdown",
   "metadata": {},
   "source": [
    "#### 15. Now we want to label the values in *d*. First create an empty array *f* with the same shape (i.e. 2x3x5) as *d* using `np.empty`.\n"
   ]
  },
  {
   "cell_type": "code",
   "execution_count": 56,
   "metadata": {},
   "outputs": [
    {
     "data": {
      "text/plain": [
       "numpy.ndarray"
      ]
     },
     "execution_count": 56,
     "metadata": {},
     "output_type": "execute_result"
    }
   ],
   "source": [
    "# your code here\n",
    "f=np.empty((2,3,5))\n",
    "type(f)"
   ]
  },
  {
   "cell_type": "markdown",
   "metadata": {},
   "source": [
    "#### 16. Populate the values in *f*. \n",
    "\n",
    "For each value in *d*, if it's larger than *d_min* but smaller than *d_mean*, assign 25 to the corresponding value in *f*. If a value in *d* is larger than *d_mean* but smaller than *d_max*, assign 75 to the corresponding value in *f*. If a value equals to *d_mean*, assign 50 to the corresponding value in *f*. Assign 0 to the corresponding value(s) in *f* for *d_min* in *d*. Assign 100 to the corresponding value(s) in *f* for *d_max* in *d*. In the end, f should have only the following values: 0, 25, 50, 75, and 100.\n",
    "\n",
    "**Note**: you don't have to use Numpy in this question."
   ]
  },
  {
   "cell_type": "code",
   "execution_count": 58,
   "metadata": {},
   "outputs": [
    {
     "name": "stdout",
     "output_type": "stream",
     "text": [
      "[[[ 25.  75.  75.  75.  25.]\n",
      "  [ 25.  25.   0.  75.  25.]\n",
      "  [ 75.  25.  25. 100.  25.]]\n",
      "\n",
      " [[ 75.  25.  25.  75.  25.]\n",
      "  [ 75.  25.  75.  25.  75.]\n",
      "  [ 25.  75.  75.  75.  75.]]]\n"
     ]
    }
   ],
   "source": [
    "# your code here\n",
    "for i in range(d.shape[0]):\n",
    "    for j in range(d.shape[1]):\n",
    "            for element in range(d.shape[2]):\n",
    "                if d[i,j,element]>d_min and d[i,j,element]<d_mean:\n",
    "                    f[i,j,element]=25\n",
    "                elif (d[i,j,element]>d_mean)&(d[i,j,element]<d_max):\n",
    "                    f[i,j,element]=75\n",
    "                elif d[i,j,element]==d_mean:\n",
    "                    f[i,j,element]=50\n",
    "                elif d[i,j,element]==d_max:\n",
    "                    f[i,j,element]=100\n",
    "                else:\n",
    "                    f[i,j,element]=0\n",
    "\n",
    "\n",
    "\n",
    "\n",
    "print(f)\n",
    "\n",
    "\n",
    "\n",
    "            \n"
   ]
  },
  {
   "cell_type": "markdown",
   "metadata": {},
   "source": [
    "#### 17. Print *d* and *f*. Do you have your expected *f*?\n",
    "For instance, if your *d* is:\n",
    "```python\n",
    "[[[1.85836099, 1.67064465, 1.62576044, 1.40243961, 1.88454931],\n",
    "[1.75354326, 1.69403643, 1.36729252, 1.61415071, 1.12104981],\n",
    "[1.72201435, 1.1862918 , 1.87078449, 1.7726778 , 1.88180042]],\n",
    "[[1.44747908, 1.31673383, 1.02000951, 1.52218947, 1.97066381],\n",
    "[1.79129243, 1.74983003, 1.96028037, 1.85166831, 1.65450881],\n",
    "[1.18068344, 1.9587381 , 1.00656599, 1.93402165, 1.73514584]]]\n",
    "```\n",
    "Your *f* should be:\n",
    "```python\n",
    "[[[ 75.,  75.,  75.,  25.,  75.],\n",
    "[ 75.,  75.,  25.,  25.,  25.],\n",
    "[ 75.,  25.,  75.,  75.,  75.]],\n",
    "[[ 25.,  25.,  25.,  25., 100.],\n",
    "[ 75.,  75.,  75.,  75.,  75.],\n",
    "[ 25.,  75.,   0.,  75.,  75.]]]\n",
    "```"
   ]
  },
  {
   "cell_type": "code",
   "execution_count": 59,
   "metadata": {},
   "outputs": [
    {
     "name": "stdout",
     "output_type": "stream",
     "text": [
      "[[[ 25.  75.  75.  75.  25.]\n",
      "  [ 25.  25.   0.  75.  25.]\n",
      "  [ 75.  25.  25. 100.  25.]]\n",
      "\n",
      " [[ 75.  25.  25.  75.  25.]\n",
      "  [ 75.  25.  75.  25.  75.]\n",
      "  [ 25.  75.  75.  75.  75.]]]\n"
     ]
    }
   ],
   "source": [
    "# your code here\n",
    "print(f)"
   ]
  },
  {
   "cell_type": "markdown",
   "metadata": {},
   "source": [
    "#### 18. Bonus question: instead of using numbers (i.e. 0, 25, 50, 75, and 100), use string values  (\"A\", \"B\", \"C\", \"D\", and \"E\") to label the array elements. For the example above, the expected result is:\n",
    "\n",
    "```python\n",
    "[[[ 'D',  'D',  'D',  'B',  'D'],\n",
    "[ 'D',  'D',  'B',  'B',  'B'],\n",
    "[ 'D',  'B',  'D',  'D',  'D']],\n",
    "[[ 'B',  'B',  'B',  'B',  'E'],\n",
    "[ 'D',  'D',  'D',  'D',  'D'],\n",
    "[ 'B',  'D',   'A',  'D', 'D']]]\n",
    "```\n",
    "**Note**: you don't have to use Numpy in this question."
   ]
  },
  {
   "cell_type": "code",
   "execution_count": null,
   "metadata": {},
   "outputs": [],
   "source": [
    "# your code here"
   ]
  }
 ],
 "metadata": {
  "kernelspec": {
   "display_name": "Python 3.9.12 ('base')",
   "language": "python",
   "name": "python3"
  },
  "language_info": {
   "codemirror_mode": {
    "name": "ipython",
    "version": 3
   },
   "file_extension": ".py",
   "mimetype": "text/x-python",
   "name": "python",
   "nbconvert_exporter": "python",
   "pygments_lexer": "ipython3",
   "version": "3.9.12"
  },
  "vscode": {
   "interpreter": {
    "hash": "d3d1cb76b10a4ded1b8898b657b0b01234f45abbde55e4ed76ad39e6a18c979c"
   }
  }
 },
 "nbformat": 4,
 "nbformat_minor": 2
}
