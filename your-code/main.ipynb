{
 "cells": [
  {
   "cell_type": "markdown",
   "metadata": {},
   "source": [
    "# Intrduction to NumPy\n",
    "\n",
    "\n",
    "#### 1. Import NumPy under the name np."
   ]
  },
  {
   "cell_type": "code",
   "execution_count": 33,
   "metadata": {},
   "outputs": [],
   "source": [
    "# your code here\n",
    "import numpy as np"
   ]
  },
  {
   "cell_type": "markdown",
   "metadata": {},
   "source": [
    "#### 2. Print your NumPy version."
   ]
  },
  {
   "cell_type": "code",
   "execution_count": 34,
   "metadata": {},
   "outputs": [
    {
     "name": "stdout",
     "output_type": "stream",
     "text": [
      "1.18.1\n"
     ]
    }
   ],
   "source": [
    "# your code here\n",
    "print(np.__version__)"
   ]
  },
  {
   "cell_type": "markdown",
   "metadata": {},
   "source": [
    "#### 3. Generate a 2x3x5 3-dimensional array with random values. Assign the array to variable *a*.\n",
    "**Challenge**: there are at least three easy ways that use numpy to generate random arrays. How many ways can you find?"
   ]
  },
  {
   "cell_type": "code",
   "execution_count": 35,
   "metadata": {},
   "outputs": [
    {
     "data": {
      "text/plain": [
       "array([[[0.87168059, 0.85519852, 0.3277511 , 0.78694983, 0.99675027],\n",
       "        [0.72512239, 0.4199359 , 0.81106099, 0.82816995, 0.50518826],\n",
       "        [0.32447349, 0.50447012, 0.93504163, 0.91955065, 0.21785995]],\n",
       "\n",
       "       [[0.79956835, 0.79679953, 0.9301846 , 0.62921308, 0.19022706],\n",
       "        [0.53087749, 0.29902353, 0.68766847, 0.41584048, 0.6422458 ],\n",
       "        [0.57815905, 0.31740337, 0.76498707, 0.96037315, 0.58638103]]])"
      ]
     },
     "execution_count": 35,
     "metadata": {},
     "output_type": "execute_result"
    }
   ],
   "source": [
    "# Method 1\n",
    "a = np.random.random((2, 3, 5))\n",
    "a"
   ]
  },
  {
   "cell_type": "code",
   "execution_count": 36,
   "metadata": {},
   "outputs": [
    {
     "data": {
      "text/plain": [
       "array([[[0.54697551, 0.90660611, 0.96062445, 0.54397843, 0.69071178],\n",
       "        [0.5803701 , 0.6472441 , 0.91771607, 0.10508556, 0.86579241],\n",
       "        [0.80206584, 0.42236296, 0.93688259, 0.56155189, 0.80083929]],\n",
       "\n",
       "       [[0.93980668, 0.55054783, 0.86345282, 0.10477895, 0.38344104],\n",
       "        [0.38501488, 0.51037244, 0.23756548, 0.70624502, 0.47619574],\n",
       "        [0.548442  , 0.88542363, 0.17306609, 0.00678901, 0.04681045]]])"
      ]
     },
     "execution_count": 36,
     "metadata": {},
     "output_type": "execute_result"
    }
   ],
   "source": [
    "# Method 2\n",
    "a2 = np.random.rand(2, 3, 5)\n",
    "a2"
   ]
  },
  {
   "cell_type": "code",
   "execution_count": 37,
   "metadata": {},
   "outputs": [
    {
     "data": {
      "text/plain": [
       "array([[[0.40902884, 0.96718353, 0.25434813, 0.92129509, 0.94310643],\n",
       "        [0.9336804 , 0.34090795, 0.06762212, 0.87875411, 0.28698404],\n",
       "        [0.82600936, 0.13288875, 0.11886806, 0.79906489, 0.41591371]],\n",
       "\n",
       "       [[0.10581123, 0.56441162, 0.83141549, 0.43576132, 0.54446687],\n",
       "        [0.12473125, 0.6381086 , 0.70356619, 0.23634458, 0.2876001 ],\n",
       "        [0.03882927, 0.99876441, 0.26884889, 0.67498926, 0.92798151]]])"
      ]
     },
     "execution_count": 37,
     "metadata": {},
     "output_type": "execute_result"
    }
   ],
   "source": [
    "# Method 3\n",
    "a3 = np.random.sample((2, 3, 5))\n",
    "a3"
   ]
  },
  {
   "cell_type": "code",
   "execution_count": 71,
   "metadata": {},
   "outputs": [
    {
     "data": {
      "text/plain": [
       "array([[[10155980, 30527090,  4616690, 32263086, 32321247],\n",
       "        [25022577,  6901809, 26345288, 35687192,  1901439],\n",
       "        [ 2421813, 27245353, 29363455, 31802435, 35365033]],\n",
       "\n",
       "       [[14381196, 20863543,  7111597, 25338407, 12197531],\n",
       "        [36285308,  9050252, 16767950, 14362845, 19775634],\n",
       "        [18698240, 16789988,  9535211, 31798665, 31864124]]])"
      ]
     },
     "execution_count": 71,
     "metadata": {},
     "output_type": "execute_result"
    }
   ],
   "source": [
    "# Method 4\n",
    "a4 = np.random.randint(1,38439582,(2,3,5))\n",
    "a4"
   ]
  },
  {
   "cell_type": "markdown",
   "metadata": {},
   "source": [
    "#### 4. Print *a*.\n"
   ]
  },
  {
   "cell_type": "code",
   "execution_count": 39,
   "metadata": {},
   "outputs": [
    {
     "name": "stdout",
     "output_type": "stream",
     "text": [
      "[[[0.87168059 0.85519852 0.3277511  0.78694983 0.99675027]\n",
      "  [0.72512239 0.4199359  0.81106099 0.82816995 0.50518826]\n",
      "  [0.32447349 0.50447012 0.93504163 0.91955065 0.21785995]]\n",
      "\n",
      " [[0.79956835 0.79679953 0.9301846  0.62921308 0.19022706]\n",
      "  [0.53087749 0.29902353 0.68766847 0.41584048 0.6422458 ]\n",
      "  [0.57815905 0.31740337 0.76498707 0.96037315 0.58638103]]]\n"
     ]
    }
   ],
   "source": [
    "# your code here\n",
    "print(a)"
   ]
  },
  {
   "cell_type": "markdown",
   "metadata": {},
   "source": [
    "#### 5. Create a 5x2x3 3-dimensional array with all values equaling 1. Assign the array to variable *b*."
   ]
  },
  {
   "cell_type": "code",
   "execution_count": 43,
   "metadata": {},
   "outputs": [],
   "source": [
    "# your code here\n",
    "b = np.ones((5, 2, 3), dtype = int)"
   ]
  },
  {
   "cell_type": "markdown",
   "metadata": {},
   "source": [
    "#### 6. Print *b*.\n"
   ]
  },
  {
   "cell_type": "code",
   "execution_count": 44,
   "metadata": {},
   "outputs": [
    {
     "name": "stdout",
     "output_type": "stream",
     "text": [
      "[[[1 1 1]\n",
      "  [1 1 1]]\n",
      "\n",
      " [[1 1 1]\n",
      "  [1 1 1]]\n",
      "\n",
      " [[1 1 1]\n",
      "  [1 1 1]]\n",
      "\n",
      " [[1 1 1]\n",
      "  [1 1 1]]\n",
      "\n",
      " [[1 1 1]\n",
      "  [1 1 1]]]\n"
     ]
    }
   ],
   "source": [
    "# your code here\n",
    "print(b)"
   ]
  },
  {
   "cell_type": "markdown",
   "metadata": {},
   "source": [
    "#### 7. Do *a* and *b* have the same size? How do you prove that in Python code?"
   ]
  },
  {
   "cell_type": "code",
   "execution_count": 46,
   "metadata": {},
   "outputs": [
    {
     "name": "stdout",
     "output_type": "stream",
     "text": [
      "True\n",
      "Yes. They do have the same size.\n"
     ]
    }
   ],
   "source": [
    "# your code here\n",
    "print(a.size == b.size)\n",
    "print(\"Yes. They do have the same size.\")"
   ]
  },
  {
   "cell_type": "markdown",
   "metadata": {},
   "source": [
    "#### 8. Are you able to add *a* and *b*? Why or why not?\n"
   ]
  },
  {
   "cell_type": "code",
   "execution_count": 52,
   "metadata": {},
   "outputs": [
    {
     "name": "stdout",
     "output_type": "stream",
     "text": [
      "No, I'm not able to add them together because they do not have the same shape.\n"
     ]
    }
   ],
   "source": [
    "# your answer here\n",
    "\n",
    "#a + b\n",
    "print(\"No, I'm not able to add them together because they do not have the same shape.\")"
   ]
  },
  {
   "cell_type": "markdown",
   "metadata": {},
   "source": [
    "#### 9. Transpose *b* so that it has the same structure of *a* (i.e. become a 2x3x5 array). Assign the transposed array to variable *c*."
   ]
  },
  {
   "cell_type": "code",
   "execution_count": 60,
   "metadata": {},
   "outputs": [
    {
     "name": "stdout",
     "output_type": "stream",
     "text": [
      "(2, 3, 5)\n"
     ]
    }
   ],
   "source": [
    "# your code here\n",
    "c = b.transpose(1,2,0) # we have to add the axis 1,2,0 so it knows the order to transpose\n",
    "print(c.shape)"
   ]
  },
  {
   "cell_type": "markdown",
   "metadata": {},
   "source": [
    "#### 10. Try to add *a* and *c*. Now it should work. Assign the sum to variable *d*. But why does it work now?"
   ]
  },
  {
   "cell_type": "code",
   "execution_count": 77,
   "metadata": {},
   "outputs": [
    {
     "data": {
      "text/plain": [
       "array([[[1.87168059, 1.85519852, 1.3277511 , 1.78694983, 1.99675027],\n",
       "        [1.72512239, 1.4199359 , 1.81106099, 1.82816995, 1.50518826],\n",
       "        [1.32447349, 1.50447012, 1.93504163, 1.91955065, 1.21785995]],\n",
       "\n",
       "       [[1.79956835, 1.79679953, 1.9301846 , 1.62921308, 1.19022706],\n",
       "        [1.53087749, 1.29902353, 1.68766847, 1.41584048, 1.6422458 ],\n",
       "        [1.57815905, 1.31740337, 1.76498707, 1.96037315, 1.58638103]]])"
      ]
     },
     "execution_count": 77,
     "metadata": {},
     "output_type": "execute_result"
    }
   ],
   "source": [
    "# your code/answer here\n",
    "d = a + c\n",
    "d\n",
    "# Now it works because they have the same shape"
   ]
  },
  {
   "cell_type": "markdown",
   "metadata": {},
   "source": [
    "#### 11. Print *a* and *d*. Notice the difference and relation of the two array in terms of the values? Explain."
   ]
  },
  {
   "cell_type": "code",
   "execution_count": 63,
   "metadata": {},
   "outputs": [
    {
     "name": "stdout",
     "output_type": "stream",
     "text": [
      "Array 'a':\n",
      " [[[0.87168059 0.85519852 0.3277511  0.78694983 0.99675027]\n",
      "  [0.72512239 0.4199359  0.81106099 0.82816995 0.50518826]\n",
      "  [0.32447349 0.50447012 0.93504163 0.91955065 0.21785995]]\n",
      "\n",
      " [[0.79956835 0.79679953 0.9301846  0.62921308 0.19022706]\n",
      "  [0.53087749 0.29902353 0.68766847 0.41584048 0.6422458 ]\n",
      "  [0.57815905 0.31740337 0.76498707 0.96037315 0.58638103]]]\n",
      "\n",
      "\n",
      "Array 'c':\n",
      " [[[1 1 1 1 1]\n",
      "  [1 1 1 1 1]\n",
      "  [1 1 1 1 1]]\n",
      "\n",
      " [[1 1 1 1 1]\n",
      "  [1 1 1 1 1]\n",
      "  [1 1 1 1 1]]]\n",
      "\n",
      "\n",
      "Array 'd':\n",
      " [[[1.87168059 1.85519852 1.3277511  1.78694983 1.99675027]\n",
      "  [1.72512239 1.4199359  1.81106099 1.82816995 1.50518826]\n",
      "  [1.32447349 1.50447012 1.93504163 1.91955065 1.21785995]]\n",
      "\n",
      " [[1.79956835 1.79679953 1.9301846  1.62921308 1.19022706]\n",
      "  [1.53087749 1.29902353 1.68766847 1.41584048 1.6422458 ]\n",
      "  [1.57815905 1.31740337 1.76498707 1.96037315 1.58638103]]]\n"
     ]
    }
   ],
   "source": [
    "# your code/answer here\n",
    "print(\"Array 'a':\\n\", a)\n",
    "print(\"\\n\")\n",
    "\n",
    "# print(\"Array 'b':\\n\", b) # b was just an array of ones\n",
    "# print(\"\\n\")\n",
    "\n",
    "print(\"Array 'c':\\n\", c) # c is b transposed to match 'a' so that we could later add them together\n",
    "print(\"\\n\")\n",
    "\n",
    "print(\"Array 'd':\\n\", d) # d is a + c, therefore d consists of just adding +1 to the array a"
   ]
  },
  {
   "cell_type": "markdown",
   "metadata": {},
   "source": [
    "#### 12. Multiply *a* and *c*. Assign the result to *e*."
   ]
  },
  {
   "cell_type": "code",
   "execution_count": 64,
   "metadata": {},
   "outputs": [
    {
     "data": {
      "text/plain": [
       "array([[[0.87168059, 0.85519852, 0.3277511 , 0.78694983, 0.99675027],\n",
       "        [0.72512239, 0.4199359 , 0.81106099, 0.82816995, 0.50518826],\n",
       "        [0.32447349, 0.50447012, 0.93504163, 0.91955065, 0.21785995]],\n",
       "\n",
       "       [[0.79956835, 0.79679953, 0.9301846 , 0.62921308, 0.19022706],\n",
       "        [0.53087749, 0.29902353, 0.68766847, 0.41584048, 0.6422458 ],\n",
       "        [0.57815905, 0.31740337, 0.76498707, 0.96037315, 0.58638103]]])"
      ]
     },
     "execution_count": 64,
     "metadata": {},
     "output_type": "execute_result"
    }
   ],
   "source": [
    "# your code here\n",
    "e = a * c\n",
    "e"
   ]
  },
  {
   "cell_type": "markdown",
   "metadata": {},
   "source": [
    "#### 13. Does *e* equal to *a*? Why or why not?\n"
   ]
  },
  {
   "cell_type": "code",
   "execution_count": 67,
   "metadata": {},
   "outputs": [
    {
     "data": {
      "text/plain": [
       "True"
      ]
     },
     "execution_count": 67,
     "metadata": {},
     "output_type": "execute_result"
    }
   ],
   "source": [
    "# your code/answer here\n",
    "np.array_equal(e, a)\n",
    "\n",
    "# Yes, it does equal to a, because c is the transpose of b, so we're essentially just multiplying a by 1"
   ]
  },
  {
   "cell_type": "markdown",
   "metadata": {},
   "source": [
    "#### 14. Identify the max, min, and mean values in *d*. Assign those values to variables *d_max*, *d_min* and *d_mean*."
   ]
  },
  {
   "cell_type": "code",
   "execution_count": 72,
   "metadata": {},
   "outputs": [
    {
     "name": "stdout",
     "output_type": "stream",
     "text": [
      "Max. value: 1.9967502723604307 \n",
      "Min. value: 1.1902270635232424 \n",
      "Mean value: 1.6386051907711976\n"
     ]
    }
   ],
   "source": [
    "# your code here\n",
    "d_max = np.amax(d)\n",
    "d_min = np.amin(d)\n",
    "d_mean = np.mean(d)\n",
    "\n",
    "print(\"Max. value:\", d_max, \"\\n\" \"Min. value:\", d_min, \"\\n\" \"Mean value:\", d_mean)"
   ]
  },
  {
   "cell_type": "markdown",
   "metadata": {},
   "source": [
    "#### 15. Now we want to label the values in *d*. First create an empty array *f* with the same shape (i.e. 2x3x5) as *d* using `np.empty`.\n"
   ]
  },
  {
   "cell_type": "code",
   "execution_count": 80,
   "metadata": {},
   "outputs": [
    {
     "data": {
      "text/plain": [
       "array([[[1.87168059, 1.85519852, 1.3277511 , 1.78694983, 1.99675027],\n",
       "        [1.72512239, 1.4199359 , 1.81106099, 1.82816995, 1.50518826],\n",
       "        [1.32447349, 1.50447012, 1.93504163, 1.91955065, 1.21785995]],\n",
       "\n",
       "       [[1.79956835, 1.79679953, 1.9301846 , 1.62921308, 1.19022706],\n",
       "        [1.53087749, 1.29902353, 1.68766847, 1.41584048, 1.6422458 ],\n",
       "        [1.57815905, 1.31740337, 1.76498707, 1.96037315, 1.58638103]]])"
      ]
     },
     "execution_count": 80,
     "metadata": {},
     "output_type": "execute_result"
    }
   ],
   "source": [
    "# your code here\n",
    "f = np.empty((2,3,5))\n",
    "f"
   ]
  },
  {
   "cell_type": "markdown",
   "metadata": {},
   "source": [
    "#### 16. Populate the values in *f*. \n",
    "\n",
    "For each value in *d*, if it's larger than *d_min* but smaller than *d_mean*, assign 25 to the corresponding value in *f*. If a value in *d* is larger than *d_mean* but smaller than *d_max*, assign 75 to the corresponding value in *f*. If a value equals to *d_mean*, assign 50 to the corresponding value in *f*. Assign 0 to the corresponding value(s) in *f* for *d_min* in *d*. Assign 100 to the corresponding value(s) in *f* for *d_max* in *d*. In the end, f should have only the following values: 0, 25, 50, 75, and 100.\n",
    "\n",
    "**Note**: you don't have to use Numpy in this question."
   ]
  },
  {
   "cell_type": "code",
   "execution_count": 81,
   "metadata": {},
   "outputs": [
    {
     "name": "stdout",
     "output_type": "stream",
     "text": [
      "[[[ 75.  75.  25.  75. 100.]\n",
      "  [ 75.  25.  75.  75.  25.]\n",
      "  [ 25.  25.  75.  75.  25.]]\n",
      "\n",
      " [[ 75.  75.  75.  25.   0.]\n",
      "  [ 25.  25.  75.  25.  75.]\n",
      "  [ 25.  25.  75.  75.  25.]]]\n"
     ]
    }
   ],
   "source": [
    "# your code here\n",
    "\n",
    "\n",
    "# Needed help in this one. Beatriz helped me out by showing her code which was the same as Marie's.\n",
    "\n",
    "#for understanding purposes\n",
    "#for x in range(d.shape[0]): \n",
    "#    for y in range(d.shape[1]):\n",
    "#        for z in range(d.shape[2]):\n",
    "#            print([x,y,z])\n",
    "        \n",
    "for x in range(d.shape[0]): # We're asking for the index 0, which in the shape (2, 3, 5) is 2 -> numb of sets\n",
    "    for y in range(d.shape[1]): # Rows\n",
    "        for z in range(d.shape[2]): # Columns\n",
    "            if d[x,y,z] > d_min and d[x,y,z] < d_mean:\n",
    "                f[x,y,z] = 25\n",
    "            elif d[x,y,z] > d_mean and d[x,y,z] < d_max:\n",
    "                f[x,y,z] = 75\n",
    "            elif d[x,y,z] == d_mean:\n",
    "                f[x,y,z] = 50\n",
    "            elif d[x,y,z] == d_max:\n",
    "                f[x,y,z] = 100\n",
    "            else:\n",
    "                f[x,y,z] = 0\n",
    "print(f)\n",
    "    \n",
    "#i in d if d_min < i < d_mean, i =25\n",
    "#i in d if d_mean < i < d_max, i =75\n",
    "#i in d if i == d_mean, i = 50\n",
    "#d_min = 0\n",
    "#d_max = 100\n"
   ]
  },
  {
   "cell_type": "markdown",
   "metadata": {},
   "source": [
    "#### 17. Print *d* and *f*. Do you have your expected *f*?\n",
    "For instance, if your *d* is:\n",
    "```python\n",
    "[[[1.85836099, 1.67064465, 1.62576044, 1.40243961, 1.88454931],\n",
    "[1.75354326, 1.69403643, 1.36729252, 1.61415071, 1.12104981],\n",
    "[1.72201435, 1.1862918 , 1.87078449, 1.7726778 , 1.88180042]],\n",
    "[[1.44747908, 1.31673383, 1.02000951, 1.52218947, 1.97066381],\n",
    "[1.79129243, 1.74983003, 1.96028037, 1.85166831, 1.65450881],\n",
    "[1.18068344, 1.9587381 , 1.00656599, 1.93402165, 1.73514584]]]\n",
    "```\n",
    "Your *f* should be:\n",
    "```python\n",
    "[[[ 75.,  75.,  75.,  25.,  75.],\n",
    "[ 75.,  75.,  25.,  25.,  25.],\n",
    "[ 75.,  25.,  75.,  75.,  75.]],\n",
    "[[ 25.,  25.,  25.,  25., 100.],\n",
    "[ 75.,  75.,  75.,  75.,  75.],\n",
    "[ 25.,  75.,   0.,  75.,  75.]]]\n",
    "```"
   ]
  },
  {
   "cell_type": "code",
   "execution_count": 83,
   "metadata": {},
   "outputs": [
    {
     "name": "stdout",
     "output_type": "stream",
     "text": [
      "[[[1.87168059 1.85519852 1.3277511  1.78694983 1.99675027]\n",
      "  [1.72512239 1.4199359  1.81106099 1.82816995 1.50518826]\n",
      "  [1.32447349 1.50447012 1.93504163 1.91955065 1.21785995]]\n",
      "\n",
      " [[1.79956835 1.79679953 1.9301846  1.62921308 1.19022706]\n",
      "  [1.53087749 1.29902353 1.68766847 1.41584048 1.6422458 ]\n",
      "  [1.57815905 1.31740337 1.76498707 1.96037315 1.58638103]]]\n",
      "\n",
      "\n",
      "[[[ 75.  75.  25.  75. 100.]\n",
      "  [ 75.  25.  75.  75.  25.]\n",
      "  [ 25.  25.  75.  75.  25.]]\n",
      "\n",
      " [[ 75.  75.  75.  25.   0.]\n",
      "  [ 25.  25.  75.  25.  75.]\n",
      "  [ 25.  25.  75.  75.  25.]]]\n"
     ]
    }
   ],
   "source": [
    "# your code here\n",
    "print(d)\n",
    "print('\\n')\n",
    "print(f)"
   ]
  },
  {
   "cell_type": "markdown",
   "metadata": {},
   "source": [
    "#### 18. Bonus question: instead of using numbers (i.e. 0, 25, 50, 75, and 100), use string values  (\"A\", \"B\", \"C\", \"D\", and \"E\") to label the array elements. For the example above, the expected result is:\n",
    "\n",
    "```python\n",
    "[[[ 'D',  'D',  'D',  'B',  'D'],\n",
    "[ 'D',  'D',  'B',  'B',  'B'],\n",
    "[ 'D',  'B',  'D',  'D',  'D']],\n",
    "[[ 'B',  'B',  'B',  'B',  'E'],\n",
    "[ 'D',  'D',  'D',  'D',  'D'],\n",
    "[ 'B',  'D',   'A',  'D', 'D']]]\n",
    "```\n",
    "**Note**: you don't have to use Numpy in this question."
   ]
  },
  {
   "cell_type": "code",
   "execution_count": 84,
   "metadata": {},
   "outputs": [
    {
     "name": "stdout",
     "output_type": "stream",
     "text": [
      "[[['D' 'D' 'B' 'D' 'E']\n",
      "  ['D' 'B' 'D' 'D' 'B']\n",
      "  ['B' 'B' 'D' 'D' 'B']]\n",
      "\n",
      " [['D' 'D' 'D' 'B' 'E']\n",
      "  ['B' 'B' 'D' 'B' 'D']\n",
      "  ['B' 'B' 'D' 'D' 'B']]]\n"
     ]
    }
   ],
   "source": [
    "# your code here\n",
    "\n",
    "#arr = np.array([-3-2-1,0,1,2,3,4,5,6])\n",
    "#new_arr = np.zeros(shape = arr.shape, dtype=np.str)\n",
    "\n",
    "#new_arr[(arr>3)] = 'S'\n",
    "#new_arr[((arr>=-3) & (arr<=-1))] = 'F'\n",
    "#new_arr[((arr>=0)&(arr<=3))] = 'M'\n",
    "#new_arr\n",
    "#array(['', 'M', 'M', 'M', 'M', 'S', 'S', 'S'], dtype='<U1')\n",
    "\n",
    "#for understanding purposes\n",
    "\n",
    "new_arrf = np.zeros(shape = f.shape, dtype=np.str)\n",
    "for x in range(f.shape[0]):  \n",
    "    for y in range(f.shape[1]):\n",
    "        for z in range(f.shape[2]):\n",
    "            if f[x,y,z] == 25:\n",
    "                new_arrf[x,y,z] = 'B'\n",
    "            elif f[x,y,z] == 75:\n",
    "                new_arrf[x,y,z] = 'D'\n",
    "            elif f[x,y,z] == 50:\n",
    "                new_arrf[x,y,z] = 'C'\n",
    "            elif f[x,y,z] == 50:\n",
    "                new_arrf[x,y,z] = 'A'\n",
    "            else:\n",
    "                new_arrf[x,y,z] = 'E'\n",
    "print(new_arrf)\n",
    "    \n",
    "#i in d if d_min < i < d_mean, i =25\n",
    "#i in d if d_mean < i < d_max, i =75\n",
    "#i in d if i == d_mean, i = 50\n",
    "#d_min = 0\n",
    "#d_max = 100"
   ]
  }
 ],
 "metadata": {
  "kernelspec": {
   "display_name": "Python 3",
   "language": "python",
   "name": "python3"
  },
  "language_info": {
   "codemirror_mode": {
    "name": "ipython",
    "version": 3
   },
   "file_extension": ".py",
   "mimetype": "text/x-python",
   "name": "python",
   "nbconvert_exporter": "python",
   "pygments_lexer": "ipython3",
   "version": "3.7.5"
  }
 },
 "nbformat": 4,
 "nbformat_minor": 2
}
