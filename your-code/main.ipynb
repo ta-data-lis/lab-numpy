{
 "cells": [
  {
   "cell_type": "markdown",
   "metadata": {},
   "source": [
    "# Intrduction to NumPy\n",
    "\n",
    "\n",
    "#### 1. Import NumPy under the name np."
   ]
  },
  {
   "cell_type": "code",
   "execution_count": 1,
   "metadata": {},
   "outputs": [],
   "source": [
    "# your code here\n",
    "import numpy as np"
   ]
  },
  {
   "cell_type": "markdown",
   "metadata": {},
   "source": [
    "#### 2. Print your NumPy version."
   ]
  },
  {
   "cell_type": "code",
   "execution_count": 2,
   "metadata": {},
   "outputs": [
    {
     "data": {
      "text/plain": [
       "'1.20.3'"
      ]
     },
     "execution_count": 2,
     "metadata": {},
     "output_type": "execute_result"
    }
   ],
   "source": [
    "# your code here\n",
    "np.__version__"
   ]
  },
  {
   "cell_type": "markdown",
   "metadata": {},
   "source": [
    "#### 3. Generate a 2x3x5 3-dimensional array with random values. Assign the array to variable *a*.\n",
    "**Challenge**: there are at least three easy ways that use numpy to generate random arrays. How many ways can you find?"
   ]
  },
  {
   "cell_type": "code",
   "execution_count": 3,
   "metadata": {},
   "outputs": [
    {
     "data": {
      "text/plain": [
       "array([[[0.78917057, 0.72776751, 0.38574475, 0.34578259, 0.16711561],\n",
       "        [0.87780448, 0.48550729, 0.75731685, 0.69283172, 0.59813658],\n",
       "        [0.36573392, 0.96806535, 0.61794327, 0.16516799, 0.15350497]],\n",
       "\n",
       "       [[0.36719095, 0.73682834, 0.81086404, 0.93168058, 0.76506046],\n",
       "        [0.01195392, 0.69987299, 0.85849873, 0.84643551, 0.0766242 ],\n",
       "        [0.00921332, 0.32827608, 0.81099497, 0.35438328, 0.76695139]]])"
      ]
     },
     "execution_count": 3,
     "metadata": {},
     "output_type": "execute_result"
    }
   ],
   "source": [
    "# Method 1\n",
    "a = np.random.random(size =(2,3,5))\n",
    "a"
   ]
  },
  {
   "cell_type": "code",
   "execution_count": 4,
   "metadata": {},
   "outputs": [
    {
     "data": {
      "text/plain": [
       "array([[[60, 93, 92, 37, 90],\n",
       "        [27, 48, 29,  6, 63],\n",
       "        [23, 98, 10, 75, 73]],\n",
       "\n",
       "       [[44,  8, 74, 41,  8],\n",
       "        [39, 25, 16, 90, 34],\n",
       "        [44,  3, 55, 68, 46]]])"
      ]
     },
     "execution_count": 4,
     "metadata": {},
     "output_type": "execute_result"
    }
   ],
   "source": [
    "# Method 2\n",
    "a = np.random.randint(100, size=(2,3, 5))\n",
    "a"
   ]
  },
  {
   "cell_type": "code",
   "execution_count": 5,
   "metadata": {},
   "outputs": [
    {
     "data": {
      "text/plain": [
       "array([[[0.17414738, 0.96398478, 0.00427823, 0.61376339, 0.74519894],\n",
       "        [0.6884615 , 0.29248112, 0.02226616, 0.93656423, 0.06743907],\n",
       "        [0.77932254, 0.80178279, 0.38295666, 0.24819733, 0.02222811]],\n",
       "\n",
       "       [[0.30842358, 0.8524591 , 0.10480512, 0.64130288, 0.3435161 ],\n",
       "        [0.09683002, 0.64596585, 0.67274443, 0.91593005, 0.31344192],\n",
       "        [0.30796629, 0.1767896 , 0.41718149, 0.0342524 , 0.59654723]]])"
      ]
     },
     "execution_count": 5,
     "metadata": {},
     "output_type": "execute_result"
    }
   ],
   "source": [
    "# Method 3\n",
    "a=np.random.random_sample((2,3,5))\n",
    "a"
   ]
  },
  {
   "cell_type": "markdown",
   "metadata": {},
   "source": [
    "#### 4. Print *a*.\n"
   ]
  },
  {
   "cell_type": "code",
   "execution_count": 6,
   "metadata": {},
   "outputs": [
    {
     "data": {
      "text/plain": [
       "array([[[0.17414738, 0.96398478, 0.00427823, 0.61376339, 0.74519894],\n",
       "        [0.6884615 , 0.29248112, 0.02226616, 0.93656423, 0.06743907],\n",
       "        [0.77932254, 0.80178279, 0.38295666, 0.24819733, 0.02222811]],\n",
       "\n",
       "       [[0.30842358, 0.8524591 , 0.10480512, 0.64130288, 0.3435161 ],\n",
       "        [0.09683002, 0.64596585, 0.67274443, 0.91593005, 0.31344192],\n",
       "        [0.30796629, 0.1767896 , 0.41718149, 0.0342524 , 0.59654723]]])"
      ]
     },
     "execution_count": 6,
     "metadata": {},
     "output_type": "execute_result"
    }
   ],
   "source": [
    "# your code here\n",
    "a"
   ]
  },
  {
   "cell_type": "markdown",
   "metadata": {},
   "source": [
    "#### 5. Create a 5x2x3 3-dimensional array with all values equaling 1. Assign the array to variable *b*."
   ]
  },
  {
   "cell_type": "code",
   "execution_count": 7,
   "metadata": {},
   "outputs": [],
   "source": [
    "# your code here\n",
    "b = np.ones((5,2,3),dtype = int)"
   ]
  },
  {
   "cell_type": "markdown",
   "metadata": {},
   "source": [
    "#### 6. Print *b*.\n"
   ]
  },
  {
   "cell_type": "code",
   "execution_count": 8,
   "metadata": {},
   "outputs": [
    {
     "data": {
      "text/plain": [
       "array([[[1, 1, 1],\n",
       "        [1, 1, 1]],\n",
       "\n",
       "       [[1, 1, 1],\n",
       "        [1, 1, 1]],\n",
       "\n",
       "       [[1, 1, 1],\n",
       "        [1, 1, 1]],\n",
       "\n",
       "       [[1, 1, 1],\n",
       "        [1, 1, 1]],\n",
       "\n",
       "       [[1, 1, 1],\n",
       "        [1, 1, 1]]])"
      ]
     },
     "execution_count": 8,
     "metadata": {},
     "output_type": "execute_result"
    }
   ],
   "source": [
    "# your code here\n",
    "b"
   ]
  },
  {
   "cell_type": "markdown",
   "metadata": {},
   "source": [
    "#### 7. Do *a* and *b* have the same size? How do you prove that in Python code?"
   ]
  },
  {
   "cell_type": "code",
   "execution_count": 9,
   "metadata": {},
   "outputs": [
    {
     "data": {
      "text/plain": [
       "False"
      ]
     },
     "execution_count": 9,
     "metadata": {},
     "output_type": "execute_result"
    }
   ],
   "source": [
    "# your code here\n",
    "a.shape == b.shape"
   ]
  },
  {
   "cell_type": "markdown",
   "metadata": {},
   "source": [
    "#### 8. Are you able to add *a* and *b*? Why or why not?\n"
   ]
  },
  {
   "cell_type": "code",
   "execution_count": 10,
   "metadata": {},
   "outputs": [
    {
     "name": "stdout",
     "output_type": "stream",
     "text": [
      "(2, 3, 5)\n",
      "(5, 2, 3)\n"
     ]
    },
    {
     "data": {
      "text/plain": [
       "array([[[1.17414738, 1.96398478, 1.00427823, 1.61376339, 1.74519894],\n",
       "        [1.6884615 , 1.29248112, 1.02226616, 1.93656423, 1.06743907],\n",
       "        [1.77932254, 1.80178279, 1.38295666, 1.24819733, 1.02222811]],\n",
       "\n",
       "       [[1.30842358, 1.8524591 , 1.10480512, 1.64130288, 1.3435161 ],\n",
       "        [1.09683002, 1.64596585, 1.67274443, 1.91593005, 1.31344192],\n",
       "        [1.30796629, 1.1767896 , 1.41718149, 1.0342524 , 1.59654723]]])"
      ]
     },
     "execution_count": 10,
     "metadata": {},
     "output_type": "execute_result"
    }
   ],
   "source": [
    "# your answer here\n",
    "print(a.shape)\n",
    "print(b.shape)\n",
    "#It is possible (AFTER RESHAPING) because the result of the multiplication\n",
    "##of the shape is equal in both\n",
    "\n",
    "resh_b = b.reshape(2,3,5)\n",
    "a + resh_b"
   ]
  },
  {
   "cell_type": "markdown",
   "metadata": {},
   "source": [
    "#### 9. Transpose *b* so that it has the same structure of *a* (i.e. become a 2x3x5 array). Assign the transposed array to variable *c*."
   ]
  },
  {
   "cell_type": "code",
   "execution_count": 11,
   "metadata": {},
   "outputs": [
    {
     "data": {
      "text/plain": [
       "array([[[1, 1, 1, 1, 1],\n",
       "        [1, 1, 1, 1, 1],\n",
       "        [1, 1, 1, 1, 1]],\n",
       "\n",
       "       [[1, 1, 1, 1, 1],\n",
       "        [1, 1, 1, 1, 1],\n",
       "        [1, 1, 1, 1, 1]]])"
      ]
     },
     "execution_count": 11,
     "metadata": {},
     "output_type": "execute_result"
    }
   ],
   "source": [
    "# your code here\n",
    "#c = b.transpose()     ##not transposing to the same shape of a\n",
    "                       ##transposing from (5, 2, 3) to (3, 2, 5)\n",
    "c = b.reshape(2,3,5)\n",
    "c"
   ]
  },
  {
   "cell_type": "markdown",
   "metadata": {},
   "source": [
    "#### 10. Try to add *a* and *c*. Now it should work. Assign the sum to variable *d*. But why does it work now?"
   ]
  },
  {
   "cell_type": "code",
   "execution_count": 12,
   "metadata": {},
   "outputs": [
    {
     "data": {
      "text/plain": [
       "array([[[1.17414738, 1.96398478, 1.00427823, 1.61376339, 1.74519894],\n",
       "        [1.6884615 , 1.29248112, 1.02226616, 1.93656423, 1.06743907],\n",
       "        [1.77932254, 1.80178279, 1.38295666, 1.24819733, 1.02222811]],\n",
       "\n",
       "       [[1.30842358, 1.8524591 , 1.10480512, 1.64130288, 1.3435161 ],\n",
       "        [1.09683002, 1.64596585, 1.67274443, 1.91593005, 1.31344192],\n",
       "        [1.30796629, 1.1767896 , 1.41718149, 1.0342524 , 1.59654723]]])"
      ]
     },
     "execution_count": 12,
     "metadata": {},
     "output_type": "execute_result"
    }
   ],
   "source": [
    "# your code/answer here\n",
    "d = a + c\n",
    "d"
   ]
  },
  {
   "cell_type": "markdown",
   "metadata": {},
   "source": [
    "#### 11. Print *a* and *d*. Notice the difference and relation of the two array in terms of the values? Explain."
   ]
  },
  {
   "cell_type": "code",
   "execution_count": 13,
   "metadata": {},
   "outputs": [
    {
     "name": "stdout",
     "output_type": "stream",
     "text": [
      "[[[0.17414738 0.96398478 0.00427823 0.61376339 0.74519894]\n",
      "  [0.6884615  0.29248112 0.02226616 0.93656423 0.06743907]\n",
      "  [0.77932254 0.80178279 0.38295666 0.24819733 0.02222811]]\n",
      "\n",
      " [[0.30842358 0.8524591  0.10480512 0.64130288 0.3435161 ]\n",
      "  [0.09683002 0.64596585 0.67274443 0.91593005 0.31344192]\n",
      "  [0.30796629 0.1767896  0.41718149 0.0342524  0.59654723]]]\n",
      "[[[1.17414738 1.96398478 1.00427823 1.61376339 1.74519894]\n",
      "  [1.6884615  1.29248112 1.02226616 1.93656423 1.06743907]\n",
      "  [1.77932254 1.80178279 1.38295666 1.24819733 1.02222811]]\n",
      "\n",
      " [[1.30842358 1.8524591  1.10480512 1.64130288 1.3435161 ]\n",
      "  [1.09683002 1.64596585 1.67274443 1.91593005 1.31344192]\n",
      "  [1.30796629 1.1767896  1.41718149 1.0342524  1.59654723]]]\n"
     ]
    }
   ],
   "source": [
    "# your code/answer here\n",
    "print(a)\n",
    "print(d)     ##The array d has the a values plus 1"
   ]
  },
  {
   "cell_type": "markdown",
   "metadata": {},
   "source": [
    "#### 12. Multiply *a* and *c*. Assign the result to *e*."
   ]
  },
  {
   "cell_type": "code",
   "execution_count": 14,
   "metadata": {},
   "outputs": [
    {
     "data": {
      "text/plain": [
       "array([[[0.17414738, 0.96398478, 0.00427823, 0.61376339, 0.74519894],\n",
       "        [0.6884615 , 0.29248112, 0.02226616, 0.93656423, 0.06743907],\n",
       "        [0.77932254, 0.80178279, 0.38295666, 0.24819733, 0.02222811]],\n",
       "\n",
       "       [[0.30842358, 0.8524591 , 0.10480512, 0.64130288, 0.3435161 ],\n",
       "        [0.09683002, 0.64596585, 0.67274443, 0.91593005, 0.31344192],\n",
       "        [0.30796629, 0.1767896 , 0.41718149, 0.0342524 , 0.59654723]]])"
      ]
     },
     "execution_count": 14,
     "metadata": {},
     "output_type": "execute_result"
    }
   ],
   "source": [
    "# your code here\n",
    "e = a * c\n",
    "e"
   ]
  },
  {
   "cell_type": "markdown",
   "metadata": {},
   "source": [
    "#### 13. Does *e* equal to *a*? Why or why not?\n"
   ]
  },
  {
   "cell_type": "code",
   "execution_count": 15,
   "metadata": {},
   "outputs": [
    {
     "data": {
      "text/plain": [
       "array([[[ True,  True,  True,  True,  True],\n",
       "        [ True,  True,  True,  True,  True],\n",
       "        [ True,  True,  True,  True,  True]],\n",
       "\n",
       "       [[ True,  True,  True,  True,  True],\n",
       "        [ True,  True,  True,  True,  True],\n",
       "        [ True,  True,  True,  True,  True]]])"
      ]
     },
     "execution_count": 15,
     "metadata": {},
     "output_type": "execute_result"
    }
   ],
   "source": [
    "# your code/answer here\n",
    "e == a\n",
    "#yes because the values in e are the multiplication of a values by 1"
   ]
  },
  {
   "cell_type": "markdown",
   "metadata": {},
   "source": [
    "#### 14. Identify the max, min, and mean values in *d*. Assign those values to variables *d_max*, *d_min* and *d_mean*."
   ]
  },
  {
   "cell_type": "code",
   "execution_count": 16,
   "metadata": {},
   "outputs": [
    {
     "name": "stdout",
     "output_type": "stream",
     "text": [
      "d_max is 1.9639847765850256\n",
      "d_min is 1.0042782305221736\n",
      "d_mean is 1.439040943263058\n"
     ]
    }
   ],
   "source": [
    "# your code here\n",
    "d_max = np.max(d)\n",
    "print(f'd_max is {d_max}')\n",
    "d_min = np.min(d)\n",
    "print(f'd_min is {d_min}')\n",
    "d_mean = np.mean(d)\n",
    "print(f'd_mean is {d_mean}')"
   ]
  },
  {
   "cell_type": "markdown",
   "metadata": {},
   "source": [
    "#### 15. Now we want to label the values in *d*. First create an empty array *f* with the same shape (i.e. 2x3x5) as *d* using `np.empty`.\n"
   ]
  },
  {
   "cell_type": "code",
   "execution_count": 17,
   "metadata": {},
   "outputs": [
    {
     "data": {
      "text/plain": [
       "array([[[0.17414738, 0.96398478, 0.00427823, 0.61376339, 0.74519894],\n",
       "        [0.6884615 , 0.29248112, 0.02226616, 0.93656423, 0.06743907],\n",
       "        [0.77932254, 0.80178279, 0.38295666, 0.24819733, 0.02222811]],\n",
       "\n",
       "       [[0.30842358, 0.8524591 , 0.10480512, 0.64130288, 0.3435161 ],\n",
       "        [0.09683002, 0.64596585, 0.67274443, 0.91593005, 0.31344192],\n",
       "        [0.30796629, 0.1767896 , 0.41718149, 0.0342524 , 0.59654723]]])"
      ]
     },
     "execution_count": 17,
     "metadata": {},
     "output_type": "execute_result"
    }
   ],
   "source": [
    "# your code here\n",
    "f = np.empty(shape=(2,3,5))\n",
    "f"
   ]
  },
  {
   "cell_type": "markdown",
   "metadata": {},
   "source": [
    "#### 16. Populate the values in *f*. \n",
    "\n",
    "For each value in *d*, if it's larger than *d_min* but smaller than *d_mean*, assign 25 to the corresponding value in *f*. If a value in *d* is larger than *d_mean* but smaller than *d_max*, assign 75 to the corresponding value in *f*. If a value equals to *d_mean*, assign 50 to the corresponding value in *f*. Assign 0 to the corresponding value(s) in *f* for *d_min* in *d*. Assign 100 to the corresponding value(s) in *f* for *d_max* in *d*. In the end, f should have only the following values: 0, 25, 50, 75, and 100.\n",
    "\n",
    "**Note**: you don't have to use Numpy in this question."
   ]
  },
  {
   "cell_type": "code",
   "execution_count": 19,
   "metadata": {},
   "outputs": [
    {
     "name": "stdout",
     "output_type": "stream",
     "text": [
      "[[[1.17414738 1.96398478 1.00427823 1.61376339 1.74519894]\n",
      "  [1.6884615  1.29248112 1.02226616 1.93656423 1.06743907]\n",
      "  [1.77932254 1.80178279 1.38295666 1.24819733 1.02222811]]\n",
      "\n",
      " [[1.30842358 1.8524591  1.10480512 1.64130288 1.3435161 ]\n",
      "  [1.09683002 1.64596585 1.67274443 1.91593005 1.31344192]\n",
      "  [1.30796629 1.1767896  1.41718149 1.0342524  1.59654723]]]\n"
     ]
    },
    {
     "data": {
      "text/plain": [
       "array([[[ 25, 100,   0,  75,  75],\n",
       "        [ 75,  25,  25,  75,  25],\n",
       "        [ 75,  75,  25,  25,  25]],\n",
       "\n",
       "       [[ 25,  75,  25,  75,  25],\n",
       "        [ 25,  75,  75,  75,  25],\n",
       "        [ 25,  25,  25,  25,  75]]])"
      ]
     },
     "execution_count": 19,
     "metadata": {},
     "output_type": "execute_result"
    }
   ],
   "source": [
    "# your code here\n",
    "print(d)\n",
    "#d_max is 1.993729308044249\n",
    "#d_min is 1.0117399139742211\n",
    "#d_mean is 1.482211832297412\n",
    "f = []\n",
    "for el in np.nditer(d):      #method for iterating an array\n",
    "    if d_min < el < d_mean:\n",
    "        f += [25]\n",
    "    if d_mean < el < d_max:\n",
    "        f += [75]\n",
    "    if el == d_mean:\n",
    "        f += [50]\n",
    "    if el == d_min:\n",
    "        f += [0]\n",
    "    if el == d_max:\n",
    "        f += [100]\n",
    "\n",
    "f=np.reshape(f, (2,3,5))\n",
    "f"
   ]
  },
  {
   "cell_type": "markdown",
   "metadata": {},
   "source": [
    "#### 17. Print *d* and *f*. Do you have your expected *f*?\n",
    "For instance, if your *d* is:\n",
    "```python\n",
    "[[[1.85836099, 1.67064465, 1.62576044, 1.40243961, 1.88454931],\n",
    "[1.75354326, 1.69403643, 1.36729252, 1.61415071, 1.12104981],\n",
    "[1.72201435, 1.1862918 , 1.87078449, 1.7726778 , 1.88180042]],\n",
    "[[1.44747908, 1.31673383, 1.02000951, 1.52218947, 1.97066381],\n",
    "[1.79129243, 1.74983003, 1.96028037, 1.85166831, 1.65450881],\n",
    "[1.18068344, 1.9587381 , 1.00656599, 1.93402165, 1.73514584]]]\n",
    "```\n",
    "Your *f* should be:\n",
    "```python\n",
    "[[[ 75.,  75.,  75.,  25.,  75.],\n",
    "[ 75.,  75.,  25.,  25.,  25.],\n",
    "[ 75.,  25.,  75.,  75.,  75.]],\n",
    "[[ 25.,  25.,  25.,  25., 100.],\n",
    "[ 75.,  75.,  75.,  75.,  75.],\n",
    "[ 25.,  75.,   0.,  75.,  75.]]]\n",
    "```"
   ]
  },
  {
   "cell_type": "code",
   "execution_count": 20,
   "metadata": {},
   "outputs": [
    {
     "name": "stdout",
     "output_type": "stream",
     "text": [
      "[[[1.17414738 1.96398478 1.00427823 1.61376339 1.74519894]\n",
      "  [1.6884615  1.29248112 1.02226616 1.93656423 1.06743907]\n",
      "  [1.77932254 1.80178279 1.38295666 1.24819733 1.02222811]]\n",
      "\n",
      " [[1.30842358 1.8524591  1.10480512 1.64130288 1.3435161 ]\n",
      "  [1.09683002 1.64596585 1.67274443 1.91593005 1.31344192]\n",
      "  [1.30796629 1.1767896  1.41718149 1.0342524  1.59654723]]]\n",
      "[[[ 25 100   0  75  75]\n",
      "  [ 75  25  25  75  25]\n",
      "  [ 75  75  25  25  25]]\n",
      "\n",
      " [[ 25  75  25  75  25]\n",
      "  [ 25  75  75  75  25]\n",
      "  [ 25  25  25  25  75]]]\n"
     ]
    }
   ],
   "source": [
    "# your code here\n",
    "print(d)\n",
    "print(f)"
   ]
  },
  {
   "cell_type": "markdown",
   "metadata": {},
   "source": [
    "#### 18. Bonus question: instead of using numbers (i.e. 0, 25, 50, 75, and 100), use string values  (\"A\", \"B\", \"C\", \"D\", and \"E\") to label the array elements. For the example above, the expected result is:\n",
    "\n",
    "```python\n",
    "[[[ 'D',  'D',  'D',  'B',  'D'],\n",
    "[ 'D',  'D',  'B',  'B',  'B'],\n",
    "[ 'D',  'B',  'D',  'D',  'D']],\n",
    "[[ 'B',  'B',  'B',  'B',  'E'],\n",
    "[ 'D',  'D',  'D',  'D',  'D'],\n",
    "[ 'B',  'D',   'A',  'D', 'D']]]\n",
    "```\n",
    "**Note**: you don't have to use Numpy in this question."
   ]
  },
  {
   "cell_type": "code",
   "execution_count": 22,
   "metadata": {},
   "outputs": [
    {
     "data": {
      "text/plain": [
       "array([[['A', 'E', 'D', 'B', 'B'],\n",
       "        ['B', 'A', 'A', 'B', 'A'],\n",
       "        ['B', 'B', 'A', 'A', 'A']],\n",
       "\n",
       "       [['A', 'B', 'A', 'B', 'A'],\n",
       "        ['A', 'B', 'B', 'B', 'A'],\n",
       "        ['A', 'A', 'A', 'A', 'B']]], dtype='<U1')"
      ]
     },
     "execution_count": 22,
     "metadata": {},
     "output_type": "execute_result"
    }
   ],
   "source": [
    "# your code here\n",
    "f = []\n",
    "for el in np.nditer(d):      #method for iterating an array\n",
    "    if d_min < el < d_mean:\n",
    "        f += ['A']\n",
    "    if d_mean < el < d_max:\n",
    "        f += ['B']\n",
    "    if el == d_mean:\n",
    "        f += ['C']\n",
    "    if el == d_min:\n",
    "        f += ['D']\n",
    "    if el == d_max:\n",
    "        f += ['E']\n",
    "\n",
    "f=np.reshape(f, (2,3,5))\n",
    "f"
   ]
  },
  {
   "cell_type": "code",
   "execution_count": null,
   "metadata": {},
   "outputs": [],
   "source": []
  }
 ],
 "metadata": {
  "kernelspec": {
   "display_name": "Python 3 (ipykernel)",
   "language": "python",
   "name": "python3"
  },
  "language_info": {
   "codemirror_mode": {
    "name": "ipython",
    "version": 3
   },
   "file_extension": ".py",
   "mimetype": "text/x-python",
   "name": "python",
   "nbconvert_exporter": "python",
   "pygments_lexer": "ipython3",
   "version": "3.9.7"
  }
 },
 "nbformat": 4,
 "nbformat_minor": 2
}
