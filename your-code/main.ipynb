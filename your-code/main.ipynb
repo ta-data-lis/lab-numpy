{
 "cells": [
  {
   "cell_type": "markdown",
   "metadata": {},
   "source": [
    "# Intrduction to NumPy\n",
    "\n",
    "\n",
    "#### 1. Import NumPy under the name np."
   ]
  },
  {
   "cell_type": "code",
   "execution_count": 1,
   "metadata": {},
   "outputs": [],
   "source": [
    "# your code here\n",
    "import numpy as np"
   ]
  },
  {
   "cell_type": "markdown",
   "metadata": {},
   "source": [
    "#### 2. Print your NumPy version."
   ]
  },
  {
   "cell_type": "code",
   "execution_count": 2,
   "metadata": {},
   "outputs": [
    {
     "name": "stdout",
     "output_type": "stream",
     "text": [
      "1.16.4\n"
     ]
    }
   ],
   "source": [
    "# your code here\n",
    "print(np.__version__)"
   ]
  },
  {
   "cell_type": "markdown",
   "metadata": {},
   "source": [
    "#### 3. Generate a 2x3x5 3-dimensional array with random values. Assign the array to variable *a*.\n",
    "**Challenge**: there are at least three easy ways that use numpy to generate random arrays. How many ways can you find?"
   ]
  },
  {
   "cell_type": "code",
   "execution_count": 3,
   "metadata": {},
   "outputs": [
    {
     "name": "stdout",
     "output_type": "stream",
     "text": [
      "[[[0.58269494 0.21200737 0.74602857 0.12338075 0.91847877]\n",
      "  [0.95318303 0.33045932 0.9076762  0.51278527 0.65186261]\n",
      "  [0.47587046 0.10350682 0.32363821 0.21591805 0.840699  ]]\n",
      "\n",
      " [[0.2347698  0.92434874 0.53761246 0.45768947 0.57105486]\n",
      "  [0.0083586  0.29649951 0.49445554 0.95444835 0.13078967]\n",
      "  [0.01784564 0.74852566 0.96493281 0.13508983 0.01601079]]]\n"
     ]
    }
   ],
   "source": [
    "# Method 1\n",
    "a=np.random.random((2,3,5))\n",
    "print(a)"
   ]
  },
  {
   "cell_type": "code",
   "execution_count": 4,
   "metadata": {},
   "outputs": [
    {
     "name": "stdout",
     "output_type": "stream",
     "text": [
      "[[[0.71596514 0.01716128 0.08159316 0.20260849 0.2860153 ]\n",
      "  [0.29387206 0.02556175 0.11013146 0.31051021 0.23457181]\n",
      "  [0.37262503 0.30425142 0.30379861 0.68827857 0.00711368]]\n",
      "\n",
      " [[0.53122322 0.0028232  0.89557607 0.78996196 0.09317764]\n",
      "  [0.70080278 0.90398644 0.25529167 0.6398528  0.46727099]\n",
      "  [0.72700476 0.35147833 0.73731613 0.01267415 0.40841375]]]\n"
     ]
    }
   ],
   "source": [
    "# Method 2\n",
    "a=np.random.random(size=(2,3,5))\n",
    "print(a)"
   ]
  },
  {
   "cell_type": "code",
   "execution_count": 5,
   "metadata": {},
   "outputs": [
    {
     "name": "stdout",
     "output_type": "stream",
     "text": [
      "[[[0.93626277 0.59404586 0.84827772 0.97780841 0.91407224]\n",
      "  [0.07700006 0.90866235 0.57853529 0.22291791 0.56588149]\n",
      "  [0.91807672 0.70457539 0.53862645 0.85424835 0.50659547]]\n",
      "\n",
      " [[0.45566715 0.3521729  0.62702057 0.31244542 0.46499476]\n",
      "  [0.07518685 0.67098621 0.308703   0.41996144 0.66333963]\n",
      "  [0.85516042 0.31060401 0.23809239 0.30067083 0.48092262]]]\n"
     ]
    }
   ],
   "source": [
    "# Method 3\n",
    "a=np.random.rand(2,3,5)\n",
    "print(a)"
   ]
  },
  {
   "cell_type": "markdown",
   "metadata": {},
   "source": [
    "#### 4. Print *a*.\n"
   ]
  },
  {
   "cell_type": "code",
   "execution_count": 6,
   "metadata": {},
   "outputs": [],
   "source": [
    "# your code here\n",
    "# Already answered in the previous question"
   ]
  },
  {
   "cell_type": "markdown",
   "metadata": {},
   "source": [
    "#### 5. Create a 5x2x3 3-dimensional array with all values equaling 1. Assign the array to variable *b*."
   ]
  },
  {
   "cell_type": "code",
   "execution_count": 7,
   "metadata": {},
   "outputs": [],
   "source": [
    "# your code here\n",
    "b= np.ones(shape=(5,2,3))"
   ]
  },
  {
   "cell_type": "markdown",
   "metadata": {},
   "source": [
    "#### 6. Print *b*.\n"
   ]
  },
  {
   "cell_type": "code",
   "execution_count": 8,
   "metadata": {},
   "outputs": [
    {
     "name": "stdout",
     "output_type": "stream",
     "text": [
      "[[[1. 1. 1.]\n",
      "  [1. 1. 1.]]\n",
      "\n",
      " [[1. 1. 1.]\n",
      "  [1. 1. 1.]]\n",
      "\n",
      " [[1. 1. 1.]\n",
      "  [1. 1. 1.]]\n",
      "\n",
      " [[1. 1. 1.]\n",
      "  [1. 1. 1.]]\n",
      "\n",
      " [[1. 1. 1.]\n",
      "  [1. 1. 1.]]]\n"
     ]
    }
   ],
   "source": [
    "# your code here\n",
    "print(b)"
   ]
  },
  {
   "cell_type": "markdown",
   "metadata": {},
   "source": [
    "#### 7. Do *a* and *b* have the same size? How do you prove that in Python code?"
   ]
  },
  {
   "cell_type": "code",
   "execution_count": 9,
   "metadata": {},
   "outputs": [
    {
     "data": {
      "text/plain": [
       "True"
      ]
     },
     "execution_count": 9,
     "metadata": {},
     "output_type": "execute_result"
    }
   ],
   "source": [
    "# your code here\n",
    "# Yes they do. We compare the size of eachother and check if it's true or not\n",
    "a.size==b.size"
   ]
  },
  {
   "cell_type": "markdown",
   "metadata": {},
   "source": [
    "#### 8. Are you able to add *a* and *b*? Why or why not?\n"
   ]
  },
  {
   "cell_type": "code",
   "execution_count": 10,
   "metadata": {},
   "outputs": [],
   "source": [
    "# your answer here\n",
    "# Yes we are, because they have the same size. However, as they don't have the same shape\n",
    "# we need to reshape one of them so we can add it to the other. For Exp: a=a.reshape(5,2,3)"
   ]
  },
  {
   "cell_type": "markdown",
   "metadata": {},
   "source": [
    "#### 9. Transpose *b* so that it has the same structure of *a* (i.e. become a 2x3x5 array). Assign the transposed array to variable *c*."
   ]
  },
  {
   "cell_type": "code",
   "execution_count": 11,
   "metadata": {},
   "outputs": [],
   "source": [
    "# your code here\n",
    "c=b.reshape(2,3,5)"
   ]
  },
  {
   "cell_type": "markdown",
   "metadata": {},
   "source": [
    "#### 10. Try to add *a* and *c*. Now it should work. Assign the sum to variable *d*. But why does it work now?"
   ]
  },
  {
   "cell_type": "code",
   "execution_count": 12,
   "metadata": {},
   "outputs": [],
   "source": [
    "# your code/answer here\n",
    "d=a+c"
   ]
  },
  {
   "cell_type": "markdown",
   "metadata": {},
   "source": [
    "#### 11. Print *a* and *d*. Notice the difference and relation of the two array in terms of the values? Explain."
   ]
  },
  {
   "cell_type": "code",
   "execution_count": 13,
   "metadata": {},
   "outputs": [
    {
     "name": "stdout",
     "output_type": "stream",
     "text": [
      "a:  [[[0.93626277 0.59404586 0.84827772 0.97780841 0.91407224]\n",
      "  [0.07700006 0.90866235 0.57853529 0.22291791 0.56588149]\n",
      "  [0.91807672 0.70457539 0.53862645 0.85424835 0.50659547]]\n",
      "\n",
      " [[0.45566715 0.3521729  0.62702057 0.31244542 0.46499476]\n",
      "  [0.07518685 0.67098621 0.308703   0.41996144 0.66333963]\n",
      "  [0.85516042 0.31060401 0.23809239 0.30067083 0.48092262]]] \n",
      "\n",
      "d:  [[[1.93626277 1.59404586 1.84827772 1.97780841 1.91407224]\n",
      "  [1.07700006 1.90866235 1.57853529 1.22291791 1.56588149]\n",
      "  [1.91807672 1.70457539 1.53862645 1.85424835 1.50659547]]\n",
      "\n",
      " [[1.45566715 1.3521729  1.62702057 1.31244542 1.46499476]\n",
      "  [1.07518685 1.67098621 1.308703   1.41996144 1.66333963]\n",
      "  [1.85516042 1.31060401 1.23809239 1.30067083 1.48092262]]]\n"
     ]
    }
   ],
   "source": [
    "# your code/answer here\n",
    "print('a: ',a,'\\n')\n",
    "print('d: ', d)"
   ]
  },
  {
   "cell_type": "markdown",
   "metadata": {},
   "source": [
    "#### 12. Multiply *a* and *c*. Assign the result to *e*."
   ]
  },
  {
   "cell_type": "code",
   "execution_count": 14,
   "metadata": {},
   "outputs": [],
   "source": [
    "# your code here\n",
    "e=a*c"
   ]
  },
  {
   "cell_type": "markdown",
   "metadata": {},
   "source": [
    "#### 13. Does *e* equal to *a*? Why or why not?\n"
   ]
  },
  {
   "cell_type": "code",
   "execution_count": 15,
   "metadata": {},
   "outputs": [
    {
     "data": {
      "text/plain": [
       "array([[[ True,  True,  True,  True,  True],\n",
       "        [ True,  True,  True,  True,  True],\n",
       "        [ True,  True,  True,  True,  True]],\n",
       "\n",
       "       [[ True,  True,  True,  True,  True],\n",
       "        [ True,  True,  True,  True,  True],\n",
       "        [ True,  True,  True,  True,  True]]])"
      ]
     },
     "execution_count": 15,
     "metadata": {},
     "output_type": "execute_result"
    }
   ],
   "source": [
    "# your code/answer here\n",
    "e==a\n",
    "# They are equal because e = a*c and c is an array of ones with the shape of a. So, e = a *1 = a"
   ]
  },
  {
   "cell_type": "markdown",
   "metadata": {},
   "source": [
    "#### 14. Identify the max, min, and mean values in *d*. Assign those values to variables *d_max*, *d_min* and *d_mean*."
   ]
  },
  {
   "cell_type": "code",
   "execution_count": 16,
   "metadata": {},
   "outputs": [],
   "source": [
    "# your code here\n",
    "d_max=d.max()\n",
    "d_min=d.min()\n",
    "d_mean=d.mean()"
   ]
  },
  {
   "cell_type": "markdown",
   "metadata": {},
   "source": [
    "#### 15. Now we want to label the values in *d*. First create an empty array *f* with the same shape (i.e. 2x3x5) as *d* using `np.empty`.\n"
   ]
  },
  {
   "cell_type": "code",
   "execution_count": 23,
   "metadata": {},
   "outputs": [],
   "source": [
    "# your code here\n",
    "f=np.empty(shape=(2,3,5))"
   ]
  },
  {
   "cell_type": "markdown",
   "metadata": {},
   "source": [
    "#### 16. Populate the values in *f*. \n",
    "\n",
    "For each value in *d*, if it's larger than *d_min* but smaller than *d_mean*, assign 25 to the corresponding value in *f*. If a value in *d* is larger than *d_mean* but smaller than *d_max*, assign 75 to the corresponding value in *f*. If a value equals to *d_mean*, assign 50 to the corresponding value in *f*. Assign 0 to the corresponding value(s) in *f* for *d_min* in *d*. Assign 100 to the corresponding value(s) in *f* for *d_max* in *d*. In the end, f should have only the following values: 0, 25, 50, 75, and 100.\n",
    "\n",
    "**Note**: you don't have to use Numpy in this question."
   ]
  },
  {
   "cell_type": "code",
   "execution_count": 24,
   "metadata": {},
   "outputs": [],
   "source": [
    "# your code here\n",
    "for array in d:\n",
    "    for sub_array in array:\n",
    "        for value in sub_array:\n",
    "            if (value > d_min) & (value<d_mean):\n",
    "                    index=np.where(f == value)\n",
    "                    f[index]=25\n",
    "            elif (value > d_mean) & (value<d_max):\n",
    "                index=np.where(f == value)\n",
    "                f[index]=75\n",
    "            elif (value == d_mean):\n",
    "                index=np.where(f == value)\n",
    "                f[index]=50\n",
    "            elif (value == d_min):\n",
    "                index=np.where(f == value)\n",
    "                f[index]=0\n",
    "            elif (value == d_max):\n",
    "                index=np.where(f == value)\n",
    "                f[index]=100"
   ]
  },
  {
   "cell_type": "markdown",
   "metadata": {},
   "source": [
    "#### 17. Print *d* and *f*. Do you have your expected *f*?\n",
    "For instance, if your *d* is:\n",
    "```python\n",
    "[[[1.85836099, 1.67064465, 1.62576044, 1.40243961, 1.88454931],\n",
    "[1.75354326, 1.69403643, 1.36729252, 1.61415071, 1.12104981],\n",
    "[1.72201435, 1.1862918 , 1.87078449, 1.7726778 , 1.88180042]],\n",
    "[[1.44747908, 1.31673383, 1.02000951, 1.52218947, 1.97066381],\n",
    "[1.79129243, 1.74983003, 1.96028037, 1.85166831, 1.65450881],\n",
    "[1.18068344, 1.9587381 , 1.00656599, 1.93402165, 1.73514584]]]\n",
    "```\n",
    "Your *f* should be:\n",
    "```python\n",
    "[[[ 75.,  75.,  75.,  25.,  75.],\n",
    "[ 75.,  75.,  25.,  25.,  25.],\n",
    "[ 75.,  25.,  75.,  75.,  75.]],\n",
    "[[ 25.,  25.,  25.,  25., 100.],\n",
    "[ 75.,  75.,  75.,  75.,  75.],\n",
    "[ 25.,  75.,   0.,  75.,  75.]]]\n",
    "```"
   ]
  },
  {
   "cell_type": "code",
   "execution_count": 19,
   "metadata": {},
   "outputs": [
    {
     "name": "stdout",
     "output_type": "stream",
     "text": [
      "[[[1.93626277 1.59404586 1.84827772 1.97780841 1.91407224]\n",
      "  [1.07700006 1.90866235 1.57853529 1.22291791 1.56588149]\n",
      "  [1.91807672 1.70457539 1.53862645 1.85424835 1.50659547]]\n",
      "\n",
      " [[1.45566715 1.3521729  1.62702057 1.31244542 1.46499476]\n",
      "  [1.07518685 1.67098621 1.308703   1.41996144 1.66333963]\n",
      "  [1.85516042 1.31060401 1.23809239 1.30067083 1.48092262]]]\n",
      "[[[ 75.  75.  75. 100.  75.]\n",
      "  [ 25.  75.  75.  25.  75.]\n",
      "  [ 75.  75.  25.  75.  25.]]\n",
      "\n",
      " [[ 25.  25.  75.  25.  25.]\n",
      "  [  0.  75.  25.  25.  75.]\n",
      "  [ 75.  25.  25.  25.  25.]]]\n"
     ]
    }
   ],
   "source": [
    "# your code here\n",
    "print(d)\n",
    "print(f)"
   ]
  },
  {
   "cell_type": "markdown",
   "metadata": {},
   "source": [
    "#### 18. Bonus question: instead of using numbers (i.e. 0, 25, 50, 75, and 100), use string values  (\"A\", \"B\", \"C\", \"D\", and \"E\") to label the array elements. For the example above, the expected result is:\n",
    "\n",
    "```python\n",
    "[[[ 'D',  'D',  'D',  'B',  'D'],\n",
    "[ 'D',  'D',  'B',  'B',  'B'],\n",
    "[ 'D',  'B',  'D',  'D',  'D']],\n",
    "[[ 'B',  'B',  'B',  'B',  'E'],\n",
    "[ 'D',  'D',  'D',  'D',  'D'],\n",
    "[ 'B',  'D',   'A',  'D', 'D']]]\n",
    "```\n",
    "**Note**: you don't have to use Numpy in this question."
   ]
  },
  {
   "cell_type": "code",
   "execution_count": 26,
   "metadata": {},
   "outputs": [
    {
     "name": "stdout",
     "output_type": "stream",
     "text": [
      "[[['D' 'D' 'D' 'E' 'D']\n",
      "  ['B' 'D' 'D' 'B' 'D']\n",
      "  ['D' 'D' 'B' 'D' 'B']]\n",
      "\n",
      " [['B' 'B' 'D' 'B' 'B']\n",
      "  ['A' 'D' 'B' 'B' 'D']\n",
      "  ['D' 'B' 'B' 'B' 'B']]]\n"
     ]
    }
   ],
   "source": [
    "# your code here\n",
    "# your code here\n",
    "e=np.empty(shape=(2,3,5), dtype=str)\n",
    "for array in d:\n",
    "    for sub_array in array:\n",
    "        for value in sub_array:\n",
    "            if (value > d_min) & (value<d_mean):\n",
    "                    index=np.where(d == value)\n",
    "                    e[index]=\"B\"\n",
    "            elif (value > d_mean) & (value<d_max):\n",
    "                index=np.where(d == value)\n",
    "                e[index]=\"D\"\n",
    "            elif (value == d_mean):\n",
    "                index=np.where(d == value)\n",
    "                e[index]=\"C\"\n",
    "            elif (value == d_min):\n",
    "                index=np.where(d == value)\n",
    "                e[index]=\"A\"\n",
    "            elif (value == d_max):\n",
    "                index=np.where(d == value)\n",
    "                e[index]=\"E\"\n",
    "print(e)"
   ]
  },
  {
   "cell_type": "code",
   "execution_count": null,
   "metadata": {},
   "outputs": [],
   "source": []
  }
 ],
 "metadata": {
  "kernelspec": {
   "display_name": "Python 3",
   "language": "python",
   "name": "python3"
  },
  "language_info": {
   "codemirror_mode": {
    "name": "ipython",
    "version": 3
   },
   "file_extension": ".py",
   "mimetype": "text/x-python",
   "name": "python",
   "nbconvert_exporter": "python",
   "pygments_lexer": "ipython3",
   "version": "3.7.3"
  }
 },
 "nbformat": 4,
 "nbformat_minor": 4
}
