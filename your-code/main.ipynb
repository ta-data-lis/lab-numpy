{
  "nbformat": 4,
  "nbformat_minor": 0,
  "metadata": {
    "kernelspec": {
      "display_name": "Python 3",
      "language": "python",
      "name": "python3"
    },
    "language_info": {
      "codemirror_mode": {
        "name": "ipython",
        "version": 3
      },
      "file_extension": ".py",
      "mimetype": "text/x-python",
      "name": "python",
      "nbconvert_exporter": "python",
      "pygments_lexer": "ipython3",
      "version": "3.7.2"
    },
    "colab": {
      "name": "main.ipynb",
      "provenance": []
    }
  },
  "cells": [
    {
      "cell_type": "markdown",
      "metadata": {
        "id": "6-lKqof1afJs"
      },
      "source": [
        "# Intrduction to NumPy\n",
        "\n",
        "\n",
        "#### 1. Import NumPy under the name np."
      ]
    },
    {
      "cell_type": "code",
      "metadata": {
        "id": "om_WM8ghafJy"
      },
      "source": [
        "# your code here\n",
        "import numpy as np"
      ],
      "execution_count": 1,
      "outputs": []
    },
    {
      "cell_type": "markdown",
      "metadata": {
        "id": "bLNbR_8TafJ0"
      },
      "source": [
        "#### 2. Print your NumPy version."
      ]
    },
    {
      "cell_type": "code",
      "metadata": {
        "colab": {
          "base_uri": "https://localhost:8080/",
          "height": 35
        },
        "id": "zpy99fnrafJ1",
        "outputId": "cf130c52-b3b6-4f0f-d0b2-9c9375635ed2"
      },
      "source": [
        "# your code here\n",
        "np.version.version"
      ],
      "execution_count": 3,
      "outputs": [
        {
          "output_type": "execute_result",
          "data": {
            "application/vnd.google.colaboratory.intrinsic+json": {
              "type": "string"
            },
            "text/plain": [
              "'1.19.5'"
            ]
          },
          "metadata": {},
          "execution_count": 3
        }
      ]
    },
    {
      "cell_type": "markdown",
      "metadata": {
        "id": "bUpze35zafJ1"
      },
      "source": [
        "#### 3. Generate a 2x3x5 3-dimensional array with random values. Assign the array to variable *a*.\n",
        "**Challenge**: there are at least three easy ways that use numpy to generate random arrays. How many ways can you find?"
      ]
    },
    {
      "cell_type": "code",
      "metadata": {
        "id": "qC0MDFXAafJ2"
      },
      "source": [
        "# Method 1\n",
        "a = np.random.random((2,3,5))"
      ],
      "execution_count": 4,
      "outputs": []
    },
    {
      "cell_type": "code",
      "metadata": {
        "colab": {
          "base_uri": "https://localhost:8080/"
        },
        "id": "DNwLANs0afJ2",
        "outputId": "457e1959-d24a-424a-cd7d-cfdb4bef54e8"
      },
      "source": [
        "# Method 2\n",
        "method2 = np.random.randint(100, size=(2,3,5))\n",
        "print(method2)\n"
      ],
      "execution_count": 7,
      "outputs": [
        {
          "output_type": "stream",
          "name": "stdout",
          "text": [
            "[[[94 34 82 27 47]\n",
            "  [88 38 27 22 51]\n",
            "  [35 64 24 56 94]]\n",
            "\n",
            " [[18 32 83 86 85]\n",
            "  [65 99 85 72 41]\n",
            "  [93 39 14 27 89]]]\n"
          ]
        }
      ]
    },
    {
      "cell_type": "code",
      "metadata": {
        "id": "-bAXMcCnafJ3"
      },
      "source": [
        "# Method 3"
      ],
      "execution_count": null,
      "outputs": []
    },
    {
      "cell_type": "markdown",
      "metadata": {
        "id": "nQ8pCXZaafJ4"
      },
      "source": [
        "#### 4. Print *a*.\n"
      ]
    },
    {
      "cell_type": "code",
      "metadata": {
        "colab": {
          "base_uri": "https://localhost:8080/"
        },
        "id": "iejIArVuafJ5",
        "outputId": "f73340f0-6442-42c7-86f5-8909098e5c43"
      },
      "source": [
        "# your code here\n",
        "print(a)"
      ],
      "execution_count": 5,
      "outputs": [
        {
          "output_type": "stream",
          "name": "stdout",
          "text": [
            "[[[0.80596416 0.17186268 0.99868607 0.28875665 0.75824616]\n",
            "  [0.96178728 0.27656866 0.15736336 0.25888027 0.49608155]\n",
            "  [0.40595248 0.55490453 0.92396206 0.31626289 0.48762072]]\n",
            "\n",
            " [[0.12373041 0.8377156  0.24460297 0.7406092  0.01638144]\n",
            "  [0.16611845 0.71872591 0.94070197 0.03411888 0.08183091]\n",
            "  [0.25732686 0.79720183 0.21984402 0.7703678  0.62566471]]]\n"
          ]
        }
      ]
    },
    {
      "cell_type": "markdown",
      "metadata": {
        "id": "LmKy_a__afJ5"
      },
      "source": [
        "#### 5. Create a 5x2x3 3-dimensional array with all values equaling 1. Assign the array to variable *b*."
      ]
    },
    {
      "cell_type": "code",
      "metadata": {
        "id": "yAvcvp1hafJ6"
      },
      "source": [
        "# your code here\n",
        "b = np.ones((5,2,3))"
      ],
      "execution_count": 17,
      "outputs": []
    },
    {
      "cell_type": "markdown",
      "metadata": {
        "id": "p7Y_ncyKafJ6"
      },
      "source": [
        "#### 6. Print *b*.\n"
      ]
    },
    {
      "cell_type": "code",
      "metadata": {
        "colab": {
          "base_uri": "https://localhost:8080/"
        },
        "id": "S9ysbCPhafJ6",
        "outputId": "64c931d4-4982-4264-889f-9ea1a7622996"
      },
      "source": [
        "# your code here\n",
        "print(b)"
      ],
      "execution_count": 18,
      "outputs": [
        {
          "output_type": "stream",
          "name": "stdout",
          "text": [
            "[[[1. 1. 1.]\n",
            "  [1. 1. 1.]]\n",
            "\n",
            " [[1. 1. 1.]\n",
            "  [1. 1. 1.]]\n",
            "\n",
            " [[1. 1. 1.]\n",
            "  [1. 1. 1.]]\n",
            "\n",
            " [[1. 1. 1.]\n",
            "  [1. 1. 1.]]\n",
            "\n",
            " [[1. 1. 1.]\n",
            "  [1. 1. 1.]]]\n"
          ]
        }
      ]
    },
    {
      "cell_type": "markdown",
      "metadata": {
        "id": "u7ogDsuwafJ7"
      },
      "source": [
        "#### 7. Do *a* and *b* have the same size? How do you prove that in Python code?"
      ]
    },
    {
      "cell_type": "code",
      "metadata": {
        "colab": {
          "base_uri": "https://localhost:8080/"
        },
        "id": "30lDYBuNafJ7",
        "outputId": "c0bd38c8-89f2-49ef-f177-55811af8eba5"
      },
      "source": [
        "# your code here\n",
        "a_size = a.size\n",
        "b_size = b.size\n",
        "print(a_size)\n",
        "print(b_size)\n",
        "\n",
        "print(a_size == b_size)"
      ],
      "execution_count": 12,
      "outputs": [
        {
          "output_type": "stream",
          "name": "stdout",
          "text": [
            "30\n",
            "30\n",
            "True\n"
          ]
        }
      ]
    },
    {
      "cell_type": "markdown",
      "metadata": {
        "id": "ajETwPEqafJ7"
      },
      "source": [
        "#### 8. Are you able to add *a* and *b*? Why or why not?\n"
      ]
    },
    {
      "cell_type": "code",
      "metadata": {
        "colab": {
          "base_uri": "https://localhost:8080/",
          "height": 180
        },
        "id": "AuDolm5EafJ8",
        "outputId": "4f7d3075-62c1-4e86-e670-72eeda00fd5a"
      },
      "source": [
        "# your answer here\n",
        "sum_a_b = a + b\n",
        "\n",
        "#they have different shape "
      ],
      "execution_count": 13,
      "outputs": [
        {
          "output_type": "error",
          "ename": "ValueError",
          "evalue": "ignored",
          "traceback": [
            "\u001b[0;31m---------------------------------------------------------------------------\u001b[0m",
            "\u001b[0;31mValueError\u001b[0m                                Traceback (most recent call last)",
            "\u001b[0;32m<ipython-input-13-dbdafeda6be9>\u001b[0m in \u001b[0;36m<module>\u001b[0;34m()\u001b[0m\n\u001b[1;32m      1\u001b[0m \u001b[0;31m# your answer here\u001b[0m\u001b[0;34m\u001b[0m\u001b[0;34m\u001b[0m\u001b[0;34m\u001b[0m\u001b[0m\n\u001b[0;32m----> 2\u001b[0;31m \u001b[0msum_a_b\u001b[0m \u001b[0;34m=\u001b[0m \u001b[0ma\u001b[0m \u001b[0;34m+\u001b[0m \u001b[0mb\u001b[0m\u001b[0;34m\u001b[0m\u001b[0;34m\u001b[0m\u001b[0m\n\u001b[0m",
            "\u001b[0;31mValueError\u001b[0m: operands could not be broadcast together with shapes (2,3,5) (5,2,3) "
          ]
        }
      ]
    },
    {
      "cell_type": "markdown",
      "metadata": {
        "id": "h2v3HNbPafJ8"
      },
      "source": [
        "#### 9. Transpose *b* so that it has the same structure of *a* (i.e. become a 2x3x5 array). Assign the transposed array to variable *c*."
      ]
    },
    {
      "cell_type": "code",
      "metadata": {
        "colab": {
          "base_uri": "https://localhost:8080/"
        },
        "id": "yYZsUj0RafJ8",
        "outputId": "282c7029-3b26-47ab-e3ef-b2a2bbf32637"
      },
      "source": [
        "# your code here\n",
        "c = b.transpose((1,2,0))\n",
        "c"
      ],
      "execution_count": 34,
      "outputs": [
        {
          "output_type": "execute_result",
          "data": {
            "text/plain": [
              "array([[[1., 1., 1., 1., 1.],\n",
              "        [1., 1., 1., 1., 1.],\n",
              "        [1., 1., 1., 1., 1.]],\n",
              "\n",
              "       [[1., 1., 1., 1., 1.],\n",
              "        [1., 1., 1., 1., 1.],\n",
              "        [1., 1., 1., 1., 1.]]])"
            ]
          },
          "metadata": {},
          "execution_count": 34
        }
      ]
    },
    {
      "cell_type": "markdown",
      "metadata": {
        "id": "sADvUqn9afJ9"
      },
      "source": [
        "#### 10. Try to add *a* and *c*. Now it should work. Assign the sum to variable *d*. But why does it work now?"
      ]
    },
    {
      "cell_type": "code",
      "metadata": {
        "colab": {
          "base_uri": "https://localhost:8080/"
        },
        "id": "08zZnBs9afJ9",
        "outputId": "abefbe0d-71f9-4cb3-b4c1-27797ce5a87c"
      },
      "source": [
        "# your code/answer here\n",
        "d = a + c\n",
        "\n",
        "d"
      ],
      "execution_count": 35,
      "outputs": [
        {
          "output_type": "execute_result",
          "data": {
            "text/plain": [
              "array([[[1.80596416, 1.17186268, 1.99868607, 1.28875665, 1.75824616],\n",
              "        [1.96178728, 1.27656866, 1.15736336, 1.25888027, 1.49608155],\n",
              "        [1.40595248, 1.55490453, 1.92396206, 1.31626289, 1.48762072]],\n",
              "\n",
              "       [[1.12373041, 1.8377156 , 1.24460297, 1.7406092 , 1.01638144],\n",
              "        [1.16611845, 1.71872591, 1.94070197, 1.03411888, 1.08183091],\n",
              "        [1.25732686, 1.79720183, 1.21984402, 1.7703678 , 1.62566471]]])"
            ]
          },
          "metadata": {},
          "execution_count": 35
        }
      ]
    },
    {
      "cell_type": "markdown",
      "metadata": {
        "id": "EfhK37uYafJ-"
      },
      "source": [
        "#### 11. Print *a* and *d*. Notice the difference and relation of the two array in terms of the values? Explain."
      ]
    },
    {
      "cell_type": "code",
      "metadata": {
        "colab": {
          "base_uri": "https://localhost:8080/"
        },
        "id": "IK3e0a8HafKA",
        "outputId": "a750cee5-1678-4d28-b773-eb77a468e0ab"
      },
      "source": [
        "# your code/answer here\n",
        "print(a)\n",
        "print(d)\n",
        "\n",
        "#it added one to another, it's exactly +1 because we added an array with ones\n"
      ],
      "execution_count": 36,
      "outputs": [
        {
          "output_type": "stream",
          "name": "stdout",
          "text": [
            "[[[0.80596416 0.17186268 0.99868607 0.28875665 0.75824616]\n",
            "  [0.96178728 0.27656866 0.15736336 0.25888027 0.49608155]\n",
            "  [0.40595248 0.55490453 0.92396206 0.31626289 0.48762072]]\n",
            "\n",
            " [[0.12373041 0.8377156  0.24460297 0.7406092  0.01638144]\n",
            "  [0.16611845 0.71872591 0.94070197 0.03411888 0.08183091]\n",
            "  [0.25732686 0.79720183 0.21984402 0.7703678  0.62566471]]]\n",
            "[[[1.80596416 1.17186268 1.99868607 1.28875665 1.75824616]\n",
            "  [1.96178728 1.27656866 1.15736336 1.25888027 1.49608155]\n",
            "  [1.40595248 1.55490453 1.92396206 1.31626289 1.48762072]]\n",
            "\n",
            " [[1.12373041 1.8377156  1.24460297 1.7406092  1.01638144]\n",
            "  [1.16611845 1.71872591 1.94070197 1.03411888 1.08183091]\n",
            "  [1.25732686 1.79720183 1.21984402 1.7703678  1.62566471]]]\n"
          ]
        }
      ]
    },
    {
      "cell_type": "markdown",
      "metadata": {
        "id": "5DCrdCdqafKB"
      },
      "source": [
        "#### 12. Multiply *a* and *c*. Assign the result to *e*."
      ]
    },
    {
      "cell_type": "code",
      "metadata": {
        "colab": {
          "base_uri": "https://localhost:8080/"
        },
        "id": "rQAtyrtBafKB",
        "outputId": "48c7ea2c-090b-401e-ee4d-d1c5da692959"
      },
      "source": [
        "# your code here\n",
        "e = a * c\n",
        "e"
      ],
      "execution_count": 37,
      "outputs": [
        {
          "output_type": "execute_result",
          "data": {
            "text/plain": [
              "array([[[0.80596416, 0.17186268, 0.99868607, 0.28875665, 0.75824616],\n",
              "        [0.96178728, 0.27656866, 0.15736336, 0.25888027, 0.49608155],\n",
              "        [0.40595248, 0.55490453, 0.92396206, 0.31626289, 0.48762072]],\n",
              "\n",
              "       [[0.12373041, 0.8377156 , 0.24460297, 0.7406092 , 0.01638144],\n",
              "        [0.16611845, 0.71872591, 0.94070197, 0.03411888, 0.08183091],\n",
              "        [0.25732686, 0.79720183, 0.21984402, 0.7703678 , 0.62566471]]])"
            ]
          },
          "metadata": {},
          "execution_count": 37
        }
      ]
    },
    {
      "cell_type": "markdown",
      "metadata": {
        "id": "7aGAS_QLafKB"
      },
      "source": [
        "#### 13. Does *e* equal to *a*? Why or why not?\n"
      ]
    },
    {
      "cell_type": "code",
      "metadata": {
        "colab": {
          "base_uri": "https://localhost:8080/"
        },
        "id": "DL6jHJnbafKC",
        "outputId": "4e936277-3a74-4272-b7c8-0381143a6328"
      },
      "source": [
        "# your code/answer here\n",
        "e == a\n",
        "#because we multiplied by 1"
      ],
      "execution_count": 38,
      "outputs": [
        {
          "output_type": "execute_result",
          "data": {
            "text/plain": [
              "array([[[ True,  True,  True,  True,  True],\n",
              "        [ True,  True,  True,  True,  True],\n",
              "        [ True,  True,  True,  True,  True]],\n",
              "\n",
              "       [[ True,  True,  True,  True,  True],\n",
              "        [ True,  True,  True,  True,  True],\n",
              "        [ True,  True,  True,  True,  True]]])"
            ]
          },
          "metadata": {},
          "execution_count": 38
        }
      ]
    },
    {
      "cell_type": "markdown",
      "metadata": {
        "id": "Ga5bPJmWafKC"
      },
      "source": [
        "#### 14. Identify the max, min, and mean values in *d*. Assign those values to variables *d_max*, *d_min* and *d_mean*."
      ]
    },
    {
      "cell_type": "code",
      "metadata": {
        "colab": {
          "base_uri": "https://localhost:8080/"
        },
        "id": "khsrmbzJafKC",
        "outputId": "e626662c-421c-4355-f02a-6e3988db64b2"
      },
      "source": [
        "# your code here\n",
        "d_max = np.max(d)\n",
        "d_min = np.min(d)\n",
        "d_mean = np.mean(d)\n",
        "print(d_max)\n",
        "print(d_min)\n",
        "print(d_mean)\n"
      ],
      "execution_count": 39,
      "outputs": [
        {
          "output_type": "stream",
          "name": "stdout",
          "text": [
            "1.9986860669644089\n",
            "1.0163814401209168\n",
            "1.4812613495019062\n"
          ]
        }
      ]
    },
    {
      "cell_type": "markdown",
      "metadata": {
        "id": "L0jHKnLwafKD"
      },
      "source": [
        "#### 15. Now we want to label the values in *d*. First create an empty array *f* with the same shape (i.e. 2x3x5) as *d* using `np.empty`.\n"
      ]
    },
    {
      "cell_type": "code",
      "metadata": {
        "colab": {
          "base_uri": "https://localhost:8080/"
        },
        "id": "o1guBW2tafKD",
        "outputId": "bad4d452-6a71-47c0-e73b-8cfb43f81cc1"
      },
      "source": [
        "# your code here\n",
        "f = np.empty((2,3,5))\n",
        "f"
      ],
      "execution_count": 40,
      "outputs": [
        {
          "output_type": "execute_result",
          "data": {
            "text/plain": [
              "array([[[0.80596416, 0.17186268, 0.99868607, 0.28875665, 0.75824616],\n",
              "        [0.96178728, 0.27656866, 0.15736336, 0.25888027, 0.49608155],\n",
              "        [0.40595248, 0.55490453, 0.92396206, 0.31626289, 0.48762072]],\n",
              "\n",
              "       [[0.12373041, 0.8377156 , 0.24460297, 0.7406092 , 0.01638144],\n",
              "        [0.16611845, 0.71872591, 0.94070197, 0.03411888, 0.08183091],\n",
              "        [0.25732686, 0.79720183, 0.21984402, 0.7703678 , 0.62566471]]])"
            ]
          },
          "metadata": {},
          "execution_count": 40
        }
      ]
    },
    {
      "cell_type": "markdown",
      "metadata": {
        "id": "aXr3MXCZafKD"
      },
      "source": [
        "#### 16. Populate the values in *f*. \n",
        "\n",
        "For each value in *d*, if it's larger than *d_min* but smaller than *d_mean*, assign 25 to the corresponding value in *f*. If a value in *d* is larger than *d_mean* but smaller than *d_max*, assign 75 to the corresponding value in *f*. If a value equals to *d_mean*, assign 50 to the corresponding value in *f*. Assign 0 to the corresponding value(s) in *f* for *d_min* in *d*. Assign 100 to the corresponding value(s) in *f* for *d_max* in *d*. In the end, f should have only the following values: 0, 25, 50, 75, and 100.\n",
        "\n",
        "**Note**: you don't have to use Numpy in this question."
      ]
    },
    {
      "cell_type": "code",
      "metadata": {
        "colab": {
          "base_uri": "https://localhost:8080/"
        },
        "id": "wJRAmiZPafKD",
        "outputId": "1e0c47aa-fb2e-483b-aa10-3e29c0f774f0"
      },
      "source": [
        "# your code here\n",
        "s = d.shape\n",
        "\n",
        "#HERE WE ASSIGNE EACH POSITION OF THE ARRAY THROUGH INDEXING A VALUE\n",
        "# DEPENDING ON THE CONDITION\n",
        "\n",
        "for gr in range(s[0]):\n",
        "    for row in range(s[1]):\n",
        "        for col in range(s[2]):\n",
        "            if (d[gr, row, col] > d_min) & (d[gr, row, col] < d_mean):\n",
        "                f[gr,row,col] = 25\n",
        "            elif (d[gr, row, col] > d_mean) & (d[gr, row, col] < d_max):\n",
        "                f[gr,row,col] = 75\n",
        "            elif d[gr, row, col] == d_min:\n",
        "                f[gr,row,col] = 0\n",
        "            elif d[gr, row, col] == d_max:\n",
        "                f[gr,row,col] = 100\n",
        "\n",
        "f\n"
      ],
      "execution_count": 42,
      "outputs": [
        {
          "output_type": "execute_result",
          "data": {
            "text/plain": [
              "array([[[ 75.,  25., 100.,  25.,  75.],\n",
              "        [ 75.,  25.,  25.,  25.,  75.],\n",
              "        [ 25.,  75.,  75.,  25.,  75.]],\n",
              "\n",
              "       [[ 25.,  75.,  25.,  75.,   0.],\n",
              "        [ 25.,  75.,  75.,  25.,  25.],\n",
              "        [ 25.,  75.,  25.,  75.,  75.]]])"
            ]
          },
          "metadata": {},
          "execution_count": 42
        }
      ]
    },
    {
      "cell_type": "markdown",
      "metadata": {
        "id": "SumwfYzLafKD"
      },
      "source": [
        "#### 17. Print *d* and *f*. Do you have your expected *f*?\n",
        "For instance, if your *d* is:\n",
        "```python\n",
        "[[[1.85836099, 1.67064465, 1.62576044, 1.40243961, 1.88454931],\n",
        "[1.75354326, 1.69403643, 1.36729252, 1.61415071, 1.12104981],\n",
        "[1.72201435, 1.1862918 , 1.87078449, 1.7726778 , 1.88180042]],\n",
        "[[1.44747908, 1.31673383, 1.02000951, 1.52218947, 1.97066381],\n",
        "[1.79129243, 1.74983003, 1.96028037, 1.85166831, 1.65450881],\n",
        "[1.18068344, 1.9587381 , 1.00656599, 1.93402165, 1.73514584]]]\n",
        "```\n",
        "Your *f* should be:\n",
        "```python\n",
        "[[[ 75.,  75.,  75.,  25.,  75.],\n",
        "[ 75.,  75.,  25.,  25.,  25.],\n",
        "[ 75.,  25.,  75.,  75.,  75.]],\n",
        "[[ 25.,  25.,  25.,  25., 100.],\n",
        "[ 75.,  75.,  75.,  75.,  75.],\n",
        "[ 25.,  75.,   0.,  75.,  75.]]]\n",
        "```"
      ]
    },
    {
      "cell_type": "code",
      "metadata": {
        "colab": {
          "base_uri": "https://localhost:8080/"
        },
        "id": "dtYCnn-NafKE",
        "outputId": "7baf6e87-7fa2-4629-add8-9021183c411e"
      },
      "source": [
        "# your code here\n",
        "print(d)\n",
        "print(f)"
      ],
      "execution_count": 43,
      "outputs": [
        {
          "output_type": "stream",
          "name": "stdout",
          "text": [
            "[[[1.80596416 1.17186268 1.99868607 1.28875665 1.75824616]\n",
            "  [1.96178728 1.27656866 1.15736336 1.25888027 1.49608155]\n",
            "  [1.40595248 1.55490453 1.92396206 1.31626289 1.48762072]]\n",
            "\n",
            " [[1.12373041 1.8377156  1.24460297 1.7406092  1.01638144]\n",
            "  [1.16611845 1.71872591 1.94070197 1.03411888 1.08183091]\n",
            "  [1.25732686 1.79720183 1.21984402 1.7703678  1.62566471]]]\n",
            "[[[ 75.  25. 100.  25.  75.]\n",
            "  [ 75.  25.  25.  25.  75.]\n",
            "  [ 25.  75.  75.  25.  75.]]\n",
            "\n",
            " [[ 25.  75.  25.  75.   0.]\n",
            "  [ 25.  75.  75.  25.  25.]\n",
            "  [ 25.  75.  25.  75.  75.]]]\n"
          ]
        }
      ]
    },
    {
      "cell_type": "markdown",
      "metadata": {
        "id": "4utAPrMUafKE"
      },
      "source": [
        "#### 18. Bonus question: instead of using numbers (i.e. 0, 25, 50, 75, and 100), use string values  (\"A\", \"B\", \"C\", \"D\", and \"E\") to label the array elements. For the example above, the expected result is:\n",
        "\n",
        "```python\n",
        "[[[ 'D',  'D',  'D',  'B',  'D'],\n",
        "[ 'D',  'D',  'B',  'B',  'B'],\n",
        "[ 'D',  'B',  'D',  'D',  'D']],\n",
        "[[ 'B',  'B',  'B',  'B',  'E'],\n",
        "[ 'D',  'D',  'D',  'D',  'D'],\n",
        "[ 'B',  'D',   'A',  'D', 'D']]]\n",
        "```\n",
        "**Note**: you don't have to use Numpy in this question."
      ]
    },
    {
      "cell_type": "code",
      "metadata": {
        "id": "YeF3tzKzafKF"
      },
      "source": [
        "# your code here"
      ],
      "execution_count": null,
      "outputs": []
    }
  ]
}