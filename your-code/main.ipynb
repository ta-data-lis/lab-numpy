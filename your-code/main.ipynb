{
 "cells": [
  {
   "cell_type": "markdown",
   "metadata": {},
   "source": [
    "# Intrduction to NumPy\n",
    "\n",
    "\n",
    "#### 1. Import NumPy under the name np."
   ]
  },
  {
   "cell_type": "code",
   "execution_count": 91,
   "metadata": {},
   "outputs": [],
   "source": [
    "# your code here\n",
    "import numpy as np"
   ]
  },
  {
   "cell_type": "markdown",
   "metadata": {},
   "source": [
    "#### 2. Print your NumPy version."
   ]
  },
  {
   "cell_type": "code",
   "execution_count": 92,
   "metadata": {},
   "outputs": [
    {
     "name": "stdout",
     "output_type": "stream",
     "text": [
      "1.17.2\n"
     ]
    }
   ],
   "source": [
    "# your code here\n",
    "print(np.version.version)"
   ]
  },
  {
   "cell_type": "markdown",
   "metadata": {},
   "source": [
    "#### 3. Generate a 2x3x5 3-dimensional array with random values. Assign the array to variable *a*.\n",
    "**Challenge**: there are at least three easy ways that use numpy to generate random arrays. How many ways can you find?"
   ]
  },
  {
   "cell_type": "code",
   "execution_count": 93,
   "metadata": {},
   "outputs": [
    {
     "data": {
      "text/plain": [
       "array([[[0.68839854, 0.14554227, 0.23782252, 0.08191285, 0.64483386],\n",
       "        [0.68218563, 0.05276887, 0.30329156, 0.94313963, 0.09717865],\n",
       "        [0.72727763, 0.54101991, 0.9836327 , 0.90239479, 0.26425891]],\n",
       "\n",
       "       [[0.93248652, 0.53620022, 0.57639087, 0.53787757, 0.69691087],\n",
       "        [0.52195299, 0.96352584, 0.44469538, 0.51135055, 0.82750919],\n",
       "        [0.97806659, 0.44359129, 0.36935168, 0.3217536 , 0.65154404]]])"
      ]
     },
     "execution_count": 93,
     "metadata": {},
     "output_type": "execute_result"
    }
   ],
   "source": [
    "# Method 1\n",
    "a = np.random.random(size = (2,3,5))\n",
    "a"
   ]
  },
  {
   "cell_type": "code",
   "execution_count": 94,
   "metadata": {},
   "outputs": [
    {
     "data": {
      "text/plain": [
       "array([[[2, 4, 0, 0, 2],\n",
       "        [3, 0, 3, 2, 3],\n",
       "        [2, 1, 2, 4, 0]],\n",
       "\n",
       "       [[4, 4, 0, 0, 3],\n",
       "        [2, 3, 2, 2, 3],\n",
       "        [2, 4, 1, 3, 4]]])"
      ]
     },
     "execution_count": 94,
     "metadata": {},
     "output_type": "execute_result"
    }
   ],
   "source": [
    "# Method 2\n",
    "b=np.random.randint(5,size = (2,3,5))\n",
    "b"
   ]
  },
  {
   "cell_type": "code",
   "execution_count": 95,
   "metadata": {},
   "outputs": [
    {
     "data": {
      "text/plain": [
       "array([[[0.5620757 , 0.61753597, 0.01607758, 0.85170262, 0.89668717],\n",
       "        [0.33769582, 0.87274512, 0.61257176, 0.67158922, 0.57202808],\n",
       "        [0.67633532, 0.24173722, 0.64321664, 0.21663306, 0.64391371]],\n",
       "\n",
       "       [[0.38840719, 0.24182543, 0.71501568, 0.33572217, 0.54766718],\n",
       "        [0.55176662, 0.35053643, 0.93703329, 0.86851006, 0.56793354],\n",
       "        [0.79998644, 0.02173161, 0.73496797, 0.78223545, 0.979474  ]]])"
      ]
     },
     "execution_count": 95,
     "metadata": {},
     "output_type": "execute_result"
    }
   ],
   "source": [
    "# Method 3\n",
    "c = np.random.random_sample(size = (2,3,5))\n",
    "c"
   ]
  },
  {
   "cell_type": "markdown",
   "metadata": {},
   "source": [
    "#### 4. Print *a*.\n"
   ]
  },
  {
   "cell_type": "code",
   "execution_count": 96,
   "metadata": {},
   "outputs": [
    {
     "name": "stdout",
     "output_type": "stream",
     "text": [
      "[[[0.68839854 0.14554227 0.23782252 0.08191285 0.64483386]\n",
      "  [0.68218563 0.05276887 0.30329156 0.94313963 0.09717865]\n",
      "  [0.72727763 0.54101991 0.9836327  0.90239479 0.26425891]]\n",
      "\n",
      " [[0.93248652 0.53620022 0.57639087 0.53787757 0.69691087]\n",
      "  [0.52195299 0.96352584 0.44469538 0.51135055 0.82750919]\n",
      "  [0.97806659 0.44359129 0.36935168 0.3217536  0.65154404]]]\n"
     ]
    }
   ],
   "source": [
    "# your code here\n",
    "print(a)"
   ]
  },
  {
   "cell_type": "markdown",
   "metadata": {},
   "source": [
    "#### 5. Create a 5x2x3 3-dimensional array with all values equaling 1. Assign the array to variable *b*."
   ]
  },
  {
   "cell_type": "code",
   "execution_count": 97,
   "metadata": {},
   "outputs": [],
   "source": [
    "# your code here\n",
    "b = np.ones(shape=(5,2,3))"
   ]
  },
  {
   "cell_type": "markdown",
   "metadata": {},
   "source": [
    "#### 6. Print *b*.\n"
   ]
  },
  {
   "cell_type": "code",
   "execution_count": 98,
   "metadata": {},
   "outputs": [
    {
     "name": "stdout",
     "output_type": "stream",
     "text": [
      "[[[1. 1. 1.]\n",
      "  [1. 1. 1.]]\n",
      "\n",
      " [[1. 1. 1.]\n",
      "  [1. 1. 1.]]\n",
      "\n",
      " [[1. 1. 1.]\n",
      "  [1. 1. 1.]]\n",
      "\n",
      " [[1. 1. 1.]\n",
      "  [1. 1. 1.]]\n",
      "\n",
      " [[1. 1. 1.]\n",
      "  [1. 1. 1.]]]\n"
     ]
    }
   ],
   "source": [
    "# your code here\n",
    "print(b)"
   ]
  },
  {
   "cell_type": "markdown",
   "metadata": {},
   "source": [
    "#### 7. Do *a* and *b* have the same size? How do you prove that in Python code?"
   ]
  },
  {
   "cell_type": "code",
   "execution_count": 99,
   "metadata": {},
   "outputs": [
    {
     "data": {
      "text/plain": [
       "False"
      ]
     },
     "execution_count": 99,
     "metadata": {},
     "output_type": "execute_result"
    }
   ],
   "source": [
    "# your code here\n",
    "# No, that don't have the same size\n",
    "a.shape == b.shape"
   ]
  },
  {
   "cell_type": "markdown",
   "metadata": {},
   "source": [
    "#### 8. Are you able to add *a* and *b*? Why or why not?\n"
   ]
  },
  {
   "cell_type": "code",
   "execution_count": 100,
   "metadata": {},
   "outputs": [],
   "source": [
    "# your answer here\n",
    "# No, they don't have the same shape"
   ]
  },
  {
   "cell_type": "markdown",
   "metadata": {},
   "source": [
    "#### 9. Transpose *b* so that it has the same structure of *a* (i.e. become a 2x3x5 array). Assign the transposed array to variable *c*."
   ]
  },
  {
   "cell_type": "code",
   "execution_count": 101,
   "metadata": {},
   "outputs": [],
   "source": [
    "# your code here\n",
    "c = b.reshape(a.shape)\n"
   ]
  },
  {
   "cell_type": "markdown",
   "metadata": {},
   "source": [
    "#### 10. Try to add *a* and *c*. Now it should work. Assign the sum to variable *d*. But why does it work now?"
   ]
  },
  {
   "cell_type": "code",
   "execution_count": 102,
   "metadata": {},
   "outputs": [],
   "source": [
    "# your code/answer here\n",
    "d =a + c\n",
    "\n",
    "# It works now because they have the same shape "
   ]
  },
  {
   "cell_type": "markdown",
   "metadata": {},
   "source": [
    "#### 11. Print *a* and *d*. Notice the difference and relation of the two array in terms of the values? Explain."
   ]
  },
  {
   "cell_type": "code",
   "execution_count": 103,
   "metadata": {},
   "outputs": [
    {
     "name": "stdout",
     "output_type": "stream",
     "text": [
      "[[[0.68839854 0.14554227 0.23782252 0.08191285 0.64483386]\n",
      "  [0.68218563 0.05276887 0.30329156 0.94313963 0.09717865]\n",
      "  [0.72727763 0.54101991 0.9836327  0.90239479 0.26425891]]\n",
      "\n",
      " [[0.93248652 0.53620022 0.57639087 0.53787757 0.69691087]\n",
      "  [0.52195299 0.96352584 0.44469538 0.51135055 0.82750919]\n",
      "  [0.97806659 0.44359129 0.36935168 0.3217536  0.65154404]]]\n",
      "\n",
      "\n",
      "[[[1.68839854 1.14554227 1.23782252 1.08191285 1.64483386]\n",
      "  [1.68218563 1.05276887 1.30329156 1.94313963 1.09717865]\n",
      "  [1.72727763 1.54101991 1.9836327  1.90239479 1.26425891]]\n",
      "\n",
      " [[1.93248652 1.53620022 1.57639087 1.53787757 1.69691087]\n",
      "  [1.52195299 1.96352584 1.44469538 1.51135055 1.82750919]\n",
      "  [1.97806659 1.44359129 1.36935168 1.3217536  1.65154404]]]\n"
     ]
    }
   ],
   "source": [
    "# your code/answer here\n",
    "print(a)\n",
    "print('\\n')\n",
    "print(d)\n",
    "\n",
    "# every value in d is 1 higher since we added the ones matrix (c) to it."
   ]
  },
  {
   "cell_type": "markdown",
   "metadata": {},
   "source": [
    "#### 12. Multiply *a* and *c*. Assign the result to *e*."
   ]
  },
  {
   "cell_type": "code",
   "execution_count": 104,
   "metadata": {},
   "outputs": [
    {
     "data": {
      "text/plain": [
       "array([[[0.68839854, 0.14554227, 0.23782252, 0.08191285, 0.64483386],\n",
       "        [0.68218563, 0.05276887, 0.30329156, 0.94313963, 0.09717865],\n",
       "        [0.72727763, 0.54101991, 0.9836327 , 0.90239479, 0.26425891]],\n",
       "\n",
       "       [[0.93248652, 0.53620022, 0.57639087, 0.53787757, 0.69691087],\n",
       "        [0.52195299, 0.96352584, 0.44469538, 0.51135055, 0.82750919],\n",
       "        [0.97806659, 0.44359129, 0.36935168, 0.3217536 , 0.65154404]]])"
      ]
     },
     "execution_count": 104,
     "metadata": {},
     "output_type": "execute_result"
    }
   ],
   "source": [
    "# your code here\n",
    "e = a * c\n",
    "e"
   ]
  },
  {
   "cell_type": "markdown",
   "metadata": {},
   "source": [
    "#### 13. Does *e* equal to *a*? Why or why not?\n"
   ]
  },
  {
   "cell_type": "code",
   "execution_count": 105,
   "metadata": {},
   "outputs": [
    {
     "data": {
      "text/plain": [
       "array([[[ True,  True,  True,  True,  True],\n",
       "        [ True,  True,  True,  True,  True],\n",
       "        [ True,  True,  True,  True,  True]],\n",
       "\n",
       "       [[ True,  True,  True,  True,  True],\n",
       "        [ True,  True,  True,  True,  True],\n",
       "        [ True,  True,  True,  True,  True]]])"
      ]
     },
     "execution_count": 105,
     "metadata": {},
     "output_type": "execute_result"
    }
   ],
   "source": [
    "# your code/answer here\n",
    "e == a\n",
    "\n",
    "# every value in e is the same as a since we multiplied every value by 1"
   ]
  },
  {
   "cell_type": "markdown",
   "metadata": {},
   "source": [
    "#### 14. Identify the max, min, and mean values in *d*. Assign those values to variables *d_max*, *d_min* and *d_mean*."
   ]
  },
  {
   "cell_type": "code",
   "execution_count": 106,
   "metadata": {},
   "outputs": [],
   "source": [
    "# your code here\n",
    "d_max = d.max()\n",
    "d_min = d.min()\n",
    "d_mean = d.mean()"
   ]
  },
  {
   "cell_type": "markdown",
   "metadata": {},
   "source": [
    "#### 15. Now we want to label the values in *d*. First create an empty array *f* with the same shape (i.e. 2x3x5) as *d* using `np.empty`.\n"
   ]
  },
  {
   "cell_type": "code",
   "execution_count": 107,
   "metadata": {},
   "outputs": [],
   "source": [
    "# your code here\n",
    "f=np.empty(shape=(2,3,5))\n"
   ]
  },
  {
   "cell_type": "markdown",
   "metadata": {},
   "source": [
    "#### 16. Populate the values in *f*. \n",
    "\n",
    "For each value in *d*, if it's larger than *d_min* but smaller than *d_mean*, assign 25 to the corresponding value in *f*. If a value in *d* is larger than *d_mean* but smaller than *d_max*, assign 75 to the corresponding value in *f*. If a value equals to *d_mean*, assign 50 to the corresponding value in *f*. Assign 0 to the corresponding value(s) in *f* for *d_min* in *d*. Assign 100 to the corresponding value(s) in *f* for *d_max* in *d*. In the end, f should have only the following values: 0, 25, 50, 75, and 100.\n",
    "\n",
    "**Note**: you don't have to use Numpy in this question."
   ]
  },
  {
   "cell_type": "code",
   "execution_count": 108,
   "metadata": {},
   "outputs": [
    {
     "data": {
      "text/plain": [
       "array([[[ 75,  25,  25,  25,  75],\n",
       "        [ 75,   0,  25,  75,  25],\n",
       "        [ 75,  25, 100,  75,  25]],\n",
       "\n",
       "       [[ 75,  25,  75,  25,  75],\n",
       "        [ 25,  75,  25,  25,  75],\n",
       "        [ 75,  25,  25,  25,  75]]])"
      ]
     },
     "execution_count": 108,
     "metadata": {},
     "output_type": "execute_result"
    }
   ],
   "source": [
    "# your code here\n",
    "\n",
    "def myfunc(d):\n",
    "    if (d > d_min) and (d < d_mean):\n",
    "        return 25\n",
    "    elif (d > d_mean) and (d < d_max):\n",
    "        return 75\n",
    "    elif d == d_mean:\n",
    "        return 50\n",
    "    elif d == d_max:\n",
    "        return 100\n",
    "    else:\n",
    "        return 0\n",
    "\n",
    "\n",
    "f = np.vectorize(myfunc)\n",
    "f = f(d)\n",
    "f\n"
   ]
  },
  {
   "cell_type": "markdown",
   "metadata": {},
   "source": [
    "#### 17. Print *d* and *f*. Do you have your expected *f*?\n",
    "For instance, if your *d* is:\n",
    "```python\n",
    "[[[1.85836099, 1.67064465, 1.62576044, 1.40243961, 1.88454931],\n",
    "[1.75354326, 1.69403643, 1.36729252, 1.61415071, 1.12104981],\n",
    "[1.72201435, 1.1862918 , 1.87078449, 1.7726778 , 1.88180042]],\n",
    "[[1.44747908, 1.31673383, 1.02000951, 1.52218947, 1.97066381],\n",
    "[1.79129243, 1.74983003, 1.96028037, 1.85166831, 1.65450881],\n",
    "[1.18068344, 1.9587381 , 1.00656599, 1.93402165, 1.73514584]]]\n",
    "```\n",
    "Your *f* should be:\n",
    "```python\n",
    "[[[ 75.,  75.,  75.,  25.,  75.],\n",
    "[ 75.,  75.,  25.,  25.,  25.],\n",
    "[ 75.,  25.,  75.,  75.,  75.]],\n",
    "[[ 25.,  25.,  25.,  25., 100.],\n",
    "[ 75.,  75.,  75.,  75.,  75.],\n",
    "[ 25.,  75.,   0.,  75.,  75.]]]\n",
    "```"
   ]
  },
  {
   "cell_type": "code",
   "execution_count": 112,
   "metadata": {},
   "outputs": [
    {
     "name": "stdout",
     "output_type": "stream",
     "text": [
      "[[[1.68839854 1.14554227 1.23782252 1.08191285 1.64483386]\n",
      "  [1.68218563 1.05276887 1.30329156 1.94313963 1.09717865]\n",
      "  [1.72727763 1.54101991 1.9836327  1.90239479 1.26425891]]\n",
      "\n",
      " [[1.93248652 1.53620022 1.57639087 1.53787757 1.69691087]\n",
      "  [1.52195299 1.96352584 1.44469538 1.51135055 1.82750919]\n",
      "  [1.97806659 1.44359129 1.36935168 1.3217536  1.65154404]]]\n",
      "\n",
      "\n",
      "[[[ 75  25  25  25  75]\n",
      "  [ 75   0  25  75  25]\n",
      "  [ 75  25 100  75  25]]\n",
      "\n",
      " [[ 75  25  75  25  75]\n",
      "  [ 25  75  25  25  75]\n",
      "  [ 75  25  25  25  75]]]\n"
     ]
    }
   ],
   "source": [
    "# your code here\n",
    "print(d)\n",
    "print('\\n')\n",
    "print(f)\n",
    "\n",
    "#yes it is as expected"
   ]
  },
  {
   "cell_type": "markdown",
   "metadata": {},
   "source": [
    "#### 18. Bonus question: instead of using numbers (i.e. 0, 25, 50, 75, and 100), use string values  (\"A\", \"B\", \"C\", \"D\", and \"E\") to label the array elements. For the example above, the expected result is:\n",
    "\n",
    "```python\n",
    "[[[ 'D',  'D',  'D',  'B',  'D'],\n",
    "[ 'D',  'D',  'B',  'B',  'B'],\n",
    "[ 'D',  'B',  'D',  'D',  'D']],\n",
    "[[ 'B',  'B',  'B',  'B',  'E'],\n",
    "[ 'D',  'D',  'D',  'D',  'D'],\n",
    "[ 'B',  'D',   'A',  'D', 'D']]]\n",
    "```\n",
    "**Note**: you don't have to use Numpy in this question."
   ]
  },
  {
   "cell_type": "code",
   "execution_count": 110,
   "metadata": {},
   "outputs": [],
   "source": [
    "# your code here\n"
   ]
  }
 ],
 "metadata": {
  "kernelspec": {
   "display_name": "Python 3 (ipykernel)",
   "language": "python",
   "name": "python3"
  },
  "language_info": {
   "codemirror_mode": {
    "name": "ipython",
    "version": 3
   },
   "file_extension": ".py",
   "mimetype": "text/x-python",
   "name": "python",
   "nbconvert_exporter": "python",
   "pygments_lexer": "ipython3",
   "version": "3.9.7"
  }
 },
 "nbformat": 4,
 "nbformat_minor": 2
}
