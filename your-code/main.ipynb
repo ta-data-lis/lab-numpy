{
 "cells": [
  {
   "cell_type": "markdown",
   "metadata": {},
   "source": [
    "# Intrduction to NumPy\n",
    "\n",
    "\n",
    "#### 1. Import NumPy under the name np."
   ]
  },
  {
   "cell_type": "code",
   "execution_count": 76,
   "metadata": {},
   "outputs": [],
   "source": [
    "# your code here\n",
    "import numpy as np\n"
   ]
  },
  {
   "cell_type": "markdown",
   "metadata": {},
   "source": [
    "#### 2. Print your NumPy version."
   ]
  },
  {
   "cell_type": "code",
   "execution_count": 77,
   "metadata": {},
   "outputs": [
    {
     "name": "stdout",
     "output_type": "stream",
     "text": [
      "1.23.5\n"
     ]
    }
   ],
   "source": [
    "# your code here\n",
    "\n",
    "print(np.__version__)"
   ]
  },
  {
   "cell_type": "markdown",
   "metadata": {},
   "source": [
    "#### 3. Generate a 2x3x5 3-dimensional array with random values. Assign the array to variable *a*.\n",
    "**Challenge**: there are at least three easy ways that use numpy to generate random arrays. How many ways can you find?"
   ]
  },
  {
   "cell_type": "code",
   "execution_count": 78,
   "metadata": {},
   "outputs": [],
   "source": [
    "# Method 1\n",
    "myarraya = np.random.rand(2, 3, 5)\n",
    "a = myarraya"
   ]
  },
  {
   "cell_type": "code",
   "execution_count": 79,
   "metadata": {},
   "outputs": [],
   "source": [
    "# Method 2\n",
    "#¿?"
   ]
  },
  {
   "cell_type": "code",
   "execution_count": 80,
   "metadata": {},
   "outputs": [],
   "source": [
    "# Method 3\n",
    "#¿?"
   ]
  },
  {
   "cell_type": "markdown",
   "metadata": {},
   "source": [
    "#### 4. Print *a*.\n"
   ]
  },
  {
   "cell_type": "code",
   "execution_count": 81,
   "metadata": {},
   "outputs": [
    {
     "data": {
      "text/plain": [
       "array([[[0.9622012 , 0.68401175, 0.92129142, 0.21063041, 0.9531126 ],\n",
       "        [0.6448279 , 0.83191571, 0.57907917, 0.89587852, 0.41243569],\n",
       "        [0.98967683, 0.03546157, 0.25337469, 0.95921911, 0.15031784]],\n",
       "\n",
       "       [[0.53010454, 0.13710341, 0.02179434, 0.21937253, 0.51261877],\n",
       "        [0.32979838, 0.57808173, 0.5667957 , 0.80159631, 0.96924552],\n",
       "        [0.28306735, 0.54886252, 0.45906404, 0.03135791, 0.49664123]]])"
      ]
     },
     "execution_count": 81,
     "metadata": {},
     "output_type": "execute_result"
    }
   ],
   "source": [
    "# your code herea\n",
    "a"
   ]
  },
  {
   "cell_type": "markdown",
   "metadata": {},
   "source": [
    "#### 5. Create a 5x2x3 3-dimensional array with all values equaling 1. Assign the array to variable *b*."
   ]
  },
  {
   "cell_type": "code",
   "execution_count": 82,
   "metadata": {},
   "outputs": [],
   "source": [
    "# your code here\n",
    "myarrayb = np.ones((5, 2, 3))\n",
    "\n",
    "b = myarrayb"
   ]
  },
  {
   "cell_type": "markdown",
   "metadata": {},
   "source": [
    "#### 6. Print *b*.\n"
   ]
  },
  {
   "cell_type": "code",
   "execution_count": 83,
   "metadata": {},
   "outputs": [
    {
     "data": {
      "text/plain": [
       "array([[[1., 1., 1.],\n",
       "        [1., 1., 1.]],\n",
       "\n",
       "       [[1., 1., 1.],\n",
       "        [1., 1., 1.]],\n",
       "\n",
       "       [[1., 1., 1.],\n",
       "        [1., 1., 1.]],\n",
       "\n",
       "       [[1., 1., 1.],\n",
       "        [1., 1., 1.]],\n",
       "\n",
       "       [[1., 1., 1.],\n",
       "        [1., 1., 1.]]])"
      ]
     },
     "execution_count": 83,
     "metadata": {},
     "output_type": "execute_result"
    }
   ],
   "source": [
    "# your code here\n",
    "b"
   ]
  },
  {
   "cell_type": "markdown",
   "metadata": {},
   "source": [
    "#### 7. Do *a* and *b* have the same size? How do you prove that in Python code?"
   ]
  },
  {
   "cell_type": "code",
   "execution_count": 84,
   "metadata": {},
   "outputs": [
    {
     "name": "stdout",
     "output_type": "stream",
     "text": [
      "They are not equal\n"
     ]
    }
   ],
   "source": [
    "# your code here\n",
    "if np.shape(a) == np.shape(b):\n",
    "    print(True)\n",
    "else:\n",
    "    print(\"They are not equal\")"
   ]
  },
  {
   "cell_type": "markdown",
   "metadata": {},
   "source": [
    "#### 8. Are you able to add *a* and *b*? Why or why not?\n"
   ]
  },
  {
   "cell_type": "code",
   "execution_count": 85,
   "metadata": {},
   "outputs": [],
   "source": [
    "# your answer here\n",
    "\n",
    "# ab = a + b\n",
    "# ab\n",
    "\n",
    "# Cannot add them because they don't have the same shape\n",
    "    # ValueError: operands could not be broadcast together with shapes (2,3,5) (5,2,3) "
   ]
  },
  {
   "cell_type": "markdown",
   "metadata": {},
   "source": [
    "#### 9. Transpose *b* so that it has the same structure of *a* (i.e. become a 2x3x5 array). Assign the transposed array to variable *c*."
   ]
  },
  {
   "cell_type": "code",
   "execution_count": 86,
   "metadata": {},
   "outputs": [
    {
     "data": {
      "text/plain": [
       "array([[[0.9622012 , 0.53010454, 0.68401175, 0.13710341, 0.92129142],\n",
       "        [0.02179434, 0.21063041, 0.21937253, 0.9531126 , 0.51261877],\n",
       "        [0.6448279 , 0.32979838, 0.83191571, 0.57808173, 0.57907917]],\n",
       "\n",
       "       [[0.5667957 , 0.89587852, 0.80159631, 0.41243569, 0.96924552],\n",
       "        [0.98967683, 0.28306735, 0.03546157, 0.54886252, 0.25337469],\n",
       "        [0.45906404, 0.95921911, 0.03135791, 0.15031784, 0.49664123]]])"
      ]
     },
     "execution_count": 86,
     "metadata": {},
     "output_type": "execute_result"
    }
   ],
   "source": [
    "# your code here\n",
    "b = np.transpose(a, (1, 2, 0)).reshape(2, 3, 5)\n",
    "c = b\n",
    "c"
   ]
  },
  {
   "cell_type": "markdown",
   "metadata": {},
   "source": [
    "#### 10. Try to add *a* and *c*. Now it should work. Assign the sum to variable *d*. But why does it work now?"
   ]
  },
  {
   "cell_type": "code",
   "execution_count": 87,
   "metadata": {},
   "outputs": [
    {
     "data": {
      "text/plain": [
       "array([[[1.9244024 , 1.21411629, 1.60530316, 0.34773382, 1.87440401],\n",
       "        [0.66662224, 1.04254612, 0.7984517 , 1.84899112, 0.92505446],\n",
       "        [1.63450473, 0.36525995, 1.0852904 , 1.53730085, 0.72939701]],\n",
       "\n",
       "       [[1.09690025, 1.03298193, 0.82339065, 0.63180822, 1.48186428],\n",
       "        [1.31947521, 0.86114909, 0.60225727, 1.35045883, 1.22262021],\n",
       "        [0.74213139, 1.50808163, 0.49042195, 0.18167575, 0.99328245]]])"
      ]
     },
     "execution_count": 87,
     "metadata": {},
     "output_type": "execute_result"
    }
   ],
   "source": [
    "# your code/answer here\n",
    "d = a + c\n",
    "d\n",
    "\n",
    "# It works now because they are the same shape"
   ]
  },
  {
   "cell_type": "markdown",
   "metadata": {},
   "source": [
    "#### 11. Print *a* and *d*. Notice the difference and relation of the two array in terms of the values? Explain."
   ]
  },
  {
   "cell_type": "code",
   "execution_count": 88,
   "metadata": {},
   "outputs": [
    {
     "name": "stdout",
     "output_type": "stream",
     "text": [
      "[[[0.9622012  0.68401175 0.92129142 0.21063041 0.9531126 ]\n",
      "  [0.6448279  0.83191571 0.57907917 0.89587852 0.41243569]\n",
      "  [0.98967683 0.03546157 0.25337469 0.95921911 0.15031784]]\n",
      "\n",
      " [[0.53010454 0.13710341 0.02179434 0.21937253 0.51261877]\n",
      "  [0.32979838 0.57808173 0.5667957  0.80159631 0.96924552]\n",
      "  [0.28306735 0.54886252 0.45906404 0.03135791 0.49664123]]]\n",
      " \n",
      "[[[1.9244024  1.21411629 1.60530316 0.34773382 1.87440401]\n",
      "  [0.66662224 1.04254612 0.7984517  1.84899112 0.92505446]\n",
      "  [1.63450473 0.36525995 1.0852904  1.53730085 0.72939701]]\n",
      "\n",
      " [[1.09690025 1.03298193 0.82339065 0.63180822 1.48186428]\n",
      "  [1.31947521 0.86114909 0.60225727 1.35045883 1.22262021]\n",
      "  [0.74213139 1.50808163 0.49042195 0.18167575 0.99328245]]]\n"
     ]
    }
   ],
   "source": [
    "# your code/answer here\n",
    "print(a)\n",
    "print(\" \")\n",
    "print(d)\n",
    "# that they are both floats?"
   ]
  },
  {
   "cell_type": "markdown",
   "metadata": {},
   "source": [
    "#### 12. Multiply *a* and *c*. Assign the result to *e*."
   ]
  },
  {
   "cell_type": "code",
   "execution_count": 89,
   "metadata": {},
   "outputs": [
    {
     "data": {
      "text/plain": [
       "array([[[0.9622012 , 0.53010454, 0.68401175, 0.13710341, 0.92129142],\n",
       "        [0.02179434, 0.21063041, 0.21937253, 0.9531126 , 0.51261877],\n",
       "        [0.6448279 , 0.32979838, 0.83191571, 0.57808173, 0.57907917]],\n",
       "\n",
       "       [[0.5667957 , 0.89587852, 0.80159631, 0.41243569, 0.96924552],\n",
       "        [0.98967683, 0.28306735, 0.03546157, 0.54886252, 0.25337469],\n",
       "        [0.45906404, 0.95921911, 0.03135791, 0.15031784, 0.49664123]]])"
      ]
     },
     "execution_count": 89,
     "metadata": {},
     "output_type": "execute_result"
    }
   ],
   "source": [
    "# your code here\n",
    "e = a * c\n",
    "c"
   ]
  },
  {
   "cell_type": "markdown",
   "metadata": {},
   "source": [
    "#### 13. Does *e* equal to *a*? Why or why not?\n"
   ]
  },
  {
   "cell_type": "code",
   "execution_count": 90,
   "metadata": {},
   "outputs": [
    {
     "data": {
      "text/plain": [
       "array([[[False, False, False, False, False],\n",
       "        [False, False, False, False, False],\n",
       "        [False, False, False, False, False]],\n",
       "\n",
       "       [[False, False, False, False, False],\n",
       "        [False, False, False, False, False],\n",
       "        [False, False, False, False, False]]])"
      ]
     },
     "execution_count": 90,
     "metadata": {},
     "output_type": "execute_result"
    }
   ],
   "source": [
    "# your code/answer here\n",
    "e == a\n",
    "#ttey don't have the same values"
   ]
  },
  {
   "cell_type": "markdown",
   "metadata": {},
   "source": [
    "#### 14. Identify the max, min, and mean values in *d*. Assign those values to variables *d_max*, *d_min* and *d_mean*."
   ]
  },
  {
   "cell_type": "code",
   "execution_count": 91,
   "metadata": {},
   "outputs": [
    {
     "name": "stdout",
     "output_type": "stream",
     "text": [
      "1.9244023966818753\n",
      "0.181675752341653\n",
      "1.0645959118302344\n"
     ]
    }
   ],
   "source": [
    "# your code here\n",
    "d_max = np.max(d)\n",
    "d_min = np.min(d)\n",
    "d_mean = np.mean(d)\n",
    "\n",
    "print(d_max)\n",
    "print(d_min)\n",
    "print(d_mean)"
   ]
  },
  {
   "cell_type": "markdown",
   "metadata": {},
   "source": [
    "#### 15. Now we want to label the values in *d*. First create an empty array *f* with the same shape (i.e. 2x3x5) as *d* using `np.empty`.\n"
   ]
  },
  {
   "cell_type": "code",
   "execution_count": 92,
   "metadata": {},
   "outputs": [
    {
     "data": {
      "text/plain": [
       "array([[[0.9622012 , 0.53010454, 0.68401175, 0.13710341, 0.92129142],\n",
       "        [0.02179434, 0.21063041, 0.21937253, 0.9531126 , 0.51261877],\n",
       "        [0.6448279 , 0.32979838, 0.83191571, 0.57808173, 0.57907917]],\n",
       "\n",
       "       [[0.5667957 , 0.89587852, 0.80159631, 0.41243569, 0.96924552],\n",
       "        [0.98967683, 0.28306735, 0.03546157, 0.54886252, 0.25337469],\n",
       "        [0.45906404, 0.95921911, 0.03135791, 0.15031784, 0.49664123]]])"
      ]
     },
     "execution_count": 92,
     "metadata": {},
     "output_type": "execute_result"
    }
   ],
   "source": [
    "# your code here\n",
    "f = np.empty((2,3,5))\n",
    "f"
   ]
  },
  {
   "cell_type": "markdown",
   "metadata": {},
   "source": [
    "#### 16. Populate the values in *f*. \n",
    "\n",
    "For each value in *d*, if it's larger than *d_min* but smaller than *d_mean*, assign 25 to the corresponding value in *f*. If a value in *d* is larger than *d_mean* but smaller than *d_max*, assign 75 to the corresponding value in *f*. If a value equals to *d_mean*, assign 50 to the corresponding value in *f*. Assign 0 to the corresponding value(s) in *f* for *d_min* in *d*. Assign 100 to the corresponding value(s) in *f* for *d_max* in *d*. In the end, f should have only the following values: 0, 25, 50, 75, and 100.\n",
    "\n",
    "**Note**: you don't have to use Numpy in this question."
   ]
  },
  {
   "cell_type": "code",
   "execution_count": 96,
   "metadata": {},
   "outputs": [
    {
     "name": "stdout",
     "output_type": "stream",
     "text": [
      "[[[1.9244024  1.21411629 1.60530316 0.34773382 1.87440401]\n",
      "  [0.66662224 1.04254612 0.7984517  1.84899112 0.92505446]\n",
      "  [1.63450473 0.36525995 1.0852904  1.53730085 0.72939701]]\n",
      "\n",
      " [[1.09690025 1.03298193 0.82339065 0.63180822 1.48186428]\n",
      "  [1.31947521 0.86114909 0.60225727 1.35045883 1.22262021]\n",
      "  [0.74213139 1.50808163 0.49042195 0.18167575 0.99328245]]]\n",
      " \n",
      "[[[100.  75.  75.  25.  75.]\n",
      "  [ 25.  25.  25.  75.  25.]\n",
      "  [ 75.  25.  75.  75.  25.]]\n",
      "\n",
      " [[ 75.  25.  25.  25.  75.]\n",
      "  [ 75.  25.  25.  75.  75.]\n",
      "  [ 25.  75.  25.   0.  25.]]]\n"
     ]
    }
   ],
   "source": [
    "# your code here\n",
    "\n",
    "f[(d > d_min) & (d < d_mean)] = 25\n",
    "f[(d > d_mean) & (d < d_max)] = 75\n",
    "f[d == d_mean] = 50\n",
    "f[d == d_min] = 0\n",
    "f[d == d_max] = 100\n",
    "\n",
    "print(d)\n",
    "print(\" \")\n",
    "print(f)\n"
   ]
  },
  {
   "cell_type": "markdown",
   "metadata": {},
   "source": [
    "#### 17. Print *d* and *f*. Do you have your expected *f*?\n",
    "For instance, if your *d* is:\n",
    "```python\n",
    "[[[1.85836099, 1.67064465, 1.62576044, 1.40243961, 1.88454931],\n",
    "[1.75354326, 1.69403643, 1.36729252, 1.61415071, 1.12104981],\n",
    "[1.72201435, 1.1862918 , 1.87078449, 1.7726778 , 1.88180042]],\n",
    "[[1.44747908, 1.31673383, 1.02000951, 1.52218947, 1.97066381],\n",
    "[1.79129243, 1.74983003, 1.96028037, 1.85166831, 1.65450881],\n",
    "[1.18068344, 1.9587381 , 1.00656599, 1.93402165, 1.73514584]]]\n",
    "```\n",
    "Your *f* should be:\n",
    "```python\n",
    "[[[ 75.,  75.,  75.,  25.,  75.],\n",
    "[ 75.,  75.,  25.,  25.,  25.],\n",
    "[ 75.,  25.,  75.,  75.,  75.]],\n",
    "[[ 25.,  25.,  25.,  25., 100.],\n",
    "[ 75.,  75.,  75.,  75.,  75.],\n",
    "[ 25.,  75.,   0.,  75.,  75.]]]\n",
    "```"
   ]
  },
  {
   "cell_type": "code",
   "execution_count": 94,
   "metadata": {},
   "outputs": [],
   "source": [
    "# your code here"
   ]
  },
  {
   "cell_type": "markdown",
   "metadata": {},
   "source": [
    "#### 18. Bonus question: instead of using numbers (i.e. 0, 25, 50, 75, and 100), use string values  (\"A\", \"B\", \"C\", \"D\", and \"E\") to label the array elements. For the example above, the expected result is:\n",
    "\n",
    "```python\n",
    "[[[ 'D',  'D',  'D',  'B',  'D'],\n",
    "[ 'D',  'D',  'B',  'B',  'B'],\n",
    "[ 'D',  'B',  'D',  'D',  'D']],\n",
    "[[ 'B',  'B',  'B',  'B',  'E'],\n",
    "[ 'D',  'D',  'D',  'D',  'D'],\n",
    "[ 'B',  'D',   'A',  'D', 'D']]]\n",
    "```\n",
    "**Note**: you don't have to use Numpy in this question."
   ]
  },
  {
   "cell_type": "code",
   "execution_count": 95,
   "metadata": {},
   "outputs": [],
   "source": [
    "# your code here"
   ]
  }
 ],
 "metadata": {
  "kernelspec": {
   "display_name": "Python 3",
   "language": "python",
   "name": "python3"
  },
  "language_info": {
   "codemirror_mode": {
    "name": "ipython",
    "version": 3
   },
   "file_extension": ".py",
   "mimetype": "text/x-python",
   "name": "python",
   "nbconvert_exporter": "python",
   "pygments_lexer": "ipython3",
   "version": "3.10.9"
  }
 },
 "nbformat": 4,
 "nbformat_minor": 2
}
