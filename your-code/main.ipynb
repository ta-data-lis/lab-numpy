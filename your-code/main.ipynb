{
 "cells": [
  {
   "cell_type": "markdown",
   "metadata": {},
   "source": [
    "# Intrduction to NumPy\n",
    "\n",
    "\n",
    "#### 1. Import NumPy under the name np."
   ]
  },
  {
   "cell_type": "code",
   "execution_count": 1,
   "metadata": {},
   "outputs": [],
   "source": [
    "import numpy as np"
   ]
  },
  {
   "cell_type": "markdown",
   "metadata": {},
   "source": [
    "#### 2. Print your NumPy version."
   ]
  },
  {
   "cell_type": "code",
   "execution_count": 2,
   "metadata": {},
   "outputs": [
    {
     "name": "stdout",
     "output_type": "stream",
     "text": [
      "<module 'numpy' from 'C:\\\\Users\\\\Alina Hartsch\\\\anaconda3\\\\envs\\\\Ironhack\\\\lib\\\\site-packages\\\\numpy\\\\__init__.py'>\n"
     ]
    }
   ],
   "source": [
    "print(np)"
   ]
  },
  {
   "cell_type": "markdown",
   "metadata": {},
   "source": [
    "#### 3. Generate a 2x3x5 3-dimensional array with random values. Assign the array to variable *a*.\n",
    "**Challenge**: there are at least three easy ways that use numpy to generate random arrays. How many ways can you find?"
   ]
  },
  {
   "cell_type": "code",
   "execution_count": 3,
   "metadata": {},
   "outputs": [
    {
     "name": "stdout",
     "output_type": "stream",
     "text": [
      "[[[0.45212451 0.99419736 0.26721761 0.29503479 0.53122187]\n",
      "  [0.18723441 0.38049381 0.58250755 0.53964635 0.87406238]\n",
      "  [0.16902952 0.53330595 0.91915933 0.67076783 0.84115263]]\n",
      "\n",
      " [[0.71419725 0.53525228 0.27304484 0.17006746 0.34922489]\n",
      "  [0.88040529 0.48709812 0.68773308 0.40935681 0.49839945]\n",
      "  [0.20446089 0.15818978 0.98327006 0.66451539 0.10397223]]]\n"
     ]
    }
   ],
   "source": [
    "import random\n",
    "my_array1=np.random.random((2,3,5))\n",
    "print(my_array1)"
   ]
  },
  {
   "cell_type": "code",
   "execution_count": 4,
   "metadata": {},
   "outputs": [
    {
     "name": "stdout",
     "output_type": "stream",
     "text": [
      "[[[0.11452336 0.36391143 0.57740359 0.84774828 0.54840504]\n",
      "  [0.18815367 0.43161078 0.93670385 0.18418401 0.60100185]\n",
      "  [0.91392934 0.6153358  0.11482241 0.51792407 0.58349722]]\n",
      "\n",
      " [[0.76600488 0.04782908 0.55442207 0.68426984 0.92428475]\n",
      "  [0.45328118 0.7832134  0.29395923 0.14968769 0.43779134]\n",
      "  [0.10758394 0.0234385  0.58545727 0.23145985 0.44056508]]]\n"
     ]
    }
   ],
   "source": [
    "my_array2=np.random.rand(2,3,5)\n",
    "\n",
    "print(my_array2)\n"
   ]
  },
  {
   "cell_type": "code",
   "execution_count": 5,
   "metadata": {},
   "outputs": [
    {
     "name": "stdout",
     "output_type": "stream",
     "text": [
      "[58, 79]\n"
     ]
    }
   ],
   "source": [
    "list1=[element for element in random.sample(range(100),2)]\n",
    "print(list1)\n"
   ]
  },
  {
   "cell_type": "code",
   "execution_count": 6,
   "metadata": {},
   "outputs": [
    {
     "name": "stdout",
     "output_type": "stream",
     "text": [
      "[92, 69, 9]\n"
     ]
    }
   ],
   "source": [
    "list2=[element for element in random.sample(range(100),3)]\n",
    "print(list2)"
   ]
  },
  {
   "cell_type": "code",
   "execution_count": 7,
   "metadata": {},
   "outputs": [
    {
     "name": "stdout",
     "output_type": "stream",
     "text": [
      "[56, 21, 91, 62, 76]\n"
     ]
    }
   ],
   "source": [
    "list3=[element for element in random.sample(range(100),5)]\n",
    "print(list3)"
   ]
  },
  {
   "cell_type": "markdown",
   "metadata": {},
   "source": [
    "#### 4. Print *a*.\n"
   ]
  },
  {
   "cell_type": "code",
   "execution_count": 8,
   "metadata": {},
   "outputs": [
    {
     "name": "stdout",
     "output_type": "stream",
     "text": [
      "[[[0.45212451 0.99419736 0.26721761 0.29503479 0.53122187]\n",
      "  [0.18723441 0.38049381 0.58250755 0.53964635 0.87406238]\n",
      "  [0.16902952 0.53330595 0.91915933 0.67076783 0.84115263]]\n",
      "\n",
      " [[0.71419725 0.53525228 0.27304484 0.17006746 0.34922489]\n",
      "  [0.88040529 0.48709812 0.68773308 0.40935681 0.49839945]\n",
      "  [0.20446089 0.15818978 0.98327006 0.66451539 0.10397223]]]\n"
     ]
    }
   ],
   "source": [
    "a=my_array1\n",
    "print(a)"
   ]
  },
  {
   "cell_type": "markdown",
   "metadata": {},
   "source": [
    "#### 5. Create a 5x2x3 3-dimensional array with all values equaling 1. Assign the array to variable *b*."
   ]
  },
  {
   "cell_type": "code",
   "execution_count": 9,
   "metadata": {},
   "outputs": [],
   "source": [
    "b=np.ones((5,2,3),int)"
   ]
  },
  {
   "cell_type": "markdown",
   "metadata": {},
   "source": [
    "#### 6. Print *b*.\n"
   ]
  },
  {
   "cell_type": "code",
   "execution_count": 10,
   "metadata": {},
   "outputs": [
    {
     "name": "stdout",
     "output_type": "stream",
     "text": [
      "[[[1 1 1]\n",
      "  [1 1 1]]\n",
      "\n",
      " [[1 1 1]\n",
      "  [1 1 1]]\n",
      "\n",
      " [[1 1 1]\n",
      "  [1 1 1]]\n",
      "\n",
      " [[1 1 1]\n",
      "  [1 1 1]]\n",
      "\n",
      " [[1 1 1]\n",
      "  [1 1 1]]]\n"
     ]
    }
   ],
   "source": [
    "print(b)"
   ]
  },
  {
   "cell_type": "markdown",
   "metadata": {},
   "source": [
    "#### 7. Do *a* and *b* have the same size? How do you prove that in Python code?"
   ]
  },
  {
   "cell_type": "code",
   "execution_count": 11,
   "metadata": {},
   "outputs": [
    {
     "data": {
      "text/plain": [
       "True"
      ]
     },
     "execution_count": 11,
     "metadata": {},
     "output_type": "execute_result"
    }
   ],
   "source": [
    "a.size==b.size #yes they have, you can prove it by comparing the sizes with =="
   ]
  },
  {
   "cell_type": "markdown",
   "metadata": {},
   "source": [
    "#### 8. Are you able to add *a* and *b*? Why or why not?\n"
   ]
  },
  {
   "cell_type": "code",
   "execution_count": 12,
   "metadata": {},
   "outputs": [
    {
     "ename": "ValueError",
     "evalue": "operands could not be broadcast together with shapes (2,3,5) (5,2,3) ",
     "output_type": "error",
     "traceback": [
      "\u001b[1;31m---------------------------------------------------------------------------\u001b[0m",
      "\u001b[1;31mValueError\u001b[0m                                Traceback (most recent call last)",
      "Input \u001b[1;32mIn [12]\u001b[0m, in \u001b[0;36m<cell line: 1>\u001b[1;34m()\u001b[0m\n\u001b[1;32m----> 1\u001b[0m C\u001b[38;5;241m=\u001b[39m\u001b[43ma\u001b[49m\u001b[38;5;241;43m+\u001b[39;49m\u001b[43mb\u001b[49m\n",
      "\u001b[1;31mValueError\u001b[0m: operands could not be broadcast together with shapes (2,3,5) (5,2,3) "
     ]
    }
   ],
   "source": [
    "C=a+b #No because they have different shapes "
   ]
  },
  {
   "cell_type": "markdown",
   "metadata": {},
   "source": [
    "#### 9. Transpose *b* so that it has the same structure of *a* (i.e. become a 2x3x5 array). Assign the transposed array to variable *c*."
   ]
  },
  {
   "cell_type": "code",
   "execution_count": 13,
   "metadata": {},
   "outputs": [
    {
     "name": "stdout",
     "output_type": "stream",
     "text": [
      "[[[1 1 1 1 1]\n",
      "  [1 1 1 1 1]\n",
      "  [1 1 1 1 1]]\n",
      "\n",
      " [[1 1 1 1 1]\n",
      "  [1 1 1 1 1]\n",
      "  [1 1 1 1 1]]]\n"
     ]
    }
   ],
   "source": [
    "c=b.reshape(2,3,5)\n",
    "print(c)"
   ]
  },
  {
   "cell_type": "markdown",
   "metadata": {},
   "source": [
    "#### 10. Try to add *a* and *c*. Now it should work. Assign the sum to variable *d*. But why does it work now?"
   ]
  },
  {
   "cell_type": "code",
   "execution_count": 14,
   "metadata": {},
   "outputs": [
    {
     "name": "stdout",
     "output_type": "stream",
     "text": [
      "[[[1.45212451 1.99419736 1.26721761 1.29503479 1.53122187]\n",
      "  [1.18723441 1.38049381 1.58250755 1.53964635 1.87406238]\n",
      "  [1.16902952 1.53330595 1.91915933 1.67076783 1.84115263]]\n",
      "\n",
      " [[1.71419725 1.53525228 1.27304484 1.17006746 1.34922489]\n",
      "  [1.88040529 1.48709812 1.68773308 1.40935681 1.49839945]\n",
      "  [1.20446089 1.15818978 1.98327006 1.66451539 1.10397223]]]\n"
     ]
    }
   ],
   "source": [
    "d=a+c\n",
    "\n",
    "print(d) #it works now becasue we reshaped c so it has the same shape as a which allows us to add both arrays"
   ]
  },
  {
   "cell_type": "markdown",
   "metadata": {},
   "source": [
    "#### 11. Print *a* and *d*. Notice the difference and relation of the two array in terms of the values? Explain."
   ]
  },
  {
   "cell_type": "code",
   "execution_count": 15,
   "metadata": {},
   "outputs": [
    {
     "name": "stdout",
     "output_type": "stream",
     "text": [
      "This is a:\n",
      "[[[0.45212451 0.99419736 0.26721761 0.29503479 0.53122187]\n",
      "  [0.18723441 0.38049381 0.58250755 0.53964635 0.87406238]\n",
      "  [0.16902952 0.53330595 0.91915933 0.67076783 0.84115263]]\n",
      "\n",
      " [[0.71419725 0.53525228 0.27304484 0.17006746 0.34922489]\n",
      "  [0.88040529 0.48709812 0.68773308 0.40935681 0.49839945]\n",
      "  [0.20446089 0.15818978 0.98327006 0.66451539 0.10397223]]]\n",
      "This is d:\n",
      "[[[1.45212451 1.99419736 1.26721761 1.29503479 1.53122187]\n",
      "  [1.18723441 1.38049381 1.58250755 1.53964635 1.87406238]\n",
      "  [1.16902952 1.53330595 1.91915933 1.67076783 1.84115263]]\n",
      "\n",
      " [[1.71419725 1.53525228 1.27304484 1.17006746 1.34922489]\n",
      "  [1.88040529 1.48709812 1.68773308 1.40935681 1.49839945]\n",
      "  [1.20446089 1.15818978 1.98327006 1.66451539 1.10397223]]]\n"
     ]
    }
   ],
   "source": [
    "print('This is a:') \n",
    "print(a)\n",
    "print('This is d:')\n",
    "print(d)\n",
    "\n",
    "# #the difference of the value is for each value +1, since c consistet of only ones and its values were added to the values of a \n",
    "#and the result stored in d (d=a+c)"
   ]
  },
  {
   "cell_type": "markdown",
   "metadata": {},
   "source": [
    "#### 12. Multiply *a* and *c*. Assign the result to *e*."
   ]
  },
  {
   "cell_type": "code",
   "execution_count": 16,
   "metadata": {},
   "outputs": [
    {
     "data": {
      "text/plain": [
       "array([[[0.45212451, 0.99419736, 0.26721761, 0.29503479, 0.53122187],\n",
       "        [0.18723441, 0.38049381, 0.58250755, 0.53964635, 0.87406238],\n",
       "        [0.16902952, 0.53330595, 0.91915933, 0.67076783, 0.84115263]],\n",
       "\n",
       "       [[0.71419725, 0.53525228, 0.27304484, 0.17006746, 0.34922489],\n",
       "        [0.88040529, 0.48709812, 0.68773308, 0.40935681, 0.49839945],\n",
       "        [0.20446089, 0.15818978, 0.98327006, 0.66451539, 0.10397223]]])"
      ]
     },
     "execution_count": 16,
     "metadata": {},
     "output_type": "execute_result"
    }
   ],
   "source": [
    "e=a*c\n",
    "e"
   ]
  },
  {
   "cell_type": "markdown",
   "metadata": {},
   "source": [
    "#### 13. Does *e* equal to *a*? Why or why not?\n"
   ]
  },
  {
   "cell_type": "code",
   "execution_count": 17,
   "metadata": {},
   "outputs": [
    {
     "data": {
      "text/plain": [
       "array([[[ True,  True,  True,  True,  True],\n",
       "        [ True,  True,  True,  True,  True],\n",
       "        [ True,  True,  True,  True,  True]],\n",
       "\n",
       "       [[ True,  True,  True,  True,  True],\n",
       "        [ True,  True,  True,  True,  True],\n",
       "        [ True,  True,  True,  True,  True]]])"
      ]
     },
     "execution_count": 17,
     "metadata": {},
     "output_type": "execute_result"
    }
   ],
   "source": [
    "a==e #they equal to each other because a was multiplied with c which only contains values 1 and number*1 always equals number"
   ]
  },
  {
   "cell_type": "markdown",
   "metadata": {},
   "source": [
    "#### 14. Identify the max, min, and mean values in *d*. Assign those values to variables *d_max*, *d_min* and *d_mean*."
   ]
  },
  {
   "cell_type": "code",
   "execution_count": 19,
   "metadata": {},
   "outputs": [
    {
     "name": "stdout",
     "output_type": "stream",
     "text": [
      "1.994197356449543\n",
      "1.103972226550883\n",
      "1.5118781235722758\n"
     ]
    }
   ],
   "source": [
    "d_max = np.amax(d)\n",
    "d_min = np.amin(d)\n",
    "d_mean = np.mean(d)\n",
    "print(d_max)\n",
    "print(d_min)\n",
    "print(d_mean)"
   ]
  },
  {
   "cell_type": "markdown",
   "metadata": {},
   "source": [
    "#### 15. Now we want to label the values in *d*. First create an empty array *f* with the same shape (i.e. 2x3x5) as *d* using `np.empty`.\n"
   ]
  },
  {
   "cell_type": "code",
   "execution_count": 20,
   "metadata": {},
   "outputs": [],
   "source": [
    "f=np.empty([2,3,5])"
   ]
  },
  {
   "cell_type": "markdown",
   "metadata": {},
   "source": [
    "#### 16. Populate the values in *f*. \n",
    "\n",
    "For each value in *d*, if it's larger than *d_min* but smaller than *d_mean*, assign 25 to the corresponding value in *f*. If a value in *d* is larger than *d_mean* but smaller than *d_max*, assign 75 to the corresponding value in *f*. If a value equals to *d_mean*, assign 50 to the corresponding value in *f*. Assign 0 to the corresponding value(s) in *f* for *d_min* in *d*. Assign 100 to the corresponding value(s) in *f* for *d_max* in *d*. In the end, f should have only the following values: 0, 25, 50, 75, and 100.\n",
    "\n",
    "**Note**: you don't have to use Numpy in this question."
   ]
  },
  {
   "cell_type": "code",
   "execution_count": 21,
   "metadata": {},
   "outputs": [
    {
     "ename": "ValueError",
     "evalue": "The truth value of an array with more than one element is ambiguous. Use a.any() or a.all()",
     "output_type": "error",
     "traceback": [
      "\u001b[1;31m---------------------------------------------------------------------------\u001b[0m",
      "\u001b[1;31mValueError\u001b[0m                                Traceback (most recent call last)",
      "Input \u001b[1;32mIn [21]\u001b[0m, in \u001b[0;36m<cell line: 3>\u001b[1;34m()\u001b[0m\n\u001b[0;32m      3\u001b[0m \u001b[38;5;28;01mfor\u001b[39;00m column \u001b[38;5;129;01min\u001b[39;00m d:\n\u001b[0;32m      4\u001b[0m     \u001b[38;5;28;01mfor\u001b[39;00m element \u001b[38;5;129;01min\u001b[39;00m column: \n\u001b[1;32m----> 5\u001b[0m         \u001b[38;5;28;01mif\u001b[39;00m \u001b[43melement\u001b[49m\u001b[43m \u001b[49m\u001b[38;5;241;43m>\u001b[39;49m\u001b[43m \u001b[49m\u001b[43md_min\u001b[49m \u001b[38;5;129;01mand\u001b[39;00m element \u001b[38;5;241m<\u001b[39m d_mean:\n\u001b[0;32m      6\u001b[0m             my_list\u001b[38;5;241m.\u001b[39mappend(\u001b[38;5;124m'\u001b[39m\u001b[38;5;124m25\u001b[39m\u001b[38;5;124m'\u001b[39m)\n\u001b[0;32m      7\u001b[0m         \u001b[38;5;28;01melif\u001b[39;00m element \u001b[38;5;241m>\u001b[39m d_mean \u001b[38;5;129;01mand\u001b[39;00m element \u001b[38;5;241m<\u001b[39m d_max:\n",
      "\u001b[1;31mValueError\u001b[0m: The truth value of an array with more than one element is ambiguous. Use a.any() or a.all()"
     ]
    }
   ],
   "source": [
    "my_list=[]\n",
    "\n",
    "for column in d:\n",
    "    for element in column: \n",
    "        if element > d_min and element < d_mean:\n",
    "            my_list.append('25')\n",
    "        elif element > d_mean and element < d_max:\n",
    "            my_list.append('75')\n",
    "        elif element == d_mean:\n",
    "            my_list.append('50')\n",
    "        elif element == d_min:\n",
    "            my_list.append('0')\n",
    "        elif element == d_max:\n",
    "            my_list.append('100')\n",
    "        else:\n",
    "            continue\n",
    "print(my_list)\n",
    "            "
   ]
  },
  {
   "cell_type": "markdown",
   "metadata": {},
   "source": [
    "#### 17. Print *d* and *f*. Do you have your expected *f*?\n",
    "For instance, if your *d* is:\n",
    "```python\n",
    "[[[1.85836099, 1.67064465, 1.62576044, 1.40243961, 1.88454931],\n",
    "[1.75354326, 1.69403643, 1.36729252, 1.61415071, 1.12104981],\n",
    "[1.72201435, 1.1862918 , 1.87078449, 1.7726778 , 1.88180042]],\n",
    "[[1.44747908, 1.31673383, 1.02000951, 1.52218947, 1.97066381],\n",
    "[1.79129243, 1.74983003, 1.96028037, 1.85166831, 1.65450881],\n",
    "[1.18068344, 1.9587381 , 1.00656599, 1.93402165, 1.73514584]]]\n",
    "```\n",
    "Your *f* should be:\n",
    "```python\n",
    "[[[ 75.,  75.,  75.,  25.,  75.],\n",
    "[ 75.,  75.,  25.,  25.,  25.],\n",
    "[ 75.,  25.,  75.,  75.,  75.]],\n",
    "[[ 25.,  25.,  25.,  25., 100.],\n",
    "[ 75.,  75.,  75.,  75.,  75.],\n",
    "[ 25.,  75.,   0.,  75.,  75.]]]\n",
    "```"
   ]
  },
  {
   "cell_type": "code",
   "execution_count": null,
   "metadata": {},
   "outputs": [],
   "source": [
    "# your code here"
   ]
  },
  {
   "cell_type": "markdown",
   "metadata": {},
   "source": [
    "#### 18. Bonus question: instead of using numbers (i.e. 0, 25, 50, 75, and 100), use string values  (\"A\", \"B\", \"C\", \"D\", and \"E\") to label the array elements. For the example above, the expected result is:\n",
    "\n",
    "```python\n",
    "[[[ 'D',  'D',  'D',  'B',  'D'],\n",
    "[ 'D',  'D',  'B',  'B',  'B'],\n",
    "[ 'D',  'B',  'D',  'D',  'D']],\n",
    "[[ 'B',  'B',  'B',  'B',  'E'],\n",
    "[ 'D',  'D',  'D',  'D',  'D'],\n",
    "[ 'B',  'D',   'A',  'D', 'D']]]\n",
    "```\n",
    "**Note**: you don't have to use Numpy in this question."
   ]
  },
  {
   "cell_type": "code",
   "execution_count": null,
   "metadata": {},
   "outputs": [],
   "source": [
    "# your code here"
   ]
  }
 ],
 "metadata": {
  "kernelspec": {
   "display_name": "Python 3 (ipykernel)",
   "language": "python",
   "name": "python3"
  },
  "language_info": {
   "codemirror_mode": {
    "name": "ipython",
    "version": 3
   },
   "file_extension": ".py",
   "mimetype": "text/x-python",
   "name": "python",
   "nbconvert_exporter": "python",
   "pygments_lexer": "ipython3",
   "version": "3.9.12"
  }
 },
 "nbformat": 4,
 "nbformat_minor": 2
}
