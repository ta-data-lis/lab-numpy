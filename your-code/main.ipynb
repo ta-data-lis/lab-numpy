{
 "cells": [
  {
   "cell_type": "markdown",
   "metadata": {},
   "source": [
    "# Intrduction to NumPy\n",
    "\n",
    "\n",
    "#### 1. Import NumPy under the name np."
   ]
  },
  {
   "cell_type": "code",
   "execution_count": 24,
   "metadata": {},
   "outputs": [],
   "source": [
    "# your code here\n",
    "import numpy as np"
   ]
  },
  {
   "cell_type": "markdown",
   "metadata": {},
   "source": [
    "#### 2. Print your NumPy version."
   ]
  },
  {
   "cell_type": "code",
   "execution_count": 25,
   "metadata": {},
   "outputs": [
    {
     "name": "stdout",
     "output_type": "stream",
     "text": [
      "1.18.1\n"
     ]
    }
   ],
   "source": [
    "# your code\n",
    "# np.version\n",
    "print(np.__version__)\n"
   ]
  },
  {
   "cell_type": "markdown",
   "metadata": {},
   "source": [
    "#### 3. Generate a 2x3x5 3-dimensional array with random values. Assign the array to variable *a*.\n",
    "**Challenge**: there are at least three easy ways that use numpy to generate random arrays. How many ways can you find?"
   ]
  },
  {
   "cell_type": "code",
   "execution_count": 26,
   "metadata": {},
   "outputs": [
    {
     "data": {
      "text/plain": [
       "array([[[0.22004629, 0.08463526, 0.10070223, 0.26538508, 0.71965312],\n",
       "        [0.47502737, 0.86455373, 0.84942036, 0.99778556, 0.32457776],\n",
       "        [0.09218584, 0.00997538, 0.58662432, 0.38066507, 0.41201554]],\n",
       "\n",
       "       [[0.28848729, 0.32954693, 0.06081692, 0.14377577, 0.38866902],\n",
       "        [0.86674896, 0.53316083, 0.95518397, 0.34463625, 0.02776316],\n",
       "        [0.92038815, 0.29912772, 0.31735228, 0.24232834, 0.94250021]]])"
      ]
     },
     "execution_count": 26,
     "metadata": {},
     "output_type": "execute_result"
    }
   ],
   "source": [
    "a=np.random.random((2,3,5))\n",
    "a\n",
    "#how to define type as int\n",
    "#doesn't work: a=np.random.random((2,3,5),dtype=int) "
   ]
  },
  {
   "cell_type": "code",
   "execution_count": 27,
   "metadata": {},
   "outputs": [
    {
     "data": {
      "text/plain": [
       "array([[[-0.6233454 , -1.28737415, -1.45615589,  1.33270745,\n",
       "         -0.01496269],\n",
       "        [-0.42240195,  0.70796415,  0.01372795, -0.23482192,\n",
       "         -0.56909764],\n",
       "        [ 0.23074135,  0.25368874,  1.01141062,  0.3178722 ,\n",
       "          1.76094298]],\n",
       "\n",
       "       [[ 2.02732573,  1.47973897,  0.78339996,  1.88169069,\n",
       "          1.6983634 ],\n",
       "        [-1.72166724, -0.47102654,  1.21905684, -0.29629502,\n",
       "         -0.80673331],\n",
       "        [ 0.10050232, -0.57984051, -1.09368429, -0.81280116,\n",
       "          0.42285469]]])"
      ]
     },
     "execution_count": 27,
     "metadata": {},
     "output_type": "execute_result"
    }
   ],
   "source": [
    "a=np.random.randn(2,3,5)\n",
    "a"
   ]
  },
  {
   "cell_type": "code",
   "execution_count": 28,
   "metadata": {},
   "outputs": [
    {
     "data": {
      "text/plain": [
       "array([[[17,  5, 16, 26,  9],\n",
       "        [10, 15,  5, 22,  5],\n",
       "        [ 2, 16, 23,  6, 19]],\n",
       "\n",
       "       [[20, 10,  5, 17, 11],\n",
       "        [ 1, 23, 20,  5, 25],\n",
       "        [ 1,  7, 23,  5, 19]]])"
      ]
     },
     "execution_count": 28,
     "metadata": {},
     "output_type": "execute_result"
    }
   ],
   "source": [
    "a= np.random.randint(27, size=(2,3,5))\n",
    "a\n",
    "#do I have to define max value?"
   ]
  },
  {
   "cell_type": "code",
   "execution_count": 29,
   "metadata": {},
   "outputs": [
    {
     "data": {
      "text/plain": [
       "array([[[0.80972876, 0.91010848, 0.49605502, 0.84960558, 0.92028134],\n",
       "        [0.7764113 , 0.01511011, 0.96874994, 0.5663138 , 0.65342559],\n",
       "        [0.45326628, 0.44340461, 0.97997648, 0.45533092, 0.74195867]],\n",
       "\n",
       "       [[0.62225791, 0.01341282, 0.43741717, 0.57467563, 0.70499465],\n",
       "        [0.4305051 , 0.76611079, 0.38669573, 0.84975981, 0.84442342],\n",
       "        [0.46008336, 0.83940907, 0.89713169, 0.08280854, 0.24992421]]])"
      ]
     },
     "execution_count": 29,
     "metadata": {},
     "output_type": "execute_result"
    }
   ],
   "source": [
    "a= np.random.random_sample((2,3,5))\n",
    "a"
   ]
  },
  {
   "cell_type": "code",
   "execution_count": 30,
   "metadata": {},
   "outputs": [
    {
     "data": {
      "text/plain": [
       "array([[[ 0,  1,  2,  3,  4],\n",
       "        [ 5,  6,  7,  8,  9],\n",
       "        [10, 11, 12, 13, 14]],\n",
       "\n",
       "       [[15, 16, 17, 18, 19],\n",
       "        [20, 21, 22, 23, 24],\n",
       "        [25, 26, 27, 28, 29]]])"
      ]
     },
     "execution_count": 30,
     "metadata": {},
     "output_type": "execute_result"
    }
   ],
   "source": [
    "# Method 3\n",
    "array= np.arange(30).reshape(2,3,5)\n",
    "array"
   ]
  },
  {
   "cell_type": "markdown",
   "metadata": {},
   "source": [
    "#### 4. Print *a*.\n"
   ]
  },
  {
   "cell_type": "code",
   "execution_count": 31,
   "metadata": {},
   "outputs": [],
   "source": [
    "# your code here"
   ]
  },
  {
   "cell_type": "markdown",
   "metadata": {},
   "source": [
    "#### 5. Create a 5x2x3 3-dimensional array with all values equaling 1. Assign the array to variable *b*."
   ]
  },
  {
   "cell_type": "code",
   "execution_count": 32,
   "metadata": {},
   "outputs": [
    {
     "data": {
      "text/plain": [
       "array([[[1., 1., 1.],\n",
       "        [1., 1., 1.]],\n",
       "\n",
       "       [[1., 1., 1.],\n",
       "        [1., 1., 1.]],\n",
       "\n",
       "       [[1., 1., 1.],\n",
       "        [1., 1., 1.]],\n",
       "\n",
       "       [[1., 1., 1.],\n",
       "        [1., 1., 1.]],\n",
       "\n",
       "       [[1., 1., 1.],\n",
       "        [1., 1., 1.]]])"
      ]
     },
     "execution_count": 32,
     "metadata": {},
     "output_type": "execute_result"
    }
   ],
   "source": [
    "# your code here\n",
    "b= np.ones((5,2,3))\n",
    "b"
   ]
  },
  {
   "cell_type": "markdown",
   "metadata": {},
   "source": [
    "#### 6. Print *b*.\n"
   ]
  },
  {
   "cell_type": "code",
   "execution_count": 33,
   "metadata": {},
   "outputs": [],
   "source": [
    "# your code here"
   ]
  },
  {
   "cell_type": "markdown",
   "metadata": {},
   "source": [
    "#### 7. Do *a* and *b* have the same size? How do you prove that in Python code?"
   ]
  },
  {
   "cell_type": "code",
   "execution_count": 34,
   "metadata": {},
   "outputs": [
    {
     "name": "stderr",
     "output_type": "stream",
     "text": [
      "C:\\Users\\Zoe Mercury\\anaconda3\\lib\\site-packages\\ipykernel_launcher.py:2: DeprecationWarning: elementwise comparison failed; this will raise an error in the future.\n",
      "  \n"
     ]
    },
    {
     "data": {
      "text/plain": [
       "False"
      ]
     },
     "execution_count": 34,
     "metadata": {},
     "output_type": "execute_result"
    }
   ],
   "source": [
    "# your code here\n",
    "a==b"
   ]
  },
  {
   "cell_type": "markdown",
   "metadata": {},
   "source": [
    "#### 8. Are you able to add *a* and *b*? Why or why not?\n"
   ]
  },
  {
   "cell_type": "code",
   "execution_count": 35,
   "metadata": {},
   "outputs": [
    {
     "ename": "ValueError",
     "evalue": "operands could not be broadcast together with shapes (2,3,5) (5,2,3) ",
     "output_type": "error",
     "traceback": [
      "\u001b[1;31m---------------------------------------------------------------------------\u001b[0m",
      "\u001b[1;31mValueError\u001b[0m                                Traceback (most recent call last)",
      "\u001b[1;32m<ipython-input-35-b4034b8bc8aa>\u001b[0m in \u001b[0;36m<module>\u001b[1;34m\u001b[0m\n\u001b[0;32m      1\u001b[0m \u001b[1;31m# your answer here\u001b[0m\u001b[1;33m\u001b[0m\u001b[1;33m\u001b[0m\u001b[1;33m\u001b[0m\u001b[0m\n\u001b[1;32m----> 2\u001b[1;33m \u001b[0ma\u001b[0m\u001b[1;33m+\u001b[0m\u001b[0mb\u001b[0m\u001b[1;33m\u001b[0m\u001b[1;33m\u001b[0m\u001b[0m\n\u001b[0m\u001b[0;32m      3\u001b[0m \u001b[1;31m#to be added they dont need to be flattened out, they just need to have the same structure\u001b[0m\u001b[1;33m\u001b[0m\u001b[1;33m\u001b[0m\u001b[1;33m\u001b[0m\u001b[0m\n",
      "\u001b[1;31mValueError\u001b[0m: operands could not be broadcast together with shapes (2,3,5) (5,2,3) "
     ]
    }
   ],
   "source": [
    "# your answer here\n",
    "a+b\n",
    "#to be added they dont need to be flattened out, they just need to have the same structure"
   ]
  },
  {
   "cell_type": "markdown",
   "metadata": {},
   "source": [
    "#### 9. Transpose *b* so that it has the same structure of *a* (i.e. become a 2x3x5 array). Assign the transposed array to variable *c*."
   ]
  },
  {
   "cell_type": "code",
   "execution_count": 37,
   "metadata": {},
   "outputs": [
    {
     "data": {
      "text/plain": [
       "array([[[1., 1., 1., 1., 1.],\n",
       "        [1., 1., 1., 1., 1.],\n",
       "        [1., 1., 1., 1., 1.]],\n",
       "\n",
       "       [[1., 1., 1., 1., 1.],\n",
       "        [1., 1., 1., 1., 1.],\n",
       "        [1., 1., 1., 1., 1.]]])"
      ]
     },
     "execution_count": 37,
     "metadata": {},
     "output_type": "execute_result"
    }
   ],
   "source": [
    "# your code here\n",
    "c= b.reshape(2,3,5)\n",
    "c\n"
   ]
  },
  {
   "cell_type": "markdown",
   "metadata": {},
   "source": [
    "#### 10. Try to add *a* and *c*. Now it should work. Assign the sum to variable *d*. But why does it work now?"
   ]
  },
  {
   "cell_type": "code",
   "execution_count": 38,
   "metadata": {},
   "outputs": [
    {
     "data": {
      "text/plain": [
       "array([[[1.80972876, 1.91010848, 1.49605502, 1.84960558, 1.92028134],\n",
       "        [1.7764113 , 1.01511011, 1.96874994, 1.5663138 , 1.65342559],\n",
       "        [1.45326628, 1.44340461, 1.97997648, 1.45533092, 1.74195867]],\n",
       "\n",
       "       [[1.62225791, 1.01341282, 1.43741717, 1.57467563, 1.70499465],\n",
       "        [1.4305051 , 1.76611079, 1.38669573, 1.84975981, 1.84442342],\n",
       "        [1.46008336, 1.83940907, 1.89713169, 1.08280854, 1.24992421]]])"
      ]
     },
     "execution_count": 38,
     "metadata": {},
     "output_type": "execute_result"
    }
   ],
   "source": [
    "# because a and c have the same shape\n",
    "d= a+c\n",
    "d"
   ]
  },
  {
   "cell_type": "markdown",
   "metadata": {},
   "source": [
    "#### 11. Print *a* and *d*. Notice the difference and relation of the two array in terms of the values? Explain."
   ]
  },
  {
   "cell_type": "code",
   "execution_count": 39,
   "metadata": {},
   "outputs": [
    {
     "name": "stdout",
     "output_type": "stream",
     "text": [
      "[[[1. 1. 1. 1. 1.]\n",
      "  [1. 1. 1. 1. 1.]\n",
      "  [1. 1. 1. 1. 1.]]\n",
      "\n",
      " [[1. 1. 1. 1. 1.]\n",
      "  [1. 1. 1. 1. 1.]\n",
      "  [1. 1. 1. 1. 1.]]]\n"
     ]
    }
   ],
   "source": [
    "# your code/answer here\n",
    "\n",
    "# calculate the difference between a and d i.e. subtract d from a or vice versa\n",
    "# d= a+c, c=1, hence a+c-a=c\n",
    "print (d-a)"
   ]
  },
  {
   "cell_type": "markdown",
   "metadata": {},
   "source": [
    "#### 12. Multiply *a* and *c*. Assign the result to *e*."
   ]
  },
  {
   "cell_type": "code",
   "execution_count": 59,
   "metadata": {},
   "outputs": [
    {
     "data": {
      "text/plain": [
       "array([[[13., 23., 12., 25., 19.],\n",
       "        [21.,  7., 10., 11., 25.],\n",
       "        [15.,  5.,  7.,  6., 12.]],\n",
       "\n",
       "       [[16., 14., 23., 15.,  3.],\n",
       "        [20., 16., 21., 22.,  0.],\n",
       "        [26., 21., 21., 16.,  3.]]])"
      ]
     },
     "execution_count": 59,
     "metadata": {},
     "output_type": "execute_result"
    }
   ],
   "source": [
    "# your code here\n",
    "e=a*c\n",
    "e"
   ]
  },
  {
   "cell_type": "markdown",
   "metadata": {},
   "source": [
    "#### 13. Does *e* equal to *a*? Why or why not?\n"
   ]
  },
  {
   "cell_type": "code",
   "execution_count": 60,
   "metadata": {},
   "outputs": [
    {
     "data": {
      "text/plain": [
       "array([[[ True,  True,  True,  True,  True],\n",
       "        [ True,  True,  True,  True,  True],\n",
       "        [ True,  True,  True,  True,  True]],\n",
       "\n",
       "       [[ True,  True,  True,  True,  True],\n",
       "        [ True,  True,  True,  True,  True],\n",
       "        [ True,  True,  True,  True,  True]]])"
      ]
     },
     "execution_count": 60,
     "metadata": {},
     "output_type": "execute_result"
    }
   ],
   "source": [
    "# your code/answer here\n",
    "e==a\n",
    "\n",
    "#yes because c=1 (e=a*1 i.e. e=a)"
   ]
  },
  {
   "cell_type": "code",
   "execution_count": 40,
   "metadata": {},
   "outputs": [
    {
     "name": "stdout",
     "output_type": "stream",
     "text": [
      "[[[1.80972876 1.91010848 1.49605502 1.84960558 1.92028134]\n",
      "  [1.7764113  1.01511011 1.96874994 1.5663138  1.65342559]\n",
      "  [1.45326628 1.44340461 1.97997648 1.45533092 1.74195867]]\n",
      "\n",
      " [[1.62225791 1.01341282 1.43741717 1.57467563 1.70499465]\n",
      "  [1.4305051  1.76611079 1.38669573 1.84975981 1.84442342]\n",
      "  [1.46008336 1.83940907 1.89713169 1.08280854 1.24992421]]]\n"
     ]
    }
   ],
   "source": [
    "print(d)"
   ]
  },
  {
   "cell_type": "markdown",
   "metadata": {},
   "source": [
    "#### 14. Identify the max, min, and mean values in *d*. Assign those values to variables *d_max*, *d_min* and *d_mean*."
   ]
  },
  {
   "cell_type": "code",
   "execution_count": 41,
   "metadata": {},
   "outputs": [],
   "source": [
    "# your code here\n",
    "d_max=d.max()\n",
    "d_min=d.min()\n",
    "d_mean=d.mean()\n",
    "\n",
    "#when I leave the brackets empty, does it take all numbers from the lists into consideration?\n",
    "#How is my mean equal to my max?\n",
    "\n"
   ]
  },
  {
   "cell_type": "markdown",
   "metadata": {},
   "source": [
    "#### 15. Now we want to label the values in *d*. First create an empty array *f* with the same shape (i.e. 2x3x5) as *d* using `np.empty`.\n"
   ]
  },
  {
   "cell_type": "code",
   "execution_count": 42,
   "metadata": {},
   "outputs": [
    {
     "data": {
      "text/plain": [
       "array([[[0, 0, 0, 0, 0],\n",
       "        [0, 0, 0, 0, 0],\n",
       "        [0, 0, 0, 0, 0]],\n",
       "\n",
       "       [[0, 0, 0, 0, 0],\n",
       "        [0, 0, 0, 0, 0],\n",
       "        [0, 0, 0, 0, 0]]])"
      ]
     },
     "execution_count": 42,
     "metadata": {},
     "output_type": "execute_result"
    }
   ],
   "source": [
    "# your code here\n",
    "f= np.empty((2,3,5),dtype=int)\n",
    "f"
   ]
  },
  {
   "cell_type": "code",
   "execution_count": 43,
   "metadata": {},
   "outputs": [
    {
     "data": {
      "text/plain": [
       "[75,\n",
       " 75,\n",
       " 25,\n",
       " 75,\n",
       " 75,\n",
       " 75,\n",
       " 25,\n",
       " 75,\n",
       " 25,\n",
       " 75,\n",
       " 25,\n",
       " 25,\n",
       " 100,\n",
       " 25,\n",
       " 75,\n",
       " 75,\n",
       " 0,\n",
       " 25,\n",
       " 25,\n",
       " 75,\n",
       " 25,\n",
       " 75,\n",
       " 25,\n",
       " 75,\n",
       " 75,\n",
       " 25,\n",
       " 75,\n",
       " 75,\n",
       " 25,\n",
       " 25]"
      ]
     },
     "execution_count": 43,
     "metadata": {},
     "output_type": "execute_result"
    }
   ],
   "source": [
    "f= []\n",
    "\n",
    "for biglist in d:\n",
    "    for list in biglist:\n",
    "        for number in list:\n",
    "            if d_min<number<d_mean:\n",
    "                f.append (25)\n",
    "            elif d_mean<number<d_max:\n",
    "                f.append (75)\n",
    "            elif number==d_mean:\n",
    "                f.append (50)\n",
    "            elif number==d_min:\n",
    "                f.append (0)\n",
    "            elif number==d_max:\n",
    "                f.append (100)\n",
    "                \n",
    "f"
   ]
  },
  {
   "cell_type": "code",
   "execution_count": 44,
   "metadata": {},
   "outputs": [
    {
     "data": {
      "text/plain": [
       "array([[[ 75,  75,  25,  75,  75],\n",
       "        [ 75,  25,  75,  25,  75],\n",
       "        [ 25,  25, 100,  25,  75]],\n",
       "\n",
       "       [[ 75,   0,  25,  25,  75],\n",
       "        [ 25,  75,  25,  75,  75],\n",
       "        [ 25,  75,  75,  25,  25]]])"
      ]
     },
     "execution_count": 44,
     "metadata": {},
     "output_type": "execute_result"
    }
   ],
   "source": [
    "f=np.reshape(f,(2,3,5))\n",
    "f"
   ]
  },
  {
   "cell_type": "markdown",
   "metadata": {},
   "source": [
    "\n",
    "#### 16. Populate the values in *f*. \n",
    "\n",
    "For each value in *d*, if it's larger than *d_min* but smaller than *d_mean*, assign 25 to the corresponding value in *f*. If a value in *d* is larger than *d_mean* but smaller than *d_max*, assign 75 to the corresponding value in *f*. If a value equals to *d_mean*, assign 50 to the corresponding value in *f*. Assign 0 to the corresponding value(s) in *f* for *d_min* in *d*. Assign 100 to the corresponding value(s) in *f* for *d_max* in *d*. In the end, f should have only the following values: 0, 25, 50, 75, and 100.\n",
    "\n",
    "**Note**: you don't have to use Numpy in this question."
   ]
  },
  {
   "cell_type": "code",
   "execution_count": 40,
   "metadata": {},
   "outputs": [
    {
     "data": {
      "text/plain": [
       "array([[[ 75.,  75.,  75.,  75.,  75.],\n",
       "        [ 75.,  75.,  75.,  75.,  25.],\n",
       "        [ 75.,  25.,  75.,  25.,  75.]],\n",
       "\n",
       "       [[ 75.,  75.,   0.,  75.,  25.],\n",
       "        [  0.,  75.,  25.,  75.,   0.],\n",
       "        [ 25.,  75.,  25., 100.,  25.]]])"
      ]
     },
     "execution_count": 40,
     "metadata": {},
     "output_type": "execute_result"
    }
   ],
   "source": [
    "# your code here\n",
    "# I need to replace every value in f with the corresponding value from d\n",
    "\n",
    "# if x = d_min<x<d_mean, then x=25\n",
    "# if x = d_mean<x<d_max, then x=75\n",
    "# if x==d_mean, then x=50\n",
    "# if x==d_min, then x=0\n",
    "# if x==d_max, then x=100\n",
    "\n",
    "# print (d)\n",
    "# print (d_min)\n",
    "# print (d_max)\n",
    "# print (d_mean)\n",
    "___________________________________________________________\n",
    "\n",
    "\n",
    "# f= []\n",
    "\n",
    "# for biglist in d:\n",
    "#     for list in biglist:\n",
    "#         for number in list:\n",
    "#             print(number)\n",
    "#             if d_min<number<d_mean:\n",
    "#                 f.append (number,25)\n",
    "#             elif d_mean<number<d_max:\n",
    "#                 f.append (number,75)\n",
    "# #             elif number==d_mean:\n",
    "# #                 f.append (50)\n",
    "# #             elif number==d_min:\n",
    "# #                 f.append (0)\n",
    "# #             elif number==d_max:\n",
    "# #                 f.append (100)\n",
    "_____________________________________________________________________\n",
    "\n",
    "#---------------------- Peter's solution-----------------------\n",
    "\n",
    "# print (np.where(f==0,1,f)\n",
    "\n",
    "# f= np.where(d==d_min,0,f)\n",
    "# f= np.where(d==d_max,100,f)\n",
    "# f= np.where(d==m_mean,50,f)\n",
    "# f= np.where(d_min<d & d<d_mean,25,f)\n",
    "# f= np.where(d_mean<d & d<d_max,75,f)\n",
    "\n",
    "# f\n",
    "\n",
    "condition0= (d==d_min)\n",
    "condition25= (d_min<d) & (d<d_mean)\n",
    "#didnt work as d_min<d & d<d_mean\n",
    "condition50= (d==d_mean)\n",
    "condition75= (d_mean<d) & (d<d_max)\n",
    "condition100= (d==d_max)\n",
    "\n",
    "f= np.where(condition0,0,d)\n",
    "#didnt work when f was at the end\n",
    "f= np.where(condition100,100,f)\n",
    "f= np.where(condition50,50,f)\n",
    "f= np.where(condition25,25,f)\n",
    "f= np.where(condition75,75,f)\n",
    "#didnt work when conditions were stated in the np.where brackets instead of defined separately\n",
    "\n",
    "f\n",
    "\n",
    "#why is there a d at the end in the first f=np.where...\"\"\n",
    "#why does it iterate through every number in list d without a for loop or indexing?"
   ]
  },
  {
   "cell_type": "code",
   "execution_count": 42,
   "metadata": {},
   "outputs": [],
   "source": [
    "# import numpy as np\n",
    "\n",
    "# d = [[[1.26075862 1.64915163 1.17412605 1.75509388 1.9332088 ]\n",
    "#   [1.53857153 1.13854165 1.97175781 1.32327798 1.26939958]\n",
    "#   [1.43071321 1.14299739 1.26728802 1.79253045 1.61672984]]\n",
    "\n",
    "#  [[1.74842941 1.15525644 1.54111523 1.28681006 1.77311503]\n",
    "#   [1.79760024 1.89404937 1.49820193 1.23238564 1.74325924]\n",
    "#   [1.32261015 1.95659874 1.99928683 1.91755833 1.98886592]]]\n",
    "\n",
    "#how can I convert d into a numpy array?\n"
   ]
  },
  {
   "cell_type": "markdown",
   "metadata": {},
   "source": [
    "#### 17. Print *d* and *f*. Do you have your expected *f*?\n",
    "For instance, if your *d* is:\n",
    "```python\n",
    "[[[1.85836099, 1.67064465, 1.62576044, 1.40243961, 1.88454931],\n",
    "[1.75354326, 1.69403643, 1.36729252, 1.61415071, 1.12104981],\n",
    "[1.72201435, 1.1862918 , 1.87078449, 1.7726778 , 1.88180042]],\n",
    "[[1.44747908, 1.31673383, 1.02000951, 1.52218947, 1.97066381],\n",
    "[1.79129243, 1.74983003, 1.96028037, 1.85166831, 1.65450881],\n",
    "[1.18068344, 1.9587381 , 1.00656599, 1.93402165, 1.73514584]]]\n",
    "```\n",
    "Your *f* should be:\n",
    "```python\n",
    "[[[ 75.,  75.,  75.,  25.,  75.],\n",
    "[ 75.,  75.,  25.,  25.,  25.],\n",
    "[ 75.,  25.,  75.,  75.,  75.]],\n",
    "[[ 25.,  25.,  25.,  25., 100.],\n",
    "[ 75.,  75.,  75.,  75.,  75.],\n",
    "[ 25.,  75.,   0.,  75.,  75.]]]\n",
    "```"
   ]
  },
  {
   "cell_type": "code",
   "execution_count": 46,
   "metadata": {},
   "outputs": [
    {
     "name": "stdout",
     "output_type": "stream",
     "text": [
      "[[[1.80972876 1.91010848 1.49605502 1.84960558 1.92028134]\n",
      "  [1.7764113  1.01511011 1.96874994 1.5663138  1.65342559]\n",
      "  [1.45326628 1.44340461 1.97997648 1.45533092 1.74195867]]\n",
      "\n",
      " [[1.62225791 1.01341282 1.43741717 1.57467563 1.70499465]\n",
      "  [1.4305051  1.76611079 1.38669573 1.84975981 1.84442342]\n",
      "  [1.46008336 1.83940907 1.89713169 1.08280854 1.24992421]]]\n",
      "[[[ 75  75  25  75  75]\n",
      "  [ 75  25  75  25  75]\n",
      "  [ 25  25 100  25  75]]\n",
      "\n",
      " [[ 75   0  25  25  75]\n",
      "  [ 25  75  25  75  75]\n",
      "  [ 25  75  75  25  25]]]\n"
     ]
    }
   ],
   "source": [
    "# your code here\n",
    "print(d)\n",
    "print(f)"
   ]
  },
  {
   "cell_type": "markdown",
   "metadata": {},
   "source": [
    "#### 18. Bonus question: instead of using numbers (i.e. 0, 25, 50, 75, and 100), use string values  (\"A\", \"B\", \"C\", \"D\", and \"E\") to label the array elements. For the example above, the expected result is:\n",
    "\n",
    "```python\n",
    "[[[ 'D',  'D',  'D',  'B',  'D'],\n",
    "[ 'D',  'D',  'B',  'B',  'B'],\n",
    "[ 'D',  'B',  'D',  'D',  'D']],\n",
    "[[ 'B',  'B',  'B',  'B',  'E'],\n",
    "[ 'D',  'D',  'D',  'D',  'D'],\n",
    "[ 'B',  'D',   'A',  'D', 'D']]]\n",
    "```\n",
    "**Note**: you don't have to use Numpy in this question."
   ]
  },
  {
   "cell_type": "code",
   "execution_count": 57,
   "metadata": {},
   "outputs": [
    {
     "data": {
      "text/plain": [
       "array([[['D', 'D', 'D', 'B', 'D'],\n",
       "        ['D', 'D', 'B', 'B', 'B'],\n",
       "        ['D', 'B', 'D', 'D', 'D']],\n",
       "\n",
       "       [['B', 'B', 'B', 'B', 'E'],\n",
       "        ['D', 'D', 'D', 'D', 'D'],\n",
       "        ['B', 'D', 'A', 'D', 'D']]], dtype='<U1')"
      ]
     },
     "execution_count": 57,
     "metadata": {},
     "output_type": "execute_result"
    }
   ],
   "source": [
    "# your code here\n",
    "f= [[[ 75.,  75.,  75.,  25.,  75.],\n",
    "[ 75.,  75.,  25.,  25.,  25.],\n",
    "[ 75.,  25.,  75.,  75.,  75.]],\n",
    "[[ 25.,  25.,  25.,  25., 100.],\n",
    "[ 75.,  75.,  75.,  75.,  75.],\n",
    "[ 25.,  75.,   0.,  75.,  75.]]]\n",
    "\n",
    "g=[]\n",
    "\n",
    "for biglist in f:\n",
    "    for list in biglist:\n",
    "        for i in list:\n",
    "            if i==0:\n",
    "                g.append(\"A\")\n",
    "            elif i==25:\n",
    "                g.append(\"B\")\n",
    "            elif i==50:\n",
    "                g.append(\"C\")\n",
    "            elif i==75:\n",
    "                g.append(\"D\")\n",
    "            else:\n",
    "                g.append(\"E\")\n",
    "        \n",
    "g2= np.array(g)\n",
    "g2.reshape(2,3,5)"
   ]
  },
  {
   "cell_type": "code",
   "execution_count": null,
   "metadata": {},
   "outputs": [],
   "source": []
  }
 ],
 "metadata": {
  "kernelspec": {
   "display_name": "Python 3",
   "language": "python",
   "name": "python3"
  },
  "language_info": {
   "codemirror_mode": {
    "name": "ipython",
    "version": 3
   },
   "file_extension": ".py",
   "mimetype": "text/x-python",
   "name": "python",
   "nbconvert_exporter": "python",
   "pygments_lexer": "ipython3",
   "version": "3.7.6"
  }
 },
 "nbformat": 4,
 "nbformat_minor": 2
}
