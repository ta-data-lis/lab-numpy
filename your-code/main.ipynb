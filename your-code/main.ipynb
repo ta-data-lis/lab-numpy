{
 "cells": [
  {
   "cell_type": "markdown",
   "metadata": {},
   "source": [
    "# Intrduction to NumPy\n",
    "\n",
    "\n",
    "#### 1. Import NumPy under the name np."
   ]
  },
  {
   "cell_type": "code",
   "execution_count": 37,
   "metadata": {},
   "outputs": [],
   "source": [
    "# your code here\n",
    "\n",
    "import numpy as np"
   ]
  },
  {
   "cell_type": "markdown",
   "metadata": {},
   "source": [
    "#### 2. Print your NumPy version."
   ]
  },
  {
   "cell_type": "code",
   "execution_count": 38,
   "metadata": {},
   "outputs": [
    {
     "name": "stdout",
     "output_type": "stream",
     "text": [
      "1.16.5\n"
     ]
    }
   ],
   "source": [
    "# your code here\n",
    "print(np.__version__)"
   ]
  },
  {
   "cell_type": "markdown",
   "metadata": {},
   "source": [
    "#### 3. Generate a 2x3x5 3-dimensional array with random values. Assign the array to variable *a*.\n",
    "**Challenge**: there are at least three easy ways that use numpy to generate random arrays. How many ways can you find?"
   ]
  },
  {
   "cell_type": "code",
   "execution_count": 39,
   "metadata": {},
   "outputs": [
    {
     "data": {
      "text/plain": [
       "array([[[0.30075157, 0.3303824 , 0.35536362, 0.64936252, 0.92644715],\n",
       "        [0.74830784, 0.54864881, 0.50893297, 0.85293001, 0.07484061],\n",
       "        [0.26592098, 0.68644945, 0.66520929, 0.32899592, 0.38493503]],\n",
       "\n",
       "       [[0.40638296, 0.37593041, 0.6019489 , 0.54272939, 0.62071551],\n",
       "        [0.92985774, 0.9883754 , 0.47763446, 0.14791703, 0.26823344],\n",
       "        [0.65939246, 0.54495571, 0.83072644, 0.43471579, 0.40521503]]])"
      ]
     },
     "execution_count": 39,
     "metadata": {},
     "output_type": "execute_result"
    }
   ],
   "source": [
    "# Method 1\n",
    "a = np.random.random((2,3,5))\n",
    "a"
   ]
  },
  {
   "cell_type": "code",
   "execution_count": 40,
   "metadata": {},
   "outputs": [
    {
     "data": {
      "text/plain": [
       "array([[[0.2402213 , 0.94402765, 0.01876237, 0.85463123, 0.01746837],\n",
       "        [0.92349365, 0.55166596, 0.72613301, 0.36436626, 0.86224142],\n",
       "        [0.20275714, 0.66900668, 0.59428181, 0.23081414, 0.23881255]],\n",
       "\n",
       "       [[0.82432475, 0.47858023, 0.52788944, 0.67305324, 0.99830725],\n",
       "        [0.18948156, 0.89940861, 0.62274719, 0.85891381, 0.14121018],\n",
       "        [0.02208588, 0.2795289 , 0.36555238, 0.77178243, 0.16566883]]])"
      ]
     },
     "execution_count": 40,
     "metadata": {},
     "output_type": "execute_result"
    }
   ],
   "source": [
    "# Method 2\n",
    "a = np.random.rand(2, 3, 5)\n",
    "a"
   ]
  },
  {
   "cell_type": "code",
   "execution_count": 41,
   "metadata": {},
   "outputs": [
    {
     "data": {
      "text/plain": [
       "array([[[0.35051635, 0.70598905, 0.0614216 , 0.89284255, 0.12103741],\n",
       "        [0.8537139 , 0.5252972 , 0.65814005, 0.95984361, 0.31254596],\n",
       "        [0.7502049 , 0.78673838, 0.94103604, 0.64475964, 0.61228403]],\n",
       "\n",
       "       [[0.65764329, 0.52292792, 0.20044275, 0.2028513 , 0.51842059],\n",
       "        [0.27734526, 0.8189346 , 0.80646367, 0.41262814, 0.73614484],\n",
       "        [0.38893233, 0.40695804, 0.19162509, 0.97469976, 0.18387438]]])"
      ]
     },
     "execution_count": 41,
     "metadata": {},
     "output_type": "execute_result"
    }
   ],
   "source": [
    "# Method 3\n",
    "a = np.random.sample((2, 3, 5))\n",
    "a"
   ]
  },
  {
   "cell_type": "markdown",
   "metadata": {},
   "source": [
    "#### 4. Print *a*.\n"
   ]
  },
  {
   "cell_type": "code",
   "execution_count": 42,
   "metadata": {},
   "outputs": [
    {
     "name": "stdout",
     "output_type": "stream",
     "text": [
      "[[[0.35051635 0.70598905 0.0614216  0.89284255 0.12103741]\n",
      "  [0.8537139  0.5252972  0.65814005 0.95984361 0.31254596]\n",
      "  [0.7502049  0.78673838 0.94103604 0.64475964 0.61228403]]\n",
      "\n",
      " [[0.65764329 0.52292792 0.20044275 0.2028513  0.51842059]\n",
      "  [0.27734526 0.8189346  0.80646367 0.41262814 0.73614484]\n",
      "  [0.38893233 0.40695804 0.19162509 0.97469976 0.18387438]]]\n"
     ]
    }
   ],
   "source": [
    "# your code here\n",
    "print(a)"
   ]
  },
  {
   "cell_type": "markdown",
   "metadata": {},
   "source": [
    "#### 5. Create a 5x2x3 3-dimensional array with all values equaling 1. Assign the array to variable *b*."
   ]
  },
  {
   "cell_type": "code",
   "execution_count": 43,
   "metadata": {},
   "outputs": [],
   "source": [
    "# your code here\n",
    "b = np.ones((5, 2, 3))"
   ]
  },
  {
   "cell_type": "markdown",
   "metadata": {},
   "source": [
    "#### 6. Print *b*.\n"
   ]
  },
  {
   "cell_type": "code",
   "execution_count": 44,
   "metadata": {},
   "outputs": [
    {
     "name": "stdout",
     "output_type": "stream",
     "text": [
      "[[[1. 1. 1.]\n",
      "  [1. 1. 1.]]\n",
      "\n",
      " [[1. 1. 1.]\n",
      "  [1. 1. 1.]]\n",
      "\n",
      " [[1. 1. 1.]\n",
      "  [1. 1. 1.]]\n",
      "\n",
      " [[1. 1. 1.]\n",
      "  [1. 1. 1.]]\n",
      "\n",
      " [[1. 1. 1.]\n",
      "  [1. 1. 1.]]]\n"
     ]
    }
   ],
   "source": [
    "# your code here\n",
    "print(b)"
   ]
  },
  {
   "cell_type": "markdown",
   "metadata": {},
   "source": [
    "#### 7. Do *a* and *b* have the same size? How do you prove that in Python code?"
   ]
  },
  {
   "cell_type": "code",
   "execution_count": 45,
   "metadata": {},
   "outputs": [
    {
     "name": "stdout",
     "output_type": "stream",
     "text": [
      "They have the same size!\n"
     ]
    }
   ],
   "source": [
    "# your code here\n",
    "if a.size == b.size:\n",
    "    print(\"They have the same size!\")\n",
    "else:\n",
    "    print(\"They do not.\")"
   ]
  },
  {
   "cell_type": "markdown",
   "metadata": {},
   "source": [
    "#### 8. Are you able to add *a* and *b*? Why or why not?\n"
   ]
  },
  {
   "cell_type": "code",
   "execution_count": 46,
   "metadata": {},
   "outputs": [
    {
     "name": "stdout",
     "output_type": "stream",
     "text": [
      "No we are not able to add because even tho they have the same size they have different shapes.\n"
     ]
    }
   ],
   "source": [
    "# your answer here\n",
    "print(\"No we are not able to add because even tho they have the same size they have different shapes.\")\n",
    "#c = a + b"
   ]
  },
  {
   "cell_type": "markdown",
   "metadata": {},
   "source": [
    "#### 9. Transpose *b* so that it has the same structure of *a* (i.e. become a 2x3x5 array). Assign the transposed array to variable *c*."
   ]
  },
  {
   "cell_type": "code",
   "execution_count": 47,
   "metadata": {},
   "outputs": [
    {
     "data": {
      "text/plain": [
       "(2, 3, 5)"
      ]
     },
     "execution_count": 47,
     "metadata": {},
     "output_type": "execute_result"
    }
   ],
   "source": [
    "# your code here\n",
    "c = np.transpose(b, axes=(1, 2, 0))\n",
    "c.shape"
   ]
  },
  {
   "cell_type": "markdown",
   "metadata": {},
   "source": [
    "#### 10. Try to add *a* and *c*. Now it should work. Assign the sum to variable *d*. But why does it work now?"
   ]
  },
  {
   "cell_type": "code",
   "execution_count": 48,
   "metadata": {},
   "outputs": [],
   "source": [
    "# your code/answer here\n",
    "d = a + c\n"
   ]
  },
  {
   "cell_type": "markdown",
   "metadata": {},
   "source": [
    "#### 11. Print *a* and *d*. Notice the difference and relation of the two array in terms of the values? Explain."
   ]
  },
  {
   "cell_type": "code",
   "execution_count": 49,
   "metadata": {},
   "outputs": [
    {
     "name": "stdout",
     "output_type": "stream",
     "text": [
      "[[0.35051635 0.70598905 0.0614216  0.89284255 0.12103741]\n",
      " [0.8537139  0.5252972  0.65814005 0.95984361 0.31254596]\n",
      " [0.7502049  0.78673838 0.94103604 0.64475964 0.61228403]]\n",
      "[[1.35051635 1.70598905 1.0614216  1.89284255 1.12103741]\n",
      " [1.8537139  1.5252972  1.65814005 1.95984361 1.31254596]\n",
      " [1.7502049  1.78673838 1.94103604 1.64475964 1.61228403]]\n"
     ]
    }
   ],
   "source": [
    "# your code/answer here\n",
    "print(a[0])\n",
    "print(d[0])\n",
    "\n",
    "# We just added 1? Is that it?"
   ]
  },
  {
   "cell_type": "markdown",
   "metadata": {},
   "source": [
    "#### 12. Multiply *a* and *c*. Assign the result to *e*."
   ]
  },
  {
   "cell_type": "code",
   "execution_count": 50,
   "metadata": {},
   "outputs": [
    {
     "name": "stdout",
     "output_type": "stream",
     "text": [
      "[[[0.35051635 0.70598905 0.0614216  0.89284255 0.12103741]\n",
      "  [0.8537139  0.5252972  0.65814005 0.95984361 0.31254596]\n",
      "  [0.7502049  0.78673838 0.94103604 0.64475964 0.61228403]]\n",
      "\n",
      " [[0.65764329 0.52292792 0.20044275 0.2028513  0.51842059]\n",
      "  [0.27734526 0.8189346  0.80646367 0.41262814 0.73614484]\n",
      "  [0.38893233 0.40695804 0.19162509 0.97469976 0.18387438]]]\n"
     ]
    }
   ],
   "source": [
    "# your code here\n",
    "e = a * c\n",
    "print(e)"
   ]
  },
  {
   "cell_type": "markdown",
   "metadata": {},
   "source": [
    "#### 13. Does *e* equal to *a*? Why or why not?\n"
   ]
  },
  {
   "cell_type": "code",
   "execution_count": 51,
   "metadata": {},
   "outputs": [
    {
     "name": "stdout",
     "output_type": "stream",
     "text": [
      "Yes they're the same!\n"
     ]
    }
   ],
   "source": [
    "# your code/answer here\n",
    "if np.array_equal(e, a):\n",
    "    print(\"Yes they're the same!\")\n",
    "    \n",
    "# Because c is the transpose of b who is only ones. So we are just multiplying a by 1"
   ]
  },
  {
   "cell_type": "markdown",
   "metadata": {},
   "source": [
    "#### 14. Identify the max, min, and mean values in *d*. Assign those values to variables *d_max*, *d_min* and *d_mean*."
   ]
  },
  {
   "cell_type": "code",
   "execution_count": 52,
   "metadata": {},
   "outputs": [
    {
     "name": "stdout",
     "output_type": "stream",
     "text": [
      "1.9746997620909519\n",
      "1.061421601515752\n",
      "1.5492087541189858\n"
     ]
    }
   ],
   "source": [
    "# your code here\n",
    "d_max = d.max()\n",
    "d_min = d.min()\n",
    "d_mean = d.mean()\n",
    "\n",
    "print(d_max)\n",
    "print(d_min)\n",
    "print(d_mean)"
   ]
  },
  {
   "cell_type": "markdown",
   "metadata": {},
   "source": [
    "#### 15. Now we want to label the values in *d*. First create an empty array *f* with the same shape (i.e. 2x3x5) as *d* using `np.empty`.\n"
   ]
  },
  {
   "cell_type": "code",
   "execution_count": 53,
   "metadata": {},
   "outputs": [],
   "source": [
    "# your code here\n",
    "f = np.empty([2, 3, 5])"
   ]
  },
  {
   "cell_type": "markdown",
   "metadata": {},
   "source": [
    "#### 16. Populate the values in *f*. \n",
    "\n",
    "For each value in *d*, if it's larger than *d_min* but smaller than *d_mean*, assign 25 to the corresponding value in *f*. If a value in *d* is larger than *d_mean* but smaller than *d_max*, assign 75 to the corresponding value in *f*. If a value equals to *d_mean*, assign 50 to the corresponding value in *f*. Assign 0 to the corresponding value(s) in *f* for *d_min* in *d*. Assign 100 to the corresponding value(s) in *f* for *d_max* in *d*. In the end, f should have only the following values: 0, 25, 50, 75, and 100.\n",
    "\n",
    "**Note**: you don't have to use Numpy in this question."
   ]
  },
  {
   "cell_type": "code",
   "execution_count": 54,
   "metadata": {},
   "outputs": [
    {
     "name": "stdout",
     "output_type": "stream",
     "text": [
      "[[[ 25  75   0  75  25]\n",
      "  [ 75  25  75  75  25]\n",
      "  [ 75  75  75  75  75]]\n",
      "\n",
      " [[ 75  25  25  25  25]\n",
      "  [ 25  75  75  25  75]\n",
      "  [ 25  25  25 100  25]]]\n"
     ]
    }
   ],
   "source": [
    "# your code here\n",
    "\n",
    "f = []\n",
    "for x in np.nditer(d):\n",
    "    if d_min < x < d_mean:\n",
    "        f += [25]\n",
    "    if d_mean < x < d_max:\n",
    "        f += [75]\n",
    "    if x == d_mean:\n",
    "        f += [50]\n",
    "    if x == d_min:\n",
    "        f += [0]\n",
    "    if x == d_max:\n",
    "        f += [100]\n",
    "    \n",
    "        \n",
    "f = np.reshape(f, d.shape) \n",
    "print(f)"
   ]
  },
  {
   "cell_type": "markdown",
   "metadata": {},
   "source": [
    "#### 17. Print *d* and *f*. Do you have your expected *f*?\n",
    "For instance, if your *d* is:\n",
    "```python\n",
    "[[[1.85836099, 1.67064465, 1.62576044, 1.40243961, 1.88454931],\n",
    "[1.75354326, 1.69403643, 1.36729252, 1.61415071, 1.12104981],\n",
    "[1.72201435, 1.1862918 , 1.87078449, 1.7726778 , 1.88180042]],\n",
    "[[1.44747908, 1.31673383, 1.02000951, 1.52218947, 1.97066381],\n",
    "[1.79129243, 1.74983003, 1.96028037, 1.85166831, 1.65450881],\n",
    "[1.18068344, 1.9587381 , 1.00656599, 1.93402165, 1.73514584]]]\n",
    "```\n",
    "Your *f* should be:\n",
    "```python\n",
    "[[[ 75.,  75.,  75.,  25.,  75.],\n",
    "[ 75.,  75.,  25.,  25.,  25.],\n",
    "[ 75.,  25.,  75.,  75.,  75.]],\n",
    "[[ 25.,  25.,  25.,  25., 100.],\n",
    "[ 75.,  75.,  75.,  75.,  75.],\n",
    "[ 25.,  75.,   0.,  75.,  75.]]]\n",
    "```"
   ]
  },
  {
   "cell_type": "code",
   "execution_count": 55,
   "metadata": {},
   "outputs": [
    {
     "name": "stdout",
     "output_type": "stream",
     "text": [
      "[[[1.35051635 1.70598905 1.0614216  1.89284255 1.12103741]\n",
      "  [1.8537139  1.5252972  1.65814005 1.95984361 1.31254596]\n",
      "  [1.7502049  1.78673838 1.94103604 1.64475964 1.61228403]]\n",
      "\n",
      " [[1.65764329 1.52292792 1.20044275 1.2028513  1.51842059]\n",
      "  [1.27734526 1.8189346  1.80646367 1.41262814 1.73614484]\n",
      "  [1.38893233 1.40695804 1.19162509 1.97469976 1.18387438]]]\n",
      "[[[ 25  75   0  75  25]\n",
      "  [ 75  25  75  75  25]\n",
      "  [ 75  75  75  75  75]]\n",
      "\n",
      " [[ 75  25  25  25  25]\n",
      "  [ 25  75  75  25  75]\n",
      "  [ 25  25  25 100  25]]]\n"
     ]
    }
   ],
   "source": [
    "# your code here\n",
    "print(d)\n",
    "print(f)"
   ]
  },
  {
   "cell_type": "markdown",
   "metadata": {},
   "source": [
    "#### 18. Bonus question: instead of using numbers (i.e. 0, 25, 50, 75, and 100), use string values  (\"A\", \"B\", \"C\", \"D\", and \"E\") to label the array elements. For the example above, the expected result is:\n",
    "\n",
    "```python\n",
    "[[[ 'D',  'D',  'D',  'B',  'D'],\n",
    "[ 'D',  'D',  'B',  'B',  'B'],\n",
    "[ 'D',  'B',  'D',  'D',  'D']],\n",
    "[[ 'B',  'B',  'B',  'B',  'E'],\n",
    "[ 'D',  'D',  'D',  'D',  'D'],\n",
    "[ 'B',  'D',   'A',  'D', 'D']]]\n",
    "```\n",
    "**Note**: you don't have to use Numpy in this question."
   ]
  },
  {
   "cell_type": "code",
   "execution_count": 57,
   "metadata": {},
   "outputs": [
    {
     "name": "stdout",
     "output_type": "stream",
     "text": [
      "[[['B' 'D' 'A' 'D' 'B']\n",
      "  ['D' 'B' 'D' 'D' 'B']\n",
      "  ['D' 'D' 'D' 'D' 'D']]\n",
      "\n",
      " [['D' 'B' 'B' 'B' 'B']\n",
      "  ['B' 'D' 'D' 'B' 'D']\n",
      "  ['B' 'B' 'B' 'E' 'B']]]\n"
     ]
    }
   ],
   "source": [
    "# your code here\n",
    "\n",
    "j = []\n",
    "for x in np.nditer(d):\n",
    "    if d_min < x < d_mean:\n",
    "        j += ['B']\n",
    "    if d_mean < x < d_max:\n",
    "        j += ['D']\n",
    "    if x == d_mean:\n",
    "        j += ['C']\n",
    "    if x == d_min:\n",
    "        j += ['A']\n",
    "    if x == d_max:\n",
    "        j += ['E']\n",
    "    \n",
    "j = np.reshape(j, d.shape) \n",
    "print(j)"
   ]
  },
  {
   "cell_type": "code",
   "execution_count": null,
   "metadata": {},
   "outputs": [],
   "source": []
  }
 ],
 "metadata": {
  "kernelspec": {
   "display_name": "Python 3",
   "language": "python",
   "name": "python3"
  },
  "language_info": {
   "codemirror_mode": {
    "name": "ipython",
    "version": 3
   },
   "file_extension": ".py",
   "mimetype": "text/x-python",
   "name": "python",
   "nbconvert_exporter": "python",
   "pygments_lexer": "ipython3",
   "version": "3.7.4"
  }
 },
 "nbformat": 4,
 "nbformat_minor": 2
}
