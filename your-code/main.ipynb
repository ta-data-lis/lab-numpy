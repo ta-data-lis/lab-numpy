{
 "cells": [
  {
   "cell_type": "markdown",
   "metadata": {},
   "source": [
    "# Intrduction to NumPy\n",
    "\n",
    "\n",
    "#### 1. Import NumPy under the name np."
   ]
  },
  {
   "cell_type": "code",
   "execution_count": 1,
   "metadata": {},
   "outputs": [],
   "source": [
    "# your code here\n",
    "import numpy as np"
   ]
  },
  {
   "cell_type": "markdown",
   "metadata": {},
   "source": [
    "#### 2. Print your NumPy version."
   ]
  },
  {
   "cell_type": "code",
   "execution_count": 3,
   "metadata": {},
   "outputs": [
    {
     "data": {
      "text/plain": [
       "'1.20.3'"
      ]
     },
     "execution_count": 3,
     "metadata": {},
     "output_type": "execute_result"
    }
   ],
   "source": [
    "# your code here\n",
    "np.__version__"
   ]
  },
  {
   "cell_type": "markdown",
   "metadata": {},
   "source": [
    "#### 3. Generate a 2x3x5 3-dimensional array with random values. Assign the array to variable *a*.\n",
    "**Challenge**: there are at least three easy ways that use numpy to generate random arrays. How many ways can you find?"
   ]
  },
  {
   "cell_type": "code",
   "execution_count": 5,
   "metadata": {},
   "outputs": [
    {
     "data": {
      "text/plain": [
       "array([[[0.13333716, 0.0454795 , 0.26055064, 0.43970878, 0.88182987],\n",
       "        [0.56380918, 0.30990862, 0.49858458, 0.30637083, 0.24416676],\n",
       "        [0.86806886, 0.44204908, 0.55192152, 0.65197175, 0.50236997]],\n",
       "\n",
       "       [[0.11700815, 0.50174313, 0.69467344, 0.83755298, 0.31936012],\n",
       "        [0.61737469, 0.54117363, 0.72611187, 0.67596242, 0.70634376],\n",
       "        [0.87366588, 0.97440439, 0.59870914, 0.88520666, 0.1267003 ]]])"
      ]
     },
     "execution_count": 5,
     "metadata": {},
     "output_type": "execute_result"
    }
   ],
   "source": [
    "# Method 1\n",
    "a = np.random.random((2, 3, 5))\n",
    "a"
   ]
  },
  {
   "cell_type": "code",
   "execution_count": 27,
   "metadata": {},
   "outputs": [
    {
     "data": {
      "text/plain": [
       "array([[[70, 89, 93, 96, 58],\n",
       "        [57, 14, 10, 66, 71],\n",
       "        [66, 61, 36, 44, 63]],\n",
       "\n",
       "       [[53, 64, 44, 50, 63],\n",
       "        [29, 29, 57,  9, 41],\n",
       "        [12, 29, 31, 17, 19]]])"
      ]
     },
     "execution_count": 27,
     "metadata": {},
     "output_type": "execute_result"
    }
   ],
   "source": [
    "# Method 2\n",
    "a = np.random.randint(0,101, size = (2, 3, 5))\n",
    "a"
   ]
  },
  {
   "cell_type": "code",
   "execution_count": 35,
   "metadata": {},
   "outputs": [],
   "source": [
    "a"
   ]
  },
  {
   "cell_type": "code",
   "execution_count": 90,
   "metadata": {},
   "outputs": [
    {
     "data": {
      "text/plain": [
       "array([[[0.27743351, 0.96935619, 0.72010743, 0.33349239, 0.33579261],\n",
       "        [0.94102208, 0.79559129, 0.40367622, 0.96401144, 0.56263113],\n",
       "        [0.39318631, 0.64903896, 0.91725854, 0.53769038, 0.63163108]],\n",
       "\n",
       "       [[0.4634324 , 0.2376227 , 0.33164116, 0.91031769, 0.3177504 ],\n",
       "        [0.97441537, 0.76117931, 0.98853046, 0.89104623, 0.86339525],\n",
       "        [0.94306661, 0.72492628, 0.97006052, 0.77231641, 0.5899268 ]]])"
      ]
     },
     "execution_count": 90,
     "metadata": {},
     "output_type": "execute_result"
    }
   ],
   "source": [
    "# Method 3\n",
    "a = np.random.random_sample((2, 3, 5))\n",
    "a"
   ]
  },
  {
   "cell_type": "markdown",
   "metadata": {},
   "source": [
    "#### 4. Print *a*.\n"
   ]
  },
  {
   "cell_type": "code",
   "execution_count": 91,
   "metadata": {},
   "outputs": [
    {
     "data": {
      "text/plain": [
       "array([[[0.27743351, 0.96935619, 0.72010743, 0.33349239, 0.33579261],\n",
       "        [0.94102208, 0.79559129, 0.40367622, 0.96401144, 0.56263113],\n",
       "        [0.39318631, 0.64903896, 0.91725854, 0.53769038, 0.63163108]],\n",
       "\n",
       "       [[0.4634324 , 0.2376227 , 0.33164116, 0.91031769, 0.3177504 ],\n",
       "        [0.97441537, 0.76117931, 0.98853046, 0.89104623, 0.86339525],\n",
       "        [0.94306661, 0.72492628, 0.97006052, 0.77231641, 0.5899268 ]]])"
      ]
     },
     "execution_count": 91,
     "metadata": {},
     "output_type": "execute_result"
    }
   ],
   "source": [
    "# your code here\n",
    "a"
   ]
  },
  {
   "cell_type": "markdown",
   "metadata": {},
   "source": [
    "#### 5. Create a 5x2x3 3-dimensional array with all values equaling 1. Assign the array to variable *b*."
   ]
  },
  {
   "cell_type": "code",
   "execution_count": 92,
   "metadata": {},
   "outputs": [],
   "source": [
    "# your code here\n",
    "b = np.ones((5, 2, 3))"
   ]
  },
  {
   "cell_type": "markdown",
   "metadata": {},
   "source": [
    "#### 6. Print *b*.\n"
   ]
  },
  {
   "cell_type": "code",
   "execution_count": 93,
   "metadata": {},
   "outputs": [
    {
     "data": {
      "text/plain": [
       "array([[[1., 1., 1.],\n",
       "        [1., 1., 1.]],\n",
       "\n",
       "       [[1., 1., 1.],\n",
       "        [1., 1., 1.]],\n",
       "\n",
       "       [[1., 1., 1.],\n",
       "        [1., 1., 1.]],\n",
       "\n",
       "       [[1., 1., 1.],\n",
       "        [1., 1., 1.]],\n",
       "\n",
       "       [[1., 1., 1.],\n",
       "        [1., 1., 1.]]])"
      ]
     },
     "execution_count": 93,
     "metadata": {},
     "output_type": "execute_result"
    }
   ],
   "source": [
    "# your code here\n",
    "b"
   ]
  },
  {
   "cell_type": "markdown",
   "metadata": {},
   "source": [
    "#### 7. Do *a* and *b* have the same size? How do you prove that in Python code?"
   ]
  },
  {
   "cell_type": "code",
   "execution_count": 113,
   "metadata": {},
   "outputs": [
    {
     "data": {
      "text/plain": [
       "False"
      ]
     },
     "execution_count": 113,
     "metadata": {},
     "output_type": "execute_result"
    }
   ],
   "source": [
    "# your code here\n",
    "a.shape == b.shape"
   ]
  },
  {
   "cell_type": "markdown",
   "metadata": {},
   "source": [
    "#### 8. Are you able to add *a* and *b*? Why or why not?\n"
   ]
  },
  {
   "cell_type": "code",
   "execution_count": 114,
   "metadata": {},
   "outputs": [],
   "source": [
    "# your answer here\n",
    "# Values from arrays of different shapes can not be added"
   ]
  },
  {
   "cell_type": "markdown",
   "metadata": {},
   "source": [
    "#### 9. Transpose *b* so that it has the same structure of *a* (i.e. become a 2x3x5 array). Assign the transposed array to variable *c*."
   ]
  },
  {
   "cell_type": "code",
   "execution_count": 115,
   "metadata": {},
   "outputs": [
    {
     "data": {
      "text/plain": [
       "(2, 3, 5)"
      ]
     },
     "execution_count": 115,
     "metadata": {},
     "output_type": "execute_result"
    }
   ],
   "source": [
    "# your code here\n",
    "c = np.transpose(b, (1, 2, 0)).shape\n",
    "c = b.reshape((2, 3, 5))\n",
    "c.shape"
   ]
  },
  {
   "cell_type": "markdown",
   "metadata": {},
   "source": [
    "#### 10. Try to add *a* and *c*. Now it should work. Assign the sum to variable *d*. But why does it work now?"
   ]
  },
  {
   "cell_type": "code",
   "execution_count": 116,
   "metadata": {},
   "outputs": [
    {
     "data": {
      "text/plain": [
       "array([[[1.27743351, 1.96935619, 1.72010743, 1.33349239, 1.33579261],\n",
       "        [1.94102208, 1.79559129, 1.40367622, 1.96401144, 1.56263113],\n",
       "        [1.39318631, 1.64903896, 1.91725854, 1.53769038, 1.63163108]],\n",
       "\n",
       "       [[1.4634324 , 1.2376227 , 1.33164116, 1.91031769, 1.3177504 ],\n",
       "        [1.97441537, 1.76117931, 1.98853046, 1.89104623, 1.86339525],\n",
       "        [1.94306661, 1.72492628, 1.97006052, 1.77231641, 1.5899268 ]]])"
      ]
     },
     "execution_count": 116,
     "metadata": {},
     "output_type": "execute_result"
    }
   ],
   "source": [
    "# your code/answer here\n",
    "d = a + c\n",
    "d\n",
    "# Now it works because the two arrays have the same shape"
   ]
  },
  {
   "cell_type": "markdown",
   "metadata": {},
   "source": [
    "#### 11. Print *a* and *d*. Notice the difference and relation of the two array in terms of the values? Explain."
   ]
  },
  {
   "cell_type": "code",
   "execution_count": 117,
   "metadata": {},
   "outputs": [
    {
     "name": "stdout",
     "output_type": "stream",
     "text": [
      "Array a:\n",
      " [[[0.27743351 0.96935619 0.72010743 0.33349239 0.33579261]\n",
      "  [0.94102208 0.79559129 0.40367622 0.96401144 0.56263113]\n",
      "  [0.39318631 0.64903896 0.91725854 0.53769038 0.63163108]]\n",
      "\n",
      " [[0.4634324  0.2376227  0.33164116 0.91031769 0.3177504 ]\n",
      "  [0.97441537 0.76117931 0.98853046 0.89104623 0.86339525]\n",
      "  [0.94306661 0.72492628 0.97006052 0.77231641 0.5899268 ]]]\n",
      "\n",
      "\n",
      "Array d:\n",
      " [[[1.27743351 1.96935619 1.72010743 1.33349239 1.33579261]\n",
      "  [1.94102208 1.79559129 1.40367622 1.96401144 1.56263113]\n",
      "  [1.39318631 1.64903896 1.91725854 1.53769038 1.63163108]]\n",
      "\n",
      " [[1.4634324  1.2376227  1.33164116 1.91031769 1.3177504 ]\n",
      "  [1.97441537 1.76117931 1.98853046 1.89104623 1.86339525]\n",
      "  [1.94306661 1.72492628 1.97006052 1.77231641 1.5899268 ]]]\n"
     ]
    }
   ],
   "source": [
    "# your code/answer here\n",
    "print('Array a:\\n', a)\n",
    "print('\\n')\n",
    "print('Array d:\\n', d)\n",
    "\n",
    "# In the array d each value is equal the value of the corresponding value in array a plus 1"
   ]
  },
  {
   "cell_type": "markdown",
   "metadata": {},
   "source": [
    "#### 12. Multiply *a* and *c*. Assign the result to *e*."
   ]
  },
  {
   "cell_type": "code",
   "execution_count": 118,
   "metadata": {},
   "outputs": [
    {
     "data": {
      "text/plain": [
       "array([[[0.27743351, 0.96935619, 0.72010743, 0.33349239, 0.33579261],\n",
       "        [0.94102208, 0.79559129, 0.40367622, 0.96401144, 0.56263113],\n",
       "        [0.39318631, 0.64903896, 0.91725854, 0.53769038, 0.63163108]],\n",
       "\n",
       "       [[0.4634324 , 0.2376227 , 0.33164116, 0.91031769, 0.3177504 ],\n",
       "        [0.97441537, 0.76117931, 0.98853046, 0.89104623, 0.86339525],\n",
       "        [0.94306661, 0.72492628, 0.97006052, 0.77231641, 0.5899268 ]]])"
      ]
     },
     "execution_count": 118,
     "metadata": {},
     "output_type": "execute_result"
    }
   ],
   "source": [
    "# your code here\n",
    "e = a * c\n",
    "e"
   ]
  },
  {
   "cell_type": "markdown",
   "metadata": {},
   "source": [
    "#### 13. Does *e* equal to *a*? Why or why not?\n"
   ]
  },
  {
   "cell_type": "code",
   "execution_count": 119,
   "metadata": {},
   "outputs": [
    {
     "data": {
      "text/plain": [
       "array([[[ True,  True,  True,  True,  True],\n",
       "        [ True,  True,  True,  True,  True],\n",
       "        [ True,  True,  True,  True,  True]],\n",
       "\n",
       "       [[ True,  True,  True,  True,  True],\n",
       "        [ True,  True,  True,  True,  True],\n",
       "        [ True,  True,  True,  True,  True]]])"
      ]
     },
     "execution_count": 119,
     "metadata": {},
     "output_type": "execute_result"
    }
   ],
   "source": [
    "# your code/answer here\n",
    "e == a\n",
    "# Each value of a is equale the corresponding value of e \n",
    "# because in the array c all the values are equale to 1"
   ]
  },
  {
   "cell_type": "markdown",
   "metadata": {},
   "source": [
    "#### 14. Identify the max, min, and mean values in *d*. Assign those values to variables *d_max*, *d_min* and *d_mean*."
   ]
  },
  {
   "cell_type": "code",
   "execution_count": 120,
   "metadata": {},
   "outputs": [
    {
     "name": "stdout",
     "output_type": "stream",
     "text": [
      "The maximum is  1.9885304554209822\n",
      "The minimum is  1.2376227047026072\n",
      "The mean is  1.6723849049686557\n"
     ]
    }
   ],
   "source": [
    "# your code here\n",
    "d_max = d.max()\n",
    "d_min = d.min()\n",
    "d_mean = d.mean()\n",
    "\n",
    "print('The maximum is ', d_max)\n",
    "print('The minimum is ', d_min)\n",
    "print('The mean is ', d_mean)"
   ]
  },
  {
   "cell_type": "markdown",
   "metadata": {},
   "source": [
    "#### 15. Now we want to label the values in *d*. First create an empty array *f* with the same shape (i.e. 2x3x5) as *d* using `np.empty`.\n"
   ]
  },
  {
   "cell_type": "code",
   "execution_count": 121,
   "metadata": {},
   "outputs": [],
   "source": [
    "# your code here\n",
    "f = np.empty((2, 3, 5))"
   ]
  },
  {
   "cell_type": "markdown",
   "metadata": {},
   "source": [
    "#### 16. Populate the values in *f*. \n",
    "\n",
    "For each value in *d*, if it's larger than *d_min* but smaller than *d_mean*, assign 25 to the corresponding value in *f*. If a value in *d* is larger than *d_mean* but smaller than *d_max*, assign 75 to the corresponding value in *f*. If a value equals to *d_mean*, assign 50 to the corresponding value in *f*. Assign 0 to the corresponding value(s) in *f* for *d_min* in *d*. Assign 100 to the corresponding value(s) in *f* for *d_max* in *d*. In the end, f should have only the following values: 0, 25, 50, 75, and 100.\n",
    "\n",
    "**Note**: you don't have to use Numpy in this question."
   ]
  },
  {
   "cell_type": "code",
   "execution_count": 122,
   "metadata": {},
   "outputs": [
    {
     "data": {
      "text/plain": [
       "(2, 3, 5)"
      ]
     },
     "execution_count": 122,
     "metadata": {},
     "output_type": "execute_result"
    }
   ],
   "source": [
    "d.shape"
   ]
  },
  {
   "cell_type": "code",
   "execution_count": 132,
   "metadata": {},
   "outputs": [
    {
     "data": {
      "text/plain": [
       "array([[[ 25,  75,  75,  25,  25],\n",
       "        [ 75,  75,  25,  75,  25],\n",
       "        [ 25,  25,  75,  25,  25]],\n",
       "\n",
       "       [[ 25,   0,  25,  75,  25],\n",
       "        [ 75,  75, 100,  75,  75],\n",
       "        [ 75,  75,  75,  75,  25]]])"
      ]
     },
     "execution_count": 132,
     "metadata": {},
     "output_type": "execute_result"
    }
   ],
   "source": [
    "# your code here\n",
    "f_values = []\n",
    "\n",
    "for subgroup in d:\n",
    "    for row in subgroup:\n",
    "        for value in row:\n",
    "            if value > d_min and value < d_mean:\n",
    "                value = 25\n",
    "                f_values.append(value)\n",
    "            elif value > d_mean and value < d_max:\n",
    "                value = 75\n",
    "                f_values.append(value)\n",
    "            elif value == d_mean:\n",
    "                value = 50\n",
    "                f_values.append(value)\n",
    "            elif value == d_min:\n",
    "                value = 0\n",
    "                f_values.append(value)\n",
    "            elif value == d_max:\n",
    "                value = 100\n",
    "                f_values.append(value)\n",
    "\n",
    "f = np.asarray(f_values)\n",
    "f = f.reshape(2, 3, 5)\n",
    "f"
   ]
  },
  {
   "cell_type": "markdown",
   "metadata": {},
   "source": [
    "#### 17. Print *d* and *f*. Do you have your expected *f*?\n",
    "For instance, if your *d* is:\n",
    "```python\n",
    "[[[1.85836099, 1.67064465, 1.62576044, 1.40243961, 1.88454931],\n",
    "[1.75354326, 1.69403643, 1.36729252, 1.61415071, 1.12104981],\n",
    "[1.72201435, 1.1862918 , 1.87078449, 1.7726778 , 1.88180042]],\n",
    "[[1.44747908, 1.31673383, 1.02000951, 1.52218947, 1.97066381],\n",
    "[1.79129243, 1.74983003, 1.96028037, 1.85166831, 1.65450881],\n",
    "[1.18068344, 1.9587381 , 1.00656599, 1.93402165, 1.73514584]]]\n",
    "```\n",
    "Your *f* should be:\n",
    "```python\n",
    "[[[ 75.,  75.,  75.,  25.,  75.],\n",
    "[ 75.,  75.,  25.,  25.,  25.],\n",
    "[ 75.,  25.,  75.,  75.,  75.]],\n",
    "[[ 25.,  25.,  25.,  25., 100.],\n",
    "[ 75.,  75.,  75.,  75.,  75.],\n",
    "[ 25.,  75.,   0.,  75.,  75.]]]\n",
    "```"
   ]
  },
  {
   "cell_type": "code",
   "execution_count": 133,
   "metadata": {},
   "outputs": [
    {
     "name": "stdout",
     "output_type": "stream",
     "text": [
      "Array d:\n",
      " [[[1.27743351 1.96935619 1.72010743 1.33349239 1.33579261]\n",
      "  [1.94102208 1.79559129 1.40367622 1.96401144 1.56263113]\n",
      "  [1.39318631 1.64903896 1.91725854 1.53769038 1.63163108]]\n",
      "\n",
      " [[1.4634324  1.2376227  1.33164116 1.91031769 1.3177504 ]\n",
      "  [1.97441537 1.76117931 1.98853046 1.89104623 1.86339525]\n",
      "  [1.94306661 1.72492628 1.97006052 1.77231641 1.5899268 ]]]\n",
      "\n",
      "\n",
      "Array f:\n",
      " [[[ 25  75  75  25  25]\n",
      "  [ 75  75  25  75  25]\n",
      "  [ 25  25  75  25  25]]\n",
      "\n",
      " [[ 25   0  25  75  25]\n",
      "  [ 75  75 100  75  75]\n",
      "  [ 75  75  75  75  25]]]\n"
     ]
    }
   ],
   "source": [
    "# your code here\n",
    "print('Array d:\\n', d)\n",
    "print('\\n')\n",
    "print('Array f:\\n', f)"
   ]
  },
  {
   "cell_type": "markdown",
   "metadata": {},
   "source": [
    "#### 18. Bonus question: instead of using numbers (i.e. 0, 25, 50, 75, and 100), use string values  (\"A\", \"B\", \"C\", \"D\", and \"E\") to label the array elements. For the example above, the expected result is:\n",
    "\n",
    "```python\n",
    "[[[ 'D',  'D',  'D',  'B',  'D'],\n",
    "[ 'D',  'D',  'B',  'B',  'B'],\n",
    "[ 'D',  'B',  'D',  'D',  'D']],\n",
    "[[ 'B',  'B',  'B',  'B',  'E'],\n",
    "[ 'D',  'D',  'D',  'D',  'D'],\n",
    "[ 'B',  'D',   'A',  'D', 'D']]]\n",
    "```\n",
    "**Note**: you don't have to use Numpy in this question."
   ]
  },
  {
   "cell_type": "code",
   "execution_count": 136,
   "metadata": {},
   "outputs": [
    {
     "data": {
      "text/plain": [
       "array([[['B', 'D', 'D', 'B', 'B'],\n",
       "        ['D', 'D', 'B', 'D', 'B'],\n",
       "        ['B', 'B', 'D', 'B', 'B']],\n",
       "\n",
       "       [['B', 'A', 'B', 'D', 'B'],\n",
       "        ['D', 'D', 'E', 'D', 'D'],\n",
       "        ['D', 'D', 'D', 'D', 'B']]], dtype='<U1')"
      ]
     },
     "execution_count": 136,
     "metadata": {},
     "output_type": "execute_result"
    }
   ],
   "source": [
    "# your code here\n",
    "characters = []\n",
    "\n",
    "for subgroup in f:\n",
    "    for row in subgroup:\n",
    "        for value in row:\n",
    "            if value == 0:\n",
    "                value = 'A'\n",
    "                characters.append(value)\n",
    "            elif value == 25:\n",
    "                value = 'B'\n",
    "                characters.append(value)\n",
    "            elif value == 50:\n",
    "                value = 'C'\n",
    "                characters.append(value)\n",
    "            elif value == 75:\n",
    "                value = 'D'\n",
    "                characters.append(value)\n",
    "            elif value == 100:\n",
    "                value = 'E'\n",
    "                characters.append(value)\n",
    "\n",
    "g = np.asarray(characters)\n",
    "g = g.reshape(2, 3, 5)\n",
    "g"
   ]
  },
  {
   "cell_type": "code",
   "execution_count": null,
   "metadata": {},
   "outputs": [],
   "source": []
  }
 ],
 "metadata": {
  "kernelspec": {
   "display_name": "Python 3 (ipykernel)",
   "language": "python",
   "name": "python3"
  },
  "language_info": {
   "codemirror_mode": {
    "name": "ipython",
    "version": 3
   },
   "file_extension": ".py",
   "mimetype": "text/x-python",
   "name": "python",
   "nbconvert_exporter": "python",
   "pygments_lexer": "ipython3",
   "version": "3.9.7"
  }
 },
 "nbformat": 4,
 "nbformat_minor": 2
}
