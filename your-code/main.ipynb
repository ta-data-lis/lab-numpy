{
 "cells": [
  {
   "cell_type": "markdown",
   "metadata": {},
   "source": [
    "# Intrduction to NumPy\n",
    "\n",
    "\n",
    "#### 1. Import NumPy under the name np."
   ]
  },
  {
   "cell_type": "code",
   "execution_count": 2,
   "metadata": {},
   "outputs": [],
   "source": [
    "# your code here\n",
    "import numpy as np"
   ]
  },
  {
   "cell_type": "markdown",
   "metadata": {},
   "source": [
    "#### 2. Print your NumPy version."
   ]
  },
  {
   "cell_type": "code",
   "execution_count": 3,
   "metadata": {},
   "outputs": [
    {
     "data": {
      "text/plain": [
       "'1.21.5'"
      ]
     },
     "execution_count": 3,
     "metadata": {},
     "output_type": "execute_result"
    }
   ],
   "source": [
    "# your code here\n",
    "np.version.version"
   ]
  },
  {
   "cell_type": "markdown",
   "metadata": {},
   "source": [
    "#### 3. Generate a 2x3x5 3-dimensional array with random values. Assign the array to variable *a*.\n",
    "**Challenge**: there are at least three easy ways that use numpy to generate random arrays. How many ways can you find?"
   ]
  },
  {
   "cell_type": "code",
   "execution_count": 77,
   "metadata": {},
   "outputs": [
    {
     "name": "stdout",
     "output_type": "stream",
     "text": [
      "[[[0.42057787 0.09442148 0.0928313  0.81039497 0.81075383]\n",
      "  [0.9271127  0.10428369 0.10223697 0.90826624 0.91030508]\n",
      "  [0.64909792 0.6322396  0.298537   0.53527134 0.88144574]]\n",
      "\n",
      " [[0.03781055 0.87232768 0.54418274 0.3243791  0.36194245]\n",
      "  [0.8081575  0.73860703 0.88434312 0.6038452  0.90978899]\n",
      "  [0.49777283 0.52788194 0.04923826 0.09402499 0.23473841]]]\n"
     ]
    }
   ],
   "source": [
    "# Method 1\n",
    "a = np.random.random(size=(2,3,5))\n",
    "print(a)\n"
   ]
  },
  {
   "cell_type": "code",
   "execution_count": 80,
   "metadata": {},
   "outputs": [
    {
     "name": "stdout",
     "output_type": "stream",
     "text": [
      "[[[ 90 153 241 263  51]\n",
      "  [354 338 333 138  98]\n",
      "  [179  66 307 162 325]]\n",
      "\n",
      " [[209 221 102 345 293]\n",
      "  [ 88 171 168 182  78]\n",
      "  [311 222  90 174 138]]]\n"
     ]
    }
   ],
   "source": [
    "# Method 2\n",
    "random2 = np.random.randint(50,355,(2,3,5)) # random numpy array of shape (4,5)\n",
    "print(random2)"
   ]
  },
  {
   "cell_type": "code",
   "execution_count": 79,
   "metadata": {},
   "outputs": [
    {
     "name": "stdout",
     "output_type": "stream",
     "text": [
      "[[[0.4156287  0.85982744 0.94770671 0.35630518 0.06761132]\n",
      "  [0.25419991 0.07546604 0.3887248  0.4362552  0.28586224]\n",
      "  [0.84689104 0.26278503 0.48969815 0.62030608 0.42676399]]\n",
      "\n",
      " [[0.10190762 0.81643413 0.45416388 0.32498126 0.94771732]\n",
      "  [0.37906443 0.55370391 0.40750181 0.3155018  0.15859912]\n",
      "  [0.19137958 0.73164921 0.63978202 0.52572189 0.41766717]]]\n"
     ]
    }
   ],
   "source": [
    "# Method 3\n",
    "random3 = np.random.rand(2,3,5)\n",
    "print(random3)"
   ]
  },
  {
   "cell_type": "markdown",
   "metadata": {},
   "source": [
    "#### 4. Print *a*.\n"
   ]
  },
  {
   "cell_type": "code",
   "execution_count": 7,
   "metadata": {},
   "outputs": [
    {
     "name": "stdout",
     "output_type": "stream",
     "text": [
      "[[[7.80478385e-01 1.39674476e-01 7.64792177e-01 1.49270366e-04\n",
      "   5.32071306e-02]\n",
      "  [5.04479440e-01 9.56431274e-02 5.55454468e-01 7.04680311e-01\n",
      "   2.30605073e-01]\n",
      "  [5.08683984e-01 2.20915882e-01 1.54262765e-01 4.25913331e-01\n",
      "   5.52691157e-01]]\n",
      "\n",
      " [[6.63919777e-01 6.32773207e-01 8.47524331e-02 2.89901109e-01\n",
      "   6.33854624e-01]\n",
      "  [1.47892727e-01 8.57948059e-02 5.12510142e-02 1.65508086e-01\n",
      "   1.45448253e-01]\n",
      "  [6.10764088e-01 2.78997677e-01 9.16090034e-01 9.81033333e-01\n",
      "   2.03736293e-01]]]\n"
     ]
    }
   ],
   "source": [
    "# your code here\n",
    "print(a)"
   ]
  },
  {
   "cell_type": "code",
   "execution_count": 26,
   "metadata": {},
   "outputs": [],
   "source": [
    "# your code here\n",
    "\n",
    "b = np.ones(shape = (5,2,3))"
   ]
  },
  {
   "cell_type": "markdown",
   "metadata": {},
   "source": [
    "#### 6. Print *b*.\n"
   ]
  },
  {
   "cell_type": "code",
   "execution_count": 9,
   "metadata": {},
   "outputs": [
    {
     "name": "stdout",
     "output_type": "stream",
     "text": [
      "[[[1. 1. 1.]\n",
      "  [1. 1. 1.]]\n",
      "\n",
      " [[1. 1. 1.]\n",
      "  [1. 1. 1.]]\n",
      "\n",
      " [[1. 1. 1.]\n",
      "  [1. 1. 1.]]\n",
      "\n",
      " [[1. 1. 1.]\n",
      "  [1. 1. 1.]]\n",
      "\n",
      " [[1. 1. 1.]\n",
      "  [1. 1. 1.]]]\n"
     ]
    }
   ],
   "source": [
    "# your code here\n",
    "print(b)"
   ]
  },
  {
   "cell_type": "markdown",
   "metadata": {},
   "source": [
    "#### 7. Do *a* and *b* have the same size? How do you prove that in Python code?"
   ]
  },
  {
   "cell_type": "code",
   "execution_count": 10,
   "metadata": {},
   "outputs": [
    {
     "data": {
      "text/plain": [
       "False"
      ]
     },
     "execution_count": 10,
     "metadata": {},
     "output_type": "execute_result"
    }
   ],
   "source": [
    "# your code here\n",
    "a.shape == b.shape"
   ]
  },
  {
   "cell_type": "markdown",
   "metadata": {},
   "source": [
    "#### 8. Are you able to add *a* and *b*? Why or why not?\n"
   ]
  },
  {
   "cell_type": "code",
   "execution_count": 11,
   "metadata": {},
   "outputs": [],
   "source": [
    "# your answer here\n",
    "# we cant add a and be if they don't have the same size, we have to transpose one of the arrays to the shape of the other."
   ]
  },
  {
   "cell_type": "markdown",
   "metadata": {},
   "source": [
    "#### 9. Transpose *b* so that it has the same structure of *a* (i.e. become a 2x3x5 array). Assign the transposed array to variable *c*."
   ]
  },
  {
   "cell_type": "code",
   "execution_count": 82,
   "metadata": {},
   "outputs": [
    {
     "data": {
      "text/plain": [
       "array([[[1., 1., 1., 1., 1.],\n",
       "        [1., 1., 1., 1., 1.],\n",
       "        [1., 1., 1., 1., 1.]],\n",
       "\n",
       "       [[1., 1., 1., 1., 1.],\n",
       "        [1., 1., 1., 1., 1.],\n",
       "        [1., 1., 1., 1., 1.]]])"
      ]
     },
     "execution_count": 82,
     "metadata": {},
     "output_type": "execute_result"
    }
   ],
   "source": [
    "# your code here\n",
    "c = b.reshape(2,3,5)\n",
    "c\n"
   ]
  },
  {
   "cell_type": "markdown",
   "metadata": {},
   "source": [
    "#### 10. Try to add *a* and *c*. Now it should work. Assign the sum to variable *d*. But why does it work now?"
   ]
  },
  {
   "cell_type": "code",
   "execution_count": 42,
   "metadata": {},
   "outputs": [
    {
     "data": {
      "text/plain": [
       "array([[[1.78047839, 1.13967448, 1.76479218, 1.00014927, 1.05320713],\n",
       "        [1.50447944, 1.09564313, 1.55545447, 1.70468031, 1.23060507],\n",
       "        [1.50868398, 1.22091588, 1.15426276, 1.42591333, 1.55269116]],\n",
       "\n",
       "       [[1.66391978, 1.63277321, 1.08475243, 1.28990111, 1.63385462],\n",
       "        [1.14789273, 1.08579481, 1.05125101, 1.16550809, 1.14544825],\n",
       "        [1.61076409, 1.27899768, 1.91609003, 1.98103333, 1.20373629]]])"
      ]
     },
     "execution_count": 42,
     "metadata": {},
     "output_type": "execute_result"
    }
   ],
   "source": [
    "# your code/answer here\n",
    "\n",
    "d = a + c\n",
    "d\n",
    "\n",
    "#it works because we can perform math operations to arrays with the same shape. if they \n",
    "# dont have the same shape, we cant perform these operations."
   ]
  },
  {
   "cell_type": "markdown",
   "metadata": {},
   "source": [
    "#### 11. Print *a* and *d*. Notice the difference and relation of the two array in terms of the values? Explain."
   ]
  },
  {
   "cell_type": "code",
   "execution_count": 44,
   "metadata": {},
   "outputs": [
    {
     "name": "stdout",
     "output_type": "stream",
     "text": [
      "[[[7.80478385e-01 1.39674476e-01 7.64792177e-01 1.49270366e-04\n",
      "   5.32071306e-02]\n",
      "  [5.04479440e-01 9.56431274e-02 5.55454468e-01 7.04680311e-01\n",
      "   2.30605073e-01]\n",
      "  [5.08683984e-01 2.20915882e-01 1.54262765e-01 4.25913331e-01\n",
      "   5.52691157e-01]]\n",
      "\n",
      " [[6.63919777e-01 6.32773207e-01 8.47524331e-02 2.89901109e-01\n",
      "   6.33854624e-01]\n",
      "  [1.47892727e-01 8.57948059e-02 5.12510142e-02 1.65508086e-01\n",
      "   1.45448253e-01]\n",
      "  [6.10764088e-01 2.78997677e-01 9.16090034e-01 9.81033333e-01\n",
      "   2.03736293e-01]]]\n",
      "[[[1.78047839 1.13967448 1.76479218 1.00014927 1.05320713]\n",
      "  [1.50447944 1.09564313 1.55545447 1.70468031 1.23060507]\n",
      "  [1.50868398 1.22091588 1.15426276 1.42591333 1.55269116]]\n",
      "\n",
      " [[1.66391978 1.63277321 1.08475243 1.28990111 1.63385462]\n",
      "  [1.14789273 1.08579481 1.05125101 1.16550809 1.14544825]\n",
      "  [1.61076409 1.27899768 1.91609003 1.98103333 1.20373629]]]\n"
     ]
    }
   ],
   "source": [
    "# your code/answer here\n",
    "print(a)\n",
    "print(d)\n",
    "\n",
    "# the values of d result from the sum of a and c, for that reason, to each element of a we\n",
    "# added an element of c"
   ]
  },
  {
   "cell_type": "markdown",
   "metadata": {},
   "source": [
    "#### 12. Multiply *a* and *c*. Assign the result to *e*."
   ]
  },
  {
   "cell_type": "code",
   "execution_count": 46,
   "metadata": {},
   "outputs": [
    {
     "data": {
      "text/plain": [
       "array([[[7.80478385e-01, 1.39674476e-01, 7.64792177e-01, 1.49270366e-04,\n",
       "         5.32071306e-02],\n",
       "        [5.04479440e-01, 9.56431274e-02, 5.55454468e-01, 7.04680311e-01,\n",
       "         2.30605073e-01],\n",
       "        [5.08683984e-01, 2.20915882e-01, 1.54262765e-01, 4.25913331e-01,\n",
       "         5.52691157e-01]],\n",
       "\n",
       "       [[6.63919777e-01, 6.32773207e-01, 8.47524331e-02, 2.89901109e-01,\n",
       "         6.33854624e-01],\n",
       "        [1.47892727e-01, 8.57948059e-02, 5.12510142e-02, 1.65508086e-01,\n",
       "         1.45448253e-01],\n",
       "        [6.10764088e-01, 2.78997677e-01, 9.16090034e-01, 9.81033333e-01,\n",
       "         2.03736293e-01]]])"
      ]
     },
     "execution_count": 46,
     "metadata": {},
     "output_type": "execute_result"
    }
   ],
   "source": [
    "# your code here\n",
    "e = a * c\n",
    "e"
   ]
  },
  {
   "cell_type": "markdown",
   "metadata": {},
   "source": [
    "#### 13. Does *e* equal to *a*? Why or why not?\n"
   ]
  },
  {
   "cell_type": "code",
   "execution_count": 47,
   "metadata": {},
   "outputs": [
    {
     "data": {
      "text/plain": [
       "array([[[ True,  True,  True,  True,  True],\n",
       "        [ True,  True,  True,  True,  True],\n",
       "        [ True,  True,  True,  True,  True]],\n",
       "\n",
       "       [[ True,  True,  True,  True,  True],\n",
       "        [ True,  True,  True,  True,  True],\n",
       "        [ True,  True,  True,  True,  True]]])"
      ]
     },
     "execution_count": 47,
     "metadata": {},
     "output_type": "execute_result"
    }
   ],
   "source": [
    "# your code/answer here\n",
    "a == e\n",
    "\n",
    "# c  is a ones array. for that reason we are multiplitying values with 1, therefore we get an array (e)\n",
    "# that has the same values of a"
   ]
  },
  {
   "cell_type": "markdown",
   "metadata": {},
   "source": [
    "#### 14. Identify the max, min, and mean values in *d*. Assign those values to variables *d_max*, *d_min* and *d_mean*."
   ]
  },
  {
   "cell_type": "code",
   "execution_count": 74,
   "metadata": {},
   "outputs": [
    {
     "name": "stdout",
     "output_type": "stream",
     "text": [
      "1.9810333332307026\n",
      "1.0001492703659673\n",
      "1.3861116145999384\n"
     ]
    }
   ],
   "source": [
    "# your code here\n",
    "d_max = d.max()\n",
    "print(d_max)\n",
    "\n",
    "d_min = d.min()\n",
    "print(d_min)\n",
    "\n",
    "d_mean = d.mean()\n",
    "print(d_mean)"
   ]
  },
  {
   "cell_type": "markdown",
   "metadata": {},
   "source": [
    "#### 15. Now we want to label the values in *d*. First create an empty array *f* with the same shape (i.e. 2x3x5) as *d* using `np.empty`.\n"
   ]
  },
  {
   "cell_type": "code",
   "execution_count": 81,
   "metadata": {},
   "outputs": [
    {
     "data": {
      "text/plain": [
       "array([[[0.4156287 , 0.85982744, 0.94770671, 0.35630518, 0.06761132],\n",
       "        [0.25419991, 0.07546604, 0.3887248 , 0.4362552 , 0.28586224],\n",
       "        [0.84689104, 0.26278503, 0.48969815, 0.62030608, 0.42676399]],\n",
       "\n",
       "       [[0.10190762, 0.81643413, 0.45416388, 0.32498126, 0.94771732],\n",
       "        [0.37906443, 0.55370391, 0.40750181, 0.3155018 , 0.15859912],\n",
       "        [0.19137958, 0.73164921, 0.63978202, 0.52572189, 0.41766717]]])"
      ]
     },
     "execution_count": 81,
     "metadata": {},
     "output_type": "execute_result"
    }
   ],
   "source": [
    "# your code here\n",
    "f = np.empty(shape = [2,3,5])\n",
    "f"
   ]
  },
  {
   "cell_type": "markdown",
   "metadata": {},
   "source": [
    "#### 16. Populate the values in *f*. \n",
    "\n",
    "For each value in *d*, if it's larger than *d_min* but smaller than *d_mean*, assign 25 to the corresponding value in *f*. If a value in *d* is larger than *d_mean* but smaller than *d_max*, assign 75 to the corresponding value in *f*. If a value equals to *d_mean*, assign 50 to the corresponding value in *f*. Assign 0 to the corresponding value(s) in *f* for *d_min* in *d*. Assign 100 to the corresponding value(s) in *f* for *d_max* in *d*. In the end, f should have only the following values: 0, 25, 50, 75, and 100.\n",
    "\n",
    "**Note**: you don't have to use Numpy in this question."
   ]
  },
  {
   "cell_type": "code",
   "execution_count": 72,
   "metadata": {},
   "outputs": [
    {
     "data": {
      "text/plain": [
       "array([[[7.50000000e+01, 2.50000000e+01, 7.50000000e+01, 1.49270366e-04,\n",
       "         2.50000000e+01],\n",
       "        [7.50000000e+01, 2.50000000e+01, 7.50000000e+01, 7.50000000e+01,\n",
       "         2.50000000e+01],\n",
       "        [7.50000000e+01, 2.50000000e+01, 2.50000000e+01, 7.50000000e+01,\n",
       "         7.50000000e+01]],\n",
       "\n",
       "       [[7.50000000e+01, 7.50000000e+01, 2.50000000e+01, 2.50000000e+01,\n",
       "         7.50000000e+01],\n",
       "        [2.50000000e+01, 2.50000000e+01, 2.50000000e+01, 2.50000000e+01,\n",
       "         2.50000000e+01],\n",
       "        [7.50000000e+01, 2.50000000e+01, 7.50000000e+01, 9.81033333e-01,\n",
       "         2.50000000e+01]]])"
      ]
     },
     "execution_count": 72,
     "metadata": {},
     "output_type": "execute_result"
    }
   ],
   "source": [
    "# your code here\n",
    "f[(d > d_min) & (d < d_mean)] = 25\n",
    "f[(d > d_mean) & (d < d_max)] = 75\n",
    "f[(d == d.mean)] = 50\n",
    "f[(d == d.min)] = 0\n",
    "f[(d == d.max)] = 100\n",
    "f"
   ]
  },
  {
   "cell_type": "markdown",
   "metadata": {},
   "source": [
    "#### 17. Print *d* and *f*. Do you have your expected *f*?\n",
    "For instance, if your *d* is:\n",
    "```python\n",
    "[[[1.85836099, 1.67064465, 1.62576044, 1.40243961, 1.88454931],\n",
    "[1.75354326, 1.69403643, 1.36729252, 1.61415071, 1.12104981],\n",
    "[1.72201435, 1.1862918 , 1.87078449, 1.7726778 , 1.88180042]],\n",
    "[[1.44747908, 1.31673383, 1.02000951, 1.52218947, 1.97066381],\n",
    "[1.79129243, 1.74983003, 1.96028037, 1.85166831, 1.65450881],\n",
    "[1.18068344, 1.9587381 , 1.00656599, 1.93402165, 1.73514584]]]\n",
    "```\n",
    "Your *f* should be:\n",
    "```python\n",
    "[[[ 75.,  75.,  75.,  25.,  75.],\n",
    "[ 75.,  75.,  25.,  25.,  25.],\n",
    "[ 75.,  25.,  75.,  75.,  75.]],\n",
    "[[ 25.,  25.,  25.,  25., 100.],\n",
    "[ 75.,  75.,  75.,  75.,  75.],\n",
    "[ 25.,  75.,   0.,  75.,  75.]]]\n",
    "```"
   ]
  },
  {
   "cell_type": "code",
   "execution_count": 73,
   "metadata": {},
   "outputs": [
    {
     "name": "stdout",
     "output_type": "stream",
     "text": [
      "[[[1.78047839 1.13967448 1.76479218 1.00014927 1.05320713]\n",
      "  [1.50447944 1.09564313 1.55545447 1.70468031 1.23060507]\n",
      "  [1.50868398 1.22091588 1.15426276 1.42591333 1.55269116]]\n",
      "\n",
      " [[1.66391978 1.63277321 1.08475243 1.28990111 1.63385462]\n",
      "  [1.14789273 1.08579481 1.05125101 1.16550809 1.14544825]\n",
      "  [1.61076409 1.27899768 1.91609003 1.98103333 1.20373629]]]\n",
      "[[[7.50000000e+01 2.50000000e+01 7.50000000e+01 1.49270366e-04\n",
      "   2.50000000e+01]\n",
      "  [7.50000000e+01 2.50000000e+01 7.50000000e+01 7.50000000e+01\n",
      "   2.50000000e+01]\n",
      "  [7.50000000e+01 2.50000000e+01 2.50000000e+01 7.50000000e+01\n",
      "   7.50000000e+01]]\n",
      "\n",
      " [[7.50000000e+01 7.50000000e+01 2.50000000e+01 2.50000000e+01\n",
      "   7.50000000e+01]\n",
      "  [2.50000000e+01 2.50000000e+01 2.50000000e+01 2.50000000e+01\n",
      "   2.50000000e+01]\n",
      "  [7.50000000e+01 2.50000000e+01 7.50000000e+01 9.81033333e-01\n",
      "   2.50000000e+01]]]\n"
     ]
    }
   ],
   "source": [
    "# your code here\n",
    "print(d)\n",
    "print(f)"
   ]
  },
  {
   "cell_type": "markdown",
   "metadata": {},
   "source": [
    "#### 18. Bonus question: instead of using numbers (i.e. 0, 25, 50, 75, and 100), use string values  (\"A\", \"B\", \"C\", \"D\", and \"E\") to label the array elements. For the example above, the expected result is:\n",
    "\n",
    "```python\n",
    "[[[ 'D',  'D',  'D',  'B',  'D'],\n",
    "[ 'D',  'D',  'B',  'B',  'B'],\n",
    "[ 'D',  'B',  'D',  'D',  'D']],\n",
    "[[ 'B',  'B',  'B',  'B',  'E'],\n",
    "[ 'D',  'D',  'D',  'D',  'D'],\n",
    "[ 'B',  'D',   'A',  'D', 'D']]]\n",
    "```\n",
    "**Note**: you don't have to use Numpy in this question."
   ]
  },
  {
   "cell_type": "code",
   "execution_count": 21,
   "metadata": {},
   "outputs": [],
   "source": [
    "# your code here"
   ]
  }
 ],
 "metadata": {
  "kernelspec": {
   "display_name": "Python 3.9.12 ('base')",
   "language": "python",
   "name": "python3"
  },
  "language_info": {
   "codemirror_mode": {
    "name": "ipython",
    "version": 3
   },
   "file_extension": ".py",
   "mimetype": "text/x-python",
   "name": "python",
   "nbconvert_exporter": "python",
   "pygments_lexer": "ipython3",
   "version": "3.9.12"
  },
  "vscode": {
   "interpreter": {
    "hash": "986c3012c39ff693ceb5269a2abd4b4441d97c057c0cced0d38ee72e83b82ecd"
   }
  }
 },
 "nbformat": 4,
 "nbformat_minor": 2
}
