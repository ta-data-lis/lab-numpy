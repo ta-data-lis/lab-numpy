{
 "cells": [
  {
   "cell_type": "markdown",
   "metadata": {},
   "source": [
    "# Intrduction to NumPy\n",
    "\n",
    "\n",
    "#### 1. Import NumPy under the name np."
   ]
  },
  {
   "cell_type": "code",
   "execution_count": 1,
   "metadata": {},
   "outputs": [],
   "source": [
    "# your code here\n",
    "import numpy as np"
   ]
  },
  {
   "cell_type": "markdown",
   "metadata": {},
   "source": [
    "#### 2. Print your NumPy version."
   ]
  },
  {
   "cell_type": "code",
   "execution_count": 2,
   "metadata": {},
   "outputs": [
    {
     "name": "stdout",
     "output_type": "stream",
     "text": [
      "1.18.5\n"
     ]
    }
   ],
   "source": [
    "# your code here\n",
    "print(np.__version__)"
   ]
  },
  {
   "cell_type": "markdown",
   "metadata": {},
   "source": [
    "#### 3. Generate a 2x3x5 3-dimensional array with random values. Assign the array to variable *a*.\n",
    "**Challenge**: there are at least three easy ways that use numpy to generate random arrays. How many ways can you find?"
   ]
  },
  {
   "cell_type": "code",
   "execution_count": 3,
   "metadata": {},
   "outputs": [],
   "source": [
    "# Method 1\n",
    "a = np.random.rand(2,3,5)"
   ]
  },
  {
   "cell_type": "code",
   "execution_count": 4,
   "metadata": {},
   "outputs": [],
   "source": [
    "# Method 2\n",
    "a = np.random.choice([x for x in range(100)], size=(2,3,5))"
   ]
  },
  {
   "cell_type": "code",
   "execution_count": 5,
   "metadata": {},
   "outputs": [],
   "source": [
    "# Method 3\n",
    "a = np.random.random((2,3,5))"
   ]
  },
  {
   "cell_type": "markdown",
   "metadata": {},
   "source": [
    "#### 4. Print *a*.\n"
   ]
  },
  {
   "cell_type": "code",
   "execution_count": 6,
   "metadata": {},
   "outputs": [
    {
     "name": "stdout",
     "output_type": "stream",
     "text": [
      "[[[0.81293579 0.9618986  0.71993259 0.19573018 0.32072246]\n",
      "  [0.75228165 0.99783741 0.19653519 0.58122385 0.84270934]\n",
      "  [0.11661425 0.26138952 0.35498524 0.0655844  0.8031763 ]]\n",
      "\n",
      " [[0.08049333 0.89104626 0.28322666 0.93208582 0.72597512]\n",
      "  [0.07470322 0.52054156 0.60669996 0.85477187 0.4366375 ]\n",
      "  [0.89545019 0.85274315 0.18278016 0.21933532 0.30377583]]]\n"
     ]
    }
   ],
   "source": [
    "# your code here\n",
    "print(a)"
   ]
  },
  {
   "cell_type": "markdown",
   "metadata": {},
   "source": [
    "#### 5. Create a 5x2x3 3-dimensional array with all values equaling 1. Assign the array to variable *b*."
   ]
  },
  {
   "cell_type": "code",
   "execution_count": 7,
   "metadata": {},
   "outputs": [],
   "source": [
    "# your code here\n",
    "b = np.full((5, 2, 3), 1)"
   ]
  },
  {
   "cell_type": "markdown",
   "metadata": {},
   "source": [
    "#### 6. Print *b*.\n"
   ]
  },
  {
   "cell_type": "code",
   "execution_count": 8,
   "metadata": {},
   "outputs": [
    {
     "name": "stdout",
     "output_type": "stream",
     "text": [
      "[[[1 1 1]\n",
      "  [1 1 1]]\n",
      "\n",
      " [[1 1 1]\n",
      "  [1 1 1]]\n",
      "\n",
      " [[1 1 1]\n",
      "  [1 1 1]]\n",
      "\n",
      " [[1 1 1]\n",
      "  [1 1 1]]\n",
      "\n",
      " [[1 1 1]\n",
      "  [1 1 1]]]\n"
     ]
    }
   ],
   "source": [
    "# your code here\n",
    "print(b)"
   ]
  },
  {
   "cell_type": "markdown",
   "metadata": {},
   "source": [
    "#### 7. Do *a* and *b* have the same size? How do you prove that in Python code?"
   ]
  },
  {
   "cell_type": "code",
   "execution_count": 9,
   "metadata": {},
   "outputs": [
    {
     "name": "stdout",
     "output_type": "stream",
     "text": [
      "Size a and b equal: True\n",
      "Size a: 30\n",
      "Size b: 30\n",
      "Shape a and b equal: False\n",
      "Shape a: (2, 3, 5)\n",
      "Shape b: (5, 2, 3)\n"
     ]
    }
   ],
   "source": [
    "# your code here\n",
    "print('Size a and b equal:', a.size == b.size)\n",
    "print('Size a:', a.size)\n",
    "print('Size b:', b.size)\n",
    "print('Shape a and b equal:', a.shape == b.shape)\n",
    "print('Shape a:', a.shape)\n",
    "print('Shape b:', b.shape)\n",
    "#c = a + b"
   ]
  },
  {
   "cell_type": "markdown",
   "metadata": {},
   "source": [
    "#### 8. Are you able to add *a* and *b*? Why or why not?\n"
   ]
  },
  {
   "cell_type": "code",
   "execution_count": 10,
   "metadata": {},
   "outputs": [],
   "source": [
    "# your answer here\n",
    "# a and b cannot be added together, because they do NOT have the same SHAPE!"
   ]
  },
  {
   "cell_type": "markdown",
   "metadata": {},
   "source": [
    "#### 9. Transpose *b* so that it has the same structure of *a* (i.e. become a 2x3x5 array). Assign the transposed array to variable *c*."
   ]
  },
  {
   "cell_type": "code",
   "execution_count": 11,
   "metadata": {},
   "outputs": [],
   "source": [
    "# your code here\n",
    "c = b.transpose(1, 2, 0)\n",
    "#print(c)\n",
    "#print(c.shape)"
   ]
  },
  {
   "cell_type": "markdown",
   "metadata": {},
   "source": [
    "#### 10. Try to add *a* and *c*. Now it should work. Assign the sum to variable *d*. But why does it work now?"
   ]
  },
  {
   "cell_type": "code",
   "execution_count": 12,
   "metadata": {},
   "outputs": [],
   "source": [
    "# your code/answer here\n",
    "d = a + c\n",
    "# Now it has the same SHAPE!"
   ]
  },
  {
   "cell_type": "markdown",
   "metadata": {},
   "source": [
    "#### 11. Print *a* and *d*. Notice the difference and relation of the two array in terms of the values? Explain."
   ]
  },
  {
   "cell_type": "code",
   "execution_count": 13,
   "metadata": {},
   "outputs": [
    {
     "name": "stdout",
     "output_type": "stream",
     "text": [
      "Array a:\n",
      "[[[0.81293579 0.9618986  0.71993259 0.19573018 0.32072246]\n",
      "  [0.75228165 0.99783741 0.19653519 0.58122385 0.84270934]\n",
      "  [0.11661425 0.26138952 0.35498524 0.0655844  0.8031763 ]]\n",
      "\n",
      " [[0.08049333 0.89104626 0.28322666 0.93208582 0.72597512]\n",
      "  [0.07470322 0.52054156 0.60669996 0.85477187 0.4366375 ]\n",
      "  [0.89545019 0.85274315 0.18278016 0.21933532 0.30377583]]]\n",
      "\n",
      "Array d:\n",
      "[[[1.81293579 1.9618986  1.71993259 1.19573018 1.32072246]\n",
      "  [1.75228165 1.99783741 1.19653519 1.58122385 1.84270934]\n",
      "  [1.11661425 1.26138952 1.35498524 1.0655844  1.8031763 ]]\n",
      "\n",
      " [[1.08049333 1.89104626 1.28322666 1.93208582 1.72597512]\n",
      "  [1.07470322 1.52054156 1.60669996 1.85477187 1.4366375 ]\n",
      "  [1.89545019 1.85274315 1.18278016 1.21933532 1.30377583]]]\n",
      "\n",
      "In array d all values are larger by 1 because of d is equal to a plus c, whereas the later contains only 1s.\n"
     ]
    }
   ],
   "source": [
    "# your code/answer here\n",
    "print('Array a:')\n",
    "print(a)\n",
    "print()\n",
    "print('Array d:')\n",
    "print(d)\n",
    "print()\n",
    "print('In array d all values are larger by 1 because of d is equal to a plus c, whereas the later contains only 1s.')"
   ]
  },
  {
   "cell_type": "markdown",
   "metadata": {},
   "source": [
    "#### 12. Multiply *a* and *c*. Assign the result to *e*."
   ]
  },
  {
   "cell_type": "code",
   "execution_count": 14,
   "metadata": {},
   "outputs": [
    {
     "name": "stdout",
     "output_type": "stream",
     "text": [
      "[[[0.81293579 0.9618986  0.71993259 0.19573018 0.32072246]\n",
      "  [0.75228165 0.99783741 0.19653519 0.58122385 0.84270934]\n",
      "  [0.11661425 0.26138952 0.35498524 0.0655844  0.8031763 ]]\n",
      "\n",
      " [[0.08049333 0.89104626 0.28322666 0.93208582 0.72597512]\n",
      "  [0.07470322 0.52054156 0.60669996 0.85477187 0.4366375 ]\n",
      "  [0.89545019 0.85274315 0.18278016 0.21933532 0.30377583]]]\n"
     ]
    }
   ],
   "source": [
    "# your code here\n",
    "e = a * c\n",
    "print(e)"
   ]
  },
  {
   "cell_type": "markdown",
   "metadata": {},
   "source": [
    "#### 13. Does *e* equal to *a*? Why or why not?\n"
   ]
  },
  {
   "cell_type": "code",
   "execution_count": 15,
   "metadata": {},
   "outputs": [],
   "source": [
    "# your code/answer here\n",
    "# 1) e is equal to a * c\n",
    "# 2) c is equal to b transposed\n",
    "# 3) b is array with 1s\n",
    "# 4) coming back to 1) e is a multiplied by 1s which is equal to array a\n",
    "# 5) so e = a"
   ]
  },
  {
   "cell_type": "markdown",
   "metadata": {},
   "source": [
    "#### 14. Identify the max, min, and mean values in *d*. Assign those values to variables *d_max*, *d_min* and *d_mean*."
   ]
  },
  {
   "cell_type": "code",
   "execution_count": 16,
   "metadata": {},
   "outputs": [
    {
     "name": "stdout",
     "output_type": "stream",
     "text": [
      "Max: 1.997837408670714\n",
      "Min: 1.0655844034113664\n",
      "Mean: 1.5281274234733249\n"
     ]
    }
   ],
   "source": [
    "# your code here\n",
    "d_max = d.max()\n",
    "d_min = d.min()\n",
    "d_mean = d.mean()\n",
    "print('Max:', d_max)\n",
    "print('Min:', d_min)\n",
    "print('Mean:', d_mean)"
   ]
  },
  {
   "cell_type": "markdown",
   "metadata": {},
   "source": [
    "#### 15. Now we want to label the values in *d*. First create an empty array *f* with the same shape (i.e. 2x3x5) as *d* using `np.empty`.\n"
   ]
  },
  {
   "cell_type": "code",
   "execution_count": 17,
   "metadata": {},
   "outputs": [],
   "source": [
    "# your code here\n",
    "f = np.empty((2, 3, 5))"
   ]
  },
  {
   "cell_type": "markdown",
   "metadata": {},
   "source": [
    "#### 16. Populate the values in *f*. \n",
    "\n",
    "For each value in *d*, if it's larger than *d_min* but smaller than *d_mean*, assign 25 to the corresponding value in *f*. If a value in *d* is larger than *d_mean* but smaller than *d_max*, assign 75 to the corresponding value in *f*. If a value equals to *d_mean*, assign 50 to the corresponding value in *f*. Assign 0 to the corresponding value(s) in *f* for *d_min* in *d*. Assign 100 to the corresponding value(s) in *f* for *d_max* in *d*. In the end, f should have only the following values: 0, 25, 50, 75, and 100.\n",
    "\n",
    "**Note**: you don't have to use Numpy in this question."
   ]
  },
  {
   "cell_type": "code",
   "execution_count": 18,
   "metadata": {},
   "outputs": [],
   "source": [
    "# your code here\n",
    "\n",
    "# (2, 3, 5)\n",
    "for x1 in range(2):\n",
    "    for x2 in range(3):\n",
    "        for x3 in range(5):\n",
    "            d_value = (d[x1][x2][x3])\n",
    "            if (d_value > d_min) and (d_value < d_mean):\n",
    "                f_value = 25\n",
    "            elif (d_value == d_mean):\n",
    "                f_value = 50\n",
    "            elif (d_value > d_mean) and (d_value < d_max):\n",
    "                f_value = 75\n",
    "            else:\n",
    "                f_value = 100\n",
    "            f[x1][x2][x3] = f_value\n",
    "\n",
    "# MOST PROBABLY THERE IS AN EASIER WAY ... ?           \n",
    "#f[np.where(d>d_min and d<d_mean)] = 25\n",
    "#arr[arr==''] = '0'\n",
    "#f[np.where(d=d_mean)] = 50\n",
    "#f[np.where(d>d_mean and d<d_max)] = 75\n",
    "#f[np.where(d>d_max)] = 100\n",
    "#f"
   ]
  },
  {
   "cell_type": "markdown",
   "metadata": {},
   "source": [
    "#### 17. Print *d* and *f*. Do you have your expected *f*?\n",
    "For instance, if your *d* is:\n",
    "```python\n",
    "[[[1.85836099, 1.67064465, 1.62576044, 1.40243961, 1.88454931],\n",
    "[1.75354326, 1.69403643, 1.36729252, 1.61415071, 1.12104981],\n",
    "[1.72201435, 1.1862918 , 1.87078449, 1.7726778 , 1.88180042]],\n",
    "[[1.44747908, 1.31673383, 1.02000951, 1.52218947, 1.97066381],\n",
    "[1.79129243, 1.74983003, 1.96028037, 1.85166831, 1.65450881],\n",
    "[1.18068344, 1.9587381 , 1.00656599, 1.93402165, 1.73514584]]]\n",
    "```\n",
    "Your *f* should be:\n",
    "```python\n",
    "[[[ 75.,  75.,  75.,  25.,  75.],\n",
    "[ 75.,  75.,  25.,  25.,  25.],\n",
    "[ 75.,  25.,  75.,  75.,  75.]],\n",
    "[[ 25.,  25.,  25.,  25., 100.],\n",
    "[ 75.,  75.,  75.,  75.,  75.],\n",
    "[ 25.,  75.,   0.,  75.,  75.]]]\n",
    "```"
   ]
  },
  {
   "cell_type": "code",
   "execution_count": 19,
   "metadata": {},
   "outputs": [
    {
     "name": "stdout",
     "output_type": "stream",
     "text": [
      "Array d:\n",
      "[[[1.81293579 1.9618986  1.71993259 1.19573018 1.32072246]\n",
      "  [1.75228165 1.99783741 1.19653519 1.58122385 1.84270934]\n",
      "  [1.11661425 1.26138952 1.35498524 1.0655844  1.8031763 ]]\n",
      "\n",
      " [[1.08049333 1.89104626 1.28322666 1.93208582 1.72597512]\n",
      "  [1.07470322 1.52054156 1.60669996 1.85477187 1.4366375 ]\n",
      "  [1.89545019 1.85274315 1.18278016 1.21933532 1.30377583]]]\n",
      "\n",
      "Array f:\n",
      "[[[ 75.  75.  75.  25.  25.]\n",
      "  [ 75. 100.  25.  75.  75.]\n",
      "  [ 25.  25.  25. 100.  75.]]\n",
      "\n",
      " [[ 25.  75.  25.  75.  75.]\n",
      "  [ 25.  25.  75.  75.  25.]\n",
      "  [ 75.  75.  25.  25.  25.]]]\n"
     ]
    }
   ],
   "source": [
    "# your code here\n",
    "print('Array d:')\n",
    "print(d)\n",
    "print()\n",
    "print('Array f:')\n",
    "print(f)"
   ]
  },
  {
   "cell_type": "markdown",
   "metadata": {},
   "source": [
    "#### 18. Bonus question: instead of using numbers (i.e. 0, 25, 50, 75, and 100), use string values  (\"A\", \"B\", \"C\", \"D\", and \"E\") to label the array elements. For the example above, the expected result is:\n",
    "\n",
    "```python\n",
    "[[[ 'D',  'D',  'D',  'B',  'D'],\n",
    "[ 'D',  'D',  'B',  'B',  'B'],\n",
    "[ 'D',  'B',  'D',  'D',  'D']],\n",
    "[[ 'B',  'B',  'B',  'B',  'E'],\n",
    "[ 'D',  'D',  'D',  'D',  'D'],\n",
    "[ 'B',  'D',   'A',  'D', 'D']]]\n",
    "```\n",
    "**Note**: you don't have to use Numpy in this question."
   ]
  },
  {
   "cell_type": "code",
   "execution_count": 20,
   "metadata": {},
   "outputs": [
    {
     "name": "stdout",
     "output_type": "stream",
     "text": [
      "[[[b'D' b'D' b'D' b'B' b'B']\n",
      "  [b'D' b'E' b'B' b'D' b'D']\n",
      "  [b'B' b'B' b'B' b'E' b'D']]\n",
      "\n",
      " [[b'B' b'D' b'B' b'D' b'D']\n",
      "  [b'B' b'B' b'D' b'D' b'B']\n",
      "  [b'D' b'D' b'B' b'B' b'B']]]\n"
     ]
    }
   ],
   "source": [
    "# your code here\n",
    "# (2, 3, 5)\n",
    "g = np.empty((2, 3, 5), dtype='S')\n",
    "for x1 in range(2):\n",
    "    for x2 in range(3):\n",
    "        for x3 in range(5):\n",
    "            d_value = (d[x1][x2][x3])\n",
    "            if d_value < d_min:\n",
    "                g_value = 'A'\n",
    "            if (d_value > d_min) and (d_value < d_mean):\n",
    "                g_value = 'B'\n",
    "            elif (d_value == d_mean):\n",
    "                g_value = 'C'\n",
    "            elif (d_value > d_mean) and (d_value < d_max):\n",
    "                g_value = 'D'\n",
    "            else:\n",
    "                g_value = 'E'\n",
    "            g[x1][x2][x3] = g_value\n",
    "print(g)"
   ]
  }
 ],
 "metadata": {
  "kernelspec": {
   "display_name": "Python 3",
   "language": "python",
   "name": "python3"
  },
  "language_info": {
   "codemirror_mode": {
    "name": "ipython",
    "version": 3
   },
   "file_extension": ".py",
   "mimetype": "text/x-python",
   "name": "python",
   "nbconvert_exporter": "python",
   "pygments_lexer": "ipython3",
   "version": "3.8.3"
  }
 },
 "nbformat": 4,
 "nbformat_minor": 2
}
