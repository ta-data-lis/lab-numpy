{
 "cells": [
  {
   "cell_type": "markdown",
   "metadata": {},
   "source": [
    "# Intrduction to NumPy\n",
    "\n",
    "\n",
    "#### 1. Import NumPy under the name np."
   ]
  },
  {
   "cell_type": "code",
   "execution_count": 2,
   "metadata": {},
   "outputs": [],
   "source": [
    "import numpy as np"
   ]
  },
  {
   "cell_type": "markdown",
   "metadata": {},
   "source": [
    "#### 2. Print your NumPy version."
   ]
  },
  {
   "cell_type": "code",
   "execution_count": 3,
   "metadata": {},
   "outputs": [
    {
     "name": "stdout",
     "output_type": "stream",
     "text": [
      "1.23.3\n"
     ]
    }
   ],
   "source": [
    "print(np.__version__)"
   ]
  },
  {
   "cell_type": "markdown",
   "metadata": {},
   "source": [
    "#### 3. Generate a 2x3x5 3-dimensional array with random values. Assign the array to variable *a*.\n",
    "**Challenge**: there are at least three easy ways that use numpy to generate random arrays. How many ways can you find?"
   ]
  },
  {
   "cell_type": "code",
   "execution_count": 4,
   "metadata": {},
   "outputs": [
    {
     "name": "stdout",
     "output_type": "stream",
     "text": [
      "[[[0.10734251 0.6360245  0.42336788 0.78543055 0.33726852]\n",
      "  [0.87775381 0.30222002 0.74441841 0.14602234 0.23671898]\n",
      "  [0.45065839 0.77676625 0.78701782 0.41264536 0.45710292]]\n",
      "\n",
      " [[0.55423976 0.15663404 0.43256253 0.50740218 0.34630962]\n",
      "  [0.73320968 0.17899687 0.05595088 0.37982629 0.5438045 ]\n",
      "  [0.76321098 0.61181213 0.14385757 0.07156545 0.16344009]]]\n"
     ]
    }
   ],
   "source": [
    "a = np.random.rand(2, 3, 5)\n",
    "print(a)"
   ]
  },
  {
   "cell_type": "code",
   "execution_count": 5,
   "metadata": {},
   "outputs": [
    {
     "name": "stdout",
     "output_type": "stream",
     "text": [
      "[[[ 0.81193249 -0.76152328 -1.37994571 -1.6152447  -1.21104705]\n",
      "  [ 0.05273063  0.25450326 -1.39558069  0.39939479  0.29929782]\n",
      "  [-0.19658269 -0.8504625  -0.50951972  1.10228021 -1.86670971]]\n",
      "\n",
      " [[-1.34089196  0.65591039  0.35656296  0.45447707  0.10149163]\n",
      "  [-0.55464493 -0.13966224 -0.54746175 -0.77255666 -0.11729826]\n",
      "  [ 0.19822701  0.35760714 -1.26557108  0.2190364   0.46443209]]]\n"
     ]
    }
   ],
   "source": [
    "a = np.random.randn(2, 3, 5)\n",
    "print(a)"
   ]
  },
  {
   "cell_type": "code",
   "execution_count": 6,
   "metadata": {},
   "outputs": [
    {
     "name": "stdout",
     "output_type": "stream",
     "text": [
      "[[[0 7 4 4 3]\n",
      "  [1 1 7 2 0]\n",
      "  [7 1 9 5 0]]\n",
      "\n",
      " [[3 1 8 1 4]\n",
      "  [2 3 6 6 4]\n",
      "  [6 3 6 2 6]]]\n"
     ]
    }
   ],
   "source": [
    "a = np.random.randint(0, 10, size=(2, 3, 5))\n",
    "print(a)"
   ]
  },
  {
   "cell_type": "markdown",
   "metadata": {},
   "source": [
    "#### 4. Print *a*.\n"
   ]
  },
  {
   "cell_type": "code",
   "execution_count": 7,
   "metadata": {},
   "outputs": [],
   "source": [
    "###Already did above"
   ]
  },
  {
   "cell_type": "markdown",
   "metadata": {},
   "source": [
    "#### 5. Create a 5x2x3 3-dimensional array with all values equaling 1. Assign the array to variable *b*."
   ]
  },
  {
   "cell_type": "code",
   "execution_count": 8,
   "metadata": {},
   "outputs": [],
   "source": [
    "b = np.ones((5, 2, 3))"
   ]
  },
  {
   "cell_type": "markdown",
   "metadata": {},
   "source": [
    "#### 6. Print *b*.\n"
   ]
  },
  {
   "cell_type": "code",
   "execution_count": 9,
   "metadata": {},
   "outputs": [
    {
     "name": "stdout",
     "output_type": "stream",
     "text": [
      "[[[1. 1. 1.]\n",
      "  [1. 1. 1.]]\n",
      "\n",
      " [[1. 1. 1.]\n",
      "  [1. 1. 1.]]\n",
      "\n",
      " [[1. 1. 1.]\n",
      "  [1. 1. 1.]]\n",
      "\n",
      " [[1. 1. 1.]\n",
      "  [1. 1. 1.]]\n",
      "\n",
      " [[1. 1. 1.]\n",
      "  [1. 1. 1.]]]\n"
     ]
    }
   ],
   "source": [
    "print(b)"
   ]
  },
  {
   "cell_type": "markdown",
   "metadata": {},
   "source": [
    "#### 7. Do *a* and *b* have the same size? How do you prove that in Python code?"
   ]
  },
  {
   "cell_type": "code",
   "execution_count": 10,
   "metadata": {},
   "outputs": [
    {
     "name": "stdout",
     "output_type": "stream",
     "text": [
      "Shape of a: (2, 3, 5)\n",
      "Shape of b: (5, 2, 3)\n"
     ]
    }
   ],
   "source": [
    "#They don't we can prove this by priting their shape\n",
    "print(\"Shape of a:\", a.shape)\n",
    "print(\"Shape of b:\", b.shape)"
   ]
  },
  {
   "cell_type": "code",
   "execution_count": 11,
   "metadata": {},
   "outputs": [
    {
     "data": {
      "text/plain": [
       "(5, 2, 3)"
      ]
     },
     "execution_count": 11,
     "metadata": {},
     "output_type": "execute_result"
    }
   ],
   "source": [
    "b.shape"
   ]
  },
  {
   "cell_type": "markdown",
   "metadata": {},
   "source": [
    "#### 8. Are you able to add *a* and *b*? Why or why not?\n"
   ]
  },
  {
   "cell_type": "code",
   "execution_count": 12,
   "metadata": {},
   "outputs": [],
   "source": [
    "#No, they have different shapes so they cannot be added."
   ]
  },
  {
   "cell_type": "markdown",
   "metadata": {},
   "source": [
    "#### 9. Transpose *b* so that it has the same structure of *a* (i.e. become a 2x3x5 array). Assign the transposed array to variable *c*."
   ]
  },
  {
   "cell_type": "code",
   "execution_count": 13,
   "metadata": {},
   "outputs": [
    {
     "data": {
      "text/plain": [
       "(2, 3, 5)"
      ]
     },
     "execution_count": 13,
     "metadata": {},
     "output_type": "execute_result"
    }
   ],
   "source": [
    "c = np.transpose(b, axes=(1, 2, 0))\n",
    "c.shape"
   ]
  },
  {
   "cell_type": "markdown",
   "metadata": {},
   "source": [
    "#### 10. Try to add *a* and *c*. Now it should work. Assign the sum to variable *d*. But why does it work now?"
   ]
  },
  {
   "cell_type": "code",
   "execution_count": 14,
   "metadata": {},
   "outputs": [],
   "source": [
    "d = a + c\n",
    "#it works now because they have the same shape."
   ]
  },
  {
   "cell_type": "markdown",
   "metadata": {},
   "source": [
    "#### 11. Print *a* and *d*. Notice the difference and relation of the two array in terms of the values? Explain."
   ]
  },
  {
   "cell_type": "code",
   "execution_count": 15,
   "metadata": {},
   "outputs": [
    {
     "name": "stdout",
     "output_type": "stream",
     "text": [
      "[[[0 7 4 4 3]\n",
      "  [1 1 7 2 0]\n",
      "  [7 1 9 5 0]]\n",
      "\n",
      " [[3 1 8 1 4]\n",
      "  [2 3 6 6 4]\n",
      "  [6 3 6 2 6]]]\n",
      "[[[ 1.  8.  5.  5.  4.]\n",
      "  [ 2.  2.  8.  3.  1.]\n",
      "  [ 8.  2. 10.  6.  1.]]\n",
      "\n",
      " [[ 4.  2.  9.  2.  5.]\n",
      "  [ 3.  4.  7.  7.  5.]\n",
      "  [ 7.  4.  7.  3.  7.]]]\n"
     ]
    }
   ],
   "source": [
    "print(a)\n",
    "print(d)"
   ]
  },
  {
   "cell_type": "code",
   "execution_count": 16,
   "metadata": {},
   "outputs": [],
   "source": [
    "# They have the same shape but different values"
   ]
  },
  {
   "cell_type": "markdown",
   "metadata": {},
   "source": [
    "#### 12. Multiply *a* and *c*. Assign the result to *e*."
   ]
  },
  {
   "cell_type": "code",
   "execution_count": 17,
   "metadata": {},
   "outputs": [
    {
     "name": "stdout",
     "output_type": "stream",
     "text": [
      "[[[0. 7. 4. 4. 3.]\n",
      "  [1. 1. 7. 2. 0.]\n",
      "  [7. 1. 9. 5. 0.]]\n",
      "\n",
      " [[3. 1. 8. 1. 4.]\n",
      "  [2. 3. 6. 6. 4.]\n",
      "  [6. 3. 6. 2. 6.]]]\n"
     ]
    }
   ],
   "source": [
    "e = a*c\n",
    "print(e)"
   ]
  },
  {
   "cell_type": "markdown",
   "metadata": {},
   "source": [
    "#### 13. Does *e* equal to *a*? Why or why not?\n"
   ]
  },
  {
   "cell_type": "code",
   "execution_count": 18,
   "metadata": {},
   "outputs": [
    {
     "name": "stdout",
     "output_type": "stream",
     "text": [
      "True\n"
     ]
    }
   ],
   "source": [
    "print(np.array_equal(a, e)) \n",
    "#e is equal to a multiplied by an array of all ones, which is just a itself.\n",
    "#also because the thing above says so.\n"
   ]
  },
  {
   "cell_type": "markdown",
   "metadata": {},
   "source": [
    "#### 14. Identify the max, min, and mean values in *d*. Assign those values to variables *d_max*, *d_min* and *d_mean*."
   ]
  },
  {
   "cell_type": "code",
   "execution_count": 19,
   "metadata": {},
   "outputs": [
    {
     "name": "stdout",
     "output_type": "stream",
     "text": [
      "10.0\n",
      "1.0\n",
      "4.733333333333333\n"
     ]
    }
   ],
   "source": [
    "d_max = np.max(d)\n",
    "d_min = np.min(d)\n",
    "d_mean = np.mean(d)\n",
    "\n",
    "print(np.amax(d))\n",
    "print(np.amin(d))\n",
    "print(np.mean(d))"
   ]
  },
  {
   "cell_type": "markdown",
   "metadata": {},
   "source": [
    "#### 15. Now we want to label the values in *d*. First create an empty array *f* with the same shape (i.e. 2x3x5) as *d* using `np.empty`.\n"
   ]
  },
  {
   "cell_type": "code",
   "execution_count": 20,
   "metadata": {},
   "outputs": [
    {
     "name": "stdout",
     "output_type": "stream",
     "text": [
      "Shape of f: (2, 3, 5)\n"
     ]
    }
   ],
   "source": [
    "f = np.empty(d.shape)\n",
    "\n",
    "print(\"Shape of f:\", f.shape)"
   ]
  },
  {
   "cell_type": "markdown",
   "metadata": {},
   "source": [
    "#### 16. Populate the values in *f*. \n",
    "\n",
    "For each value in *d*, if it's larger than *d_min* but smaller than *d_mean*, assign 25 to the corresponding value in *f*. If a value in *d* is larger than *d_mean* but smaller than *d_max*, assign 75 to the corresponding value in *f*. If a value equals to *d_mean*, assign 50 to the corresponding value in *f*. Assign 0 to the corresponding value(s) in *f* for *d_min* in *d*. Assign 100 to the corresponding value(s) in *f* for *d_max* in *d*. In the end, f should have only the following values: 0, 25, 50, 75, and 100.\n",
    "\n",
    "**Note**: you don't have to use Numpy in this question."
   ]
  },
  {
   "cell_type": "code",
   "execution_count": 21,
   "metadata": {},
   "outputs": [
    {
     "name": "stdout",
     "output_type": "stream",
     "text": [
      "[[[  0.  75.  75.  75.  25.]\n",
      "  [ 25.  25.  75.  25.   0.]\n",
      "  [ 75.  25. 100.  75.   0.]]\n",
      "\n",
      " [[ 25.  25.  75.  25.  75.]\n",
      "  [ 25.  25.  75.  75.  75.]\n",
      "  [ 75.  25.  75.  25.  75.]]]\n"
     ]
    }
   ],
   "source": [
    "for i in range(d.shape[0]):\n",
    "    for j in range(d.shape[1]):\n",
    "        for k in range(d.shape[2]):\n",
    "            if d[i,j,k] == d_min:\n",
    "                f[i,j,k] = 0\n",
    "            elif d_min < d[i,j,k] < d_mean:\n",
    "                f[i,j,k] = 25\n",
    "            elif d[i,j,k] == d_mean:\n",
    "                f[i,j,k] = 50\n",
    "            elif d_mean < d[i,j,k] < d_max:\n",
    "                f[i,j,k] = 75\n",
    "            elif d[i,j,k] == d_max:\n",
    "                f[i,j,k] = 100\n",
    "\n",
    "print(f)"
   ]
  },
  {
   "cell_type": "markdown",
   "metadata": {},
   "source": [
    "#### 17. Print *d* and *f*. Do you have your expected *f*?\n",
    "For instance, if your *d* is:\n",
    "```python\n",
    "[[[1.85836099, 1.67064465, 1.62576044, 1.40243961, 1.88454931],\n",
    "[1.75354326, 1.69403643, 1.36729252, 1.61415071, 1.12104981],\n",
    "[1.72201435, 1.1862918 , 1.87078449, 1.7726778 , 1.88180042]],\n",
    "[[1.44747908, 1.31673383, 1.02000951, 1.52218947, 1.97066381],\n",
    "[1.79129243, 1.74983003, 1.96028037, 1.85166831, 1.65450881],\n",
    "[1.18068344, 1.9587381 , 1.00656599, 1.93402165, 1.73514584]]]\n",
    "```\n",
    "Your *f* should be:\n",
    "```python\n",
    "[[[ 75.,  75.,  75.,  25.,  75.],\n",
    "[ 75.,  75.,  25.,  25.,  25.],\n",
    "[ 75.,  25.,  75.,  75.,  75.]],\n",
    "[[ 25.,  25.,  25.,  25., 100.],\n",
    "[ 75.,  75.,  75.,  75.,  75.],\n",
    "[ 25.,  75.,   0.,  75.,  75.]]]\n",
    "```"
   ]
  },
  {
   "cell_type": "code",
   "execution_count": 22,
   "metadata": {},
   "outputs": [
    {
     "name": "stdout",
     "output_type": "stream",
     "text": [
      "[[[ 1.  8.  5.  5.  4.]\n",
      "  [ 2.  2.  8.  3.  1.]\n",
      "  [ 8.  2. 10.  6.  1.]]\n",
      "\n",
      " [[ 4.  2.  9.  2.  5.]\n",
      "  [ 3.  4.  7.  7.  5.]\n",
      "  [ 7.  4.  7.  3.  7.]]]\n",
      "[[[  0.  75.  75.  75.  25.]\n",
      "  [ 25.  25.  75.  25.   0.]\n",
      "  [ 75.  25. 100.  75.   0.]]\n",
      "\n",
      " [[ 25.  25.  75.  25.  75.]\n",
      "  [ 25.  25.  75.  75.  75.]\n",
      "  [ 75.  25.  75.  25.  75.]]]\n"
     ]
    }
   ],
   "source": [
    "print(d)\n",
    "print(f)"
   ]
  },
  {
   "cell_type": "markdown",
   "metadata": {},
   "source": [
    "#### 18. Bonus question: instead of using numbers (i.e. 0, 25, 50, 75, and 100), use string values  (\"A\", \"B\", \"C\", \"D\", and \"E\") to label the array elements. For the example above, the expected result is:\n",
    "\n",
    "```python\n",
    "[[[ 'D',  'D',  'D',  'B',  'D'],\n",
    "[ 'D',  'D',  'B',  'B',  'B'],\n",
    "[ 'D',  'B',  'D',  'D',  'D']],\n",
    "[[ 'B',  'B',  'B',  'B',  'E'],\n",
    "[ 'D',  'D',  'D',  'D',  'D'],\n",
    "[ 'B',  'D',   'A',  'D', 'D']]]\n",
    "```\n",
    "**Note**: you don't have to use Numpy in this question."
   ]
  },
  {
   "cell_type": "code",
   "execution_count": 23,
   "metadata": {},
   "outputs": [
    {
     "name": "stdout",
     "output_type": "stream",
     "text": [
      "d:\n",
      " [[[ 1.  8.  5.  5.  4.]\n",
      "  [ 2.  2.  8.  3.  1.]\n",
      "  [ 8.  2. 10.  6.  1.]]\n",
      "\n",
      " [[ 4.  2.  9.  2.  5.]\n",
      "  [ 3.  4.  7.  7.  5.]\n",
      "  [ 7.  4.  7.  3.  7.]]]\n",
      "f:\n",
      " [[['A' 'D' 'D' 'D' 'B']\n",
      "  ['B' 'B' 'D' 'B' 'A']\n",
      "  ['D' 'B' 'E' 'D' 'A']]\n",
      "\n",
      " [['B' 'B' 'D' 'B' 'D']\n",
      "  ['B' 'B' 'D' 'D' 'D']\n",
      "  ['D' 'B' 'D' 'B' 'D']]]\n"
     ]
    }
   ],
   "source": [
    "f = np.empty_like(d, dtype='U1')\n",
    "\n",
    "for i in range(d.shape[0]):\n",
    "    for j in range(d.shape[1]):\n",
    "        for k in range(d.shape[2]):\n",
    "            if d[i,j,k] > d_min and d[i,j,k] < d_mean:\n",
    "                f[i,j,k] = \"B\"\n",
    "            elif d[i,j,k] > d_mean and d[i,j,k] < d_max:\n",
    "                f[i,j,k] = \"D\"\n",
    "            elif d[i,j,k] == d_mean:\n",
    "                f[i,j,k] = \"C\"\n",
    "            elif d[i,j,k] == d_min:\n",
    "                f[i,j,k] = \"A\"\n",
    "            elif d[i,j,k] == d_max:\n",
    "                f[i,j,k] = \"E\"\n",
    "\n",
    "print(\"d:\\n\", d)\n",
    "print(\"f:\\n\", f)"
   ]
  },
  {
   "cell_type": "code",
   "execution_count": null,
   "metadata": {},
   "outputs": [],
   "source": []
  }
 ],
 "metadata": {
  "kernelspec": {
   "display_name": "Python 3",
   "language": "python",
   "name": "python3"
  },
  "language_info": {
   "codemirror_mode": {
    "name": "ipython",
    "version": 3
   },
   "file_extension": ".py",
   "mimetype": "text/x-python",
   "name": "python",
   "nbconvert_exporter": "python",
   "pygments_lexer": "ipython3",
   "version": "3.10.7"
  },
  "vscode": {
   "interpreter": {
    "hash": "721db305ef1fd1fc91cdf20e400af694a949fe540ac5f48c160f31c7e384879d"
   }
  }
 },
 "nbformat": 4,
 "nbformat_minor": 2
}
