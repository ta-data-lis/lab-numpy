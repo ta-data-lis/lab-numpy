{
 "cells": [
  {
   "cell_type": "markdown",
   "metadata": {},
   "source": [
    "# Intrduction to NumPy\n",
    "\n",
    "\n",
    "#### 1. Import NumPy under the name np."
   ]
  },
  {
   "cell_type": "code",
   "execution_count": 1,
   "metadata": {},
   "outputs": [],
   "source": [
    "# your code here\n",
    "import numpy as np"
   ]
  },
  {
   "cell_type": "markdown",
   "metadata": {},
   "source": [
    "#### 2. Print your NumPy version."
   ]
  },
  {
   "cell_type": "code",
   "execution_count": 2,
   "metadata": {},
   "outputs": [
    {
     "name": "stdout",
     "output_type": "stream",
     "text": [
      "1.18.1\n"
     ]
    }
   ],
   "source": [
    "# your code here\n",
    "print(np.version.version)"
   ]
  },
  {
   "cell_type": "markdown",
   "metadata": {},
   "source": [
    "#### 3. Generate a 2x3x5 3-dimensional array with random values. Assign the array to variable *a*.\n",
    "**Challenge**: there are at least three easy ways that use numpy to generate random arrays. How many ways can you find?"
   ]
  },
  {
   "cell_type": "code",
   "execution_count": 3,
   "metadata": {},
   "outputs": [
    {
     "data": {
      "text/plain": [
       "array([[[0.90642965, 0.90642965, 0.90642965, 0.90642965, 0.90642965],\n",
       "        [0.90642965, 0.90642965, 0.90642965, 0.90642965, 0.90642965],\n",
       "        [0.90642965, 0.90642965, 0.90642965, 0.90642965, 0.90642965]],\n",
       "\n",
       "       [[0.90642965, 0.90642965, 0.90642965, 0.90642965, 0.90642965],\n",
       "        [0.90642965, 0.90642965, 0.90642965, 0.90642965, 0.90642965],\n",
       "        [0.90642965, 0.90642965, 0.90642965, 0.90642965, 0.90642965]]])"
      ]
     },
     "execution_count": 3,
     "metadata": {},
     "output_type": "execute_result"
    }
   ],
   "source": [
    "# Method 1\n",
    "\n",
    "##is this also a uniform distribution? is it filled by random sampling as method 2 or 3?\n",
    "\n",
    "a = np.full((2,3,5), np.random.random())\n",
    "\n",
    "a"
   ]
  },
  {
   "cell_type": "code",
   "execution_count": 4,
   "metadata": {},
   "outputs": [
    {
     "data": {
      "text/plain": [
       "array([[[0.30415605, 0.41267711, 0.0039158 , 0.76868183, 0.99574189],\n",
       "        [0.148777  , 0.72415433, 0.39434487, 0.54839068, 0.76243389],\n",
       "        [0.15440847, 0.06751534, 0.13535913, 0.97600981, 0.18721141]],\n",
       "\n",
       "       [[0.26637531, 0.17208588, 0.46437648, 0.06309795, 0.81023138],\n",
       "        [0.37329201, 0.16853696, 0.19780915, 0.77278722, 0.11514833],\n",
       "        [0.47240815, 0.07574524, 0.91371144, 0.26769315, 0.72913534]]])"
      ]
     },
     "execution_count": 4,
     "metadata": {},
     "output_type": "execute_result"
    }
   ],
   "source": [
    "# Method 2\n",
    "sometuple = (2,3,5)\n",
    "##also uniform distribution - not feeling the difference from random.random_sample or random.random to random.int\n",
    "##except for the fact i can pass to random.random a tuple... more straightforward i guess\n",
    "a = np.random.random_sample(sometuple)\n",
    "a"
   ]
  },
  {
   "cell_type": "code",
   "execution_count": 5,
   "metadata": {},
   "outputs": [
    {
     "name": "stdout",
     "output_type": "stream",
     "text": [
      "[[[1.83260888 0.81747731 2.41801844 0.23330246 2.25011002]\n",
      "  [0.35560723 0.14795013 0.65301161 2.56046339 1.80904812]\n",
      "  [2.4544934  1.08359634 0.89925802 1.39198021 0.44905994]]\n",
      "\n",
      " [[1.22212759 1.99972802 0.23749795 2.00465839 1.30683336]\n",
      "  [0.24784918 1.2081217  0.46516134 0.68335154 2.77792698]\n",
      "  [2.31538454 2.43905342 0.69439594 2.7981092  2.32771162]]]\n"
     ]
    }
   ],
   "source": [
    "# Method 3\n",
    "\n",
    "####np.random.rand for uniform dist\n",
    "sometuple\n",
    "scalar = 3\n",
    "a = np.random.rand(2,3,5)*scalar\n",
    "\n",
    "print(a)"
   ]
  },
  {
   "cell_type": "markdown",
   "metadata": {},
   "source": [
    "#### 4. Print *a*.\n"
   ]
  },
  {
   "cell_type": "code",
   "execution_count": 6,
   "metadata": {},
   "outputs": [
    {
     "data": {
      "text/plain": [
       "array([[[0.61086963, 0.27249244, 0.80600615, 0.07776749, 0.75003667],\n",
       "        [0.11853574, 0.04931671, 0.21767054, 0.8534878 , 0.60301604],\n",
       "        [0.81816447, 0.36119878, 0.29975267, 0.4639934 , 0.14968665]],\n",
       "\n",
       "       [[0.40737586, 0.66657601, 0.07916598, 0.66821946, 0.43561112],\n",
       "        [0.08261639, 0.40270723, 0.15505378, 0.22778385, 0.92597566],\n",
       "        [0.77179485, 0.81301781, 0.23146531, 0.93270307, 0.77590387]]])"
      ]
     },
     "execution_count": 6,
     "metadata": {},
     "output_type": "execute_result"
    }
   ],
   "source": [
    "# your code here\n",
    "a = a/scalar\n",
    "a"
   ]
  },
  {
   "cell_type": "markdown",
   "metadata": {},
   "source": [
    "#### 5. Create a 5x2x3 3-dimensional array with all values equaling 1. Assign the array to variable *b*."
   ]
  },
  {
   "cell_type": "code",
   "execution_count": 7,
   "metadata": {},
   "outputs": [],
   "source": [
    "# your code here\n",
    "\n",
    "b = np.ones((5,2,3))"
   ]
  },
  {
   "cell_type": "markdown",
   "metadata": {},
   "source": [
    "#### 6. Print *b*.\n"
   ]
  },
  {
   "cell_type": "code",
   "execution_count": 8,
   "metadata": {},
   "outputs": [
    {
     "data": {
      "text/plain": [
       "array([[[1., 1., 1.],\n",
       "        [1., 1., 1.]],\n",
       "\n",
       "       [[1., 1., 1.],\n",
       "        [1., 1., 1.]],\n",
       "\n",
       "       [[1., 1., 1.],\n",
       "        [1., 1., 1.]],\n",
       "\n",
       "       [[1., 1., 1.],\n",
       "        [1., 1., 1.]],\n",
       "\n",
       "       [[1., 1., 1.],\n",
       "        [1., 1., 1.]]])"
      ]
     },
     "execution_count": 8,
     "metadata": {},
     "output_type": "execute_result"
    }
   ],
   "source": [
    "# your code here\n",
    "b"
   ]
  },
  {
   "cell_type": "markdown",
   "metadata": {},
   "source": [
    "#### 7. Do *a* and *b* have the same size? How do you prove that in Python code?"
   ]
  },
  {
   "cell_type": "code",
   "execution_count": 9,
   "metadata": {},
   "outputs": [
    {
     "name": "stdout",
     "output_type": "stream",
     "text": [
      "True\n"
     ]
    }
   ],
   "source": [
    "# your code here\n",
    "print(a.size == b.size)\n",
    "## also could've listed all elements for dimension and len(list_of_a_elements) == len(list_of_b_elements) i guess\n",
    "## but i can't be bothered and the point stands that it contains the same number of elements since 2*3*5 == 5*2*3"
   ]
  },
  {
   "cell_type": "markdown",
   "metadata": {},
   "source": [
    "#### 8. Are you able to add *a* and *b*? Why or why not?\n"
   ]
  },
  {
   "cell_type": "code",
   "execution_count": 10,
   "metadata": {},
   "outputs": [],
   "source": [
    "# your answer here\n",
    "## no. dimensions do not match."
   ]
  },
  {
   "cell_type": "markdown",
   "metadata": {},
   "source": [
    "#### 9. Transpose *b* so that it has the same structure of *a* (i.e. become a 2x3x5 array). Assign the transposed array to variable *c*."
   ]
  },
  {
   "cell_type": "code",
   "execution_count": 11,
   "metadata": {},
   "outputs": [
    {
     "data": {
      "text/plain": [
       "array([[[1., 1., 1., 1., 1.],\n",
       "        [1., 1., 1., 1., 1.],\n",
       "        [1., 1., 1., 1., 1.]],\n",
       "\n",
       "       [[1., 1., 1., 1., 1.],\n",
       "        [1., 1., 1., 1., 1.],\n",
       "        [1., 1., 1., 1., 1.]]])"
      ]
     },
     "execution_count": 11,
     "metadata": {},
     "output_type": "execute_result"
    }
   ],
   "source": [
    "# your code here\n",
    "\n",
    "c = c = np.transpose(b,(1,2,0))\n",
    "c\n",
    "\n",
    "##"
   ]
  },
  {
   "cell_type": "markdown",
   "metadata": {},
   "source": [
    "#### 10. Try to add *a* and *c*. Now it should work. Assign the sum to variable *d*. But why does it work now?"
   ]
  },
  {
   "cell_type": "code",
   "execution_count": 12,
   "metadata": {},
   "outputs": [
    {
     "name": "stdout",
     "output_type": "stream",
     "text": [
      "[[[1.61086963 1.27249244 1.80600615 1.07776749 1.75003667]\n",
      "  [1.11853574 1.04931671 1.21767054 1.8534878  1.60301604]\n",
      "  [1.81816447 1.36119878 1.29975267 1.4639934  1.14968665]]\n",
      "\n",
      " [[1.40737586 1.66657601 1.07916598 1.66821946 1.43561112]\n",
      "  [1.08261639 1.40270723 1.15505378 1.22778385 1.92597566]\n",
      "  [1.77179485 1.81301781 1.23146531 1.93270307 1.77590387]]]\n"
     ]
    }
   ],
   "source": [
    "# your code/answer here\n",
    "\n",
    "d = c + a\n",
    "\n",
    "print(d)"
   ]
  },
  {
   "cell_type": "markdown",
   "metadata": {},
   "source": [
    "#### 11. Print *a* and *d*. Notice the difference and relation of the two array in terms of the values? Explain."
   ]
  },
  {
   "cell_type": "code",
   "execution_count": 13,
   "metadata": {},
   "outputs": [
    {
     "name": "stdout",
     "output_type": "stream",
     "text": [
      "[[[0.61086963 0.27249244 0.80600615 0.07776749 0.75003667]\n",
      "  [0.11853574 0.04931671 0.21767054 0.8534878  0.60301604]\n",
      "  [0.81816447 0.36119878 0.29975267 0.4639934  0.14968665]]\n",
      "\n",
      " [[0.40737586 0.66657601 0.07916598 0.66821946 0.43561112]\n",
      "  [0.08261639 0.40270723 0.15505378 0.22778385 0.92597566]\n",
      "  [0.77179485 0.81301781 0.23146531 0.93270307 0.77590387]]]\n",
      "[[[1.61086963 1.27249244 1.80600615 1.07776749 1.75003667]\n",
      "  [1.11853574 1.04931671 1.21767054 1.8534878  1.60301604]\n",
      "  [1.81816447 1.36119878 1.29975267 1.4639934  1.14968665]]\n",
      "\n",
      " [[1.40737586 1.66657601 1.07916598 1.66821946 1.43561112]\n",
      "  [1.08261639 1.40270723 1.15505378 1.22778385 1.92597566]\n",
      "  [1.77179485 1.81301781 1.23146531 1.93270307 1.77590387]]]\n"
     ]
    }
   ],
   "source": [
    "# your code/answer here\n",
    "print(a)\n",
    "print(d)\n",
    "## yes, d is just a with 1 added to the value of each element.\n",
    "## so i can say d is an uniform distribution between 1 and 2"
   ]
  },
  {
   "cell_type": "markdown",
   "metadata": {},
   "source": [
    "#### 12. Multiply *a* and *c*. Assign the result to *e*."
   ]
  },
  {
   "cell_type": "code",
   "execution_count": 14,
   "metadata": {},
   "outputs": [
    {
     "name": "stdout",
     "output_type": "stream",
     "text": [
      "[[[0.61086963 0.27249244 0.80600615 0.07776749 0.75003667]\n",
      "  [0.11853574 0.04931671 0.21767054 0.8534878  0.60301604]\n",
      "  [0.81816447 0.36119878 0.29975267 0.4639934  0.14968665]]\n",
      "\n",
      " [[0.40737586 0.66657601 0.07916598 0.66821946 0.43561112]\n",
      "  [0.08261639 0.40270723 0.15505378 0.22778385 0.92597566]\n",
      "  [0.77179485 0.81301781 0.23146531 0.93270307 0.77590387]]]\n"
     ]
    }
   ],
   "source": [
    "# your code here\n",
    "\n",
    "e = a*c\n",
    "\n",
    "print(e)"
   ]
  },
  {
   "cell_type": "markdown",
   "metadata": {},
   "source": [
    "#### 13. Does *e* equal to *a*? Why or why not?\n"
   ]
  },
  {
   "cell_type": "code",
   "execution_count": 15,
   "metadata": {},
   "outputs": [
    {
     "data": {
      "text/plain": [
       "array([[[ True,  True,  True,  True,  True],\n",
       "        [ True,  True,  True,  True,  True],\n",
       "        [ True,  True,  True,  True,  True]],\n",
       "\n",
       "       [[ True,  True,  True,  True,  True],\n",
       "        [ True,  True,  True,  True,  True],\n",
       "        [ True,  True,  True,  True,  True]]])"
      ]
     },
     "execution_count": 15,
     "metadata": {},
     "output_type": "execute_result"
    }
   ],
   "source": [
    "# your code/answer here\n",
    "a == e\n",
    "## evidently, because we are using multiplication identity on every element. it's the same as adding 0"
   ]
  },
  {
   "cell_type": "markdown",
   "metadata": {},
   "source": [
    "#### 14. Identify the max, min, and mean values in *d*. Assign those values to variables *d_max*, *d_min* and *d_mean*."
   ]
  },
  {
   "cell_type": "code",
   "execution_count": 16,
   "metadata": {},
   "outputs": [
    {
     "name": "stdout",
     "output_type": "stream",
     "text": [
      "1.9327030673850096 1.0493167115416022 1.4675988474651982\n"
     ]
    }
   ],
   "source": [
    "# your code here\n",
    "d_max = np.max(d)\n",
    "d_min = np.min(d) \n",
    "d_mean = np.mean(d)\n",
    "print(d_max, d_min, d_mean)"
   ]
  },
  {
   "cell_type": "markdown",
   "metadata": {},
   "source": [
    "#### 15. Now we want to label the values in *d*. First create an empty array *f* with the same shape (i.e. 2x3x5) as *d* using `np.empty`.\n"
   ]
  },
  {
   "cell_type": "code",
   "execution_count": 17,
   "metadata": {},
   "outputs": [
    {
     "data": {
      "text/plain": [
       "array([[[0., 0., 0., 0., 0.],\n",
       "        [0., 0., 0., 0., 0.],\n",
       "        [0., 0., 0., 0., 0.]],\n",
       "\n",
       "       [[0., 0., 0., 0., 0.],\n",
       "        [0., 0., 0., 0., 0.],\n",
       "        [0., 0., 0., 0., 0.]]])"
      ]
     },
     "execution_count": 17,
     "metadata": {},
     "output_type": "execute_result"
    }
   ],
   "source": [
    "# your code here\n",
    "\n",
    "f = np.zeros((2,3,5))\n",
    "f"
   ]
  },
  {
   "cell_type": "markdown",
   "metadata": {},
   "source": [
    "#### 16. Populate the values in *f*. \n",
    "\n",
    "For each value in *d*, if it's larger than *d_min* but smaller than *d_mean*, assign 25 to the corresponding value in *f*. If a value in *d* is larger than *d_mean* but smaller than *d_max*, assign 75 to the corresponding value in *f*. If a value equals to *d_mean*, assign 50 to the corresponding value in *f*. Assign 0 to the corresponding value(s) in *f* for *d_min* in *d*. Assign 100 to the corresponding value(s) in *f* for *d_max* in *d*. In the end, f should have only the following values: 0, 25, 50, 75, and 100.\n",
    "\n",
    "**Note**: you don't have to use Numpy in this question."
   ]
  },
  {
   "cell_type": "code",
   "execution_count": 35,
   "metadata": {},
   "outputs": [
    {
     "name": "stdout",
     "output_type": "stream",
     "text": [
      "[[[ 75.  25.  75.  25.  75.]\n",
      "  [ 25.   0.  25.  75.  75.]\n",
      "  [ 75.  25.  25.  25.  25.]]\n",
      "\n",
      " [[ 25.  75.  25.  75.  25.]\n",
      "  [ 25.  25.  25.  25.  75.]\n",
      "  [ 75.  75.  25. 100.  75.]]]\n"
     ]
    }
   ],
   "source": [
    "# your code here\n",
    "f = d\n",
    "\n",
    "f = np.where(d < d_mean, 25, f)\n",
    "f = np.where(d > d_mean, 75, f)\n",
    "f = np.where(d == d_min, 0, f)\n",
    "f = np.where(d == d_max, 100, f)\n",
    "f = np.where(d == d_mean, 50, f)\n",
    "# f = np.where(0 < f < d_mean, 25, f)\n",
    "\n",
    "\n",
    "# np.where(f == d_min, 50, f)\n",
    "# np.where(f == d_mean, 50, f)\n",
    "# np.where(f > d_mean, 50, f)\n",
    "\n",
    "print(f)"
   ]
  },
  {
   "cell_type": "markdown",
   "metadata": {},
   "source": [
    "#### 17. Print *d* and *f*. Do you have your expected *f*?\n",
    "For instance, if your *d* is:\n",
    "```python\n",
    "[[[1.85836099, 1.67064465, 1.62576044, 1.40243961, 1.88454931],\n",
    "[1.75354326, 1.69403643, 1.36729252, 1.61415071, 1.12104981],\n",
    "[1.72201435, 1.1862918 , 1.87078449, 1.7726778 , 1.88180042]],\n",
    "[[1.44747908, 1.31673383, 1.02000951, 1.52218947, 1.97066381],\n",
    "[1.79129243, 1.74983003, 1.96028037, 1.85166831, 1.65450881],\n",
    "[1.18068344, 1.9587381 , 1.00656599, 1.93402165, 1.73514584]]]\n",
    "```\n",
    "Your *f* should be:\n",
    "```python\n",
    "[[[ 75.,  75.,  75.,  25.,  75.],\n",
    "[ 75.,  75.,  25.,  25.,  25.],\n",
    "[ 75.,  25.,  75.,  75.,  75.]],\n",
    "[[ 25.,  25.,  25.,  25., 100.],\n",
    "[ 75.,  75.,  75.,  75.,  75.],\n",
    "[ 25.,  75.,   0.,  75.,  75.]]]\n",
    "```"
   ]
  },
  {
   "cell_type": "code",
   "execution_count": 45,
   "metadata": {},
   "outputs": [
    {
     "name": "stdout",
     "output_type": "stream",
     "text": [
      "[[[1.61086963 1.27249244 1.80600615 1.07776749 1.75003667]\n",
      "  [1.11853574 1.04931671 1.21767054 1.8534878  1.60301604]\n",
      "  [1.81816447 1.36119878 1.29975267 1.4639934  1.14968665]]\n",
      "\n",
      " [[1.40737586 1.66657601 1.07916598 1.66821946 1.43561112]\n",
      "  [1.08261639 1.40270723 1.15505378 1.22778385 1.92597566]\n",
      "  [1.77179485 1.81301781 1.23146531 1.93270307 1.77590387]]] \n",
      "\n",
      " [[['D' 'B' 'D' 'B' 'D']\n",
      "  ['B' 'A' 'B' 'D' 'D']\n",
      "  ['D' 'B' 'B' 'B' 'B']]\n",
      "\n",
      " [['B' 'D' 'B' 'D' 'B']\n",
      "  ['B' 'B' 'B' 'B' 'D']\n",
      "  ['D' 'D' 'B' 'E' 'D']]] \n",
      "\n",
      " 1.0493167115416022 1.4675988474651982 1.9327030673850096\n"
     ]
    }
   ],
   "source": [
    "# your code here\n",
    "\n",
    "print(d, \"\\n\\n\", f, \"\\n\\n\", d_min, d_mean, d_max)\n",
    "\n",
    "##yes"
   ]
  },
  {
   "cell_type": "markdown",
   "metadata": {},
   "source": [
    "#### 18. Bonus question: instead of using numbers (i.e. 0, 25, 50, 75, and 100), use string values  (\"A\", \"B\", \"C\", \"D\", and \"E\") to label the array elements. For the example above, the expected result is:\n",
    "\n",
    "```python\n",
    "[[[ 'D',  'D',  'D',  'B',  'D'],\n",
    "[ 'D',  'D',  'B',  'B',  'B'],\n",
    "[ 'D',  'B',  'D',  'D',  'D']],\n",
    "[[ 'B',  'B',  'B',  'B',  'E'],\n",
    "[ 'D',  'D',  'D',  'D',  'D'],\n",
    "[ 'B',  'D',   'A',  'D', 'D']]]\n",
    "```\n",
    "**Note**: you don't have to use Numpy in this question."
   ]
  },
  {
   "cell_type": "code",
   "execution_count": 46,
   "metadata": {},
   "outputs": [
    {
     "name": "stdout",
     "output_type": "stream",
     "text": [
      "[[['D' 'B' 'D' 'B' 'D']\n",
      "  ['B' 'A' 'B' 'D' 'D']\n",
      "  ['D' 'B' 'B' 'B' 'B']]\n",
      "\n",
      " [['B' 'D' 'B' 'D' 'B']\n",
      "  ['B' 'B' 'B' 'B' 'D']\n",
      "  ['D' 'D' 'B' 'E' 'D']]]\n"
     ]
    }
   ],
   "source": [
    "# your code here\n",
    "\n",
    "f = np.where(d < d_mean, \"B\", f)\n",
    "f = np.where(d > d_mean, \"D\", f)\n",
    "f = np.where(d == d_min, \"A\", f)\n",
    "f = np.where(d == d_max, \"E\", f)\n",
    "f = np.where(d == d_mean, \"C\", f)\n",
    "\n",
    "print(f)"
   ]
  }
 ],
 "metadata": {
  "kernelspec": {
   "display_name": "Python 3",
   "language": "python",
   "name": "python3"
  },
  "language_info": {
   "codemirror_mode": {
    "name": "ipython",
    "version": 3
   },
   "file_extension": ".py",
   "mimetype": "text/x-python",
   "name": "python",
   "nbconvert_exporter": "python",
   "pygments_lexer": "ipython3",
   "version": "3.8.1"
  }
 },
 "nbformat": 4,
 "nbformat_minor": 2
}
