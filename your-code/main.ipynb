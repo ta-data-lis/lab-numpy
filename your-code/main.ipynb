{
 "cells": [
  {
   "cell_type": "markdown",
   "metadata": {},
   "source": [
    "# Intrduction to NumPy\n",
    "\n",
    "\n",
    "#### 1. Import NumPy under the name np."
   ]
  },
  {
   "cell_type": "code",
   "execution_count": 1,
   "metadata": {},
   "outputs": [],
   "source": [
    "# your code here\n",
    "\n",
    "import numpy as np"
   ]
  },
  {
   "cell_type": "markdown",
   "metadata": {},
   "source": [
    "#### 2. Print your NumPy version."
   ]
  },
  {
   "cell_type": "code",
   "execution_count": 2,
   "metadata": {},
   "outputs": [
    {
     "name": "stdout",
     "output_type": "stream",
     "text": [
      "1.22.1\n"
     ]
    }
   ],
   "source": [
    "# your code here\n",
    "\n",
    "print(np.__version__)"
   ]
  },
  {
   "cell_type": "markdown",
   "metadata": {},
   "source": [
    "#### 3. Generate a 2x3x5 3-dimensional array with random values. Assign the array to variable *a*.\n",
    "**Challenge**: there are at least three easy ways that use numpy to generate random arrays. How many ways can you find?"
   ]
  },
  {
   "cell_type": "code",
   "execution_count": 3,
   "metadata": {},
   "outputs": [],
   "source": [
    "# Method 1\n",
    "\n",
    "a=np.random.random(size=(2,3,5))"
   ]
  },
  {
   "cell_type": "code",
   "execution_count": 20,
   "metadata": {},
   "outputs": [],
   "source": [
    "# Method 2"
   ]
  },
  {
   "cell_type": "code",
   "execution_count": null,
   "metadata": {},
   "outputs": [],
   "source": [
    "# Method 3"
   ]
  },
  {
   "cell_type": "markdown",
   "metadata": {},
   "source": [
    "#### 4. Print *a*.\n"
   ]
  },
  {
   "cell_type": "code",
   "execution_count": 4,
   "metadata": {},
   "outputs": [
    {
     "name": "stdout",
     "output_type": "stream",
     "text": [
      "[[[0.25945837 0.40460239 0.12128721 0.2810712  0.28739955]\n",
      "  [0.41370115 0.60746653 0.76558108 0.87806809 0.27977697]\n",
      "  [0.02302042 0.26971514 0.49114352 0.51101896 0.59987445]]\n",
      "\n",
      " [[0.24181165 0.31349191 0.72005727 0.50557798 0.90010245]\n",
      "  [0.85008852 0.2883589  0.99847719 0.45305741 0.66047039]\n",
      "  [0.73599741 0.85065936 0.27513305 0.05797807 0.8089227 ]]]\n"
     ]
    }
   ],
   "source": [
    "# your code here\n",
    "\n",
    "print(a)"
   ]
  },
  {
   "cell_type": "markdown",
   "metadata": {},
   "source": [
    "#### 5. Create a 5x2x3 3-dimensional array with all values equaling 1. Assign the array to variable *b*."
   ]
  },
  {
   "cell_type": "code",
   "execution_count": 5,
   "metadata": {},
   "outputs": [],
   "source": [
    "# your code here\n",
    "\n",
    "b=np.ones(shape=(5,2,3), dtype=int)"
   ]
  },
  {
   "cell_type": "markdown",
   "metadata": {},
   "source": [
    "#### 6. Print *b*.\n"
   ]
  },
  {
   "cell_type": "code",
   "execution_count": 6,
   "metadata": {},
   "outputs": [
    {
     "name": "stdout",
     "output_type": "stream",
     "text": [
      "[[[1 1 1]\n",
      "  [1 1 1]]\n",
      "\n",
      " [[1 1 1]\n",
      "  [1 1 1]]\n",
      "\n",
      " [[1 1 1]\n",
      "  [1 1 1]]\n",
      "\n",
      " [[1 1 1]\n",
      "  [1 1 1]]\n",
      "\n",
      " [[1 1 1]\n",
      "  [1 1 1]]]\n"
     ]
    }
   ],
   "source": [
    "# your code here\n",
    "print(b)"
   ]
  },
  {
   "cell_type": "markdown",
   "metadata": {},
   "source": [
    "#### 7. Do *a* and *b* have the same size? How do you prove that in Python code?"
   ]
  },
  {
   "cell_type": "code",
   "execution_count": 7,
   "metadata": {},
   "outputs": [
    {
     "data": {
      "text/plain": [
       "False"
      ]
     },
     "execution_count": 7,
     "metadata": {},
     "output_type": "execute_result"
    }
   ],
   "source": [
    "# your code here\n",
    "\n",
    "a.shape==b.shape"
   ]
  },
  {
   "cell_type": "markdown",
   "metadata": {},
   "source": [
    "#### 8. Are you able to add *a* and *b*? Why or why not?\n"
   ]
  },
  {
   "cell_type": "code",
   "execution_count": null,
   "metadata": {},
   "outputs": [],
   "source": [
    "# your answer here\n",
    "\n",
    "#No because they have different shapes"
   ]
  },
  {
   "cell_type": "markdown",
   "metadata": {},
   "source": [
    "#### 9. Transpose *b* so that it has the same structure of *a* (i.e. become a 2x3x5 array). Assign the transposed array to variable *c*."
   ]
  },
  {
   "cell_type": "code",
   "execution_count": 17,
   "metadata": {},
   "outputs": [],
   "source": [
    "# your code here\n",
    "\n",
    "c=np.transpose(b, (1,2,0))\n",
    "                "
   ]
  },
  {
   "cell_type": "markdown",
   "metadata": {},
   "source": [
    "#### 10. Try to add *a* and *c*. Now it should work. Assign the sum to variable *d*. But why does it work now?"
   ]
  },
  {
   "cell_type": "code",
   "execution_count": 19,
   "metadata": {},
   "outputs": [
    {
     "name": "stdout",
     "output_type": "stream",
     "text": [
      "[[[1.25945837 1.40460239 1.12128721 1.2810712  1.28739955]\n",
      "  [1.41370115 1.60746653 1.76558108 1.87806809 1.27977697]\n",
      "  [1.02302042 1.26971514 1.49114352 1.51101896 1.59987445]]\n",
      "\n",
      " [[1.24181165 1.31349191 1.72005727 1.50557798 1.90010245]\n",
      "  [1.85008852 1.2883589  1.99847719 1.45305741 1.66047039]\n",
      "  [1.73599741 1.85065936 1.27513305 1.05797807 1.8089227 ]]]\n"
     ]
    }
   ],
   "source": [
    "# your code/answer here\n",
    "\n",
    "d=a+c\n",
    "\n",
    "print(d)\n",
    "\n",
    "#Now it works because the arrays have the same shape/structure"
   ]
  },
  {
   "cell_type": "markdown",
   "metadata": {},
   "source": [
    "#### 11. Print *a* and *d*. Notice the difference and relation of the two array in terms of the values? Explain."
   ]
  },
  {
   "cell_type": "code",
   "execution_count": 20,
   "metadata": {},
   "outputs": [
    {
     "name": "stdout",
     "output_type": "stream",
     "text": [
      "[[[0.25945837 0.40460239 0.12128721 0.2810712  0.28739955]\n",
      "  [0.41370115 0.60746653 0.76558108 0.87806809 0.27977697]\n",
      "  [0.02302042 0.26971514 0.49114352 0.51101896 0.59987445]]\n",
      "\n",
      " [[0.24181165 0.31349191 0.72005727 0.50557798 0.90010245]\n",
      "  [0.85008852 0.2883589  0.99847719 0.45305741 0.66047039]\n",
      "  [0.73599741 0.85065936 0.27513305 0.05797807 0.8089227 ]]]\n",
      "[[[1.25945837 1.40460239 1.12128721 1.2810712  1.28739955]\n",
      "  [1.41370115 1.60746653 1.76558108 1.87806809 1.27977697]\n",
      "  [1.02302042 1.26971514 1.49114352 1.51101896 1.59987445]]\n",
      "\n",
      " [[1.24181165 1.31349191 1.72005727 1.50557798 1.90010245]\n",
      "  [1.85008852 1.2883589  1.99847719 1.45305741 1.66047039]\n",
      "  [1.73599741 1.85065936 1.27513305 1.05797807 1.8089227 ]]]\n"
     ]
    }
   ],
   "source": [
    "# your code/answer here\n",
    "\n",
    "print(a)\n",
    "\n",
    "print(d)\n",
    "\n",
    "#The vaues of the d matrix are the values of the a matrix plus 1"
   ]
  },
  {
   "cell_type": "markdown",
   "metadata": {},
   "source": [
    "#### 12. Multiply *a* and *c*. Assign the result to *e*."
   ]
  },
  {
   "cell_type": "code",
   "execution_count": 23,
   "metadata": {},
   "outputs": [
    {
     "name": "stdout",
     "output_type": "stream",
     "text": [
      "[[[0.25945837 0.40460239 0.12128721 0.2810712  0.28739955]\n",
      "  [0.41370115 0.60746653 0.76558108 0.87806809 0.27977697]\n",
      "  [0.02302042 0.26971514 0.49114352 0.51101896 0.59987445]]\n",
      "\n",
      " [[0.24181165 0.31349191 0.72005727 0.50557798 0.90010245]\n",
      "  [0.85008852 0.2883589  0.99847719 0.45305741 0.66047039]\n",
      "  [0.73599741 0.85065936 0.27513305 0.05797807 0.8089227 ]]]\n"
     ]
    }
   ],
   "source": [
    "# your code here\n",
    "\n",
    "e=a*c\n",
    "\n",
    "print(e)"
   ]
  },
  {
   "cell_type": "markdown",
   "metadata": {},
   "source": [
    "#### 13. Does *e* equal to *a*? Why or why not?\n"
   ]
  },
  {
   "cell_type": "code",
   "execution_count": 24,
   "metadata": {},
   "outputs": [
    {
     "data": {
      "text/plain": [
       "array([[[ True,  True,  True,  True,  True],\n",
       "        [ True,  True,  True,  True,  True],\n",
       "        [ True,  True,  True,  True,  True]],\n",
       "\n",
       "       [[ True,  True,  True,  True,  True],\n",
       "        [ True,  True,  True,  True,  True],\n",
       "        [ True,  True,  True,  True,  True]]])"
      ]
     },
     "execution_count": 24,
     "metadata": {},
     "output_type": "execute_result"
    }
   ],
   "source": [
    "# your code/answer here\n",
    "\n",
    "a==e\n",
    "\n",
    "#They are equal since 'e' is 'a' multiplied by a matrix of ones"
   ]
  },
  {
   "cell_type": "markdown",
   "metadata": {},
   "source": [
    "#### 14. Identify the max, min, and mean values in *d*. Assign those values to variables *d_max*, *d_min* and *d_mean*."
   ]
  },
  {
   "cell_type": "code",
   "execution_count": 25,
   "metadata": {},
   "outputs": [],
   "source": [
    "# your code here\n",
    "\n",
    "d_max=d.max()\n",
    "\n",
    "d_min=d.min()\n",
    "\n",
    "d_mean=d.mean()"
   ]
  },
  {
   "cell_type": "markdown",
   "metadata": {},
   "source": [
    "#### 15. Now we want to label the values in *d*. First create an empty array *f* with the same shape (i.e. 2x3x5) as *d* using `np.empty`.\n"
   ]
  },
  {
   "cell_type": "code",
   "execution_count": 26,
   "metadata": {},
   "outputs": [],
   "source": [
    "# your code here\n",
    "\n",
    "f=np.empty((2,3,5), dtype=int)"
   ]
  },
  {
   "cell_type": "markdown",
   "metadata": {},
   "source": [
    "#### 16. Populate the values in *f*. \n",
    "\n",
    "For each value in *d*, if it's larger than *d_min* but smaller than *d_mean*, assign 25 to the corresponding value in *f*. If a value in *d* is larger than *d_mean* but smaller than *d_max*, assign 75 to the corresponding value in *f*. If a value equals to *d_mean*, assign 50 to the corresponding value in *f*. Assign 0 to the corresponding value(s) in *f* for *d_min* in *d*. Assign 100 to the corresponding value(s) in *f* for *d_max* in *d*. In the end, f should have only the following values: 0, 25, 50, 75, and 100.\n",
    "\n",
    "**Note**: you don't have to use Numpy in this question."
   ]
  },
  {
   "cell_type": "code",
   "execution_count": 27,
   "metadata": {},
   "outputs": [
    {
     "name": "stdout",
     "output_type": "stream",
     "text": [
      "[[[ 25  25  25  25  25]\n",
      "  [ 25  75  75  75  25]\n",
      "  [  0  25  25  75  75]]\n",
      "\n",
      " [[ 25  25  75  75  75]\n",
      "  [ 75  25 100  25  75]\n",
      "  [ 75  75  25  25  75]]]\n"
     ]
    }
   ],
   "source": [
    "# your code here\n",
    "\n",
    "for i in range(len(d)):\n",
    "    for j in range(len(d[i])):\n",
    "        for k in range(len(d[i,j])): \n",
    "            if d_min<d[i,j,k]<d_mean:\n",
    "                f[i,j,k]=25\n",
    "            elif d_mean<d[i,j,k]<d_max:\n",
    "                f[i,j,k]=75\n",
    "            elif d[i,j,k]==d_mean:\n",
    "                f[i,j,k]=50\n",
    "            elif d[i,j,k]==d_min:\n",
    "                f[i,j,k]=0\n",
    "            elif d[i,j,k]==d_max:\n",
    "                f[i,j,k]=100\n",
    "            \n",
    "print(f)"
   ]
  },
  {
   "cell_type": "markdown",
   "metadata": {},
   "source": [
    "#### 17. Print *d* and *f*. Do you have your expected *f*?\n",
    "For instance, if your *d* is:\n",
    "```python\n",
    "[[[1.85836099, 1.67064465, 1.62576044, 1.40243961, 1.88454931],\n",
    "[1.75354326, 1.69403643, 1.36729252, 1.61415071, 1.12104981],\n",
    "[1.72201435, 1.1862918 , 1.87078449, 1.7726778 , 1.88180042]],\n",
    "[[1.44747908, 1.31673383, 1.02000951, 1.52218947, 1.97066381],\n",
    "[1.79129243, 1.74983003, 1.96028037, 1.85166831, 1.65450881],\n",
    "[1.18068344, 1.9587381 , 1.00656599, 1.93402165, 1.73514584]]]\n",
    "```\n",
    "Your *f* should be:\n",
    "```python\n",
    "[[[ 75.,  75.,  75.,  25.,  75.],\n",
    "[ 75.,  75.,  25.,  25.,  25.],\n",
    "[ 75.,  25.,  75.,  75.,  75.]],\n",
    "[[ 25.,  25.,  25.,  25., 100.],\n",
    "[ 75.,  75.,  75.,  75.,  75.],\n",
    "[ 25.,  75.,   0.,  75.,  75.]]]\n",
    "```"
   ]
  },
  {
   "cell_type": "code",
   "execution_count": 28,
   "metadata": {},
   "outputs": [
    {
     "name": "stdout",
     "output_type": "stream",
     "text": [
      "[[[1.25945837 1.40460239 1.12128721 1.2810712  1.28739955]\n",
      "  [1.41370115 1.60746653 1.76558108 1.87806809 1.27977697]\n",
      "  [1.02302042 1.26971514 1.49114352 1.51101896 1.59987445]]\n",
      "\n",
      " [[1.24181165 1.31349191 1.72005727 1.50557798 1.90010245]\n",
      "  [1.85008852 1.2883589  1.99847719 1.45305741 1.66047039]\n",
      "  [1.73599741 1.85065936 1.27513305 1.05797807 1.8089227 ]]]\n",
      "[[[ 25  25  25  25  25]\n",
      "  [ 25  75  75  75  25]\n",
      "  [  0  25  25  75  75]]\n",
      "\n",
      " [[ 25  25  75  75  75]\n",
      "  [ 75  25 100  25  75]\n",
      "  [ 75  75  25  25  75]]]\n"
     ]
    }
   ],
   "source": [
    "# your code here\n",
    "\n",
    "print(d)\n",
    "print(f)"
   ]
  },
  {
   "cell_type": "markdown",
   "metadata": {},
   "source": [
    "#### 18. Bonus question: instead of using numbers (i.e. 0, 25, 50, 75, and 100), use string values  (\"A\", \"B\", \"C\", \"D\", and \"E\") to label the array elements. For the example above, the expected result is:\n",
    "\n",
    "```python\n",
    "[[[ 'D',  'D',  'D',  'B',  'D'],\n",
    "[ 'D',  'D',  'B',  'B',  'B'],\n",
    "[ 'D',  'B',  'D',  'D',  'D']],\n",
    "[[ 'B',  'B',  'B',  'B',  'E'],\n",
    "[ 'D',  'D',  'D',  'D',  'D'],\n",
    "[ 'B',  'D',   'A',  'D', 'D']]]\n",
    "```\n",
    "**Note**: you don't have to use Numpy in this question."
   ]
  },
  {
   "cell_type": "code",
   "execution_count": 29,
   "metadata": {},
   "outputs": [
    {
     "name": "stdout",
     "output_type": "stream",
     "text": [
      "[[['B' 'B' 'B' 'B' 'B']\n",
      "  ['B' 'D' 'D' 'D' 'B']\n",
      "  ['A' 'B' 'B' 'D' 'D']]\n",
      "\n",
      " [['B' 'B' 'D' 'D' 'D']\n",
      "  ['D' 'B' 'E' 'B' 'D']\n",
      "  ['D' 'D' 'B' 'B' 'D']]]\n"
     ]
    }
   ],
   "source": [
    "# your code here\n",
    "\n",
    "f=np.empty((2,3,5), dtype=str)\n",
    "\n",
    "for i in range(len(d)):\n",
    "    for j in range(len(d[i])):\n",
    "        for k in range(len(d[i,j])): \n",
    "            if d_min<d[i,j,k]<d_mean:\n",
    "                f[i,j,k]='B'\n",
    "            elif d_mean<d[i,j,k]<d_max:\n",
    "                f[i,j,k]='D'\n",
    "            elif d[i,j,k]==d_mean:\n",
    "                f[i,j,k]='C'\n",
    "            elif d[i,j,k]==d_min:\n",
    "                f[i,j,k]='A'\n",
    "            elif d[i,j,k]==d_max:\n",
    "                f[i,j,k]='E'\n",
    "            \n",
    "print(f)"
   ]
  }
 ],
 "metadata": {
  "kernelspec": {
   "display_name": "Python 3 (ipykernel)",
   "language": "python",
   "name": "python3"
  },
  "language_info": {
   "codemirror_mode": {
    "name": "ipython",
    "version": 3
   },
   "file_extension": ".py",
   "mimetype": "text/x-python",
   "name": "python",
   "nbconvert_exporter": "python",
   "pygments_lexer": "ipython3",
   "version": "3.9.7"
  }
 },
 "nbformat": 4,
 "nbformat_minor": 2
}
