{
 "cells": [
  {
   "cell_type": "markdown",
   "metadata": {},
   "source": [
    "# Introduction to NumPy\n",
    "\n",
    "\n",
    "#### 1. Import NumPy under the name np."
   ]
  },
  {
   "cell_type": "code",
   "execution_count": 1,
   "metadata": {},
   "outputs": [],
   "source": [
    "# your code here\n",
    "import numpy as np"
   ]
  },
  {
   "cell_type": "markdown",
   "metadata": {},
   "source": [
    "#### 2. Print your NumPy version."
   ]
  },
  {
   "cell_type": "code",
   "execution_count": 2,
   "metadata": {},
   "outputs": [
    {
     "name": "stdout",
     "output_type": "stream",
     "text": [
      "1.17.2\n"
     ]
    }
   ],
   "source": [
    "# your code here\n",
    "print(np.__version__)"
   ]
  },
  {
   "cell_type": "markdown",
   "metadata": {},
   "source": [
    "#### 3. Generate a 2x3x5 3-dimensional array with random values. Assign the array to variable *a*.\n",
    "**Challenge**: there are at least three easy ways that use numpy to generate random arrays. How many ways can you find?"
   ]
  },
  {
   "cell_type": "code",
   "execution_count": 3,
   "metadata": {},
   "outputs": [
    {
     "data": {
      "text/plain": [
       "array([[[0.22488954, 0.27520517, 0.3800705 , 0.840079  , 0.60953995],\n",
       "        [0.35409395, 0.44434122, 0.54234801, 0.41266563, 0.44931683],\n",
       "        [0.72322262, 0.53672047, 0.58174597, 0.08300996, 0.4681634 ]],\n",
       "\n",
       "       [[0.32592794, 0.36161454, 0.75087165, 0.82108347, 0.2923642 ],\n",
       "        [0.50786092, 0.02457398, 0.02282437, 0.88207954, 0.30474049],\n",
       "        [0.82281123, 0.11893279, 0.44741443, 0.45863714, 0.45558088]]])"
      ]
     },
     "execution_count": 3,
     "metadata": {},
     "output_type": "execute_result"
    }
   ],
   "source": [
    "# Method 1\n",
    "a = np.random.random((2,3,5))\n",
    "a"
   ]
  },
  {
   "cell_type": "code",
   "execution_count": 23,
   "metadata": {},
   "outputs": [
    {
     "data": {
      "text/plain": [
       "array([[[0.64372012, 0.27711405, 0.9458925 , 0.21884288, 0.74085799],\n",
       "        [0.64578472, 0.41697138, 0.69378829, 0.7145878 , 0.61600993],\n",
       "        [0.01635281, 0.94679162, 0.1625695 , 0.37912513, 0.88571873]],\n",
       "\n",
       "       [[0.25452179, 0.84721543, 0.34196343, 0.54072369, 0.16542487],\n",
       "        [0.48352368, 0.18945721, 0.81970219, 0.07365815, 0.9355492 ],\n",
       "        [0.77707689, 0.76777819, 0.65525539, 0.00600283, 0.67812575]]])"
      ]
     },
     "execution_count": 23,
     "metadata": {},
     "output_type": "execute_result"
    }
   ],
   "source": [
    "# Method 2\n",
    "a = np.random.rand(2,3,5)\n",
    "a"
   ]
  },
  {
   "cell_type": "code",
   "execution_count": 24,
   "metadata": {},
   "outputs": [
    {
     "data": {
      "text/plain": [
       "array([[[ 2, 31, 99, 28, 23],\n",
       "        [68, 50, 56, 28, 59],\n",
       "        [70, 52, 12, 52, 41]],\n",
       "\n",
       "       [[32, 10, 56,  6, 68],\n",
       "        [20, 38,  3, 31, 45],\n",
       "        [48, 41, 93, 31, 68]]])"
      ]
     },
     "execution_count": 24,
     "metadata": {},
     "output_type": "execute_result"
    }
   ],
   "source": [
    "# Method 3\n",
    "a = np.random.randint(1,100, size=(2,3,5))\n",
    "a"
   ]
  },
  {
   "cell_type": "markdown",
   "metadata": {},
   "source": [
    "#### 4. Print *a*.\n"
   ]
  },
  {
   "cell_type": "code",
   "execution_count": 25,
   "metadata": {},
   "outputs": [
    {
     "name": "stdout",
     "output_type": "stream",
     "text": [
      "[[[ 2 31 99 28 23]\n",
      "  [68 50 56 28 59]\n",
      "  [70 52 12 52 41]]\n",
      "\n",
      " [[32 10 56  6 68]\n",
      "  [20 38  3 31 45]\n",
      "  [48 41 93 31 68]]]\n"
     ]
    }
   ],
   "source": [
    "# your code here\n",
    "print(a)"
   ]
  },
  {
   "cell_type": "markdown",
   "metadata": {},
   "source": [
    "#### 5. Create a 5x2x3 3-dimensional array with all values equaling 1. Assign the array to variable *b*."
   ]
  },
  {
   "cell_type": "code",
   "execution_count": 26,
   "metadata": {},
   "outputs": [],
   "source": [
    "# your code here\n",
    "b = np.ones((5,2,3))"
   ]
  },
  {
   "cell_type": "markdown",
   "metadata": {},
   "source": [
    "#### 6. Print *b*.\n"
   ]
  },
  {
   "cell_type": "code",
   "execution_count": 27,
   "metadata": {},
   "outputs": [
    {
     "name": "stdout",
     "output_type": "stream",
     "text": [
      "[[[1. 1. 1.]\n",
      "  [1. 1. 1.]]\n",
      "\n",
      " [[1. 1. 1.]\n",
      "  [1. 1. 1.]]\n",
      "\n",
      " [[1. 1. 1.]\n",
      "  [1. 1. 1.]]\n",
      "\n",
      " [[1. 1. 1.]\n",
      "  [1. 1. 1.]]\n",
      "\n",
      " [[1. 1. 1.]\n",
      "  [1. 1. 1.]]]\n"
     ]
    }
   ],
   "source": [
    "# your code here\n",
    "print(b)"
   ]
  },
  {
   "cell_type": "markdown",
   "metadata": {},
   "source": [
    "#### 7. Do *a* and *b* have the same size? How do you prove that in Python code?"
   ]
  },
  {
   "cell_type": "code",
   "execution_count": 28,
   "metadata": {},
   "outputs": [
    {
     "name": "stdout",
     "output_type": "stream",
     "text": [
      "Is the size of and b the same? That information is True.\n"
     ]
    }
   ],
   "source": [
    "# your code here\n",
    "a = np.array(a)\n",
    "b = np.array(b)\n",
    "ab_size = bool(a.size == b.size)\n",
    "\n",
    "print(f\"Is the size of and b the same? That information is {ab_size}.\")"
   ]
  },
  {
   "cell_type": "markdown",
   "metadata": {},
   "source": [
    "#### 8. Are you able to add *a* and *b*? Why or why not?\n"
   ]
  },
  {
   "cell_type": "markdown",
   "metadata": {},
   "source": [
    "Not as they are, since they have different shapes.\n"
   ]
  },
  {
   "cell_type": "markdown",
   "metadata": {},
   "source": [
    "#### 9. Transpose *b* so that it has the same structure of *a* (i.e. become a 2x3x5 array). Assign the transposed array to variable *c*."
   ]
  },
  {
   "cell_type": "code",
   "execution_count": 29,
   "metadata": {},
   "outputs": [
    {
     "data": {
      "text/plain": [
       "array([[[1., 1., 1., 1., 1.],\n",
       "        [1., 1., 1., 1., 1.],\n",
       "        [1., 1., 1., 1., 1.]],\n",
       "\n",
       "       [[1., 1., 1., 1., 1.],\n",
       "        [1., 1., 1., 1., 1.],\n",
       "        [1., 1., 1., 1., 1.]]])"
      ]
     },
     "execution_count": 29,
     "metadata": {},
     "output_type": "execute_result"
    }
   ],
   "source": [
    "# your code here\n",
    "c = np.transpose(b,(1,2,0))\n",
    "c"
   ]
  },
  {
   "cell_type": "markdown",
   "metadata": {},
   "source": [
    "#### 10. Try to add *a* and *c*. Now it should work. Assign the sum to variable *d*. But why does it work now?"
   ]
  },
  {
   "cell_type": "code",
   "execution_count": 30,
   "metadata": {},
   "outputs": [
    {
     "data": {
      "text/plain": [
       "array([[[  3.,  32., 100.,  29.,  24.],\n",
       "        [ 69.,  51.,  57.,  29.,  60.],\n",
       "        [ 71.,  53.,  13.,  53.,  42.]],\n",
       "\n",
       "       [[ 33.,  11.,  57.,   7.,  69.],\n",
       "        [ 21.,  39.,   4.,  32.,  46.],\n",
       "        [ 49.,  42.,  94.,  32.,  69.]]])"
      ]
     },
     "execution_count": 30,
     "metadata": {},
     "output_type": "execute_result"
    }
   ],
   "source": [
    "# your code/answer here\n",
    "d = np.add(a,c)\n",
    "d"
   ]
  },
  {
   "cell_type": "markdown",
   "metadata": {},
   "source": [
    "#### 11. Print *a* and *d*. Notice the difference and relation of the two array in terms of the values? Explain."
   ]
  },
  {
   "cell_type": "code",
   "execution_count": 33,
   "metadata": {},
   "outputs": [
    {
     "name": "stdout",
     "output_type": "stream",
     "text": [
      "[[[ 2 31 99 28 23]\n",
      "  [68 50 56 28 59]\n",
      "  [70 52 12 52 41]]\n",
      "\n",
      " [[32 10 56  6 68]\n",
      "  [20 38  3 31 45]\n",
      "  [48 41 93 31 68]]]\n",
      "[[[  3.  32. 100.  29.  24.]\n",
      "  [ 69.  51.  57.  29.  60.]\n",
      "  [ 71.  53.  13.  53.  42.]]\n",
      "\n",
      " [[ 33.  11.  57.   7.  69.]\n",
      "  [ 21.  39.   4.  32.  46.]\n",
      "  [ 49.  42.  94.  32.  69.]]]\n"
     ]
    }
   ],
   "source": [
    "# your code/answer here\n",
    "print(a)\n",
    "print(d)\n",
    "\n",
    "# the .add function added each values of one matrix to the other one"
   ]
  },
  {
   "cell_type": "markdown",
   "metadata": {},
   "source": [
    "#### 12. Multiply *a* and *c*. Assign the result to *e*."
   ]
  },
  {
   "cell_type": "code",
   "execution_count": 34,
   "metadata": {},
   "outputs": [
    {
     "data": {
      "text/plain": [
       "array([[[ 2., 31., 99., 28., 23.],\n",
       "        [68., 50., 56., 28., 59.],\n",
       "        [70., 52., 12., 52., 41.]],\n",
       "\n",
       "       [[32., 10., 56.,  6., 68.],\n",
       "        [20., 38.,  3., 31., 45.],\n",
       "        [48., 41., 93., 31., 68.]]])"
      ]
     },
     "execution_count": 34,
     "metadata": {},
     "output_type": "execute_result"
    }
   ],
   "source": [
    "# your code here\n",
    "e = np.multiply(a, c)\n",
    "e"
   ]
  },
  {
   "cell_type": "markdown",
   "metadata": {},
   "source": [
    "#### 13. Does *e* equal to *a*? Why or why not?\n"
   ]
  },
  {
   "cell_type": "code",
   "execution_count": 37,
   "metadata": {},
   "outputs": [
    {
     "name": "stdout",
     "output_type": "stream",
     "text": [
      "Are a and e? That information is True.\n"
     ]
    }
   ],
   "source": [
    "# your code/answer here\n",
    "\n",
    "ae_equal = np.array_equal (a, e)\n",
    "\n",
    "# yes, because we were multiplying everything by one\n",
    "print(f\"Are a and e? That information is {ae_equal}.\")\n"
   ]
  },
  {
   "cell_type": "markdown",
   "metadata": {},
   "source": [
    "#### 14. Identify the max, min, and mean values in *d*. Assign those values to variables *d_max*, *d_min* and *d_mean*."
   ]
  },
  {
   "cell_type": "code",
   "execution_count": 81,
   "metadata": {},
   "outputs": [
    {
     "name": "stdout",
     "output_type": "stream",
     "text": [
      "100.0 3.0 43.03333333333333\n"
     ]
    }
   ],
   "source": [
    "# your code here\n",
    "\n",
    "d_max = np.amax(d)\n",
    "d_min = np.amin(d)\n",
    "d_mean = np.mean(d)\n",
    "\n",
    "print(d_max, d_min, d_mean)"
   ]
  },
  {
   "cell_type": "markdown",
   "metadata": {},
   "source": [
    "#### 15. Now we want to label the values in *d*. First create an empty array *f* with the same shape (i.e. 2x3x5) as *d* using `np.empty`.\n"
   ]
  },
  {
   "cell_type": "code",
   "execution_count": 82,
   "metadata": {},
   "outputs": [],
   "source": [
    "# your code here\n",
    "\n",
    "f = np.empty([2,3,5])"
   ]
  },
  {
   "cell_type": "markdown",
   "metadata": {},
   "source": [
    "#### 16. Populate the values in *f*. \n",
    "\n",
    "For each value in *d*, if it's larger than *d_min* but smaller than *d_mean*, assign 25 to the corresponding value in *f*. If a value in *d* is larger than *d_mean* but smaller than *d_max*, assign 75 to the corresponding value in *f*. If a value equals to *d_mean*, assign 50 to the corresponding value in *f*. Assign 0 to the corresponding value(s) in *f* for *d_min* in *d*. Assign 100 to the corresponding value(s) in *f* for *d_max* in *d*. In the end, f should have only the following values: 0, 25, 50, 75, and 100.\n",
    "\n",
    "**Note**: you don't have to use Numpy in this question."
   ]
  },
  {
   "cell_type": "code",
   "execution_count": 90,
   "metadata": {},
   "outputs": [],
   "source": [
    "# your code here\n",
    "\n",
    "d = np.ndarray.flatten(d)\n",
    "f = np.ndarray.flatten(f)\n",
    "\n",
    "for i, x in enumerate(d):\n",
    "    if x > d_min and x < d_mean:\n",
    "        f[i] = 25\n",
    "    if x > d_mean and x < d_max:\n",
    "        f[i] = 75\n",
    "    if x == d_mean:\n",
    "        f[i] = 50\n",
    "    if x == d_min:\n",
    "        f[i] = 0\n",
    "    if x == d_max:\n",
    "        f[i] = 100\n",
    "            \n",
    "d = d.reshape(2,3,5)\n",
    "f = f.reshape(2,3,5)"
   ]
  },
  {
   "cell_type": "markdown",
   "metadata": {},
   "source": [
    "#### 17. Print *d* and *f*. Do you have your expected *f*?\n",
    "For instance, if your *d* is:\n",
    "```python\n",
    "[[[1.85836099, 1.67064465, 1.62576044, 1.40243961, 1.88454931],\n",
    "[1.75354326, 1.69403643, 1.36729252, 1.61415071, 1.12104981],\n",
    "[1.72201435, 1.1862918 , 1.87078449, 1.7726778 , 1.88180042]],\n",
    "[[1.44747908, 1.31673383, 1.02000951, 1.52218947, 1.97066381],\n",
    "[1.79129243, 1.74983003, 1.96028037, 1.85166831, 1.65450881],\n",
    "[1.18068344, 1.9587381 , 1.00656599, 1.93402165, 1.73514584]]]\n",
    "```\n",
    "Your *f* should be:\n",
    "```python\n",
    "[[[ 75.,  75.,  75.,  25.,  75.],\n",
    "[ 75.,  75.,  25.,  25.,  25.],\n",
    "[ 75.,  25.,  75.,  75.,  75.]],\n",
    "[[ 25.,  25.,  25.,  25., 100.],\n",
    "[ 75.,  75.,  75.,  75.,  75.],\n",
    "[ 25.,  75.,   0.,  75.,  75.]]]\n",
    "```"
   ]
  },
  {
   "cell_type": "code",
   "execution_count": 91,
   "metadata": {},
   "outputs": [
    {
     "name": "stdout",
     "output_type": "stream",
     "text": [
      "[[[  3.  32. 100.  29.  24.]\n",
      "  [ 69.  51.  57.  29.  60.]\n",
      "  [ 71.  53.  13.  53.  42.]]\n",
      "\n",
      " [[ 33.  11.  57.   7.  69.]\n",
      "  [ 21.  39.   4.  32.  46.]\n",
      "  [ 49.  42.  94.  32.  69.]]]\n",
      "[[[  0.  25. 100.  25.  25.]\n",
      "  [ 75.  75.  75.  25.  75.]\n",
      "  [ 75.  75.  25.  75.  25.]]\n",
      "\n",
      " [[ 25.  25.  75.  25.  75.]\n",
      "  [ 25.  25.  25.  25.  75.]\n",
      "  [ 75.  25.  75.  25.  75.]]]\n"
     ]
    }
   ],
   "source": [
    "# your code here\n",
    "print(d)\n",
    "print(f)"
   ]
  },
  {
   "cell_type": "markdown",
   "metadata": {},
   "source": [
    "#### 18. Bonus question: instead of using numbers (i.e. 0, 25, 50, 75, and 100), use string values  (\"A\", \"B\", \"C\", \"D\", and \"E\") to label the array elements. For the example above, the expected result is:\n",
    "\n",
    "```python\n",
    "[[[ 'D',  'D',  'D',  'B',  'D'],\n",
    "[ 'D',  'D',  'B',  'B',  'B'],\n",
    "[ 'D',  'B',  'D',  'D',  'D']],\n",
    "[[ 'B',  'B',  'B',  'B',  'E'],\n",
    "[ 'D',  'D',  'D',  'D',  'D'],\n",
    "[ 'B',  'D',   'A',  'D', 'D']]]\n",
    "```\n",
    "**Note**: you don't have to use Numpy in this question."
   ]
  },
  {
   "cell_type": "code",
   "execution_count": 97,
   "metadata": {},
   "outputs": [
    {
     "data": {
      "text/plain": [
       "array([[['A', 'B', 'E', 'B', 'B'],\n",
       "        ['D', 'D', 'D', 'B', 'D'],\n",
       "        ['D', 'D', 'B', 'D', 'B']],\n",
       "\n",
       "       [['B', 'B', 'D', 'B', 'D'],\n",
       "        ['B', 'B', 'B', 'B', 'D'],\n",
       "        ['D', 'B', 'D', 'B', 'D']]], dtype='<U1')"
      ]
     },
     "execution_count": 97,
     "metadata": {},
     "output_type": "execute_result"
    }
   ],
   "source": [
    "# your code here\n",
    "\n",
    "f = np.ndarray.flatten(f)\n",
    "new_f = []\n",
    "\n",
    "for x in f:\n",
    "    if x == 25:\n",
    "        new_f.append(\"B\")\n",
    "    if x == 75:\n",
    "        new_f.append(\"D\")\n",
    "    if x == 50:\n",
    "        new_f.append(\"C\")\n",
    "    if x == 0:\n",
    "        new_f.append(\"A\")\n",
    "    if x == 100:\n",
    "        new_f.append(\"E\")\n",
    "\n",
    "new_f = np.asarray(new_f)        \n",
    "new_f = new_f.reshape(2,3,5)\n",
    "new_f"
   ]
  }
 ],
 "metadata": {
  "kernelspec": {
   "display_name": "Python 3",
   "language": "python",
   "name": "python3"
  },
  "language_info": {
   "codemirror_mode": {
    "name": "ipython",
    "version": 3
   },
   "file_extension": ".py",
   "mimetype": "text/x-python",
   "name": "python",
   "nbconvert_exporter": "python",
   "pygments_lexer": "ipython3",
   "version": "3.7.4"
  }
 },
 "nbformat": 4,
 "nbformat_minor": 2
}
