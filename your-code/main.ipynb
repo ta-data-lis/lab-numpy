{
 "cells": [
  {
   "cell_type": "markdown",
   "metadata": {},
   "source": [
    "# Intrduction to NumPy\n",
    "\n",
    "\n",
    "#### 1. Import NumPy under the name np."
   ]
  },
  {
   "cell_type": "code",
   "execution_count": 2,
   "metadata": {},
   "outputs": [],
   "source": [
    "import numpy as np"
   ]
  },
  {
   "cell_type": "markdown",
   "metadata": {},
   "source": [
    "#### 2. Print your NumPy version."
   ]
  },
  {
   "cell_type": "code",
   "execution_count": 3,
   "metadata": {},
   "outputs": [
    {
     "name": "stdout",
     "output_type": "stream",
     "text": [
      "1.21.5\n"
     ]
    }
   ],
   "source": [
    "# your code here\n",
    "print(np.__version__)"
   ]
  },
  {
   "cell_type": "markdown",
   "metadata": {},
   "source": [
    "#### 3. Generate a 2x3x5 3-dimensional array with random values. Assign the array to variable *a*.\n",
    "**Challenge**: there are at least three easy ways that use numpy to generate random arrays. How many ways can you find?"
   ]
  },
  {
   "cell_type": "code",
   "execution_count": 16,
   "metadata": {},
   "outputs": [
    {
     "data": {
      "text/plain": [
       "array([[[0.96881227, 0.06016052, 0.26759621, 0.28355687, 0.4507519 ],\n",
       "        [0.25693934, 0.41231298, 0.60250247, 0.47060494, 0.30482515],\n",
       "        [0.07830898, 0.5700477 , 0.40427318, 0.94153008, 0.93954432]],\n",
       "\n",
       "       [[0.97575154, 0.10227755, 0.3257704 , 0.91062939, 0.49662268],\n",
       "        [0.22001142, 0.80869521, 0.83740595, 0.63127145, 0.05766389],\n",
       "        [0.83299504, 0.05845878, 0.08581865, 0.368717  , 0.95264678]]])"
      ]
     },
     "execution_count": 16,
     "metadata": {},
     "output_type": "execute_result"
    }
   ],
   "source": [
    "a=np.random.random((2,3,5))\n",
    "a"
   ]
  },
  {
   "cell_type": "code",
   "execution_count": 17,
   "metadata": {},
   "outputs": [
    {
     "data": {
      "text/plain": [
       "array([[[0.92068654, 0.43079997, 0.32932657, 0.31582423, 0.85125125],\n",
       "        [0.25692332, 0.32522498, 0.42901798, 0.39736523, 0.75127485],\n",
       "        [0.11979122, 0.45008064, 0.45931856, 0.41801972, 0.88101788]],\n",
       "\n",
       "       [[0.69719929, 0.06920114, 0.34742023, 0.33152093, 0.99809335],\n",
       "        [0.47099167, 0.54715114, 0.42512594, 0.10057153, 0.8678816 ],\n",
       "        [0.5012752 , 0.93740914, 0.46619138, 0.69017922, 0.60014649]]])"
      ]
     },
     "execution_count": 17,
     "metadata": {},
     "output_type": "execute_result"
    }
   ],
   "source": [
    "a = np.random.rand(2, 3, 5)\n",
    "a"
   ]
  },
  {
   "cell_type": "code",
   "execution_count": 18,
   "metadata": {},
   "outputs": [
    {
     "data": {
      "text/plain": [
       "array([[[0.49045168, 0.52661492, 0.19157676, 0.15995021, 0.6499651 ],\n",
       "        [0.98028578, 0.61605114, 0.65571319, 0.92224772, 0.40507601],\n",
       "        [0.79134972, 0.96853535, 0.07217886, 0.63143297, 0.80706936]],\n",
       "\n",
       "       [[0.2207653 , 0.85498994, 0.76804519, 0.10552899, 0.95400725],\n",
       "        [0.23216503, 0.82324473, 0.38848851, 0.88400883, 0.53002719],\n",
       "        [0.66639163, 0.65837778, 0.62914288, 0.1365919 , 0.60187818]]])"
      ]
     },
     "execution_count": 18,
     "metadata": {},
     "output_type": "execute_result"
    }
   ],
   "source": [
    "# Method 3\n",
    "a = np.random.sample((2, 3, 5))\n",
    "a"
   ]
  },
  {
   "cell_type": "markdown",
   "metadata": {},
   "source": [
    "#### 4. Print *a*.\n"
   ]
  },
  {
   "cell_type": "code",
   "execution_count": 19,
   "metadata": {},
   "outputs": [
    {
     "name": "stdout",
     "output_type": "stream",
     "text": [
      "[[[0.49045168 0.52661492 0.19157676 0.15995021 0.6499651 ]\n",
      "  [0.98028578 0.61605114 0.65571319 0.92224772 0.40507601]\n",
      "  [0.79134972 0.96853535 0.07217886 0.63143297 0.80706936]]\n",
      "\n",
      " [[0.2207653  0.85498994 0.76804519 0.10552899 0.95400725]\n",
      "  [0.23216503 0.82324473 0.38848851 0.88400883 0.53002719]\n",
      "  [0.66639163 0.65837778 0.62914288 0.1365919  0.60187818]]]\n"
     ]
    }
   ],
   "source": [
    "# your code here\n",
    "print(a)"
   ]
  },
  {
   "cell_type": "markdown",
   "metadata": {},
   "source": [
    "#### 5. Create a 5x2x3 3-dimensional array with all values equaling 1. Assign the array to variable *b*."
   ]
  },
  {
   "cell_type": "code",
   "execution_count": 20,
   "metadata": {},
   "outputs": [],
   "source": [
    "# your code here\n",
    "b = np.ones((5, 2, 3))"
   ]
  },
  {
   "cell_type": "markdown",
   "metadata": {},
   "source": [
    "#### 6. Print *b*.\n"
   ]
  },
  {
   "cell_type": "code",
   "execution_count": 21,
   "metadata": {},
   "outputs": [
    {
     "name": "stdout",
     "output_type": "stream",
     "text": [
      "[[[1. 1. 1.]\n",
      "  [1. 1. 1.]]\n",
      "\n",
      " [[1. 1. 1.]\n",
      "  [1. 1. 1.]]\n",
      "\n",
      " [[1. 1. 1.]\n",
      "  [1. 1. 1.]]\n",
      "\n",
      " [[1. 1. 1.]\n",
      "  [1. 1. 1.]]\n",
      "\n",
      " [[1. 1. 1.]\n",
      "  [1. 1. 1.]]]\n"
     ]
    }
   ],
   "source": [
    "# your code here\n",
    "print(b)"
   ]
  },
  {
   "cell_type": "markdown",
   "metadata": {},
   "source": [
    "#### 7. Do *a* and *b* have the same size? How do you prove that in Python code?"
   ]
  },
  {
   "cell_type": "code",
   "execution_count": 22,
   "metadata": {},
   "outputs": [
    {
     "name": "stdout",
     "output_type": "stream",
     "text": [
      "They have the same size!\n"
     ]
    }
   ],
   "source": [
    "# your code here\n",
    "if a.size == b.size:\n",
    "    print(\"They have the same size!\")\n",
    "else:\n",
    "    print(\"They don't have the same size.\")"
   ]
  },
  {
   "cell_type": "markdown",
   "metadata": {},
   "source": [
    "#### 8. Are you able to add *a* and *b*? Why or why not?\n"
   ]
  },
  {
   "cell_type": "code",
   "execution_count": 23,
   "metadata": {},
   "outputs": [
    {
     "ename": "ValueError",
     "evalue": "operands could not be broadcast together with shapes (2,3,5) (5,2,3) ",
     "output_type": "error",
     "traceback": [
      "\u001b[1;31m---------------------------------------------------------------------------\u001b[0m",
      "\u001b[1;31mValueError\u001b[0m                                Traceback (most recent call last)",
      "Input \u001b[1;32mIn [23]\u001b[0m, in \u001b[0;36m<cell line: 3>\u001b[1;34m()\u001b[0m\n\u001b[0;32m      1\u001b[0m \u001b[38;5;66;03m# your answer here\u001b[39;00m\n\u001b[0;32m      2\u001b[0m \u001b[38;5;66;03m# No, because even they have the same size, they have a different shape\u001b[39;00m\n\u001b[1;32m----> 3\u001b[0m c\u001b[38;5;241m=\u001b[39m\u001b[43ma\u001b[49m\u001b[38;5;241;43m+\u001b[39;49m\u001b[43mb\u001b[49m\n",
      "\u001b[1;31mValueError\u001b[0m: operands could not be broadcast together with shapes (2,3,5) (5,2,3) "
     ]
    }
   ],
   "source": [
    "# your answer here\n",
    "# No, because even they have the same size, they have a different shape\n",
    "c=a+b"
   ]
  },
  {
   "cell_type": "markdown",
   "metadata": {},
   "source": [
    "#### 9. Transpose *b* so that it has the same structure of *a* (i.e. become a 2x3x5 array). Assign the transposed array to variable *c*."
   ]
  },
  {
   "cell_type": "code",
   "execution_count": 24,
   "metadata": {},
   "outputs": [
    {
     "data": {
      "text/plain": [
       "(2, 3, 5)"
      ]
     },
     "execution_count": 24,
     "metadata": {},
     "output_type": "execute_result"
    }
   ],
   "source": [
    "# your code here\n",
    "c = np.transpose(b, axes=(1, 2, 0))\n",
    "c.shape"
   ]
  },
  {
   "cell_type": "markdown",
   "metadata": {},
   "source": [
    "#### 10. Try to add *a* and *c*. Now it should work. Assign the sum to variable *d*. But why does it work now?"
   ]
  },
  {
   "cell_type": "code",
   "execution_count": 26,
   "metadata": {},
   "outputs": [
    {
     "data": {
      "text/plain": [
       "array([[[1.49045168, 1.52661492, 1.19157676, 1.15995021, 1.6499651 ],\n",
       "        [1.98028578, 1.61605114, 1.65571319, 1.92224772, 1.40507601],\n",
       "        [1.79134972, 1.96853535, 1.07217886, 1.63143297, 1.80706936]],\n",
       "\n",
       "       [[1.2207653 , 1.85498994, 1.76804519, 1.10552899, 1.95400725],\n",
       "        [1.23216503, 1.82324473, 1.38848851, 1.88400883, 1.53002719],\n",
       "        [1.66639163, 1.65837778, 1.62914288, 1.1365919 , 1.60187818]]])"
      ]
     },
     "execution_count": 26,
     "metadata": {},
     "output_type": "execute_result"
    }
   ],
   "source": [
    "# your code/answer here\n",
    "d=a+c\n",
    "d"
   ]
  },
  {
   "cell_type": "markdown",
   "metadata": {},
   "source": [
    "#### 11. Print *a* and *d*. Notice the difference and relation of the two array in terms of the values? Explain."
   ]
  },
  {
   "cell_type": "code",
   "execution_count": 28,
   "metadata": {},
   "outputs": [
    {
     "name": "stdout",
     "output_type": "stream",
     "text": [
      "[[[0.49045168 0.52661492 0.19157676 0.15995021 0.6499651 ]\n",
      "  [0.98028578 0.61605114 0.65571319 0.92224772 0.40507601]\n",
      "  [0.79134972 0.96853535 0.07217886 0.63143297 0.80706936]]\n",
      "\n",
      " [[0.2207653  0.85498994 0.76804519 0.10552899 0.95400725]\n",
      "  [0.23216503 0.82324473 0.38848851 0.88400883 0.53002719]\n",
      "  [0.66639163 0.65837778 0.62914288 0.1365919  0.60187818]]]\n",
      "[[[1.49045168 1.52661492 1.19157676 1.15995021 1.6499651 ]\n",
      "  [1.98028578 1.61605114 1.65571319 1.92224772 1.40507601]\n",
      "  [1.79134972 1.96853535 1.07217886 1.63143297 1.80706936]]\n",
      "\n",
      " [[1.2207653  1.85498994 1.76804519 1.10552899 1.95400725]\n",
      "  [1.23216503 1.82324473 1.38848851 1.88400883 1.53002719]\n",
      "  [1.66639163 1.65837778 1.62914288 1.1365919  1.60187818]]]\n"
     ]
    }
   ],
   "source": [
    "# your code/answer here\n",
    "print(a)\n",
    "print(d)\n",
    "# d is equal to a + 1"
   ]
  },
  {
   "cell_type": "markdown",
   "metadata": {},
   "source": [
    "#### 12. Multiply *a* and *c*. Assign the result to *e*."
   ]
  },
  {
   "cell_type": "code",
   "execution_count": 30,
   "metadata": {},
   "outputs": [
    {
     "name": "stdout",
     "output_type": "stream",
     "text": [
      "[[[0.49045168 0.52661492 0.19157676 0.15995021 0.6499651 ]\n",
      "  [0.98028578 0.61605114 0.65571319 0.92224772 0.40507601]\n",
      "  [0.79134972 0.96853535 0.07217886 0.63143297 0.80706936]]\n",
      "\n",
      " [[0.2207653  0.85498994 0.76804519 0.10552899 0.95400725]\n",
      "  [0.23216503 0.82324473 0.38848851 0.88400883 0.53002719]\n",
      "  [0.66639163 0.65837778 0.62914288 0.1365919  0.60187818]]]\n"
     ]
    }
   ],
   "source": [
    "# your code here\n",
    "e=a*c\n",
    "print(e)"
   ]
  },
  {
   "cell_type": "markdown",
   "metadata": {},
   "source": [
    "#### 13. Does *e* equal to *a*? Why or why not?\n"
   ]
  },
  {
   "cell_type": "code",
   "execution_count": 31,
   "metadata": {},
   "outputs": [
    {
     "data": {
      "text/plain": [
       "array([[[ True,  True,  True,  True,  True],\n",
       "        [ True,  True,  True,  True,  True],\n",
       "        [ True,  True,  True,  True,  True]],\n",
       "\n",
       "       [[ True,  True,  True,  True,  True],\n",
       "        [ True,  True,  True,  True,  True],\n",
       "        [ True,  True,  True,  True,  True]]])"
      ]
     },
     "execution_count": 31,
     "metadata": {},
     "output_type": "execute_result"
    }
   ],
   "source": [
    "# your code/answer here\n",
    "e==a\n",
    "#because c is just a transpose of a array with values of 1, and multiply by 1 doesnt change the value"
   ]
  },
  {
   "cell_type": "markdown",
   "metadata": {},
   "source": [
    "#### 14. Identify the max, min, and mean values in *d*. Assign those values to variables *d_max*, *d_min* and *d_mean*."
   ]
  },
  {
   "cell_type": "code",
   "execution_count": 32,
   "metadata": {},
   "outputs": [
    {
     "name": "stdout",
     "output_type": "stream",
     "text": [
      "1.9802857772756273\n",
      "1.0721788609926723\n",
      "1.5774050698340716\n"
     ]
    }
   ],
   "source": [
    "# your code here\n",
    "d_max = d.max()\n",
    "d_min = d.min()\n",
    "d_mean = d.mean()\n",
    "\n",
    "print(d_max)\n",
    "print(d_min)\n",
    "print(d_mean)"
   ]
  },
  {
   "cell_type": "markdown",
   "metadata": {},
   "source": [
    "#### 15. Now we want to label the values in *d*. First create an empty array *f* with the same shape (i.e. 2x3x5) as *d* using `np.empty`.\n"
   ]
  },
  {
   "cell_type": "code",
   "execution_count": 33,
   "metadata": {},
   "outputs": [],
   "source": [
    "# your code here\n",
    "f = np.empty([2, 3, 5])"
   ]
  },
  {
   "cell_type": "markdown",
   "metadata": {},
   "source": [
    "#### 16. Populate the values in *f*. \n",
    "\n",
    "For each value in *d*, if it's larger than *d_min* but smaller than *d_mean*, assign 25 to the corresponding value in *f*. If a value in *d* is larger than *d_mean* but smaller than *d_max*, assign 75 to the corresponding value in *f*. If a value equals to *d_mean*, assign 50 to the corresponding value in *f*. Assign 0 to the corresponding value(s) in *f* for *d_min* in *d*. Assign 100 to the corresponding value(s) in *f* for *d_max* in *d*. In the end, f should have only the following values: 0, 25, 50, 75, and 100.\n",
    "\n",
    "**Note**: you don't have to use Numpy in this question."
   ]
  },
  {
   "cell_type": "code",
   "execution_count": 35,
   "metadata": {},
   "outputs": [
    {
     "name": "stdout",
     "output_type": "stream",
     "text": [
      "[[[ 25  25  25  25  75]\n",
      "  [100  75  75  75  25]\n",
      "  [ 75  75   0  75  75]]\n",
      "\n",
      " [[ 25  75  75  25  75]\n",
      "  [ 25  75  25  75  25]\n",
      "  [ 75  75  75  25  75]]]\n",
      "[[[1.49045168 1.52661492 1.19157676 1.15995021 1.6499651 ]\n",
      "  [1.98028578 1.61605114 1.65571319 1.92224772 1.40507601]\n",
      "  [1.79134972 1.96853535 1.07217886 1.63143297 1.80706936]]\n",
      "\n",
      " [[1.2207653  1.85498994 1.76804519 1.10552899 1.95400725]\n",
      "  [1.23216503 1.82324473 1.38848851 1.88400883 1.53002719]\n",
      "  [1.66639163 1.65837778 1.62914288 1.1365919  1.60187818]]]\n"
     ]
    }
   ],
   "source": [
    "# your code here\n",
    "f = []\n",
    "for number in np.nditer(d):\n",
    "    if d_min < number < d_mean:\n",
    "        f = f +[25]\n",
    "    if d_mean < number < d_max:\n",
    "        f = f +[75]\n",
    "    if number == d_mean:\n",
    "        f = f +[50]\n",
    "    if number == d_min:\n",
    "        f = f +[0]\n",
    "    if number == d_max:\n",
    "        f = f +[100]\n",
    "    \n",
    "        \n",
    "f = np.reshape(f, d.shape) "
   ]
  },
  {
   "cell_type": "markdown",
   "metadata": {},
   "source": [
    "#### 17. Print *d* and *f*. Do you have your expected *f*?\n",
    "For instance, if your *d* is:\n",
    "```python\n",
    "[[[1.85836099, 1.67064465, 1.62576044, 1.40243961, 1.88454931],\n",
    "[1.75354326, 1.69403643, 1.36729252, 1.61415071, 1.12104981],\n",
    "[1.72201435, 1.1862918 , 1.87078449, 1.7726778 , 1.88180042]],\n",
    "[[1.44747908, 1.31673383, 1.02000951, 1.52218947, 1.97066381],\n",
    "[1.79129243, 1.74983003, 1.96028037, 1.85166831, 1.65450881],\n",
    "[1.18068344, 1.9587381 , 1.00656599, 1.93402165, 1.73514584]]]\n",
    "```\n",
    "Your *f* should be:\n",
    "```python\n",
    "[[[ 75.,  75.,  75.,  25.,  75.],\n",
    "[ 75.,  75.,  25.,  25.,  25.],\n",
    "[ 75.,  25.,  75.,  75.,  75.]],\n",
    "[[ 25.,  25.,  25.,  25., 100.],\n",
    "[ 75.,  75.,  75.,  75.,  75.],\n",
    "[ 25.,  75.,   0.,  75.,  75.]]]\n",
    "```"
   ]
  },
  {
   "cell_type": "code",
   "execution_count": 37,
   "metadata": {},
   "outputs": [
    {
     "name": "stdout",
     "output_type": "stream",
     "text": [
      "[[[1.49045168 1.52661492 1.19157676 1.15995021 1.6499651 ]\n",
      "  [1.98028578 1.61605114 1.65571319 1.92224772 1.40507601]\n",
      "  [1.79134972 1.96853535 1.07217886 1.63143297 1.80706936]]\n",
      "\n",
      " [[1.2207653  1.85498994 1.76804519 1.10552899 1.95400725]\n",
      "  [1.23216503 1.82324473 1.38848851 1.88400883 1.53002719]\n",
      "  [1.66639163 1.65837778 1.62914288 1.1365919  1.60187818]]]\n",
      "[[[ 25  25  25  25  75]\n",
      "  [100  75  75  75  25]\n",
      "  [ 75  75   0  75  75]]\n",
      "\n",
      " [[ 25  75  75  25  75]\n",
      "  [ 25  75  25  75  25]\n",
      "  [ 75  75  75  25  75]]]\n"
     ]
    }
   ],
   "source": [
    "# your code here\n",
    "print(d)\n",
    "print(f)"
   ]
  },
  {
   "cell_type": "markdown",
   "metadata": {},
   "source": [
    "#### 18. Bonus question: instead of using numbers (i.e. 0, 25, 50, 75, and 100), use string values  (\"A\", \"B\", \"C\", \"D\", and \"E\") to label the array elements. For the example above, the expected result is:\n",
    "\n",
    "```python\n",
    "[[[ 'D',  'D',  'D',  'B',  'D'],\n",
    "[ 'D',  'D',  'B',  'B',  'B'],\n",
    "[ 'D',  'B',  'D',  'D',  'D']],\n",
    "[[ 'B',  'B',  'B',  'B',  'E'],\n",
    "[ 'D',  'D',  'D',  'D',  'D'],\n",
    "[ 'B',  'D',   'A',  'D', 'D']]]\n",
    "```\n",
    "**Note**: you don't have to use Numpy in this question."
   ]
  },
  {
   "cell_type": "code",
   "execution_count": null,
   "metadata": {},
   "outputs": [],
   "source": [
    "# your code here\n",
    "g = []\n",
    "for letter in np.nditer(d):\n",
    "    if d_min < letter < d_mean:\n",
    "        j += ['B']\n",
    "    if d_mean < x < d_max:\n",
    "        j += ['D']\n",
    "    if x == d_mean:\n",
    "        j += ['C']\n",
    "    if x == d_min:\n",
    "        j += ['A']\n",
    "    if x == d_max:\n",
    "        j += ['E']\n",
    "    \n",
    "j = np.reshape(j, d.shape) \n",
    "print(j)"
   ]
  }
 ],
 "metadata": {
  "kernelspec": {
   "display_name": "Python 3 (ipykernel)",
   "language": "python",
   "name": "python3"
  },
  "language_info": {
   "codemirror_mode": {
    "name": "ipython",
    "version": 3
   },
   "file_extension": ".py",
   "mimetype": "text/x-python",
   "name": "python",
   "nbconvert_exporter": "python",
   "pygments_lexer": "ipython3",
   "version": "3.9.12"
  }
 },
 "nbformat": 4,
 "nbformat_minor": 2
}
