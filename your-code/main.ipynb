{
 "cells": [
  {
   "cell_type": "markdown",
   "metadata": {},
   "source": [
    "# Intrduction to NumPy\n",
    "\n",
    "\n",
    "#### 1. Import NumPy under the name np."
   ]
  },
  {
   "cell_type": "code",
   "execution_count": 2,
   "metadata": {},
   "outputs": [],
   "source": [
    "# your code here\n",
    "import numpy as np"
   ]
  },
  {
   "cell_type": "markdown",
   "metadata": {},
   "source": [
    "#### 2. Print your NumPy version."
   ]
  },
  {
   "cell_type": "code",
   "execution_count": 3,
   "metadata": {},
   "outputs": [
    {
     "name": "stdout",
     "output_type": "stream",
     "text": [
      "1.20.1\n"
     ]
    }
   ],
   "source": [
    "# your code here\n",
    "print(np.__version__)"
   ]
  },
  {
   "cell_type": "markdown",
   "metadata": {},
   "source": [
    "#### 3. Generate a 2x3x5 3-dimensional array with random values. Assign the array to variable *a*.\n",
    "**Challenge**: there are at least three easy ways that use numpy to generate random arrays. How many ways can you find?"
   ]
  },
  {
   "cell_type": "code",
   "execution_count": 4,
   "metadata": {},
   "outputs": [
    {
     "data": {
      "text/plain": [
       "array([[[0.51880248, 0.06422391, 0.17803866, 0.49853836, 0.83231322],\n",
       "        [0.59554803, 0.34552515, 0.04538314, 0.92169806, 0.87656234],\n",
       "        [0.62260909, 0.0846587 , 0.6577086 , 0.96511461, 0.2780843 ]],\n",
       "\n",
       "       [[0.13687628, 0.451198  , 0.65366642, 0.97735164, 0.91371213],\n",
       "        [0.72132968, 0.61638732, 0.69533996, 0.45632266, 0.22392013],\n",
       "        [0.0217385 , 0.75482036, 0.22997785, 0.98965945, 0.49823521]]])"
      ]
     },
     "execution_count": 4,
     "metadata": {},
     "output_type": "execute_result"
    }
   ],
   "source": [
    "# Method 1\n",
    "a = np.random.random((2,3,5))\n",
    "a"
   ]
  },
  {
   "cell_type": "code",
   "execution_count": 5,
   "metadata": {},
   "outputs": [
    {
     "data": {
      "text/plain": [
       "array([[[0.29242921, 0.36998357, 0.16993157, 0.88374627, 0.29049383],\n",
       "        [0.10208427, 0.47444865, 0.32570216, 0.54191343, 0.92680673],\n",
       "        [0.82978712, 0.20076068, 0.01141497, 0.61139476, 0.41314209]],\n",
       "\n",
       "       [[0.23952032, 0.50742041, 0.24001296, 0.69721935, 0.10079676],\n",
       "        [0.10887526, 0.50379409, 0.39951339, 0.08340188, 0.95516227],\n",
       "        [0.51808502, 0.42726852, 0.3792554 , 0.40319683, 0.28910488]]])"
      ]
     },
     "execution_count": 5,
     "metadata": {},
     "output_type": "execute_result"
    }
   ],
   "source": [
    "# Method 2\n",
    "a = np.random.sample((2,3,5))\n",
    "a"
   ]
  },
  {
   "cell_type": "code",
   "execution_count": 6,
   "metadata": {},
   "outputs": [
    {
     "data": {
      "text/plain": [
       "array([[[0.20209236, 0.47858196, 0.85090448, 0.98696473, 0.6861098 ],\n",
       "        [0.08797378, 0.51836021, 0.82407351, 0.52705598, 0.4733966 ],\n",
       "        [0.69555128, 0.41537482, 0.21098487, 0.37764275, 0.17138176]],\n",
       "\n",
       "       [[0.86322271, 0.91173869, 0.61070357, 0.17682686, 0.71027826],\n",
       "        [0.19338501, 0.8590601 , 0.44438534, 0.36959941, 0.33780595],\n",
       "        [0.15044503, 0.00533743, 0.85337784, 0.10158207, 0.96054382]]])"
      ]
     },
     "execution_count": 6,
     "metadata": {},
     "output_type": "execute_result"
    }
   ],
   "source": [
    "# Method 3\n",
    "a = np.random.rand(2,3,5)\n",
    "a"
   ]
  },
  {
   "cell_type": "markdown",
   "metadata": {},
   "source": [
    "#### 4. Print *a*.\n"
   ]
  },
  {
   "cell_type": "code",
   "execution_count": 7,
   "metadata": {},
   "outputs": [
    {
     "name": "stdout",
     "output_type": "stream",
     "text": [
      "[[[0.20209236 0.47858196 0.85090448 0.98696473 0.6861098 ]\n",
      "  [0.08797378 0.51836021 0.82407351 0.52705598 0.4733966 ]\n",
      "  [0.69555128 0.41537482 0.21098487 0.37764275 0.17138176]]\n",
      "\n",
      " [[0.86322271 0.91173869 0.61070357 0.17682686 0.71027826]\n",
      "  [0.19338501 0.8590601  0.44438534 0.36959941 0.33780595]\n",
      "  [0.15044503 0.00533743 0.85337784 0.10158207 0.96054382]]]\n"
     ]
    }
   ],
   "source": [
    "# your code here\n",
    "print(a)"
   ]
  },
  {
   "cell_type": "markdown",
   "metadata": {},
   "source": [
    "#### 5. Create a 5x2x3 3-dimensional array with all values equaling 1. Assign the array to variable *b*."
   ]
  },
  {
   "cell_type": "code",
   "execution_count": 8,
   "metadata": {},
   "outputs": [
    {
     "data": {
      "text/plain": [
       "array([[[1., 1., 1.],\n",
       "        [1., 1., 1.]],\n",
       "\n",
       "       [[1., 1., 1.],\n",
       "        [1., 1., 1.]],\n",
       "\n",
       "       [[1., 1., 1.],\n",
       "        [1., 1., 1.]],\n",
       "\n",
       "       [[1., 1., 1.],\n",
       "        [1., 1., 1.]],\n",
       "\n",
       "       [[1., 1., 1.],\n",
       "        [1., 1., 1.]]])"
      ]
     },
     "execution_count": 8,
     "metadata": {},
     "output_type": "execute_result"
    }
   ],
   "source": [
    "# your code here\n",
    "b=np.ones((5,2,3))\n",
    "b"
   ]
  },
  {
   "cell_type": "markdown",
   "metadata": {},
   "source": [
    "#### 6. Print *b*.\n"
   ]
  },
  {
   "cell_type": "code",
   "execution_count": 9,
   "metadata": {},
   "outputs": [
    {
     "name": "stdout",
     "output_type": "stream",
     "text": [
      "[[[1. 1. 1.]\n",
      "  [1. 1. 1.]]\n",
      "\n",
      " [[1. 1. 1.]\n",
      "  [1. 1. 1.]]\n",
      "\n",
      " [[1. 1. 1.]\n",
      "  [1. 1. 1.]]\n",
      "\n",
      " [[1. 1. 1.]\n",
      "  [1. 1. 1.]]\n",
      "\n",
      " [[1. 1. 1.]\n",
      "  [1. 1. 1.]]]\n"
     ]
    }
   ],
   "source": [
    "# your code here\n",
    "print(b)"
   ]
  },
  {
   "cell_type": "markdown",
   "metadata": {},
   "source": [
    "#### 7. Do *a* and *b* have the same size? How do you prove that in Python code?"
   ]
  },
  {
   "cell_type": "code",
   "execution_count": 10,
   "metadata": {},
   "outputs": [
    {
     "name": "stdout",
     "output_type": "stream",
     "text": [
      "They have the same size\n"
     ]
    }
   ],
   "source": [
    "# your code here\n",
    "if a.size == b.size:\n",
    "    print(\"They have the same size\")\n",
    "else:\n",
    "    print(\"They do not have the same size\")"
   ]
  },
  {
   "cell_type": "markdown",
   "metadata": {},
   "source": [
    "#### 8. Are you able to add *a* and *b*? Why or why not?\n"
   ]
  },
  {
   "cell_type": "code",
   "execution_count": 11,
   "metadata": {},
   "outputs": [
    {
     "name": "stdout",
     "output_type": "stream",
     "text": [
      "They do not have the same shape, so we can not add a and b\n"
     ]
    }
   ],
   "source": [
    "# your answer here\n",
    "\n",
    "if a.shape == b.shape:\n",
    "    print(\"They have the same shape, so we can add a and b\")\n",
    "else:\n",
    "    print(\"They do not have the same shape, so we can not add a and b\")"
   ]
  },
  {
   "cell_type": "markdown",
   "metadata": {},
   "source": [
    "#### 9. Transpose *b* so that it has the same structure of *a* (i.e. become a 2x3x5 array). Assign the transposed array to variable *c*."
   ]
  },
  {
   "cell_type": "code",
   "execution_count": 12,
   "metadata": {},
   "outputs": [
    {
     "name": "stdout",
     "output_type": "stream",
     "text": [
      "(2, 3, 5)\n"
     ]
    }
   ],
   "source": [
    "# your code here\n",
    "c = np.transpose(b, axes=(1,2,0))\n",
    "       \n",
    "\n",
    "print(c.shape)"
   ]
  },
  {
   "cell_type": "markdown",
   "metadata": {},
   "source": [
    "#### 10. Try to add *a* and *c*. Now it should work. Assign the sum to variable *d*. But why does it work now?"
   ]
  },
  {
   "cell_type": "code",
   "execution_count": 13,
   "metadata": {},
   "outputs": [
    {
     "name": "stdout",
     "output_type": "stream",
     "text": [
      "It is possible to add a and c because now they have the same shape!\n"
     ]
    }
   ],
   "source": [
    "# your code/answer here\n",
    "d = a + c\n",
    "d\n",
    "print(\"It is possible to add a and c because now they have the same shape!\")"
   ]
  },
  {
   "cell_type": "markdown",
   "metadata": {},
   "source": [
    "#### 11. Print *a* and *d*. Notice the difference and relation of the two array in terms of the values? Explain."
   ]
  },
  {
   "cell_type": "code",
   "execution_count": 14,
   "metadata": {},
   "outputs": [
    {
     "name": "stdout",
     "output_type": "stream",
     "text": [
      "[[[0.20209236 0.47858196 0.85090448 0.98696473 0.6861098 ]\n",
      "  [0.08797378 0.51836021 0.82407351 0.52705598 0.4733966 ]\n",
      "  [0.69555128 0.41537482 0.21098487 0.37764275 0.17138176]]\n",
      "\n",
      " [[0.86322271 0.91173869 0.61070357 0.17682686 0.71027826]\n",
      "  [0.19338501 0.8590601  0.44438534 0.36959941 0.33780595]\n",
      "  [0.15044503 0.00533743 0.85337784 0.10158207 0.96054382]]]\n",
      "\n",
      "\n",
      "[[[1.20209236 1.47858196 1.85090448 1.98696473 1.6861098 ]\n",
      "  [1.08797378 1.51836021 1.82407351 1.52705598 1.4733966 ]\n",
      "  [1.69555128 1.41537482 1.21098487 1.37764275 1.17138176]]\n",
      "\n",
      " [[1.86322271 1.91173869 1.61070357 1.17682686 1.71027826]\n",
      "  [1.19338501 1.8590601  1.44438534 1.36959941 1.33780595]\n",
      "  [1.15044503 1.00533743 1.85337784 1.10158207 1.96054382]]]\n",
      "\n",
      "\n",
      "All the values existing in d seem to be the values in a added 1!\n"
     ]
    }
   ],
   "source": [
    "# your code/answer here\n",
    "print(a)\n",
    "\n",
    "print(\"\\n\")\n",
    "\n",
    "print(d)\n",
    "\n",
    "print(\"\\n\")\n",
    "print(\"All the values existing in d seem to be the values in a added 1!\")"
   ]
  },
  {
   "cell_type": "markdown",
   "metadata": {},
   "source": [
    "#### 12. Multiply *a* and *c*. Assign the result to *e*."
   ]
  },
  {
   "cell_type": "code",
   "execution_count": 15,
   "metadata": {},
   "outputs": [
    {
     "data": {
      "text/plain": [
       "array([[[0.20209236, 0.47858196, 0.85090448, 0.98696473, 0.6861098 ],\n",
       "        [0.08797378, 0.51836021, 0.82407351, 0.52705598, 0.4733966 ],\n",
       "        [0.69555128, 0.41537482, 0.21098487, 0.37764275, 0.17138176]],\n",
       "\n",
       "       [[0.86322271, 0.91173869, 0.61070357, 0.17682686, 0.71027826],\n",
       "        [0.19338501, 0.8590601 , 0.44438534, 0.36959941, 0.33780595],\n",
       "        [0.15044503, 0.00533743, 0.85337784, 0.10158207, 0.96054382]]])"
      ]
     },
     "execution_count": 15,
     "metadata": {},
     "output_type": "execute_result"
    }
   ],
   "source": [
    "# your code here\n",
    "e = a * c\n",
    "e"
   ]
  },
  {
   "cell_type": "markdown",
   "metadata": {},
   "source": [
    "#### 13. Does *e* equal to *a*? Why or why not?\n"
   ]
  },
  {
   "cell_type": "code",
   "execution_count": 16,
   "metadata": {},
   "outputs": [
    {
     "name": "stdout",
     "output_type": "stream",
     "text": [
      "Yes, they're the same!\n",
      "\n",
      "\n",
      "a and e are equal, becase all elements inside c are ones, and if we multiply value by one we will get allways value\n"
     ]
    }
   ],
   "source": [
    "# your code/answer here\n",
    "\n",
    "if np.array_equal(e, a):\n",
    "    print(\"Yes, they're the same!\")\n",
    "else:    \n",
    "    print(\"No, they're are not the same!\")\n",
    "\n",
    "print(\"\\n\")\n",
    "\n",
    "print(\"a and e are equal, becase all elements inside c are ones, and if we multiply value by one we will get allways value\")\n"
   ]
  },
  {
   "cell_type": "markdown",
   "metadata": {},
   "source": [
    "#### 14. Identify the max, min, and mean values in *d*. Assign those values to variables *d_max*, *d_min* and *d_mean*."
   ]
  },
  {
   "cell_type": "code",
   "execution_count": 17,
   "metadata": {},
   "outputs": [
    {
     "name": "stdout",
     "output_type": "stream",
     "text": [
      "1.9869647277116465\n",
      "1.005337433056428\n",
      "1.5018246996028943\n"
     ]
    }
   ],
   "source": [
    "# your code here\n",
    "d_max=d.max()\n",
    "print(d_max)\n",
    "\n",
    "d_min=d.min()\n",
    "print(d_min)\n",
    "\n",
    "d_mean=d.mean()\n",
    "print(d_mean)\n"
   ]
  },
  {
   "cell_type": "markdown",
   "metadata": {},
   "source": [
    "#### 15. Now we want to label the values in *d*. First create an empty array *f* with the same shape (i.e. 2x3x5) as *d* using `np.empty`.\n"
   ]
  },
  {
   "cell_type": "code",
   "execution_count": 29,
   "metadata": {},
   "outputs": [
    {
     "data": {
      "text/plain": [
       "array([[[1.20209236, 1.47858196, 1.85090448, 1.98696473, 1.6861098 ],\n",
       "        [1.08797378, 1.51836021, 1.82407351, 1.52705598, 1.4733966 ],\n",
       "        [1.69555128, 1.41537482, 1.21098487, 1.37764275, 1.17138176]],\n",
       "\n",
       "       [[1.86322271, 1.91173869, 1.61070357, 1.17682686, 1.71027826],\n",
       "        [1.19338501, 1.8590601 , 1.44438534, 1.36959941, 1.33780595],\n",
       "        [1.15044503, 1.00533743, 1.85337784, 1.10158207, 1.96054382]]])"
      ]
     },
     "execution_count": 29,
     "metadata": {},
     "output_type": "execute_result"
    }
   ],
   "source": [
    "# your code here\n",
    "f = np.empty((2, 3, 5))\n",
    "f"
   ]
  },
  {
   "cell_type": "markdown",
   "metadata": {},
   "source": [
    "#### 16. Populate the values in *f*. \n",
    "\n",
    "For each value in *d*, if it's larger than *d_min* but smaller than *d_mean*, assign 25 to the corresponding value in *f*. If a value in *d* is larger than *d_mean* but smaller than *d_max*, assign 75 to the corresponding value in *f*. If a value equals to *d_mean*, assign 50 to the corresponding value in *f*. Assign 0 to the corresponding value(s) in *f* for *d_min* in *d*. Assign 100 to the corresponding value(s) in *f* for *d_max* in *d*. In the end, f should have only the following values: 0, 25, 50, 75, and 100.\n",
    "\n",
    "**Note**: you don't have to use Numpy in this question."
   ]
  },
  {
   "cell_type": "code",
   "execution_count": 30,
   "metadata": {},
   "outputs": [],
   "source": [
    "# your code here\n",
    "\n",
    "for arrays in range(2):\n",
    "    for rows in range(3):\n",
    "        for values in range(5):\n",
    "\n",
    "            if d[arrays,rows,values]>d_min and d[arrays,rows,values]<d_mean:\n",
    "                f[arrays,rows,values]=25\n",
    "            elif d[arrays,rows,values]>d_mean and d[arrays,rows,values]<d_max:\n",
    "                f[arrays,rows,values]=75\n",
    "            elif d[arrays,rows,values]==d_mean:\n",
    "                f[arrays,rows,values]=50\n",
    "            elif d[arrays,rows,values]==d_min:\n",
    "                f[arrays,rows,values]=0\n",
    "            elif d[arrays,rows,values]==d_max:\n",
    "                f[arrays,rows,values]=100\n",
    "\n"
   ]
  },
  {
   "cell_type": "markdown",
   "metadata": {},
   "source": [
    "#### 17. Print *d* and *f*. Do you have your expected *f*?\n",
    "For instance, if your *d* is:\n",
    "```python\n",
    "[[[1.85836099, 1.67064465, 1.62576044, 1.40243961, 1.88454931],\n",
    "[1.75354326, 1.69403643, 1.36729252, 1.61415071, 1.12104981],\n",
    "[1.72201435, 1.1862918 , 1.87078449, 1.7726778 , 1.88180042]],\n",
    "[[1.44747908, 1.31673383, 1.02000951, 1.52218947, 1.97066381],\n",
    "[1.79129243, 1.74983003, 1.96028037, 1.85166831, 1.65450881],\n",
    "[1.18068344, 1.9587381 , 1.00656599, 1.93402165, 1.73514584]]]\n",
    "```\n",
    "Your *f* should be:\n",
    "```python\n",
    "[[[ 75.,  75.,  75.,  25.,  75.],\n",
    "[ 75.,  75.,  25.,  25.,  25.],\n",
    "[ 75.,  25.,  75.,  75.,  75.]],\n",
    "[[ 25.,  25.,  25.,  25., 100.],\n",
    "[ 75.,  75.,  75.,  75.,  75.],\n",
    "[ 25.,  75.,   0.,  75.,  75.]]]\n",
    "```"
   ]
  },
  {
   "cell_type": "code",
   "execution_count": 31,
   "metadata": {},
   "outputs": [
    {
     "name": "stdout",
     "output_type": "stream",
     "text": [
      "[[[1.20209236 1.47858196 1.85090448 1.98696473 1.6861098 ]\n",
      "  [1.08797378 1.51836021 1.82407351 1.52705598 1.4733966 ]\n",
      "  [1.69555128 1.41537482 1.21098487 1.37764275 1.17138176]]\n",
      "\n",
      " [[1.86322271 1.91173869 1.61070357 1.17682686 1.71027826]\n",
      "  [1.19338501 1.8590601  1.44438534 1.36959941 1.33780595]\n",
      "  [1.15044503 1.00533743 1.85337784 1.10158207 1.96054382]]] \n",
      "\n",
      "[[[ 25.  25.  75. 100.  75.]\n",
      "  [ 25.  75.  75.  75.  25.]\n",
      "  [ 75.  25.  25.  25.  25.]]\n",
      "\n",
      " [[ 75.  75.  75.  25.  75.]\n",
      "  [ 25.  75.  25.  25.  25.]\n",
      "  [ 25.   0.  75.  25.  75.]]]\n"
     ]
    }
   ],
   "source": [
    "# your code here\n",
    "\n",
    "print(d,\"\\n\")                \n",
    "print(f)"
   ]
  },
  {
   "cell_type": "markdown",
   "metadata": {},
   "source": [
    "#### 18. Bonus question: instead of using numbers (i.e. 0, 25, 50, 75, and 100), use string values  (\"A\", \"B\", \"C\", \"D\", and \"E\") to label the array elements. For the example above, the expected result is:\n",
    "\n",
    "```python\n",
    "[[[ 'D',  'D',  'D',  'B',  'D'],\n",
    "[ 'D',  'D',  'B',  'B',  'B'],\n",
    "[ 'D',  'B',  'D',  'D',  'D']],\n",
    "[[ 'B',  'B',  'B',  'B',  'E'],\n",
    "[ 'D',  'D',  'D',  'D',  'D'],\n",
    "[ 'B',  'D',   'A',  'D', 'D']]]\n",
    "```\n",
    "**Note**: you don't have to use Numpy in this question."
   ]
  },
  {
   "cell_type": "code",
   "execution_count": 32,
   "metadata": {},
   "outputs": [
    {
     "name": "stdout",
     "output_type": "stream",
     "text": [
      "[[['B' 'B' 'D' 'E' 'D']\n",
      "  ['B' 'D' 'D' 'D' 'B']\n",
      "  ['D' 'B' 'B' 'B' 'B']]\n",
      "\n",
      " [['D' 'D' 'D' 'B' 'D']\n",
      "  ['B' 'D' 'B' 'B' 'B']\n",
      "  ['B' 'A' 'D' 'B' 'D']]]\n"
     ]
    }
   ],
   "source": [
    "# your code here\n",
    "\n",
    "f = np.empty((2, 3, 5), str)\n",
    "\n",
    "for arrays in range(2):\n",
    "    for rows in range(3):\n",
    "        for values in range(5):\n",
    "\n",
    "            if d[arrays,rows,values]>d_min and d[arrays,rows,values]<d_mean:\n",
    "                f[arrays,rows,values]=\"B\"\n",
    "            elif d[arrays,rows,values]>d_mean and d[arrays,rows,values]<d_max:\n",
    "                f[arrays,rows,values]=\"D\"\n",
    "            elif d[arrays,rows,values]==d_mean:\n",
    "                f[arrays,rows,values]=\"C\"\n",
    "            elif d[arrays,rows,values]==d_min:\n",
    "                f[arrays,rows,values]=\"A\"\n",
    "            elif d[arrays,rows,values]==d_max:\n",
    "                f[arrays,rows,values]=\"E\"\n",
    "                \n",
    "print(f)       "
   ]
  },
  {
   "cell_type": "code",
   "execution_count": null,
   "metadata": {},
   "outputs": [],
   "source": []
  }
 ],
 "metadata": {
  "kernelspec": {
   "display_name": "Python 3",
   "language": "python",
   "name": "python3"
  },
  "language_info": {
   "codemirror_mode": {
    "name": "ipython",
    "version": 3
   },
   "file_extension": ".py",
   "mimetype": "text/x-python",
   "name": "python",
   "nbconvert_exporter": "python",
   "pygments_lexer": "ipython3",
   "version": "3.8.8"
  }
 },
 "nbformat": 4,
 "nbformat_minor": 2
}
