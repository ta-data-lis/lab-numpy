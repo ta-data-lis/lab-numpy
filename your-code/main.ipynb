{
 "cells": [
  {
   "cell_type": "markdown",
   "metadata": {},
   "source": [
    "# Intrduction to NumPy\n",
    "\n",
    "\n",
    "#### 1. Import NumPy under the name np."
   ]
  },
  {
   "cell_type": "code",
   "execution_count": 1,
   "metadata": {},
   "outputs": [],
   "source": [
    "# your code here\n",
    "import numpy as np\n",
    "import random"
   ]
  },
  {
   "cell_type": "markdown",
   "metadata": {},
   "source": [
    "#### 2. Print your NumPy version."
   ]
  },
  {
   "cell_type": "code",
   "execution_count": 2,
   "metadata": {},
   "outputs": [
    {
     "data": {
      "text/plain": [
       "'1.20.1'"
      ]
     },
     "execution_count": 2,
     "metadata": {},
     "output_type": "execute_result"
    }
   ],
   "source": [
    "# your code here\n",
    "\n",
    "np.version.version"
   ]
  },
  {
   "cell_type": "markdown",
   "metadata": {},
   "source": [
    "#### 3. Generate a 2x3x5 3-dimensional array with random values. Assign the array to variable *a*.\n",
    "**Challenge**: there are at least three easy ways that use numpy to generate random arrays. How many ways can you find?"
   ]
  },
  {
   "cell_type": "code",
   "execution_count": 3,
   "metadata": {},
   "outputs": [
    {
     "name": "stdout",
     "output_type": "stream",
     "text": [
      "[[[0.64402145 0.35347817 0.58777267 0.31364236 0.85046791]\n",
      "  [0.6965113  0.77839511 0.05927197 0.42253468 0.50392326]\n",
      "  [0.32341327 0.85987689 0.00298627 0.61632719 0.19325709]]\n",
      "\n",
      " [[0.89297134 0.32963423 0.55049823 0.43060547 0.08419103]\n",
      "  [0.43244928 0.93469705 0.24306709 0.55202818 0.9966241 ]\n",
      "  [0.2106286  0.83146949 0.90017151 0.18785911 0.38195324]]]\n"
     ]
    }
   ],
   "source": [
    "# Method 1\n",
    "a=np.random.random(size = (2,3,5))\n",
    "\n",
    "print(a)"
   ]
  },
  {
   "cell_type": "code",
   "execution_count": 4,
   "metadata": {},
   "outputs": [
    {
     "name": "stdout",
     "output_type": "stream",
     "text": [
      "[[[0.64402145 0.35347817 0.58777267 0.31364236 0.85046791]\n",
      "  [0.6965113  0.77839511 0.05927197 0.42253468 0.50392326]\n",
      "  [0.32341327 0.85987689 0.00298627 0.61632719 0.19325709]]\n",
      "\n",
      " [[0.89297134 0.32963423 0.55049823 0.43060547 0.08419103]\n",
      "  [0.43244928 0.93469705 0.24306709 0.55202818 0.9966241 ]\n",
      "  [0.2106286  0.83146949 0.90017151 0.18785911 0.38195324]]]\n"
     ]
    }
   ],
   "source": [
    "# Method 2\n",
    "a=np.empty((2,3,5))\n",
    "\n",
    "print(a)"
   ]
  },
  {
   "cell_type": "code",
   "execution_count": 5,
   "metadata": {},
   "outputs": [
    {
     "name": "stdout",
     "output_type": "stream",
     "text": [
      "[[[0.43869801 0.55680016 0.05660745 0.33756355 0.18830153]\n",
      "  [0.83776361 0.57405662 0.65263365 0.35270112 0.08473826]\n",
      "  [0.36729363 0.73533685 0.07938781 0.40243582 0.14454966]]\n",
      "\n",
      " [[0.9229689  0.8179589  0.96554897 0.59934543 0.01335697]\n",
      "  [0.46443651 0.48047708 0.45638387 0.7609358  0.61439943]\n",
      "  [0.89061265 0.88984993 0.40908741 0.7380981  0.36401429]]]\n"
     ]
    }
   ],
   "source": [
    "# Method 3\n",
    "a=np.random.rand(2,3,5)\n",
    "\n",
    "print(a)"
   ]
  },
  {
   "cell_type": "markdown",
   "metadata": {},
   "source": [
    "#### 4. Print *a*.\n"
   ]
  },
  {
   "cell_type": "code",
   "execution_count": 6,
   "metadata": {},
   "outputs": [
    {
     "name": "stdout",
     "output_type": "stream",
     "text": [
      "[[[0.43869801 0.55680016 0.05660745 0.33756355 0.18830153]\n",
      "  [0.83776361 0.57405662 0.65263365 0.35270112 0.08473826]\n",
      "  [0.36729363 0.73533685 0.07938781 0.40243582 0.14454966]]\n",
      "\n",
      " [[0.9229689  0.8179589  0.96554897 0.59934543 0.01335697]\n",
      "  [0.46443651 0.48047708 0.45638387 0.7609358  0.61439943]\n",
      "  [0.89061265 0.88984993 0.40908741 0.7380981  0.36401429]]]\n"
     ]
    }
   ],
   "source": [
    "# your code here\n",
    "print(a)"
   ]
  },
  {
   "cell_type": "markdown",
   "metadata": {},
   "source": [
    "#### 5. Create a 5x2x3 3-dimensional array with all values equaling 1. Assign the array to variable *b*."
   ]
  },
  {
   "cell_type": "code",
   "execution_count": 7,
   "metadata": {},
   "outputs": [],
   "source": [
    "# your code here\n",
    "\n",
    "b=np.ones((5,2,3))"
   ]
  },
  {
   "cell_type": "markdown",
   "metadata": {},
   "source": [
    "#### 6. Print *b*.\n"
   ]
  },
  {
   "cell_type": "code",
   "execution_count": 8,
   "metadata": {},
   "outputs": [
    {
     "name": "stdout",
     "output_type": "stream",
     "text": [
      "[[[1. 1. 1.]\n",
      "  [1. 1. 1.]]\n",
      "\n",
      " [[1. 1. 1.]\n",
      "  [1. 1. 1.]]\n",
      "\n",
      " [[1. 1. 1.]\n",
      "  [1. 1. 1.]]\n",
      "\n",
      " [[1. 1. 1.]\n",
      "  [1. 1. 1.]]\n",
      "\n",
      " [[1. 1. 1.]\n",
      "  [1. 1. 1.]]]\n"
     ]
    }
   ],
   "source": [
    "# your code here\n",
    "print(b)"
   ]
  },
  {
   "cell_type": "markdown",
   "metadata": {},
   "source": [
    "#### 7. Do *a* and *b* have the same size? How do you prove that in Python code?"
   ]
  },
  {
   "cell_type": "code",
   "execution_count": 9,
   "metadata": {},
   "outputs": [
    {
     "name": "stdout",
     "output_type": "stream",
     "text": [
      "They are the same size\n"
     ]
    }
   ],
   "source": [
    "# your code here\n",
    "\n",
    "if a.size == b.size:\n",
    "    print(\"They are the same size\")\n",
    "else:\n",
    "    ('They don´t have the same size')"
   ]
  },
  {
   "cell_type": "markdown",
   "metadata": {},
   "source": [
    "#### 8. Are you able to add *a* and *b*? Why or why not?\n"
   ]
  },
  {
   "cell_type": "code",
   "execution_count": 10,
   "metadata": {},
   "outputs": [
    {
     "name": "stdout",
     "output_type": "stream",
     "text": [
      "Besides that they have the same size, they don´t have the same shape so it´s not possible to add\n"
     ]
    }
   ],
   "source": [
    "# your answer here\n",
    "print('Besides that they have the same size, they don´t have the same shape so it´s not possible to add')"
   ]
  },
  {
   "cell_type": "markdown",
   "metadata": {},
   "source": [
    "#### 9. Transpose *b* so that it has the same structure of *a* (i.e. become a 2x3x5 array). Assign the transposed array to variable *c*."
   ]
  },
  {
   "cell_type": "code",
   "execution_count": 11,
   "metadata": {},
   "outputs": [
    {
     "name": "stdout",
     "output_type": "stream",
     "text": [
      "[[[1. 1. 1. 1. 1.]\n",
      "  [1. 1. 1. 1. 1.]\n",
      "  [1. 1. 1. 1. 1.]]\n",
      "\n",
      " [[1. 1. 1. 1. 1.]\n",
      "  [1. 1. 1. 1. 1.]\n",
      "  [1. 1. 1. 1. 1.]]]\n"
     ]
    }
   ],
   "source": [
    "# your code here\n",
    "c=b.reshape(2,3,5)\n",
    "print(c)"
   ]
  },
  {
   "cell_type": "markdown",
   "metadata": {},
   "source": [
    "#### 10. Try to add *a* and *c*. Now it should work. Assign the sum to variable *d*. But why does it work now?"
   ]
  },
  {
   "cell_type": "code",
   "execution_count": 12,
   "metadata": {},
   "outputs": [
    {
     "name": "stdout",
     "output_type": "stream",
     "text": [
      "[[[1.43869801 1.55680016 1.05660745 1.33756355 1.18830153]\n",
      "  [1.83776361 1.57405662 1.65263365 1.35270112 1.08473826]\n",
      "  [1.36729363 1.73533685 1.07938781 1.40243582 1.14454966]]\n",
      "\n",
      " [[1.9229689  1.8179589  1.96554897 1.59934543 1.01335697]\n",
      "  [1.46443651 1.48047708 1.45638387 1.7609358  1.61439943]\n",
      "  [1.89061265 1.88984993 1.40908741 1.7380981  1.36401429]]]\n"
     ]
    }
   ],
   "source": [
    "# your code/answer here\n",
    "d= a+c\n",
    "\n",
    "print(d)"
   ]
  },
  {
   "cell_type": "markdown",
   "metadata": {},
   "source": [
    "#### 11. Print *a* and *d*. Notice the difference and relation of the two array in terms of the values? Explain."
   ]
  },
  {
   "cell_type": "code",
   "execution_count": 13,
   "metadata": {},
   "outputs": [
    {
     "name": "stdout",
     "output_type": "stream",
     "text": [
      "[[[0.43869801 0.55680016 0.05660745 0.33756355 0.18830153]\n",
      "  [0.83776361 0.57405662 0.65263365 0.35270112 0.08473826]\n",
      "  [0.36729363 0.73533685 0.07938781 0.40243582 0.14454966]]\n",
      "\n",
      " [[0.9229689  0.8179589  0.96554897 0.59934543 0.01335697]\n",
      "  [0.46443651 0.48047708 0.45638387 0.7609358  0.61439943]\n",
      "  [0.89061265 0.88984993 0.40908741 0.7380981  0.36401429]]] \n",
      "\n",
      "[[[1.43869801 1.55680016 1.05660745 1.33756355 1.18830153]\n",
      "  [1.83776361 1.57405662 1.65263365 1.35270112 1.08473826]\n",
      "  [1.36729363 1.73533685 1.07938781 1.40243582 1.14454966]]\n",
      "\n",
      " [[1.9229689  1.8179589  1.96554897 1.59934543 1.01335697]\n",
      "  [1.46443651 1.48047708 1.45638387 1.7609358  1.61439943]\n",
      "  [1.89061265 1.88984993 1.40908741 1.7380981  1.36401429]]] \n",
      "\n",
      "It sum the two values of each arrow\n"
     ]
    }
   ],
   "source": [
    "# your code/answer here\n",
    "\n",
    "print(a,'\\n')\n",
    "print(d,'\\n')\n",
    "\n",
    "print(\"It sum the two values of each arrow\")"
   ]
  },
  {
   "cell_type": "markdown",
   "metadata": {},
   "source": [
    "#### 12. Multiply *a* and *c*. Assign the result to *e*."
   ]
  },
  {
   "cell_type": "code",
   "execution_count": 14,
   "metadata": {},
   "outputs": [
    {
     "name": "stdout",
     "output_type": "stream",
     "text": [
      "[[[0.43869801 0.55680016 0.05660745 0.33756355 0.18830153]\n",
      "  [0.83776361 0.57405662 0.65263365 0.35270112 0.08473826]\n",
      "  [0.36729363 0.73533685 0.07938781 0.40243582 0.14454966]]\n",
      "\n",
      " [[0.9229689  0.8179589  0.96554897 0.59934543 0.01335697]\n",
      "  [0.46443651 0.48047708 0.45638387 0.7609358  0.61439943]\n",
      "  [0.89061265 0.88984993 0.40908741 0.7380981  0.36401429]]]\n"
     ]
    }
   ],
   "source": [
    "# your code here\n",
    "\n",
    "e = a*c\n",
    "\n",
    "print(e)"
   ]
  },
  {
   "cell_type": "markdown",
   "metadata": {},
   "source": [
    "#### 13. Does *e* equal to *a*? Why or why not?\n"
   ]
  },
  {
   "cell_type": "code",
   "execution_count": 15,
   "metadata": {},
   "outputs": [
    {
     "name": "stdout",
     "output_type": "stream",
     "text": [
      "Because you are doing a multiplication by 1 ;)\n"
     ]
    }
   ],
   "source": [
    "# your code/answer here\n",
    "\n",
    "print('Because you are doing a multiplication by 1 ;)')"
   ]
  },
  {
   "cell_type": "markdown",
   "metadata": {},
   "source": [
    "#### 14. Identify the max, min, and mean values in *d*. Assign those values to variables *d_max*, *d_min* and *d_mean*."
   ]
  },
  {
   "cell_type": "code",
   "execution_count": 16,
   "metadata": {},
   "outputs": [
    {
     "name": "stdout",
     "output_type": "stream",
     "text": [
      "d_max= 1.9655489710935157 \n",
      " d_min= 1.0133569715470747 \n",
      " d_mean 1.5065447329519925\n"
     ]
    }
   ],
   "source": [
    "# your code here\n",
    "d_max= d.max()\n",
    "d_min=d.min()\n",
    "d_mean= d.mean()\n",
    "print('d_max=',d_max,'\\n','d_min=',d_min,'\\n','d_mean',d_mean)"
   ]
  },
  {
   "cell_type": "markdown",
   "metadata": {},
   "source": [
    "#### 15. Now we want to label the values in *d*. First create an empty array *f* with the same shape (i.e. 2x3x5) as *d* using `np.empty`.\n"
   ]
  },
  {
   "cell_type": "code",
   "execution_count": 17,
   "metadata": {},
   "outputs": [],
   "source": [
    "# your code here\n",
    "f= np.empty([2,3,5])"
   ]
  },
  {
   "cell_type": "markdown",
   "metadata": {},
   "source": [
    "#### 16. Populate the values in *f*. \n",
    "\n",
    "For each value in *d*, if it's larger than *d_min* but smaller than *d_mean*, assign 25 to the corresponding value in *f*. If a value in *d* is larger than *d_mean* but smaller than *d_max*, assign 75 to the corresponding value in *f*. If a value equals to *d_mean*, assign 50 to the corresponding value in *f*. Assign 0 to the corresponding value(s) in *f* for *d_min* in *d*. Assign 100 to the corresponding value(s) in *f* for *d_max* in *d*. In the end, f should have only the following values: 0, 25, 50, 75, and 100.\n",
    "\n",
    "**Note**: you don't have to use Numpy in this question."
   ]
  },
  {
   "cell_type": "code",
   "execution_count": 24,
   "metadata": {},
   "outputs": [
    {
     "name": "stdout",
     "output_type": "stream",
     "text": [
      "[[[ 25.  75.  25.  25.  25.]\n",
      "  [ 75.  75.  75.  25.  25.]\n",
      "  [ 25.  75.  25.  25.  25.]]\n",
      "\n",
      " [[ 75.  75. 100.  75.   0.]\n",
      "  [ 25.  25.  25.  75.  75.]\n",
      "  [ 75.  75.  25.  75.  25.]]]\n"
     ]
    }
   ],
   "source": [
    "# your code here\n",
    "\n",
    "f[(d_mean > d) & (d_min < d)] = 25\n",
    "f[(d_mean <d) & (d_max >d)]=75\n",
    "f[d == d_mean]=50\n",
    "f[d == d_min] = 0\n",
    "f[d == d_max] = 100\n",
    "print(f)"
   ]
  },
  {
   "cell_type": "markdown",
   "metadata": {},
   "source": [
    "#### 17. Print *d* and *f*. Do you have your expected *f*?\n",
    "For instance, if your *d* is:\n",
    "```python\n",
    "[[[1.85836099, 1.67064465, 1.62576044, 1.40243961, 1.88454931],\n",
    "[1.75354326, 1.69403643, 1.36729252, 1.61415071, 1.12104981],\n",
    "[1.72201435, 1.1862918 , 1.87078449, 1.7726778 , 1.88180042]],\n",
    "[[1.44747908, 1.31673383, 1.02000951, 1.52218947, 1.97066381],\n",
    "[1.79129243, 1.74983003, 1.96028037, 1.85166831, 1.65450881],\n",
    "[1.18068344, 1.9587381 , 1.00656599, 1.93402165, 1.73514584]]]\n",
    "```\n",
    "Your *f* should be:\n",
    "```python\n",
    "[[[ 75.,  75.,  75.,  25.,  75.],\n",
    "[ 75.,  75.,  25.,  25.,  25.],\n",
    "[ 75.,  25.,  75.,  75.,  75.]],\n",
    "[[ 25.,  25.,  25.,  25., 100.],\n",
    "[ 75.,  75.,  75.,  75.,  75.],\n",
    "[ 25.,  75.,   0.,  75.,  75.]]]\n",
    "```"
   ]
  },
  {
   "cell_type": "code",
   "execution_count": 19,
   "metadata": {},
   "outputs": [],
   "source": [
    "# your code here"
   ]
  },
  {
   "cell_type": "markdown",
   "metadata": {},
   "source": [
    "#### 18. Bonus question: instead of using numbers (i.e. 0, 25, 50, 75, and 100), use string values  (\"A\", \"B\", \"C\", \"D\", and \"E\") to label the array elements. For the example above, the expected result is:\n",
    "\n",
    "```python\n",
    "[[[ 'D',  'D',  'D',  'B',  'D'],\n",
    "[ 'D',  'D',  'B',  'B',  'B'],\n",
    "[ 'D',  'B',  'D',  'D',  'D']],\n",
    "[[ 'B',  'B',  'B',  'B',  'E'],\n",
    "[ 'D',  'D',  'D',  'D',  'D'],\n",
    "[ 'B',  'D',   'A',  'D', 'D']]]\n",
    "```\n",
    "**Note**: you don't have to use Numpy in this question."
   ]
  },
  {
   "cell_type": "code",
   "execution_count": null,
   "metadata": {},
   "outputs": [],
   "source": []
  },
  {
   "cell_type": "code",
   "execution_count": null,
   "metadata": {},
   "outputs": [],
   "source": []
  }
 ],
 "metadata": {
  "kernelspec": {
   "display_name": "Python 3",
   "language": "python",
   "name": "python3"
  },
  "language_info": {
   "codemirror_mode": {
    "name": "ipython",
    "version": 3
   },
   "file_extension": ".py",
   "mimetype": "text/x-python",
   "name": "python",
   "nbconvert_exporter": "python",
   "pygments_lexer": "ipython3",
   "version": "3.8.8"
  }
 },
 "nbformat": 4,
 "nbformat_minor": 2
}
