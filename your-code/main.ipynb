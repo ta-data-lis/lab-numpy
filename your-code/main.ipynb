{
 "cells": [
  {
   "cell_type": "markdown",
   "metadata": {},
   "source": [
    "# Intrduction to NumPy\n",
    "\n",
    "\n",
    "#### 1. Import NumPy under the name np."
   ]
  },
  {
   "cell_type": "code",
   "execution_count": 1,
   "metadata": {},
   "outputs": [],
   "source": [
    "import numpy as np"
   ]
  },
  {
   "cell_type": "markdown",
   "metadata": {},
   "source": [
    "#### 2. Print your NumPy version."
   ]
  },
  {
   "cell_type": "code",
   "execution_count": 2,
   "metadata": {},
   "outputs": [
    {
     "name": "stdout",
     "output_type": "stream",
     "text": [
      "1.19.2\n"
     ]
    }
   ],
   "source": [
    "print(np.__version__)"
   ]
  },
  {
   "cell_type": "markdown",
   "metadata": {},
   "source": [
    "#### 3. Generate a 2x3x5 3-dimensional array with random values. Assign the array to variable *a*.\n",
    "**Challenge**: there are at least three easy ways that use numpy to generate random arrays. How many ways can you find?"
   ]
  },
  {
   "cell_type": "code",
   "execution_count": 3,
   "metadata": {},
   "outputs": [],
   "source": [
    "# Method 1\n",
    "a = np.random.random((2,3,5))"
   ]
  },
  {
   "cell_type": "code",
   "execution_count": 4,
   "metadata": {},
   "outputs": [],
   "source": [
    "# Method 2\n",
    "a = np.random.sample((2, 3, 5))"
   ]
  },
  {
   "cell_type": "code",
   "execution_count": null,
   "metadata": {},
   "outputs": [],
   "source": [
    "# Method 3\n",
    "#??"
   ]
  },
  {
   "cell_type": "markdown",
   "metadata": {},
   "source": [
    "#### 4. Print *a*.\n"
   ]
  },
  {
   "cell_type": "code",
   "execution_count": 5,
   "metadata": {},
   "outputs": [
    {
     "name": "stdout",
     "output_type": "stream",
     "text": [
      "[[[0.00486623 0.13678838 0.74915061 0.76816421 0.27638746]\n",
      "  [0.7912251  0.58458469 0.54010411 0.83793232 0.52410363]\n",
      "  [0.53537841 0.40147873 0.39443573 0.82765273 0.34869305]]\n",
      "\n",
      " [[0.1315344  0.2411162  0.34621881 0.90484895 0.07631258]\n",
      "  [0.21183472 0.7382578  0.42936884 0.25971955 0.13429596]\n",
      "  [0.90418081 0.09846739 0.85165841 0.77377716 0.44248435]]]\n"
     ]
    }
   ],
   "source": [
    "print(a)"
   ]
  },
  {
   "cell_type": "markdown",
   "metadata": {},
   "source": [
    "#### 5. Create a 5x2x3 3-dimensional array with all values equaling 1. Assign the array to variable *b*."
   ]
  },
  {
   "cell_type": "code",
   "execution_count": 6,
   "metadata": {},
   "outputs": [],
   "source": [
    "b = np.ones((5, 2, 3))"
   ]
  },
  {
   "cell_type": "markdown",
   "metadata": {},
   "source": [
    "#### 6. Print *b*.\n"
   ]
  },
  {
   "cell_type": "code",
   "execution_count": null,
   "metadata": {},
   "outputs": [],
   "source": [
    "print(b)"
   ]
  },
  {
   "cell_type": "markdown",
   "metadata": {},
   "source": [
    "#### 7. Do *a* and *b* have the same size? How do you prove that in Python code?"
   ]
  },
  {
   "cell_type": "code",
   "execution_count": 7,
   "metadata": {},
   "outputs": [
    {
     "name": "stdout",
     "output_type": "stream",
     "text": [
      "True\n"
     ]
    }
   ],
   "source": [
    "# your code here\n",
    "print(a.size == b.size)"
   ]
  },
  {
   "cell_type": "markdown",
   "metadata": {},
   "source": [
    "#### 8. Are you able to add *a* and *b*? Why or why not?\n"
   ]
  },
  {
   "cell_type": "code",
   "execution_count": null,
   "metadata": {},
   "outputs": [],
   "source": [
    "#We can´t add them because they have different shapes\n"
   ]
  },
  {
   "cell_type": "markdown",
   "metadata": {},
   "source": [
    "#### 9. Transpose *b* so that it has the same structure of *a* (i.e. become a 2x3x5 array). Assign the transposed array to variable *c*."
   ]
  },
  {
   "cell_type": "code",
   "execution_count": 8,
   "metadata": {},
   "outputs": [
    {
     "name": "stdout",
     "output_type": "stream",
     "text": [
      "[[[1. 1. 1. 1. 1.]\n",
      "  [1. 1. 1. 1. 1.]\n",
      "  [1. 1. 1. 1. 1.]]\n",
      "\n",
      " [[1. 1. 1. 1. 1.]\n",
      "  [1. 1. 1. 1. 1.]\n",
      "  [1. 1. 1. 1. 1.]]]\n"
     ]
    }
   ],
   "source": [
    "c = np.transpose(b, axes=(1, 2, 0))\n",
    "print(c)"
   ]
  },
  {
   "cell_type": "markdown",
   "metadata": {},
   "source": [
    "#### 10. Try to add *a* and *c*. Now it should work. Assign the sum to variable *d*. But why does it work now?"
   ]
  },
  {
   "cell_type": "code",
   "execution_count": 9,
   "metadata": {},
   "outputs": [
    {
     "name": "stdout",
     "output_type": "stream",
     "text": [
      "[[[1.00486623 1.13678838 1.74915061 1.76816421 1.27638746]\n",
      "  [1.7912251  1.58458469 1.54010411 1.83793232 1.52410363]\n",
      "  [1.53537841 1.40147873 1.39443573 1.82765273 1.34869305]]\n",
      "\n",
      " [[1.1315344  1.2411162  1.34621881 1.90484895 1.07631258]\n",
      "  [1.21183472 1.7382578  1.42936884 1.25971955 1.13429596]\n",
      "  [1.90418081 1.09846739 1.85165841 1.77377716 1.44248435]]]\n"
     ]
    }
   ],
   "source": [
    "# we can add them because now they have the same shape\n",
    "d = a + c\n",
    "print(d)"
   ]
  },
  {
   "cell_type": "markdown",
   "metadata": {},
   "source": [
    "#### 11. Print *a* and *d*. Notice the difference and relation of the two array in terms of the values? Explain."
   ]
  },
  {
   "cell_type": "code",
   "execution_count": 10,
   "metadata": {},
   "outputs": [
    {
     "name": "stdout",
     "output_type": "stream",
     "text": [
      "[[[0.00486623 0.13678838 0.74915061 0.76816421 0.27638746]\n",
      "  [0.7912251  0.58458469 0.54010411 0.83793232 0.52410363]\n",
      "  [0.53537841 0.40147873 0.39443573 0.82765273 0.34869305]]\n",
      "\n",
      " [[0.1315344  0.2411162  0.34621881 0.90484895 0.07631258]\n",
      "  [0.21183472 0.7382578  0.42936884 0.25971955 0.13429596]\n",
      "  [0.90418081 0.09846739 0.85165841 0.77377716 0.44248435]]] \n",
      "\n",
      "\n",
      "\n",
      "[[[1.00486623 1.13678838 1.74915061 1.76816421 1.27638746]\n",
      "  [1.7912251  1.58458469 1.54010411 1.83793232 1.52410363]\n",
      "  [1.53537841 1.40147873 1.39443573 1.82765273 1.34869305]]\n",
      "\n",
      " [[1.1315344  1.2411162  1.34621881 1.90484895 1.07631258]\n",
      "  [1.21183472 1.7382578  1.42936884 1.25971955 1.13429596]\n",
      "  [1.90418081 1.09846739 1.85165841 1.77377716 1.44248435]]]\n"
     ]
    }
   ],
   "source": [
    "print(a, '\\n\\n\\n')\n",
    "print(d)\n",
    "#each value has +1 because we summed the values of a and c. all the values in c were (1)"
   ]
  },
  {
   "cell_type": "markdown",
   "metadata": {},
   "source": [
    "#### 12. Multiply *a* and *c*. Assign the result to *e*."
   ]
  },
  {
   "cell_type": "code",
   "execution_count": 11,
   "metadata": {},
   "outputs": [
    {
     "name": "stdout",
     "output_type": "stream",
     "text": [
      "[[[0.00486623 0.13678838 0.74915061 0.76816421 0.27638746]\n",
      "  [0.7912251  0.58458469 0.54010411 0.83793232 0.52410363]\n",
      "  [0.53537841 0.40147873 0.39443573 0.82765273 0.34869305]]\n",
      "\n",
      " [[0.1315344  0.2411162  0.34621881 0.90484895 0.07631258]\n",
      "  [0.21183472 0.7382578  0.42936884 0.25971955 0.13429596]\n",
      "  [0.90418081 0.09846739 0.85165841 0.77377716 0.44248435]]]\n"
     ]
    }
   ],
   "source": [
    "e = a * c\n",
    "print(e)"
   ]
  },
  {
   "cell_type": "markdown",
   "metadata": {},
   "source": [
    "#### 13. Does *e* equal to *a*? Why or why not?\n"
   ]
  },
  {
   "cell_type": "code",
   "execution_count": 12,
   "metadata": {},
   "outputs": [
    {
     "name": "stdout",
     "output_type": "stream",
     "text": [
      "True\n"
     ]
    }
   ],
   "source": [
    "#they are the same because c is an array of only 1's. So we are multiplying every value of a by 1\n",
    "print(np.array_equal(e, a))"
   ]
  },
  {
   "cell_type": "markdown",
   "metadata": {},
   "source": [
    "#### 14. Identify the max, min, and mean values in *d*. Assign those values to variables *d_max*, *d_min* and *d_mean*."
   ]
  },
  {
   "cell_type": "code",
   "execution_count": 13,
   "metadata": {},
   "outputs": [
    {
     "name": "stdout",
     "output_type": "stream",
     "text": [
      "1.9048489476930555\n",
      "1.0048662279142215\n",
      "1.475500711046931\n"
     ]
    }
   ],
   "source": [
    "d_max = d.max()\n",
    "d_min = d.min()\n",
    "d_mean = d.mean()\n",
    "\n",
    "print(d_max)\n",
    "print(d_min)\n",
    "print(d_mean)"
   ]
  },
  {
   "cell_type": "markdown",
   "metadata": {},
   "source": [
    "#### 15. Now we want to label the values in *d*. First create an empty array *f* with the same shape (i.e. 2x3x5) as *d* using `np.empty`.\n"
   ]
  },
  {
   "cell_type": "code",
   "execution_count": 14,
   "metadata": {},
   "outputs": [],
   "source": [
    "f = np.empty([2, 3, 5])"
   ]
  },
  {
   "cell_type": "markdown",
   "metadata": {},
   "source": [
    "#### 16. Populate the values in *f*. \n",
    "\n",
    "For each value in *d*, if it's larger than *d_min* but smaller than *d_mean*, assign 25 to the corresponding value in *f*. If a value in *d* is larger than *d_mean* but smaller than *d_max*, assign 75 to the corresponding value in *f*. If a value equals to *d_mean*, assign 50 to the corresponding value in *f*. Assign 0 to the corresponding value(s) in *f* for *d_min* in *d*. Assign 100 to the corresponding value(s) in *f* for *d_max* in *d*. In the end, f should have only the following values: 0, 25, 50, 75, and 100.\n",
    "\n",
    "**Note**: you don't have to use Numpy in this question."
   ]
  },
  {
   "cell_type": "code",
   "execution_count": 15,
   "metadata": {},
   "outputs": [
    {
     "name": "stdout",
     "output_type": "stream",
     "text": [
      "[[[  0  25  75  75  25]\n",
      "  [ 75  75  75  75  75]\n",
      "  [ 75  25  25  75  25]]\n",
      "\n",
      " [[ 25  25  25 100  25]\n",
      "  [ 25  75  25  25  25]\n",
      "  [ 75  25  75  75  25]]]\n"
     ]
    }
   ],
   "source": [
    "f = []\n",
    "for x in np.nditer(d):\n",
    "    if d_min < x < d_mean:\n",
    "        f += [25]\n",
    "    if d_mean < x < d_max:\n",
    "        f += [75]\n",
    "    if x == d_mean:\n",
    "        f += [50]\n",
    "    if x == d_min:\n",
    "        f += [0]\n",
    "    if x == d_max:\n",
    "        f += [100]\n",
    "    \n",
    "        \n",
    "f = np.reshape(f, d.shape) \n",
    "print(f)"
   ]
  },
  {
   "cell_type": "markdown",
   "metadata": {},
   "source": [
    "#### 17. Print *d* and *f*. Do you have your expected *f*?\n",
    "For instance, if your *d* is:\n",
    "```python\n",
    "[[[1.85836099, 1.67064465, 1.62576044, 1.40243961, 1.88454931],\n",
    "[1.75354326, 1.69403643, 1.36729252, 1.61415071, 1.12104981],\n",
    "[1.72201435, 1.1862918 , 1.87078449, 1.7726778 , 1.88180042]],\n",
    "[[1.44747908, 1.31673383, 1.02000951, 1.52218947, 1.97066381],\n",
    "[1.79129243, 1.74983003, 1.96028037, 1.85166831, 1.65450881],\n",
    "[1.18068344, 1.9587381 , 1.00656599, 1.93402165, 1.73514584]]]\n",
    "```\n",
    "Your *f* should be:\n",
    "```python\n",
    "[[[ 75.,  75.,  75.,  25.,  75.],\n",
    "[ 75.,  75.,  25.,  25.,  25.],\n",
    "[ 75.,  25.,  75.,  75.,  75.]],\n",
    "[[ 25.,  25.,  25.,  25., 100.],\n",
    "[ 75.,  75.,  75.,  75.,  75.],\n",
    "[ 25.,  75.,   0.,  75.,  75.]]]\n",
    "```"
   ]
  },
  {
   "cell_type": "code",
   "execution_count": 16,
   "metadata": {},
   "outputs": [
    {
     "name": "stdout",
     "output_type": "stream",
     "text": [
      "[[[  0  25  75  75  25]\n",
      "  [ 75  75  75  75  75]\n",
      "  [ 75  25  25  75  25]]\n",
      "\n",
      " [[ 25  25  25 100  25]\n",
      "  [ 25  75  25  25  25]\n",
      "  [ 75  25  75  75  25]]]\n",
      "[[[1.00486623 1.13678838 1.74915061 1.76816421 1.27638746]\n",
      "  [1.7912251  1.58458469 1.54010411 1.83793232 1.52410363]\n",
      "  [1.53537841 1.40147873 1.39443573 1.82765273 1.34869305]]\n",
      "\n",
      " [[1.1315344  1.2411162  1.34621881 1.90484895 1.07631258]\n",
      "  [1.21183472 1.7382578  1.42936884 1.25971955 1.13429596]\n",
      "  [1.90418081 1.09846739 1.85165841 1.77377716 1.44248435]]]\n"
     ]
    }
   ],
   "source": [
    "print(f)\n",
    "print(d)"
   ]
  },
  {
   "cell_type": "markdown",
   "metadata": {},
   "source": [
    "#### 18. Bonus question: instead of using numbers (i.e. 0, 25, 50, 75, and 100), use string values  (\"A\", \"B\", \"C\", \"D\", and \"E\") to label the array elements. For the example above, the expected result is:\n",
    "\n",
    "```python\n",
    "[[[ 'D',  'D',  'D',  'B',  'D'],\n",
    "[ 'D',  'D',  'B',  'B',  'B'],\n",
    "[ 'D',  'B',  'D',  'D',  'D']],\n",
    "[[ 'B',  'B',  'B',  'B',  'E'],\n",
    "[ 'D',  'D',  'D',  'D',  'D'],\n",
    "[ 'B',  'D',   'A',  'D', 'D']]]\n",
    "```\n",
    "**Note**: you don't have to use Numpy in this question."
   ]
  },
  {
   "cell_type": "code",
   "execution_count": 17,
   "metadata": {},
   "outputs": [
    {
     "name": "stdout",
     "output_type": "stream",
     "text": [
      "[[['A' 'B' 'D' 'D' 'B']\n",
      "  ['D' 'D' 'D' 'D' 'D']\n",
      "  ['D' 'B' 'B' 'D' 'B']]\n",
      "\n",
      " [['B' 'B' 'B' 'E' 'B']\n",
      "  ['B' 'D' 'B' 'B' 'B']\n",
      "  ['D' 'B' 'D' 'D' 'B']]]\n"
     ]
    }
   ],
   "source": [
    "j = []\n",
    "for x in np.nditer(d):\n",
    "    if d_min < x < d_mean:\n",
    "        j += ['B']\n",
    "    if d_mean < x < d_max:\n",
    "        j += ['D']\n",
    "    if x == d_mean:\n",
    "        j += ['C']\n",
    "    if x == d_min:\n",
    "        j += ['A']\n",
    "    if x == d_max:\n",
    "        j += ['E']\n",
    "    \n",
    "j = np.reshape(j, d.shape) \n",
    "print(j)"
   ]
  }
 ],
 "metadata": {
  "kernelspec": {
   "display_name": "Python 3",
   "language": "python",
   "name": "python3"
  },
  "language_info": {
   "codemirror_mode": {
    "name": "ipython",
    "version": 3
   },
   "file_extension": ".py",
   "mimetype": "text/x-python",
   "name": "python",
   "nbconvert_exporter": "python",
   "pygments_lexer": "ipython3",
   "version": "3.8.5"
  }
 },
 "nbformat": 4,
 "nbformat_minor": 2
}
