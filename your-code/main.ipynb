{
 "cells": [
  {
   "cell_type": "markdown",
   "metadata": {},
   "source": [
    "# Intrduction to NumPy\n",
    "\n",
    "\n",
    "#### 1. Import NumPy under the name np."
   ]
  },
  {
   "cell_type": "code",
   "execution_count": 1,
   "metadata": {},
   "outputs": [],
   "source": [
    "# your code here\n",
    "import numpy as np"
   ]
  },
  {
   "cell_type": "markdown",
   "metadata": {},
   "source": [
    "#### 2. Print your NumPy version."
   ]
  },
  {
   "cell_type": "code",
   "execution_count": 2,
   "metadata": {},
   "outputs": [
    {
     "output_type": "stream",
     "name": "stdout",
     "text": [
      "1.20.2\n"
     ]
    }
   ],
   "source": [
    "# your code here\n",
    "print(np.version.version)"
   ]
  },
  {
   "cell_type": "markdown",
   "metadata": {},
   "source": [
    "#### 3. Generate a 2x3x5 3-dimensional array with random values. Assign the array to variable *a*.\n",
    "**Challenge**: there are at least three easy ways that use numpy to generate random arrays. How many ways can you find?"
   ]
  },
  {
   "cell_type": "code",
   "execution_count": 4,
   "metadata": {},
   "outputs": [
    {
     "output_type": "execute_result",
     "data": {
      "text/plain": [
       "array([[[9.38187998e-312, 9.63428009e-322, 0.00000000e+000,\n",
       "         0.00000000e+000, 7.56571287e-307],\n",
       "        [1.16097020e-028, 2.57707022e-057, 9.71521737e-067,\n",
       "         1.65982454e-076, 5.01163173e+217],\n",
       "        [8.37170074e-144, 6.22688250e-038, 3.88586809e-033,\n",
       "         6.25768489e-091, 9.13768337e+169]],\n",
       "\n",
       "       [[5.01163113e+217, 5.49419094e-143, 3.68777431e+180,\n",
       "         5.56111702e+180, 7.49874326e+247],\n",
       "        [9.51498384e-053, 6.25527297e-091, 1.43692990e-051,\n",
       "         4.31696156e-038, 3.92321515e+179],\n",
       "        [1.47763641e+248, 1.16096346e-028, 1.28625693e+248,\n",
       "         4.24948967e-086, 1.69121096e-306]]])"
      ]
     },
     "metadata": {},
     "execution_count": 4
    }
   ],
   "source": [
    "# Method 1\n",
    "a = np.empty((2,3,5))\n",
    "a"
   ]
  },
  {
   "cell_type": "code",
   "execution_count": 6,
   "metadata": {},
   "outputs": [
    {
     "output_type": "execute_result",
     "data": {
      "text/plain": [
       "array([[[0.27159911, 0.94736951, 0.88077186, 0.1245827 , 0.76305289],\n",
       "        [0.32522655, 0.16666657, 0.17732118, 0.30999294, 0.34994209],\n",
       "        [0.13279279, 0.40320341, 0.76182174, 0.2494437 , 0.73881351]],\n",
       "\n",
       "       [[0.49042553, 0.92835517, 0.05342939, 0.03533115, 0.40104133],\n",
       "        [0.98365327, 0.50800479, 0.68601262, 0.46959034, 0.08481008],\n",
       "        [0.59367031, 0.32073678, 0.24976952, 0.91603902, 0.52344917]]])"
      ]
     },
     "metadata": {},
     "execution_count": 6
    }
   ],
   "source": [
    "# Method 2\n",
    "a1 = np.random.rand(2,3,5)  #random float in range 0 - 1\n",
    "a1"
   ]
  },
  {
   "cell_type": "code",
   "execution_count": 10,
   "metadata": {},
   "outputs": [
    {
     "output_type": "execute_result",
     "data": {
      "text/plain": [
       "array([[[236732, 478199, 951685, 700019, 544526],\n",
       "        [274853,  75880, 995957, 670597, 378379],\n",
       "        [658419, 673356, 282825, 119318, 597483]],\n",
       "\n",
       "       [[252459, 918708, 450232, 812279, 237307],\n",
       "        [773450, 386459,  84065, 160001, 306920],\n",
       "        [887788, 589563, 507831, 308949,  12653]]])"
      ]
     },
     "metadata": {},
     "execution_count": 10
    }
   ],
   "source": [
    "# Method 3\n",
    "a2 = np.random.randint(1000000,size=(2,3,5))  #random integers in range 0 - 1000000\n",
    "a2"
   ]
  },
  {
   "cell_type": "markdown",
   "metadata": {},
   "source": [
    "#### 4. Print *a*.\n"
   ]
  },
  {
   "cell_type": "code",
   "execution_count": 12,
   "metadata": {},
   "outputs": [
    {
     "output_type": "stream",
     "name": "stdout",
     "text": [
      "[[[9.38187998e-312 9.63428009e-322 0.00000000e+000 0.00000000e+000\n   7.56571287e-307]\n  [1.16097020e-028 2.57707022e-057 9.71521737e-067 1.65982454e-076\n   5.01163173e+217]\n  [8.37170074e-144 6.22688250e-038 3.88586809e-033 6.25768489e-091\n   9.13768337e+169]]\n\n [[5.01163113e+217 5.49419094e-143 3.68777431e+180 5.56111702e+180\n   7.49874326e+247]\n  [9.51498384e-053 6.25527297e-091 1.43692990e-051 4.31696156e-038\n   3.92321515e+179]\n  [1.47763641e+248 1.16096346e-028 1.28625693e+248 4.24948967e-086\n   1.69121096e-306]]]\n[[[0.27159911 0.94736951 0.88077186 0.1245827  0.76305289]\n  [0.32522655 0.16666657 0.17732118 0.30999294 0.34994209]\n  [0.13279279 0.40320341 0.76182174 0.2494437  0.73881351]]\n\n [[0.49042553 0.92835517 0.05342939 0.03533115 0.40104133]\n  [0.98365327 0.50800479 0.68601262 0.46959034 0.08481008]\n  [0.59367031 0.32073678 0.24976952 0.91603902 0.52344917]]]\n[[[236732 478199 951685 700019 544526]\n  [274853  75880 995957 670597 378379]\n  [658419 673356 282825 119318 597483]]\n\n [[252459 918708 450232 812279 237307]\n  [773450 386459  84065 160001 306920]\n  [887788 589563 507831 308949  12653]]]\n"
     ]
    }
   ],
   "source": [
    "# your code here\n",
    "print(a)\n",
    "print(a1)\n",
    "print(a2)"
   ]
  },
  {
   "cell_type": "markdown",
   "metadata": {},
   "source": [
    "#### 5. Create a 5x2x3 3-dimensional array with all values equaling 1. Assign the array to variable *b*."
   ]
  },
  {
   "cell_type": "code",
   "execution_count": 14,
   "metadata": {},
   "outputs": [],
   "source": [
    "# your code here\n",
    "b = np.ones((5,2,3))"
   ]
  },
  {
   "cell_type": "markdown",
   "metadata": {},
   "source": [
    "#### 6. Print *b*.\n"
   ]
  },
  {
   "cell_type": "code",
   "execution_count": 15,
   "metadata": {},
   "outputs": [
    {
     "output_type": "stream",
     "name": "stdout",
     "text": [
      "[[[1. 1. 1.]\n  [1. 1. 1.]]\n\n [[1. 1. 1.]\n  [1. 1. 1.]]\n\n [[1. 1. 1.]\n  [1. 1. 1.]]\n\n [[1. 1. 1.]\n  [1. 1. 1.]]\n\n [[1. 1. 1.]\n  [1. 1. 1.]]]\n"
     ]
    }
   ],
   "source": [
    "# your code here\n",
    "print(b)"
   ]
  },
  {
   "cell_type": "markdown",
   "metadata": {},
   "source": [
    "#### 7. Do *a* and *b* have the same size? How do you prove that in Python code?"
   ]
  },
  {
   "cell_type": "code",
   "execution_count": 18,
   "metadata": {},
   "outputs": [
    {
     "output_type": "execute_result",
     "data": {
      "text/plain": [
       "True"
      ]
     },
     "metadata": {},
     "execution_count": 18
    }
   ],
   "source": [
    "# your code here\n",
    "a.size == b.size"
   ]
  },
  {
   "cell_type": "markdown",
   "metadata": {},
   "source": [
    "#### 8. Are you able to add *a* and *b*? Why or why not?\n"
   ]
  },
  {
   "cell_type": "code",
   "execution_count": 22,
   "metadata": {},
   "outputs": [
    {
     "output_type": "execute_result",
     "data": {
      "text/plain": [
       "False"
      ]
     },
     "metadata": {},
     "execution_count": 22
    }
   ],
   "source": [
    "# your answer here\n",
    "# No. They have same size but different shape: a shape (2,3,5) and b shape (5,2,3)\n",
    "\n",
    "a.shape == b.shape"
   ]
  },
  {
   "cell_type": "markdown",
   "metadata": {},
   "source": [
    "#### 9. Transpose *b* so that it has the same structure of *a* (i.e. become a 2x3x5 array). Assign the transposed array to variable *c*."
   ]
  },
  {
   "cell_type": "code",
   "execution_count": 23,
   "metadata": {},
   "outputs": [
    {
     "output_type": "execute_result",
     "data": {
      "text/plain": [
       "array([[[1., 1., 1., 1., 1.],\n",
       "        [1., 1., 1., 1., 1.],\n",
       "        [1., 1., 1., 1., 1.]],\n",
       "\n",
       "       [[1., 1., 1., 1., 1.],\n",
       "        [1., 1., 1., 1., 1.],\n",
       "        [1., 1., 1., 1., 1.]]])"
      ]
     },
     "metadata": {},
     "execution_count": 23
    }
   ],
   "source": [
    "# your code here\n",
    "c = b.reshape(2,3,5)\n",
    "c"
   ]
  },
  {
   "cell_type": "markdown",
   "metadata": {},
   "source": [
    "#### 10. Try to add *a* and *c*. Now it should work. Assign the sum to variable *d*. But why does it work now?"
   ]
  },
  {
   "cell_type": "code",
   "execution_count": 24,
   "metadata": {},
   "outputs": [
    {
     "output_type": "execute_result",
     "data": {
      "text/plain": [
       "array([[[1.00000000e+000, 1.00000000e+000, 1.00000000e+000,\n",
       "         1.00000000e+000, 1.00000000e+000],\n",
       "        [1.00000000e+000, 1.00000000e+000, 1.00000000e+000,\n",
       "         1.00000000e+000, 5.01163173e+217],\n",
       "        [1.00000000e+000, 1.00000000e+000, 1.00000000e+000,\n",
       "         1.00000000e+000, 9.13768337e+169]],\n",
       "\n",
       "       [[5.01163113e+217, 1.00000000e+000, 3.68777431e+180,\n",
       "         5.56111702e+180, 7.49874326e+247],\n",
       "        [1.00000000e+000, 1.00000000e+000, 1.00000000e+000,\n",
       "         1.00000000e+000, 3.92321515e+179],\n",
       "        [1.47763641e+248, 1.00000000e+000, 1.28625693e+248,\n",
       "         1.00000000e+000, 1.00000000e+000]]])"
      ]
     },
     "metadata": {},
     "execution_count": 24
    }
   ],
   "source": [
    "# your code/answer here\n",
    "d = a + c\n",
    "d                #now they have the same shape because we reshape the b array"
   ]
  },
  {
   "cell_type": "markdown",
   "metadata": {},
   "source": [
    "#### 11. Print *a* and *d*. Notice the difference and relation of the two array in terms of the values? Explain."
   ]
  },
  {
   "cell_type": "code",
   "execution_count": 25,
   "metadata": {},
   "outputs": [
    {
     "output_type": "stream",
     "name": "stdout",
     "text": [
      "[[[9.38187998e-312 9.63428009e-322 0.00000000e+000 0.00000000e+000\n   7.56571287e-307]\n  [1.16097020e-028 2.57707022e-057 9.71521737e-067 1.65982454e-076\n   5.01163173e+217]\n  [8.37170074e-144 6.22688250e-038 3.88586809e-033 6.25768489e-091\n   9.13768337e+169]]\n\n [[5.01163113e+217 5.49419094e-143 3.68777431e+180 5.56111702e+180\n   7.49874326e+247]\n  [9.51498384e-053 6.25527297e-091 1.43692990e-051 4.31696156e-038\n   3.92321515e+179]\n  [1.47763641e+248 1.16096346e-028 1.28625693e+248 4.24948967e-086\n   1.69121096e-306]]]\n[[[1.00000000e+000 1.00000000e+000 1.00000000e+000 1.00000000e+000\n   1.00000000e+000]\n  [1.00000000e+000 1.00000000e+000 1.00000000e+000 1.00000000e+000\n   5.01163173e+217]\n  [1.00000000e+000 1.00000000e+000 1.00000000e+000 1.00000000e+000\n   9.13768337e+169]]\n\n [[5.01163113e+217 1.00000000e+000 3.68777431e+180 5.56111702e+180\n   7.49874326e+247]\n  [1.00000000e+000 1.00000000e+000 1.00000000e+000 1.00000000e+000\n   3.92321515e+179]\n  [1.47763641e+248 1.00000000e+000 1.28625693e+248 1.00000000e+000\n   1.00000000e+000]]]\n"
     ]
    }
   ],
   "source": [
    "# your code/answer here\n",
    "print(a)\n",
    "print(d)\n",
    "\n",
    "# the array c had the value 1 in all positions. adding to array a, if the value is much bigger than 1 the difference is not notceable printing the array. if the value is much lower than 1 the value in d will be 1. "
   ]
  },
  {
   "cell_type": "markdown",
   "metadata": {},
   "source": [
    "#### 12. Multiply *a* and *c*. Assign the result to *e*."
   ]
  },
  {
   "cell_type": "code",
   "execution_count": 26,
   "metadata": {},
   "outputs": [
    {
     "output_type": "stream",
     "name": "stdout",
     "text": [
      "[[[9.38187998e-312 9.63428009e-322 0.00000000e+000 0.00000000e+000\n   7.56571287e-307]\n  [1.16097020e-028 2.57707022e-057 9.71521737e-067 1.65982454e-076\n   5.01163173e+217]\n  [8.37170074e-144 6.22688250e-038 3.88586809e-033 6.25768489e-091\n   9.13768337e+169]]\n\n [[5.01163113e+217 5.49419094e-143 3.68777431e+180 5.56111702e+180\n   7.49874326e+247]\n  [9.51498384e-053 6.25527297e-091 1.43692990e-051 4.31696156e-038\n   3.92321515e+179]\n  [1.47763641e+248 1.16096346e-028 1.28625693e+248 4.24948967e-086\n   1.69121096e-306]]]\n"
     ]
    }
   ],
   "source": [
    "# your code here\n",
    "e = a*c\n",
    "print(e)"
   ]
  },
  {
   "cell_type": "markdown",
   "metadata": {},
   "source": [
    "#### 13. Does *e* equal to *a*? Why or why not?\n"
   ]
  },
  {
   "cell_type": "code",
   "execution_count": 27,
   "metadata": {},
   "outputs": [
    {
     "output_type": "execute_result",
     "data": {
      "text/plain": [
       "array([[[ True,  True,  True,  True,  True],\n",
       "        [ True,  True,  True,  True,  True],\n",
       "        [ True,  True,  True,  True,  True]],\n",
       "\n",
       "       [[ True,  True,  True,  True,  True],\n",
       "        [ True,  True,  True,  True,  True],\n",
       "        [ True,  True,  True,  True,  True]]])"
      ]
     },
     "metadata": {},
     "execution_count": 27
    }
   ],
   "source": [
    "# your code/answer here\n",
    "# Yes. because multiplying one number by 1 will give the number.\n",
    "\n",
    "e == a"
   ]
  },
  {
   "cell_type": "markdown",
   "metadata": {},
   "source": [
    "#### 14. Identify the max, min, and mean values in *d*. Assign those values to variables *d_max*, *d_min* and *d_mean*."
   ]
  },
  {
   "cell_type": "code",
   "execution_count": 34,
   "metadata": {},
   "outputs": [],
   "source": [
    "# your code here\n",
    "d_max = np.amax(d)\n",
    "d_min = np.amin(d)\n",
    "d_mean = np.mean(d)"
   ]
  },
  {
   "cell_type": "markdown",
   "metadata": {},
   "source": [
    "#### 15. Now we want to label the values in *d*. First create an empty array *f* with the same shape (i.e. 2x3x5) as *d* using `np.empty`.\n"
   ]
  },
  {
   "cell_type": "code",
   "execution_count": 36,
   "metadata": {},
   "outputs": [
    {
     "output_type": "execute_result",
     "data": {
      "text/plain": [
       "array([[[9.38187998e-312, 9.63428009e-322, 0.00000000e+000,\n",
       "         0.00000000e+000, 7.56571287e-307],\n",
       "        [1.16097020e-028, 2.57707022e-057, 9.71521737e-067,\n",
       "         1.65982454e-076, 5.01163173e+217],\n",
       "        [8.37170074e-144, 6.22688250e-038, 3.88586809e-033,\n",
       "         6.25768489e-091, 9.13768337e+169]],\n",
       "\n",
       "       [[5.01163113e+217, 5.49419094e-143, 3.68777431e+180,\n",
       "         5.56111702e+180, 7.49874326e+247],\n",
       "        [9.51498384e-053, 6.25527297e-091, 1.43692990e-051,\n",
       "         4.31696156e-038, 3.92321515e+179],\n",
       "        [1.47763641e+248, 1.16096346e-028, 1.28625693e+248,\n",
       "         4.24948967e-086, 1.69121096e-306]]])"
      ]
     },
     "metadata": {},
     "execution_count": 36
    }
   ],
   "source": [
    "# your code here\n",
    "\n",
    "f = np.empty((2,3,5))\n",
    "f"
   ]
  },
  {
   "cell_type": "markdown",
   "metadata": {},
   "source": [
    "#### 16. Populate the values in *f*. \n",
    "\n",
    "For each value in *d*, if it's larger than *d_min* but smaller than *d_mean*, assign 25 to the corresponding value in *f*. If a value in *d* is larger than *d_mean* but smaller than *d_max*, assign 75 to the corresponding value in *f*. If a value equals to *d_mean*, assign 50 to the corresponding value in *f*. Assign 0 to the corresponding value(s) in *f* for *d_min* in *d*. Assign 100 to the corresponding value(s) in *f* for *d_max* in *d*. In the end, f should have only the following values: 0, 25, 50, 75, and 100.\n",
    "\n",
    "**Note**: you don't have to use Numpy in this question."
   ]
  },
  {
   "cell_type": "code",
   "execution_count": 40,
   "metadata": {},
   "outputs": [
    {
     "output_type": "execute_result",
     "data": {
      "text/plain": [
       "array([[[  0.,   0.,   0.,   0.,   0.],\n",
       "        [  0.,   0.,   0.,   0.,  25.],\n",
       "        [  0.,   0.,   0.,   0.,  25.]],\n",
       "\n",
       "       [[ 25.,   0.,  25.,  25.,  75.],\n",
       "        [  0.,   0.,   0.,   0.,  25.],\n",
       "        [100.,   0.,  75.,   0.,   0.]]])"
      ]
     },
     "metadata": {},
     "execution_count": 40
    }
   ],
   "source": [
    "# your code here\n",
    "#d.shape = (2,3,5)\n",
    "\n",
    "for i in range(0,2):\n",
    "    for j in range (0,3):\n",
    "        for k in range (0,5):\n",
    "            if d[i][j][k] > d_min and d[i][j][k] < d_mean:\n",
    "                f[i][j][k] = 25\n",
    "            elif d[i][j][k] < d_max and d[i][j][k] > d_mean:\n",
    "                f[i][j][k] = 75\n",
    "            elif d[i][j][k] == d_mean:\n",
    "                f[i][j][k] = 50\n",
    "            elif d[i][j][k] == d_min:\n",
    "                f[i][j][k] = 0\n",
    "            elif d[i][j][k] == d_max:\n",
    "                f[i][j][k] = 100\n",
    "            else:\n",
    "                print(\"error\")\n",
    "\n",
    "f"
   ]
  },
  {
   "cell_type": "markdown",
   "metadata": {},
   "source": [
    "#### 17. Print *d* and *f*. Do you have your expected *f*?\n",
    "For instance, if your *d* is:\n",
    "```python\n",
    "[[[1.85836099, 1.67064465, 1.62576044, 1.40243961, 1.88454931],\n",
    "[1.75354326, 1.69403643, 1.36729252, 1.61415071, 1.12104981],\n",
    "[1.72201435, 1.1862918 , 1.87078449, 1.7726778 , 1.88180042]],\n",
    "[[1.44747908, 1.31673383, 1.02000951, 1.52218947, 1.97066381],\n",
    "[1.79129243, 1.74983003, 1.96028037, 1.85166831, 1.65450881],\n",
    "[1.18068344, 1.9587381 , 1.00656599, 1.93402165, 1.73514584]]]\n",
    "```\n",
    "Your *f* should be:\n",
    "```python\n",
    "[[[ 75.,  75.,  75.,  25.,  75.],\n",
    "[ 75.,  75.,  25.,  25.,  25.],\n",
    "[ 75.,  25.,  75.,  75.,  75.]],\n",
    "[[ 25.,  25.,  25.,  25., 100.],\n",
    "[ 75.,  75.,  75.,  75.,  75.],\n",
    "[ 25.,  75.,   0.,  75.,  75.]]]\n",
    "```"
   ]
  },
  {
   "cell_type": "code",
   "execution_count": 41,
   "metadata": {},
   "outputs": [
    {
     "output_type": "stream",
     "name": "stdout",
     "text": [
      "[[[1.00000000e+000 1.00000000e+000 1.00000000e+000 1.00000000e+000\n   1.00000000e+000]\n  [1.00000000e+000 1.00000000e+000 1.00000000e+000 1.00000000e+000\n   5.01163173e+217]\n  [1.00000000e+000 1.00000000e+000 1.00000000e+000 1.00000000e+000\n   9.13768337e+169]]\n\n [[5.01163113e+217 1.00000000e+000 3.68777431e+180 5.56111702e+180\n   7.49874326e+247]\n  [1.00000000e+000 1.00000000e+000 1.00000000e+000 1.00000000e+000\n   3.92321515e+179]\n  [1.47763641e+248 1.00000000e+000 1.28625693e+248 1.00000000e+000\n   1.00000000e+000]]]\n[[[  0.   0.   0.   0.   0.]\n  [  0.   0.   0.   0.  25.]\n  [  0.   0.   0.   0.  25.]]\n\n [[ 25.   0.  25.  25.  75.]\n  [  0.   0.   0.   0.  25.]\n  [100.   0.  75.   0.   0.]]]\n"
     ]
    }
   ],
   "source": [
    "# your code here\n",
    "print(d)\n",
    "print(f)\n",
    "\n",
    "#yes"
   ]
  },
  {
   "cell_type": "markdown",
   "metadata": {},
   "source": [
    "#### 18. Bonus question: instead of using numbers (i.e. 0, 25, 50, 75, and 100), use string values  (\"A\", \"B\", \"C\", \"D\", and \"E\") to label the array elements. For the example above, the expected result is:\n",
    "\n",
    "```python\n",
    "[[[ 'D',  'D',  'D',  'B',  'D'],\n",
    "[ 'D',  'D',  'B',  'B',  'B'],\n",
    "[ 'D',  'B',  'D',  'D',  'D']],\n",
    "[[ 'B',  'B',  'B',  'B',  'E'],\n",
    "[ 'D',  'D',  'D',  'D',  'D'],\n",
    "[ 'B',  'D',   'A',  'D', 'D']]]\n",
    "```\n",
    "**Note**: you don't have to use Numpy in this question."
   ]
  },
  {
   "cell_type": "code",
   "execution_count": 49,
   "metadata": {},
   "outputs": [
    {
     "output_type": "stream",
     "name": "stdout",
     "text": [
      "[[['A' 'A' 'A' 'A' 'A']\n  ['A' 'A' 'A' 'A' 'B']\n  ['A' 'A' 'A' 'A' 'B']]\n\n [['B' 'A' 'B' 'B' 'D']\n  ['A' 'A' 'A' 'A' 'B']\n  ['E' 'A' 'D' 'A' 'A']]]\n"
     ]
    }
   ],
   "source": [
    "# your code here\n",
    "g = np.empty((2,3,5),dtype=\"U\")\n",
    "\n",
    "\n",
    "for i in range(0,2):\n",
    "    for j in range (0,3):\n",
    "        for k in range (0,5):\n",
    "            if d[i][j][k] > d_min and d[i][j][k] < d_mean:\n",
    "                g[i][j][k] = \"B\"\n",
    "            elif d[i][j][k] < d_max and d[i][j][k] > d_mean:\n",
    "                g[i][j][k] = \"D\"\n",
    "            elif d[i][j][k] == d_mean:\n",
    "                g[i][j][k] = \"C\"\n",
    "            elif d[i][j][k] == d_min:\n",
    "                g[i][j][k] = \"A\"\n",
    "            elif d[i][j][k] == d_max:\n",
    "                g[i][j][k] = \"E\"\n",
    "            else:\n",
    "                print(\"error\")\n",
    "print(g)"
   ]
  },
  {
   "cell_type": "code",
   "execution_count": null,
   "metadata": {},
   "outputs": [],
   "source": []
  }
 ],
 "metadata": {
  "kernelspec": {
   "name": "python392jvsc74a57bd07101ece57323ae226d3ee33127f20849298572704d5292ba75a6e287de47f3f2",
   "display_name": "Python 3.9.2 64-bit"
  },
  "language_info": {
   "codemirror_mode": {
    "name": "ipython",
    "version": 3
   },
   "file_extension": ".py",
   "mimetype": "text/x-python",
   "name": "python",
   "nbconvert_exporter": "python",
   "pygments_lexer": "ipython3",
   "version": "3.9.2"
  }
 },
 "nbformat": 4,
 "nbformat_minor": 2
}