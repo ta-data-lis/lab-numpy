{
 "cells": [
  {
   "cell_type": "markdown",
   "metadata": {},
   "source": [
    "# Intrduction to NumPy\n",
    "\n",
    "\n",
    "#### 1. Import NumPy under the name np."
   ]
  },
  {
   "cell_type": "code",
   "execution_count": 46,
   "metadata": {},
   "outputs": [],
   "source": [
    "# your code here\n",
    "import numpy as np"
   ]
  },
  {
   "cell_type": "markdown",
   "metadata": {},
   "source": [
    "#### 2. Print your NumPy version."
   ]
  },
  {
   "cell_type": "code",
   "execution_count": 47,
   "metadata": {},
   "outputs": [
    {
     "name": "stdout",
     "output_type": "stream",
     "text": [
      "1.18.1\n"
     ]
    }
   ],
   "source": [
    "# your code\n",
    "# np.version\n",
    "print(np.__version__)\n"
   ]
  },
  {
   "cell_type": "markdown",
   "metadata": {},
   "source": [
    "#### 3. Generate a 2x3x5 3-dimensional array with random values. Assign the array to variable *a*.\n",
    "**Challenge**: there are at least three easy ways that use numpy to generate random arrays. How many ways can you find?"
   ]
  },
  {
   "cell_type": "code",
   "execution_count": 48,
   "metadata": {},
   "outputs": [
    {
     "data": {
      "text/plain": [
       "array([[[0.20174311, 0.63552905, 0.70635463, 0.29941998, 0.87754233],\n",
       "        [0.04238159, 0.90585498, 0.52791916, 0.62204911, 0.87341799],\n",
       "        [0.0268167 , 0.8179725 , 0.20195213, 0.01005733, 0.85961922]],\n",
       "\n",
       "       [[0.72176576, 0.36461984, 0.27022876, 0.0183783 , 0.55649833],\n",
       "        [0.72910258, 0.23185161, 0.87064218, 0.36364019, 0.602836  ],\n",
       "        [0.61824945, 0.94204444, 0.55674196, 0.59442326, 0.66422567]]])"
      ]
     },
     "execution_count": 48,
     "metadata": {},
     "output_type": "execute_result"
    }
   ],
   "source": [
    "a=np.random.random((2,3,5))\n",
    "a\n",
    "#how to define type as int"
   ]
  },
  {
   "cell_type": "code",
   "execution_count": 49,
   "metadata": {},
   "outputs": [
    {
     "data": {
      "text/plain": [
       "array([[[13, 23, 12, 25, 19],\n",
       "        [21,  7, 10, 11, 25],\n",
       "        [15,  5,  7,  6, 12]],\n",
       "\n",
       "       [[16, 14, 23, 15,  3],\n",
       "        [20, 16, 21, 22,  0],\n",
       "        [26, 21, 21, 16,  3]]])"
      ]
     },
     "execution_count": 49,
     "metadata": {},
     "output_type": "execute_result"
    }
   ],
   "source": [
    "a= np.random.randint(27, size=(2,3,5))\n",
    "a\n",
    "#do I have to define max value?"
   ]
  },
  {
   "cell_type": "code",
   "execution_count": 50,
   "metadata": {},
   "outputs": [
    {
     "ename": "ValueError",
     "evalue": "cannot reshape array of size 2 into shape (2,3)",
     "output_type": "error",
     "traceback": [
      "\u001b[1;31m---------------------------------------------------------------------------\u001b[0m",
      "\u001b[1;31mValueError\u001b[0m                                Traceback (most recent call last)",
      "\u001b[1;32m<ipython-input-50-f30079080042>\u001b[0m in \u001b[0;36m<module>\u001b[1;34m\u001b[0m\n\u001b[0;32m      1\u001b[0m \u001b[1;31m# Method 3\u001b[0m\u001b[1;33m\u001b[0m\u001b[1;33m\u001b[0m\u001b[1;33m\u001b[0m\u001b[0m\n\u001b[1;32m----> 2\u001b[1;33m \u001b[0marray\u001b[0m\u001b[1;33m=\u001b[0m \u001b[0mnp\u001b[0m\u001b[1;33m.\u001b[0m\u001b[0marange\u001b[0m\u001b[1;33m(\u001b[0m\u001b[1;36m2\u001b[0m\u001b[1;33m)\u001b[0m\u001b[1;33m.\u001b[0m\u001b[0mreshape\u001b[0m\u001b[1;33m(\u001b[0m\u001b[1;36m2\u001b[0m\u001b[1;33m,\u001b[0m\u001b[1;36m3\u001b[0m\u001b[1;33m)\u001b[0m\u001b[1;33m\u001b[0m\u001b[1;33m\u001b[0m\u001b[0m\n\u001b[0m\u001b[0;32m      3\u001b[0m \u001b[0marray\u001b[0m\u001b[1;33m\u001b[0m\u001b[1;33m\u001b[0m\u001b[0m\n",
      "\u001b[1;31mValueError\u001b[0m: cannot reshape array of size 2 into shape (2,3)"
     ]
    }
   ],
   "source": [
    "# Method 3\n",
    "array= np.arange(2).reshape(2,3)\n",
    "array"
   ]
  },
  {
   "cell_type": "markdown",
   "metadata": {},
   "source": [
    "#### 4. Print *a*.\n"
   ]
  },
  {
   "cell_type": "code",
   "execution_count": 51,
   "metadata": {},
   "outputs": [],
   "source": [
    "# your code here"
   ]
  },
  {
   "cell_type": "markdown",
   "metadata": {},
   "source": [
    "#### 5. Create a 5x2x3 3-dimensional array with all values equaling 1. Assign the array to variable *b*."
   ]
  },
  {
   "cell_type": "code",
   "execution_count": 52,
   "metadata": {},
   "outputs": [
    {
     "data": {
      "text/plain": [
       "array([[[1., 1., 1.],\n",
       "        [1., 1., 1.]],\n",
       "\n",
       "       [[1., 1., 1.],\n",
       "        [1., 1., 1.]],\n",
       "\n",
       "       [[1., 1., 1.],\n",
       "        [1., 1., 1.]],\n",
       "\n",
       "       [[1., 1., 1.],\n",
       "        [1., 1., 1.]],\n",
       "\n",
       "       [[1., 1., 1.],\n",
       "        [1., 1., 1.]]])"
      ]
     },
     "execution_count": 52,
     "metadata": {},
     "output_type": "execute_result"
    }
   ],
   "source": [
    "# your code here\n",
    "b= np.ones((5,2,3))\n",
    "b"
   ]
  },
  {
   "cell_type": "markdown",
   "metadata": {},
   "source": [
    "#### 6. Print *b*.\n"
   ]
  },
  {
   "cell_type": "code",
   "execution_count": 53,
   "metadata": {},
   "outputs": [],
   "source": [
    "# your code here"
   ]
  },
  {
   "cell_type": "markdown",
   "metadata": {},
   "source": [
    "#### 7. Do *a* and *b* have the same size? How do you prove that in Python code?"
   ]
  },
  {
   "cell_type": "code",
   "execution_count": 54,
   "metadata": {},
   "outputs": [
    {
     "name": "stderr",
     "output_type": "stream",
     "text": [
      "C:\\Users\\Zoe Mercury\\anaconda3\\lib\\site-packages\\ipykernel_launcher.py:2: DeprecationWarning: elementwise comparison failed; this will raise an error in the future.\n",
      "  \n"
     ]
    },
    {
     "data": {
      "text/plain": [
       "False"
      ]
     },
     "execution_count": 54,
     "metadata": {},
     "output_type": "execute_result"
    }
   ],
   "source": [
    "# your code here\n",
    "a==b"
   ]
  },
  {
   "cell_type": "markdown",
   "metadata": {},
   "source": [
    "#### 8. Are you able to add *a* and *b*? Why or why not?\n"
   ]
  },
  {
   "cell_type": "code",
   "execution_count": 55,
   "metadata": {},
   "outputs": [
    {
     "ename": "ValueError",
     "evalue": "operands could not be broadcast together with shapes (2,3,5) (5,2,3) ",
     "output_type": "error",
     "traceback": [
      "\u001b[1;31m---------------------------------------------------------------------------\u001b[0m",
      "\u001b[1;31mValueError\u001b[0m                                Traceback (most recent call last)",
      "\u001b[1;32m<ipython-input-55-b4034b8bc8aa>\u001b[0m in \u001b[0;36m<module>\u001b[1;34m\u001b[0m\n\u001b[0;32m      1\u001b[0m \u001b[1;31m# your answer here\u001b[0m\u001b[1;33m\u001b[0m\u001b[1;33m\u001b[0m\u001b[1;33m\u001b[0m\u001b[0m\n\u001b[1;32m----> 2\u001b[1;33m \u001b[0ma\u001b[0m\u001b[1;33m+\u001b[0m\u001b[0mb\u001b[0m\u001b[1;33m\u001b[0m\u001b[1;33m\u001b[0m\u001b[0m\n\u001b[0m\u001b[0;32m      3\u001b[0m \u001b[1;31m#to be added they dont need to be flattened out, they just need to have the same structure\u001b[0m\u001b[1;33m\u001b[0m\u001b[1;33m\u001b[0m\u001b[1;33m\u001b[0m\u001b[0m\n",
      "\u001b[1;31mValueError\u001b[0m: operands could not be broadcast together with shapes (2,3,5) (5,2,3) "
     ]
    }
   ],
   "source": [
    "# your answer here\n",
    "a+b\n",
    "#to be added they dont need to be flattened out, they just need to have the same structure"
   ]
  },
  {
   "cell_type": "markdown",
   "metadata": {},
   "source": [
    "#### 9. Transpose *b* so that it has the same structure of *a* (i.e. become a 2x3x5 array). Assign the transposed array to variable *c*."
   ]
  },
  {
   "cell_type": "code",
   "execution_count": 56,
   "metadata": {},
   "outputs": [
    {
     "name": "stdout",
     "output_type": "stream",
     "text": [
      "[[[1. 1. 1. 1. 1.]\n",
      "  [1. 1. 1. 1. 1.]\n",
      "  [1. 1. 1. 1. 1.]]\n",
      "\n",
      " [[1. 1. 1. 1. 1.]\n",
      "  [1. 1. 1. 1. 1.]\n",
      "  [1. 1. 1. 1. 1.]]]\n",
      "[[[13 23 12 25 19]\n",
      "  [21  7 10 11 25]\n",
      "  [15  5  7  6 12]]\n",
      "\n",
      " [[16 14 23 15  3]\n",
      "  [20 16 21 22  0]\n",
      "  [26 21 21 16  3]]]\n"
     ]
    }
   ],
   "source": [
    "# your code here\n",
    "c= b.reshape(2,3,5)\n",
    "print(c)\n",
    "print (a)"
   ]
  },
  {
   "cell_type": "markdown",
   "metadata": {},
   "source": [
    "#### 10. Try to add *a* and *c*. Now it should work. Assign the sum to variable *d*. But why does it work now?"
   ]
  },
  {
   "cell_type": "code",
   "execution_count": 57,
   "metadata": {},
   "outputs": [
    {
     "data": {
      "text/plain": [
       "array([[[14., 24., 13., 26., 20.],\n",
       "        [22.,  8., 11., 12., 26.],\n",
       "        [16.,  6.,  8.,  7., 13.]],\n",
       "\n",
       "       [[17., 15., 24., 16.,  4.],\n",
       "        [21., 17., 22., 23.,  1.],\n",
       "        [27., 22., 22., 17.,  4.]]])"
      ]
     },
     "execution_count": 57,
     "metadata": {},
     "output_type": "execute_result"
    }
   ],
   "source": [
    "# your code/answer here\n",
    "d= a+c\n",
    "d"
   ]
  },
  {
   "cell_type": "markdown",
   "metadata": {},
   "source": [
    "#### 11. Print *a* and *d*. Notice the difference and relation of the two array in terms of the values? Explain."
   ]
  },
  {
   "cell_type": "code",
   "execution_count": 58,
   "metadata": {},
   "outputs": [
    {
     "name": "stdout",
     "output_type": "stream",
     "text": [
      "[[[1. 1. 1. 1. 1.]\n",
      "  [1. 1. 1. 1. 1.]\n",
      "  [1. 1. 1. 1. 1.]]\n",
      "\n",
      " [[1. 1. 1. 1. 1.]\n",
      "  [1. 1. 1. 1. 1.]\n",
      "  [1. 1. 1. 1. 1.]]]\n"
     ]
    }
   ],
   "source": [
    "# your code/answer here\n",
    "# print(a)\n",
    "# print(d)\n",
    "# we were supposed to calculate the difference between a and d i.e. subtract d from a or vice versa\n",
    "print (d-a)"
   ]
  },
  {
   "cell_type": "markdown",
   "metadata": {},
   "source": [
    "#### 12. Multiply *a* and *c*. Assign the result to *e*."
   ]
  },
  {
   "cell_type": "code",
   "execution_count": 59,
   "metadata": {},
   "outputs": [
    {
     "data": {
      "text/plain": [
       "array([[[13., 23., 12., 25., 19.],\n",
       "        [21.,  7., 10., 11., 25.],\n",
       "        [15.,  5.,  7.,  6., 12.]],\n",
       "\n",
       "       [[16., 14., 23., 15.,  3.],\n",
       "        [20., 16., 21., 22.,  0.],\n",
       "        [26., 21., 21., 16.,  3.]]])"
      ]
     },
     "execution_count": 59,
     "metadata": {},
     "output_type": "execute_result"
    }
   ],
   "source": [
    "# your code here\n",
    "e=a*c\n",
    "e"
   ]
  },
  {
   "cell_type": "markdown",
   "metadata": {},
   "source": [
    "#### 13. Does *e* equal to *a*? Why or why not?\n"
   ]
  },
  {
   "cell_type": "code",
   "execution_count": 60,
   "metadata": {},
   "outputs": [
    {
     "data": {
      "text/plain": [
       "array([[[ True,  True,  True,  True,  True],\n",
       "        [ True,  True,  True,  True,  True],\n",
       "        [ True,  True,  True,  True,  True]],\n",
       "\n",
       "       [[ True,  True,  True,  True,  True],\n",
       "        [ True,  True,  True,  True,  True],\n",
       "        [ True,  True,  True,  True,  True]]])"
      ]
     },
     "execution_count": 60,
     "metadata": {},
     "output_type": "execute_result"
    }
   ],
   "source": [
    "# your code/answer here\n",
    "e==a\n",
    "\n",
    "#yes because c=1 (e=a*1 i.e. e=a)"
   ]
  },
  {
   "cell_type": "code",
   "execution_count": 61,
   "metadata": {},
   "outputs": [
    {
     "name": "stdout",
     "output_type": "stream",
     "text": [
      "[[[14. 24. 13. 26. 20.]\n",
      "  [22.  8. 11. 12. 26.]\n",
      "  [16.  6.  8.  7. 13.]]\n",
      "\n",
      " [[17. 15. 24. 16.  4.]\n",
      "  [21. 17. 22. 23.  1.]\n",
      "  [27. 22. 22. 17.  4.]]]\n"
     ]
    }
   ],
   "source": [
    "print(d)"
   ]
  },
  {
   "cell_type": "markdown",
   "metadata": {},
   "source": [
    "#### 14. Identify the max, min, and mean values in *d*. Assign those values to variables *d_max*, *d_min* and *d_mean*."
   ]
  },
  {
   "cell_type": "code",
   "execution_count": 62,
   "metadata": {},
   "outputs": [],
   "source": [
    "# your code here\n",
    "d_max=d.max()\n",
    "d_min=d.min()\n",
    "d_mean=d.mean()\n",
    "\n",
    "#when I leave the brackets empty, does it take all numbers from the lists into consideration?\n",
    "#How is my mean equal to my max?\n",
    "\n"
   ]
  },
  {
   "cell_type": "markdown",
   "metadata": {},
   "source": [
    "#### 15. Now we want to label the values in *d*. First create an empty array *f* with the same shape (i.e. 2x3x5) as *d* using `np.empty`.\n"
   ]
  },
  {
   "cell_type": "code",
   "execution_count": 71,
   "metadata": {},
   "outputs": [
    {
     "data": {
      "text/plain": [
       "array([[[0, 0, 0, 0, 0],\n",
       "        [0, 0, 0, 0, 0],\n",
       "        [0, 0, 0, 0, 0]],\n",
       "\n",
       "       [[0, 0, 0, 0, 0],\n",
       "        [0, 0, 0, 0, 0],\n",
       "        [0, 0, 0, 0, 0]]])"
      ]
     },
     "execution_count": 71,
     "metadata": {},
     "output_type": "execute_result"
    }
   ],
   "source": [
    "# your code here\n",
    "f= np.empty((2,3,5),dtype=int)\n",
    "f"
   ]
  },
  {
   "cell_type": "code",
   "execution_count": 66,
   "metadata": {},
   "outputs": [
    {
     "data": {
      "text/plain": [
       "[25,\n",
       " 75,\n",
       " 25,\n",
       " 75,\n",
       " 75,\n",
       " 75,\n",
       " 25,\n",
       " 25,\n",
       " 25,\n",
       " 75,\n",
       " 75,\n",
       " 25,\n",
       " 25,\n",
       " 25,\n",
       " 25,\n",
       " 75,\n",
       " 25,\n",
       " 75,\n",
       " 75,\n",
       " 25,\n",
       " 75,\n",
       " 75,\n",
       " 75,\n",
       " 75,\n",
       " 0,\n",
       " 100,\n",
       " 75,\n",
       " 75,\n",
       " 75,\n",
       " 25]"
      ]
     },
     "execution_count": 66,
     "metadata": {},
     "output_type": "execute_result"
    }
   ],
   "source": [
    "f= []\n",
    "\n",
    "for biglist in d:\n",
    "    for list in biglist:\n",
    "        for number in list:\n",
    "            if d_min<number<d_mean:\n",
    "                f.append (25)\n",
    "            elif d_mean<number<d_max:\n",
    "                f.append (75)\n",
    "            elif number==d_mean:\n",
    "                f.append (50)\n",
    "            elif number==d_min:\n",
    "                f.append (0)\n",
    "            elif number==d_max:\n",
    "                f.append (100)\n",
    "                \n",
    "f"
   ]
  },
  {
   "cell_type": "code",
   "execution_count": 70,
   "metadata": {},
   "outputs": [
    {
     "data": {
      "text/plain": [
       "array([[[ 25,  75,  25,  75,  75],\n",
       "        [ 75,  25,  25,  25,  75],\n",
       "        [ 75,  25,  25,  25,  25]],\n",
       "\n",
       "       [[ 75,  25,  75,  75,  25],\n",
       "        [ 75,  75,  75,  75,   0],\n",
       "        [100,  75,  75,  75,  25]]])"
      ]
     },
     "execution_count": 70,
     "metadata": {},
     "output_type": "execute_result"
    }
   ],
   "source": [
    "f=np.reshape(f,(2,3,5))\n",
    "f"
   ]
  },
  {
   "cell_type": "code",
   "execution_count": 43,
   "metadata": {},
   "outputs": [],
   "source": [
    "# print (np.where(f==0,1,f)"
   ]
  },
  {
   "cell_type": "markdown",
   "metadata": {},
   "source": [
    "\n",
    "#### 16. Populate the values in *f*. \n",
    "\n",
    "For each value in *d*, if it's larger than *d_min* but smaller than *d_mean*, assign 25 to the corresponding value in *f*. If a value in *d* is larger than *d_mean* but smaller than *d_max*, assign 75 to the corresponding value in *f*. If a value equals to *d_mean*, assign 50 to the corresponding value in *f*. Assign 0 to the corresponding value(s) in *f* for *d_min* in *d*. Assign 100 to the corresponding value(s) in *f* for *d_max* in *d*. In the end, f should have only the following values: 0, 25, 50, 75, and 100.\n",
    "\n",
    "**Note**: you don't have to use Numpy in this question."
   ]
  },
  {
   "cell_type": "code",
   "execution_count": 40,
   "metadata": {},
   "outputs": [
    {
     "data": {
      "text/plain": [
       "array([[[ 75.,  75.,  75.,  75.,  75.],\n",
       "        [ 75.,  75.,  75.,  75.,  25.],\n",
       "        [ 75.,  25.,  75.,  25.,  75.]],\n",
       "\n",
       "       [[ 75.,  75.,   0.,  75.,  25.],\n",
       "        [  0.,  75.,  25.,  75.,   0.],\n",
       "        [ 25.,  75.,  25., 100.,  25.]]])"
      ]
     },
     "execution_count": 40,
     "metadata": {},
     "output_type": "execute_result"
    }
   ],
   "source": [
    "# your code here\n",
    "# I need to replace every value in f with the corresponding value from d\n",
    "\n",
    "# if x = d_min<x<d_mean, then x=25\n",
    "# if x = d_mean<x<d_max, then x=75\n",
    "# if x==d_mean, then x=50\n",
    "# if x==d_min, then x=0\n",
    "# if x==d_max, then x=100\n",
    "\n",
    "# print (d)\n",
    "# print (d_min)\n",
    "# print (d_max)\n",
    "# print (d_mean)\n",
    "___________________________________________________________\n",
    "\n",
    "\n",
    "# f= []\n",
    "\n",
    "# for biglist in d:\n",
    "#     for list in biglist:\n",
    "#         for number in list:\n",
    "#             print(number)\n",
    "#             if d_min<number<d_mean:\n",
    "#                 f.append (number,25)\n",
    "#             elif d_mean<number<d_max:\n",
    "#                 f.append (number,75)\n",
    "# #             elif number==d_mean:\n",
    "# #                 f.append (50)\n",
    "# #             elif number==d_min:\n",
    "# #                 f.append (0)\n",
    "# #             elif number==d_max:\n",
    "# #                 f.append (100)\n",
    "_____________________________________________________________________\n",
    "\n",
    "# Peter's solution\n",
    "# f= np.where(d==d_min,0,f)\n",
    "# f= np.where(d==d_max,100,f)\n",
    "# f= np.where(d==m_mean,50,f)\n",
    "# f= np.where(d_min<d & d<d_mean,25,f)\n",
    "# f= np.where(d_mean<d & d<d_max,75,f)\n",
    "\n",
    "# f\n",
    "\n",
    "condition0= (d==d_min)\n",
    "condition25= (d_min<d) & (d<d_mean)\n",
    "#didnt work as d_min<d & d<d_mean\n",
    "condition50= (d==d_mean)\n",
    "condition75= (d_mean<d) & (d<d_max)\n",
    "condition100= (d==d_max)\n",
    "\n",
    "f= np.where(condition0,0,d)\n",
    "#didnt work when f was at the end\n",
    "f= np.where(condition100,100,f)\n",
    "f= np.where(condition50,50,f)\n",
    "f= np.where(condition25,25,f)\n",
    "f= np.where(condition75,75,f)\n",
    "#didnt work when conditions were stated in the np.where brackets instead of defined outside\n",
    "\n",
    "f\n",
    "\n",
    "#why is there a d at the end in the first f=np.where...\"\"\n",
    "#why does it iterate through every number in list d without a for loop or indexing?"
   ]
  },
  {
   "cell_type": "code",
   "execution_count": null,
   "metadata": {},
   "outputs": [],
   "source": []
  },
  {
   "cell_type": "code",
   "execution_count": 41,
   "metadata": {},
   "outputs": [],
   "source": [
    "# print (np.where(d==0,1,d))"
   ]
  },
  {
   "cell_type": "code",
   "execution_count": 42,
   "metadata": {},
   "outputs": [],
   "source": [
    "# import numpy as np\n",
    "\n",
    "# d = [[[1.26075862 1.64915163 1.17412605 1.75509388 1.9332088 ]\n",
    "#   [1.53857153 1.13854165 1.97175781 1.32327798 1.26939958]\n",
    "#   [1.43071321 1.14299739 1.26728802 1.79253045 1.61672984]]\n",
    "\n",
    "#  [[1.74842941 1.15525644 1.54111523 1.28681006 1.77311503]\n",
    "#   [1.79760024 1.89404937 1.49820193 1.23238564 1.74325924]\n",
    "#   [1.32261015 1.95659874 1.99928683 1.91755833 1.98886592]]]\n",
    "\n",
    "# #how can I convert d into a numpy array?\n",
    "\n",
    "# d_max=d.mean()\n",
    "# d_min=d.min()\n",
    "# d_mean=d.mean()\n",
    "\n",
    "# d_max\n"
   ]
  },
  {
   "cell_type": "markdown",
   "metadata": {},
   "source": [
    "#### 17. Print *d* and *f*. Do you have your expected *f*?\n",
    "For instance, if your *d* is:\n",
    "```python\n",
    "[[[1.85836099, 1.67064465, 1.62576044, 1.40243961, 1.88454931],\n",
    "[1.75354326, 1.69403643, 1.36729252, 1.61415071, 1.12104981],\n",
    "[1.72201435, 1.1862918 , 1.87078449, 1.7726778 , 1.88180042]],\n",
    "[[1.44747908, 1.31673383, 1.02000951, 1.52218947, 1.97066381],\n",
    "[1.79129243, 1.74983003, 1.96028037, 1.85166831, 1.65450881],\n",
    "[1.18068344, 1.9587381 , 1.00656599, 1.93402165, 1.73514584]]]\n",
    "```\n",
    "Your *f* should be:\n",
    "```python\n",
    "[[[ 75.,  75.,  75.,  25.,  75.],\n",
    "[ 75.,  75.,  25.,  25.,  25.],\n",
    "[ 75.,  25.,  75.,  75.,  75.]],\n",
    "[[ 25.,  25.,  25.,  25., 100.],\n",
    "[ 75.,  75.,  75.,  75.,  75.],\n",
    "[ 25.,  75.,   0.,  75.,  75.]]]\n",
    "```"
   ]
  },
  {
   "cell_type": "code",
   "execution_count": 45,
   "metadata": {},
   "outputs": [
    {
     "name": "stdout",
     "output_type": "stream",
     "text": [
      "[[[19. 14. 23. 16. 20.]\n",
      "  [16. 22. 19. 16.  9.]\n",
      "  [14. 10. 20.  5. 19.]]\n",
      "\n",
      " [[18. 17.  1. 19. 11.]\n",
      "  [ 1. 16.  4. 18.  1.]\n",
      "  [ 5. 22. 10. 24.  9.]]]\n"
     ]
    },
    {
     "ename": "NameError",
     "evalue": "name 'n' is not defined",
     "output_type": "error",
     "traceback": [
      "\u001b[1;31m---------------------------------------------------------------------------\u001b[0m",
      "\u001b[1;31mNameError\u001b[0m                                 Traceback (most recent call last)",
      "\u001b[1;32m<ipython-input-45-8ab130806fe0>\u001b[0m in \u001b[0;36m<module>\u001b[1;34m\u001b[0m\n\u001b[0;32m      1\u001b[0m \u001b[1;31m# your code here\u001b[0m\u001b[1;33m\u001b[0m\u001b[1;33m\u001b[0m\u001b[1;33m\u001b[0m\u001b[0m\n\u001b[1;32m----> 2\u001b[1;33m \u001b[0mprint\u001b[0m\u001b[1;33m(\u001b[0m\u001b[0md\u001b[0m\u001b[1;33m)\u001b[0m \u001b[1;33m/\u001b[0m\u001b[0mn\u001b[0m\u001b[1;33m\u001b[0m\u001b[1;33m\u001b[0m\u001b[0m\n\u001b[0m\u001b[0;32m      3\u001b[0m \u001b[0mprint\u001b[0m\u001b[1;33m(\u001b[0m\u001b[0mf\u001b[0m\u001b[1;33m)\u001b[0m\u001b[1;33m\u001b[0m\u001b[1;33m\u001b[0m\u001b[0m\n",
      "\u001b[1;31mNameError\u001b[0m: name 'n' is not defined"
     ]
    }
   ],
   "source": [
    "# your code here\n",
    "print(d) /n\n",
    "print(f)"
   ]
  },
  {
   "cell_type": "markdown",
   "metadata": {},
   "source": [
    "#### 18. Bonus question: instead of using numbers (i.e. 0, 25, 50, 75, and 100), use string values  (\"A\", \"B\", \"C\", \"D\", and \"E\") to label the array elements. For the example above, the expected result is:\n",
    "\n",
    "```python\n",
    "[[[ 'D',  'D',  'D',  'B',  'D'],\n",
    "[ 'D',  'D',  'B',  'B',  'B'],\n",
    "[ 'D',  'B',  'D',  'D',  'D']],\n",
    "[[ 'B',  'B',  'B',  'B',  'E'],\n",
    "[ 'D',  'D',  'D',  'D',  'D'],\n",
    "[ 'B',  'D',   'A',  'D', 'D']]]\n",
    "```\n",
    "**Note**: you don't have to use Numpy in this question."
   ]
  },
  {
   "cell_type": "code",
   "execution_count": null,
   "metadata": {},
   "outputs": [],
   "source": [
    "# your code here"
   ]
  }
 ],
 "metadata": {
  "kernelspec": {
   "display_name": "Python 3",
   "language": "python",
   "name": "python3"
  },
  "language_info": {
   "codemirror_mode": {
    "name": "ipython",
    "version": 3
   },
   "file_extension": ".py",
   "mimetype": "text/x-python",
   "name": "python",
   "nbconvert_exporter": "python",
   "pygments_lexer": "ipython3",
   "version": "3.7.6"
  }
 },
 "nbformat": 4,
 "nbformat_minor": 2
}
